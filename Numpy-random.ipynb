{
 "cells": [
  {
   "cell_type": "markdown",
   "id": "0bb781ed",
   "metadata": {},
   "source": [
    "# The numpy.random package\n",
    "**Author: Andrew Scott**\n",
    "---"
   ]
  },
  {
   "cell_type": "markdown",
   "id": "6d35d06f-4a4d-46ef-9667-36b86c6cb1af",
   "metadata": {},
   "source": [
    "# Table of Contents\n",
    "\n",
    "* [**Randomness**](#h1)   \n",
    "* [**NumPy's Random Module**](#h2)\n",
    "* [**\"Simple Random Data\" Functions**](#h3)\n",
    "    * [**integers**](#h4)\n",
    "    * [**random**](#h5)\n",
    "    * [**choice**](#h6)\n",
    "    * [**bytes**](#h7)\n",
    "* [**\"Permutations\" functions**](#h8)\n",
    "    * [**shuffle**](#h9)\n",
    "    * [**permutation**](#h10)\n",
    "    * [**permuted**](#h11)\n",
    "* [**Distributions**](#h12)\n",
    "    * [**binomial**](#h13)\n",
    "    * [**normal**](#h14)\n",
    "    * [**uniform**](#h15)\n",
    "    * [**poisson**](#h16)\n",
    "    * [**exponential**](#h17)\n",
    "* [**Seeds**](#h18)\n",
    "    * [**BitGenerators (PCG64 vs Mersenne Twister)**](#h19)\n",
    "* [**References**](#h20)\n",
    "------"
   ]
  },
  {
   "cell_type": "markdown",
   "id": "263a9965",
   "metadata": {},
   "source": [
    "## **Randomness**<a id='h1'></a>"
   ]
  },
  {
   "cell_type": "markdown",
   "id": "def6248e-e69e-4743-978d-ae23f6a09565",
   "metadata": {},
   "source": [
    "Randomness is generally thought of as the unpredictability of an event’s outcome ahead of time[<sup>1</sup>](#f1).<a id='a1'></a> Even if one outcome is more likely than another, we cannot be certain which outcome will happen until we observe it. This randomness is the basis of many common games of chance, such as flipping a coin or rolling dice. "
   ]
  },
  {
   "cell_type": "markdown",
   "id": "17f46df6-5fd5-4ff6-9960-f38cda36621e",
   "metadata": {},
   "source": [
    "## **NumPy's Random Module**<a id='h2'></a>"
   ]
  },
  {
   "cell_type": "markdown",
   "id": "e54048aa-43ce-4e05-ac98-d76ca2982dcc",
   "metadata": {},
   "source": [
    "In data science, we will want sometimes want to generate random data for simulation[<sup>2</sup>](#f2)<a id='a2'></a>. This can save time. For example, it is much faster to code and run a simulation of a million coin tosses than to physically toss a coin a million times. We can also use simulated data to test and refine models, or to supplement existing data. Random data simulation has also been proposed as a solution to a problem in medical scientific research, where data is often not open due to concerns about patient confidentiality[<sup>3</sup>](#f3)<a id='a3'></a>. A compromise is to simulate the patient data so that the simulated dataset is statistically identical to the original. These “synthetic” datasets can then be open to the public, with any potential identifying variables hidden by the randomising process[<sup>4</sup>](#f4)<a id='a4'></a>.\n",
    "\n",
    "Since computing is completely deterministic, it would be incredibly difficult for one to generate truly random data[<sup>5</sup>](#f5)<a id='a5'></a>. However, the outcome of an event appearing random to an observer might not be due to the fact multiple outcomes are possible. The outcome might instead appear random due to the observer’s ignorance. If the observer had all the relevant information about an event, they would be able to perfectly state the outcome ahead of time, but if they lack the relevant information, then other outcomes might appear equally plausible. Computers take advantage of this ignorance of the user with pseudo-random number generators (PRNGs)[<sup>6</sup>](#f6)<a id='a6'></a>. The coding is completely deterministic, but if the user lacks necessary information about how the algorithm works, then the outcome is considered random from the user’s perspective.\n",
    "\n",
    "While python has a built-in random module, a more powerful alternative is provided by NumPy’s random module. NumPy is a package that allows for fast calculations with arrays[<sup>7</sup>](#f7)<a id='a7'></a>. This feature extends to the generation of random values, where NumPy random can quickly generate not only single random values, but can also generate random arrays. As noted by Wes McKinney when discussing NumPy’s random module, “Python’s built-in random module, by contrast, only samples one value at a time… (and) numpy.random is well over an order of magnitude faster for generating very large samples”[<sup>8</sup>](#f8)<a id='a8'></a>. This makes NumPy a more powerful choice when it comes to generating larger random datasets for simulations. Many of NumPy random’s methods will now be discussed in turn. \n"
   ]
  },
  {
   "cell_type": "markdown",
   "id": "981690cc-204d-4c29-8bf4-400885a849b6",
   "metadata": {},
   "source": [
    "To use the numpy.random module, we first need to import numpy, which by convention is generally imported as np. To visualise some of the random data that will be generated, matplotlib.pyplot will also be imported to generate plots of the data. A magic command has also been added as it helps to display plots within a notebook[<sup>9</sup>](#f9)<a id='a9'></a>."
   ]
  },
  {
   "cell_type": "code",
   "execution_count": 1,
   "id": "57ab90f1",
   "metadata": {},
   "outputs": [],
   "source": [
    "# Package for numerical calculations and arrays\n",
    "import numpy as np\n",
    "\n",
    "# Generating plots\n",
    "import matplotlib.pyplot as plt\n",
    "\n",
    "# A magic command for helping display matplotlib plots in notebooks\n",
    "%matplotlib inline"
   ]
  },
  {
   "cell_type": "markdown",
   "id": "f20da043-ccd6-460d-b682-e2dc44065243",
   "metadata": {},
   "source": [
    "The numpy.random documentation recommends that before calling on any methods, that a new generator is called using the default PRNG, which can be done with the following code. The variable that points to this code will be used throughout to call on numpy.random's functions[<sup>10</sup>](#f10)<a id='a10'></a>. "
   ]
  },
  {
   "cell_type": "code",
   "execution_count": 2,
   "id": "bf3070b6-6b3a-42d6-948c-9b6c0b5c9e95",
   "metadata": {},
   "outputs": [],
   "source": [
    "# Construct a new Generator with the default BitGenerator (PCG64)\n",
    "rng = np.random.default_rng()"
   ]
  },
  {
   "cell_type": "markdown",
   "id": "32657df0-737d-451d-bba4-c06841489b33",
   "metadata": {},
   "source": [
    "The sections below will begin with the structure of the code needed to run each function, as presented in the numpy.random v1.21 documentation[<sup>10</sup>](#f10)<a id='a10'></a>. For example, the code presented for the integers function is random.Generator.integers(low, high=None, size=None, dtype=np.int64, endpoint=False). This means that to run our code we will use the variable assigned to our random generator followed by a period and the function name, then followed by parentheses that contain the arguments that we wish to use. Arguments without equal signs are necessary and must be passed, otherwise, the code will return an error. Arguments with equal signs are optional. If these are not passed by the user, then numpy.random will use default values for these arguments. "
   ]
  },
  {
   "cell_type": "markdown",
   "id": "aa5f4122",
   "metadata": {},
   "source": [
    "## **\"Simple Random Data\" Functions**<a id='h3'></a>\n",
    "---------------------------------"
   ]
  },
  {
   "cell_type": "markdown",
   "id": "b8f3f046-8101-4d85-bb49-d9ff3afd65f0",
   "metadata": {},
   "source": [
    "There are four ‘Simple Random Data’ functions for the fast generation of random data. "
   ]
  },
  {
   "cell_type": "markdown",
   "id": "f64d8a0c",
   "metadata": {},
   "source": [
    "### **integers**<a id='h4'></a>[<sup>11</sup>](#f11)<a id='a11'></a>"
   ]
  },
  {
   "cell_type": "markdown",
   "id": "664f13fd",
   "metadata": {},
   "source": [
    "random.Generator.integers(low, high=None, size=None, dtype=np.int64, endpoint=False)"
   ]
  },
  {
   "cell_type": "markdown",
   "id": "b72aeeee-05e6-4834-944f-2bc8eec4eb0b",
   "metadata": {},
   "source": [
    "The integers function is used for the generation of integers, from a single integer to entire arrays. If only a single number is passed as an argument, the function will generate an integer between 0 and the number entered, with the higher number exclusive. In the example below, as 3 is entered as the argument, the randomly generated integer will be either 0, 1, or 2. "
   ]
  },
  {
   "cell_type": "code",
   "execution_count": 3,
   "id": "524a83ff-53ce-4e71-921a-92dae47df827",
   "metadata": {},
   "outputs": [
    {
     "data": {
      "text/plain": [
       "2"
      ]
     },
     "execution_count": 3,
     "metadata": {},
     "output_type": "execute_result"
    }
   ],
   "source": [
    "# Generate a single integer.\n",
    "\n",
    "random_int = rng.integers(3)\n",
    "random_int"
   ]
  },
  {
   "cell_type": "markdown",
   "id": "aea3516c-9e15-4847-9b98-6dc5d244168a",
   "metadata": {},
   "source": [
    "If we do not enter a number, the code will not work and will return an error message that at least one argument needs to be given."
   ]
  },
  {
   "cell_type": "code",
   "execution_count": 4,
   "id": "0059fedc-6672-48d4-83e4-6612830d7255",
   "metadata": {},
   "outputs": [
    {
     "ename": "TypeError",
     "evalue": "integers() takes at least 1 positional argument (0 given)",
     "output_type": "error",
     "traceback": [
      "\u001b[1;31m---------------------------------------------------------------------------\u001b[0m",
      "\u001b[1;31mTypeError\u001b[0m                                 Traceback (most recent call last)",
      "\u001b[1;32m<ipython-input-4-44916c0ef024>\u001b[0m in \u001b[0;36m<module>\u001b[1;34m\u001b[0m\n\u001b[0;32m      1\u001b[0m \u001b[1;31m# This will return an error as no arguments have been passed.\u001b[0m\u001b[1;33m\u001b[0m\u001b[1;33m\u001b[0m\u001b[1;33m\u001b[0m\u001b[0m\n\u001b[1;32m----> 2\u001b[1;33m \u001b[0mrng\u001b[0m\u001b[1;33m.\u001b[0m\u001b[0mintegers\u001b[0m\u001b[1;33m(\u001b[0m\u001b[1;33m)\u001b[0m\u001b[1;33m\u001b[0m\u001b[1;33m\u001b[0m\u001b[0m\n\u001b[0m",
      "\u001b[1;32m_generator.pyx\u001b[0m in \u001b[0;36mnumpy.random._generator.Generator.integers\u001b[1;34m()\u001b[0m\n",
      "\u001b[1;31mTypeError\u001b[0m: integers() takes at least 1 positional argument (0 given)"
     ]
    }
   ],
   "source": [
    "# This will return an error as no arguments have been passed.\n",
    "rng.integers()"
   ]
  },
  {
   "cell_type": "markdown",
   "id": "60769269-a537-46c2-9892-e5864d6f17a0",
   "metadata": {},
   "source": [
    "We can generate more than one number by specifying the size. For the below example, entering the size as 20 will result in 20 random integers being returned in an array."
   ]
  },
  {
   "cell_type": "code",
   "execution_count": 5,
   "id": "cbd55f05-81a8-4854-a205-63ba31997a86",
   "metadata": {},
   "outputs": [
    {
     "data": {
      "text/plain": [
       "array([2, 1, 4, 0, 4, 3, 3, 3, 4, 0, 4, 1, 4, 4, 4, 0, 4, 3, 1, 4],\n",
       "      dtype=int64)"
      ]
     },
     "execution_count": 5,
     "metadata": {},
     "output_type": "execute_result"
    }
   ],
   "source": [
    "# Generates an array of 20 random integers from 0-4 (5 not inclusive).\n",
    "rng.integers(5, size = 20)"
   ]
  },
  {
   "cell_type": "markdown",
   "id": "dcd89273-c8b6-4758-9782-2e3f302a7da5",
   "metadata": {},
   "source": [
    "It is worth noting that running the same code again will lead to a brand new array of 20 random numbers. "
   ]
  },
  {
   "cell_type": "code",
   "execution_count": 6,
   "id": "67fe8e08",
   "metadata": {},
   "outputs": [
    {
     "data": {
      "text/plain": [
       "array([4, 2, 1, 3, 2, 2, 0, 3, 3, 0, 1, 3, 2, 2, 4, 1, 1, 3, 3, 3],\n",
       "      dtype=int64)"
      ]
     },
     "execution_count": 6,
     "metadata": {},
     "output_type": "execute_result"
    }
   ],
   "source": [
    "# Generates an array of 20 random integers from 0-4 (5 not inclusive).\n",
    "random_integers2 = rng.integers(5, size = 20)\n",
    "random_integers2"
   ]
  },
  {
   "cell_type": "markdown",
   "id": "e3bda5eb-388e-44e1-9c17-256ad31be328",
   "metadata": {},
   "source": [
    "While we do not need to assign variables for the code to work, by doing so we can reuse this array further in our code should we wish to do so. However, once the session is closed and the code is rerun at a later time, a new random array will be created and stored to the variable, with the original instance lost. If we want a random array that is consistently reproducible, this will be dealt with in the section on seeding."
   ]
  },
  {
   "cell_type": "code",
   "execution_count": 7,
   "id": "51811f8a-b8a8-4d86-86cf-d334cdaaf958",
   "metadata": {},
   "outputs": [
    {
     "data": {
      "text/plain": [
       "array([4, 2, 1, 3, 2, 2, 0, 3, 3, 0, 1, 3, 2, 2, 4, 1, 1, 3, 3, 3],\n",
       "      dtype=int64)"
      ]
     },
     "execution_count": 7,
     "metadata": {},
     "output_type": "execute_result"
    }
   ],
   "source": [
    "# Recalling the variable to see the randomly generated array produced earlier\n",
    "random_integers2"
   ]
  },
  {
   "cell_type": "markdown",
   "id": "373cc3bb-d392-450e-9a53-6e77f43791af",
   "metadata": {},
   "source": [
    "We can specify the lowest and highest random numbers that can be selected. In this instance, the lowest number is 10, which is inclusive. High being 25 means 24 is the highest number, as high is exclusive. We can also create a multidimensional array by specifying the size. In this instance size=(2,4) returns a 2x4 array"
   ]
  },
  {
   "cell_type": "code",
   "execution_count": 8,
   "id": "9be7070c",
   "metadata": {},
   "outputs": [
    {
     "data": {
      "text/plain": [
       "array([[11, 14, 12, 17],\n",
       "       [15, 12, 19, 22]], dtype=int64)"
      ]
     },
     "execution_count": 8,
     "metadata": {},
     "output_type": "execute_result"
    }
   ],
   "source": [
    "# Generate a random 2x4 array of numbers between 10 and 24.\n",
    "rng.integers(low=10, high=25, size=(2,4))"
   ]
  },
  {
   "cell_type": "markdown",
   "id": "9ed298d1",
   "metadata": {},
   "source": [
    "### **random**<a id='h5'></a>[<sup>12</sup>](#f12)<a id='a12'></a>"
   ]
  },
  {
   "cell_type": "markdown",
   "id": "43aef6de",
   "metadata": {},
   "source": [
    "random.Generator.random(size=None, dtype=np.float64, out=None)"
   ]
  },
  {
   "cell_type": "markdown",
   "id": "4ccf4625-84bb-426d-9992-1f750726fdc1",
   "metadata": {},
   "source": [
    "The random function is used to return floating point numbers between 0.0 and 1.0."
   ]
  },
  {
   "cell_type": "markdown",
   "id": "45195ad6-7e4d-4d0c-8c66-f3292b41d591",
   "metadata": {},
   "source": [
    "Unlike with the integers function, random will work without passing an argument. If we do this, it will return a single floating point value betweeen 0.0 and 1.0."
   ]
  },
  {
   "cell_type": "code",
   "execution_count": 9,
   "id": "a430790b-6ffa-4459-886f-6efb5a388c4e",
   "metadata": {},
   "outputs": [
    {
     "data": {
      "text/plain": [
       "0.9750570414016796"
      ]
     },
     "execution_count": 9,
     "metadata": {},
     "output_type": "execute_result"
    }
   ],
   "source": [
    "# Generate a single random float between 0.0 and 1.0.\n",
    "rng.random()"
   ]
  },
  {
   "cell_type": "markdown",
   "id": "7f3c57ce-1cfa-4e79-b131-9ba5ec0f991d",
   "metadata": {},
   "source": [
    "If we need more than one random float, we can do this by specifying the size to the amount of random numbers we would like returned."
   ]
  },
  {
   "cell_type": "code",
   "execution_count": 10,
   "id": "5137a780-c968-4814-b3a5-aa0cc8f399e7",
   "metadata": {},
   "outputs": [
    {
     "data": {
      "text/plain": [
       "array([0.86613209, 0.0604346 , 0.58687421, 0.31194376, 0.27370538,\n",
       "       0.17838682, 0.2316624 , 0.97338023, 0.65496666, 0.11166201,\n",
       "       0.49185432, 0.37008881, 0.15870651, 0.46345919, 0.75098776,\n",
       "       0.74504341, 0.80738131, 0.84100148, 0.11951421, 0.4146352 ])"
      ]
     },
     "execution_count": 10,
     "metadata": {},
     "output_type": "execute_result"
    }
   ],
   "source": [
    "# Returns 20 random floats between 0.0 and 1.0\n",
    "rng.random(size = 20)"
   ]
  },
  {
   "cell_type": "markdown",
   "id": "285b8380-8ae6-4f1d-86e3-354cf39962cc",
   "metadata": {},
   "source": [
    "Multidimensional arrays can be generated by adding more than one value to the size argument in parentheses."
   ]
  },
  {
   "cell_type": "code",
   "execution_count": 11,
   "id": "2d4e89b7",
   "metadata": {},
   "outputs": [
    {
     "data": {
      "text/plain": [
       "array([[0.95444362, 0.97125848, 0.93210911, 0.76680187, 0.87774888],\n",
       "       [0.12134434, 0.45459071, 0.62182728, 0.0617243 , 0.38737518],\n",
       "       [0.53486235, 0.37933928, 0.37652394, 0.69685809, 0.35300031]])"
      ]
     },
     "execution_count": 11,
     "metadata": {},
     "output_type": "execute_result"
    }
   ],
   "source": [
    "# Create 3 random arrays of 5 floats between 0.0 and 1.0\n",
    "rng.random(size = (3, 5))"
   ]
  },
  {
   "cell_type": "markdown",
   "id": "28b61d21-7d5d-4e97-a847-59e0b48ec2c1",
   "metadata": {},
   "source": [
    "Since the power of NumPy is in fast calculations with arrays, we can take advantage of this to create random arrays of values greater than 1.0. The example below multiplies the randomly generated floats by 10 before returning the array to us."
   ]
  },
  {
   "cell_type": "code",
   "execution_count": 12,
   "id": "0f2379e9",
   "metadata": {},
   "outputs": [
    {
     "data": {
      "text/plain": [
       "array([1.31971516, 5.3381339 , 8.00716537, 2.83727256, 8.34814777])"
      ]
     },
     "execution_count": 12,
     "metadata": {},
     "output_type": "execute_result"
    }
   ],
   "source": [
    "# Multiplying a randomly created array of floats by 10.\n",
    "10 * rng.random(size = 5)"
   ]
  },
  {
   "cell_type": "markdown",
   "id": "61f94151",
   "metadata": {},
   "source": [
    "### **choice**<a id='h6'></a>[<sup>13</sup>](#f13)<a id='a13'></a>"
   ]
  },
  {
   "cell_type": "markdown",
   "id": "c016e084",
   "metadata": {},
   "source": [
    "random.Generator.choice(a, size=None, replace=True, p=None, axis=0, shuffle=True)"
   ]
  },
  {
   "cell_type": "markdown",
   "id": "c987ff77-5516-4dcc-8e85-4be242bebe42",
   "metadata": {},
   "source": [
    "The choice function takes an array as an argument and returns random values from that array to the user based on the parameters passed in by the user. Entering a single integer as an argument means choice will select a random integer in the range of numbers from 0 up to the entered number."
   ]
  },
  {
   "cell_type": "code",
   "execution_count": 13,
   "id": "cca00237-f499-4b03-8504-0367d08c28c0",
   "metadata": {},
   "outputs": [
    {
     "data": {
      "text/plain": [
       "3"
      ]
     },
     "execution_count": 13,
     "metadata": {},
     "output_type": "execute_result"
    }
   ],
   "source": [
    "# Chooses a random number between 0 and 5 to return to the user\n",
    "rng.choice(5)"
   ]
  },
  {
   "cell_type": "markdown",
   "id": "597377af-064c-4be6-9de7-700b7ea73d9b",
   "metadata": {},
   "source": [
    "We can ask choice to return more values by specifying them alongside the initial number. In the below example, (10,3) means the code will return 3 numbers between 0 and 10. "
   ]
  },
  {
   "cell_type": "code",
   "execution_count": 14,
   "id": "3681bd76",
   "metadata": {},
   "outputs": [
    {
     "data": {
      "text/plain": [
       "array([8, 5, 3], dtype=int64)"
      ]
     },
     "execution_count": 14,
     "metadata": {},
     "output_type": "execute_result"
    }
   ],
   "source": [
    "# Takes 10 as an input and then selects 3 random ints up to 10\n",
    "rng.choice(10, 3)"
   ]
  },
  {
   "cell_type": "markdown",
   "id": "121e5a76-a584-4b39-8443-c43ff0e64052",
   "metadata": {},
   "source": [
    "In the above examples, the same outcome can be achieved by using the integers function. The below examples show where choice differs. For example, we can pass in a list of strings and ask choice to return a random item from that list to us. If we have a list of colours, and then pass that list as an argument using choice we will get one colour randomly returned. "
   ]
  },
  {
   "cell_type": "code",
   "execution_count": 15,
   "id": "6adfb758",
   "metadata": {},
   "outputs": [
    {
     "data": {
      "text/plain": [
       "'red'"
      ]
     },
     "execution_count": 15,
     "metadata": {},
     "output_type": "execute_result"
    }
   ],
   "source": [
    "# A list of colours\n",
    "colours = [\"red\", \"blue\", \"green\", \"black\", \"yellow\"]\n",
    "\n",
    "# Using choice to randomly pick a colour\n",
    "rng.choice(colours)"
   ]
  },
  {
   "cell_type": "markdown",
   "id": "29dc07ee-37ef-459d-852f-689a827af73b",
   "metadata": {},
   "source": [
    "We can again get more than one value returned by specifying the size. By default, when selecting multiple items from a list, choice will replace the item chosen each time. That is to say, if we have 5 items in a list and choice picks one, the chosen item will be returned to the list where it can potentially be chosen again. If we don't want this to happen, we can set replacement to false. This means that when something is randomly chosen from our 5 item list, the chosen item will not be returned and cannot be selected again, meaning only one of the remaining 4 items from the list can be chosen. "
   ]
  },
  {
   "cell_type": "code",
   "execution_count": 16,
   "id": "f0ea7bc4-8197-4b65-a614-9a12bd64c13b",
   "metadata": {},
   "outputs": [
    {
     "data": {
      "text/plain": [
       "array(['yellow', 'black', 'blue'], dtype='<U6')"
      ]
     },
     "execution_count": 16,
     "metadata": {},
     "output_type": "execute_result"
    }
   ],
   "source": [
    "# Selecting 3 random colours without replacement. \n",
    "rng.choice(colours, size= 3, replace=False)"
   ]
  },
  {
   "cell_type": "markdown",
   "id": "008f38c8-ecc3-4ded-9d57-bd0e425a986b",
   "metadata": {},
   "source": [
    "We can add probabilities to bias the outcome chosen in certain directions. With our list of colours, we can bias the outcome by adding an array of values with the same amount of values as there are items in our list, which in this instance is 5. The values of p should add to 1. With the last value being the highest at 0., this means the last item in our list (yellow), is more likely to be randomly chosen, followed by black with a value of 0.3. The remaining items may still be chosen, but will not be chosen as frequently were the code to be run multiple times. "
   ]
  },
  {
   "cell_type": "code",
   "execution_count": 17,
   "id": "b0cd33c4",
   "metadata": {},
   "outputs": [
    {
     "data": {
      "text/plain": [
       "array(['yellow', 'black'], dtype='<U6')"
      ]
     },
     "execution_count": 17,
     "metadata": {},
     "output_type": "execute_result"
    }
   ],
   "source": [
    "# Select two colours randomly with replacement and a biased outcome\n",
    "rng.choice(colours, size=2, p = np.array([0.1, 0.1, 0.1, 0.3, 0.4]))"
   ]
  },
  {
   "cell_type": "markdown",
   "id": "27b13d59",
   "metadata": {},
   "source": [
    "### **bytes**<a id='h7'></a>[<sup>14</sup>](#f14)<a id='a14'></a>"
   ]
  },
  {
   "cell_type": "markdown",
   "id": "414bd523",
   "metadata": {},
   "source": [
    "random.Generator.bytes(length)"
   ]
  },
  {
   "cell_type": "markdown",
   "id": "27200812-348c-4e22-a0a2-b1ef5889c95f",
   "metadata": {},
   "source": [
    "The bytes function only takes a single argument and returns random bytes of the length passed. Random byte generation can be used in cryptography. However, PRNGs should not be used for security or cryptography purposes as they are not secure enough for this purpose.[<sup>15</sup>](#f15)<a id='a15'></a>."
   ]
  },
  {
   "cell_type": "code",
   "execution_count": 18,
   "id": "de2cc869",
   "metadata": {},
   "outputs": [
    {
     "data": {
      "text/plain": [
       "b'\\xa5)\\x06\\x8a\\xc9'"
      ]
     },
     "execution_count": 18,
     "metadata": {},
     "output_type": "execute_result"
    }
   ],
   "source": [
    "# Return 5 random bytes\n",
    "rng.bytes(5)"
   ]
  },
  {
   "cell_type": "markdown",
   "id": "3607c364",
   "metadata": {},
   "source": [
    "## **\"Permutations\" functions**<a id='h8'></a>\n",
    "---"
   ]
  },
  {
   "cell_type": "markdown",
   "id": "78b6fa81-f64e-40a2-bf42-5bbecf803bcd",
   "metadata": {},
   "source": [
    "The three Permutation methods can all be used for the random rearranging of items within an array."
   ]
  },
  {
   "cell_type": "markdown",
   "id": "02af79ca",
   "metadata": {},
   "source": [
    "### **shuffle**<a id='h9'></a>[<sup>16</sup>](#f16)<a id='a16'></a>"
   ]
  },
  {
   "cell_type": "markdown",
   "id": "7d40d4c6",
   "metadata": {},
   "source": [
    "random.Generator.shuffle(x, axis=0)"
   ]
  },
  {
   "cell_type": "markdown",
   "id": "ebab81a3-2d14-49ff-975f-4f052c9133c9",
   "metadata": {},
   "source": [
    "The shuffle function takes in a sequence or an array and returns everything in a new random order. Below we will create a variable containing the integers from 0-9 that we will then shuffle."
   ]
  },
  {
   "cell_type": "code",
   "execution_count": 19,
   "id": "bb7493e9",
   "metadata": {},
   "outputs": [
    {
     "data": {
      "text/plain": [
       "array([0, 1, 2, 3, 4, 5, 6, 7, 8, 9])"
      ]
     },
     "execution_count": 19,
     "metadata": {},
     "output_type": "execute_result"
    }
   ],
   "source": [
    "# Assign the range 0-9 (10 not inclusive) to the variable digits\n",
    "digits = np.arange(10)\n",
    "digits"
   ]
  },
  {
   "cell_type": "code",
   "execution_count": 20,
   "id": "a8dc1311-c236-45c3-a819-6727e2d80a28",
   "metadata": {},
   "outputs": [],
   "source": [
    "# Shuffle the array digits\n",
    "rng.shuffle(digits)"
   ]
  },
  {
   "cell_type": "markdown",
   "id": "c2be99a9-5ced-41c4-8bc0-fb4804f56def",
   "metadata": {},
   "source": [
    "Of note is that the shuffle function will alter the order of an array in place, which changes the contents of a variable. This means in this instance that the variable digits will no longer point to the array ([0, 1, 2, 3, 4, 5, 6, 7, 8, 9]). Rather, it will return the order they were shuffled into."
   ]
  },
  {
   "cell_type": "code",
   "execution_count": 21,
   "id": "08e9417d",
   "metadata": {},
   "outputs": [
    {
     "data": {
      "text/plain": [
       "array([3, 1, 6, 9, 0, 8, 5, 4, 7, 2])"
      ]
     },
     "execution_count": 21,
     "metadata": {},
     "output_type": "execute_result"
    }
   ],
   "source": [
    "# Returnn the shuffled array\n",
    "digits"
   ]
  },
  {
   "cell_type": "markdown",
   "id": "d08c2f7d-1b66-4880-9675-f2024da2f700",
   "metadata": {},
   "source": [
    "Shuffle can also be used to randomly reorder a list containing strings. "
   ]
  },
  {
   "cell_type": "code",
   "execution_count": 22,
   "id": "2687ab4c",
   "metadata": {},
   "outputs": [
    {
     "data": {
      "text/plain": [
       "['one', 'two', 'three', 'four', 'five', 'six', 'seven', 'eight', 'nine']"
      ]
     },
     "execution_count": 22,
     "metadata": {},
     "output_type": "execute_result"
    }
   ],
   "source": [
    "# Create a list of strings for the digits 0-9\n",
    "string_digits = [\"one\", \"two\", \"three\", \"four\", \"five\", \"six\", \"seven\", \"eight\", \"nine\"]\n",
    "string_digits"
   ]
  },
  {
   "cell_type": "code",
   "execution_count": 23,
   "id": "8569804c",
   "metadata": {},
   "outputs": [
    {
     "data": {
      "text/plain": [
       "['four', 'six', 'two', 'three', 'eight', 'nine', 'one', 'five', 'seven']"
      ]
     },
     "execution_count": 23,
     "metadata": {},
     "output_type": "execute_result"
    }
   ],
   "source": [
    "# Shuffle the list of strings and return it\n",
    "rng.shuffle(string_digits)\n",
    "string_digits"
   ]
  },
  {
   "cell_type": "markdown",
   "id": "b6d8cf5e-c0b7-4700-b3ad-f80596f00648",
   "metadata": {},
   "source": [
    "Shuffle can also be used to randomly reorder arrays, but it should be noted that the reordering will only take place along one dimension at a time. This means that shuffle can change the order of a row or a column, but it will not shuffle an item to both a new row and a new column at the same time."
   ]
  },
  {
   "cell_type": "code",
   "execution_count": 24,
   "id": "ca3d6b3e",
   "metadata": {},
   "outputs": [
    {
     "data": {
      "text/plain": [
       "array([[0, 1, 2],\n",
       "       [3, 4, 5],\n",
       "       [6, 7, 8]])"
      ]
     },
     "execution_count": 24,
     "metadata": {},
     "output_type": "execute_result"
    }
   ],
   "source": [
    "# Create a 3x3 array containing 0-8\n",
    "three_by_three = np.arange(9).reshape(3, 3)\n",
    "three_by_three"
   ]
  },
  {
   "cell_type": "markdown",
   "id": "fb4ce414-e306-4618-9812-25980f0f6ed5",
   "metadata": {},
   "source": [
    "By default, using shuffle on an array will rearrange the position of rows but will leave the items from each row in the original order"
   ]
  },
  {
   "cell_type": "code",
   "execution_count": 25,
   "id": "7d0f3b86",
   "metadata": {},
   "outputs": [
    {
     "data": {
      "text/plain": [
       "array([[3, 4, 5],\n",
       "       [0, 1, 2],\n",
       "       [6, 7, 8]])"
      ]
     },
     "execution_count": 25,
     "metadata": {},
     "output_type": "execute_result"
    }
   ],
   "source": [
    "rng.shuffle(three_by_three)\n",
    "three_by_three"
   ]
  },
  {
   "cell_type": "markdown",
   "id": "46c70c71-1348-4f05-95ee-09bb5be95833",
   "metadata": {},
   "source": [
    "However, if we set the axis to 1 as an argument, shuffle will instead change the order of the columns rather than rows."
   ]
  },
  {
   "cell_type": "code",
   "execution_count": 26,
   "id": "e48d6e67",
   "metadata": {},
   "outputs": [
    {
     "data": {
      "text/plain": [
       "array([[2, 1, 5, 3, 3],\n",
       "       [6, 6, 2, 1, 1],\n",
       "       [5, 6, 3, 5, 3],\n",
       "       [2, 1, 3, 5, 5],\n",
       "       [6, 1, 5, 5, 6]], dtype=int64)"
      ]
     },
     "execution_count": 26,
     "metadata": {},
     "output_type": "execute_result"
    }
   ],
   "source": [
    "# Generating a random 5x5 array\n",
    "five_by_five = rng.integers(low=1, high=7, size = (5,5))\n",
    "five_by_five"
   ]
  },
  {
   "cell_type": "code",
   "execution_count": 27,
   "id": "140f3eb8",
   "metadata": {},
   "outputs": [
    {
     "data": {
      "text/plain": [
       "array([[3, 5, 1, 2, 3],\n",
       "       [1, 2, 6, 6, 1],\n",
       "       [5, 3, 6, 5, 3],\n",
       "       [5, 3, 1, 2, 5],\n",
       "       [5, 5, 1, 6, 6]], dtype=int64)"
      ]
     },
     "execution_count": 27,
     "metadata": {},
     "output_type": "execute_result"
    }
   ],
   "source": [
    "# Randomly shuffle the order of the 5x5's columns\n",
    "rng.shuffle(five_by_five, axis=1)\n",
    "five_by_five"
   ]
  },
  {
   "cell_type": "markdown",
   "id": "fa6c3926",
   "metadata": {},
   "source": [
    "### **permutation**<a id='h10'></a>[<sup>17</sup>](#f17)<a id='a17'></a>"
   ]
  },
  {
   "cell_type": "markdown",
   "id": "20ab72a1",
   "metadata": {},
   "source": [
    "random.Generator.permutation(x, axis=0)"
   ]
  },
  {
   "cell_type": "markdown",
   "id": "2e6a46e1-eeaa-4a08-bb69-d7a906b88c03",
   "metadata": {},
   "source": [
    "The permutation function will also return the entire contents of an array or list that has been passed to it in a new random order, but unlike shuffle, permutation will leave the original array intact and unchanged."
   ]
  },
  {
   "cell_type": "code",
   "execution_count": 28,
   "id": "4df04e33",
   "metadata": {},
   "outputs": [
    {
     "data": {
      "text/plain": [
       "array([0, 1, 2, 3, 4, 5, 6, 7, 8, 9])"
      ]
     },
     "execution_count": 28,
     "metadata": {},
     "output_type": "execute_result"
    }
   ],
   "source": [
    "# Assign the range 0-9 (10 not inclusive) to the variable digits2\n",
    "digits2 = np.arange(10)\n",
    "digits2"
   ]
  },
  {
   "cell_type": "code",
   "execution_count": 29,
   "id": "ae578d95",
   "metadata": {},
   "outputs": [
    {
     "data": {
      "text/plain": [
       "array([6, 5, 8, 4, 2, 9, 1, 7, 0, 3])"
      ]
     },
     "execution_count": 29,
     "metadata": {},
     "output_type": "execute_result"
    }
   ],
   "source": [
    "# Return the digits list in a new, random order\n",
    "rng.permutation(digits2)"
   ]
  },
  {
   "cell_type": "code",
   "execution_count": 30,
   "id": "68082ad8",
   "metadata": {},
   "outputs": [
    {
     "data": {
      "text/plain": [
       "array([0, 1, 2, 3, 4, 5, 6, 7, 8, 9])"
      ]
     },
     "execution_count": 30,
     "metadata": {},
     "output_type": "execute_result"
    }
   ],
   "source": [
    "# The original order of the variable digits2 is unchanged\n",
    "digits2"
   ]
  },
  {
   "cell_type": "markdown",
   "id": "1dc2886a-c26e-48db-a7f5-9373d9c52681",
   "metadata": {},
   "source": [
    "By default, permutation will rearrange multidimensional arrays in a similar manner to shuffle - it will move entire rows to a new position, but leave the order within each row unchanged."
   ]
  },
  {
   "cell_type": "code",
   "execution_count": 31,
   "id": "1d77197f",
   "metadata": {},
   "outputs": [
    {
     "data": {
      "text/plain": [
       "array([[ 0,  1,  2,  3,  4,  5],\n",
       "       [ 6,  7,  8,  9, 10, 11],\n",
       "       [12, 13, 14, 15, 16, 17],\n",
       "       [18, 19, 20, 21, 22, 23],\n",
       "       [24, 25, 26, 27, 28, 29],\n",
       "       [30, 31, 32, 33, 34, 35]])"
      ]
     },
     "execution_count": 31,
     "metadata": {},
     "output_type": "execute_result"
    }
   ],
   "source": [
    "# A 6x6 array\n",
    "six_by_six = np.arange(36).reshape(6,6)\n",
    "six_by_six"
   ]
  },
  {
   "cell_type": "code",
   "execution_count": 32,
   "id": "59d2e80d-dd99-41ed-af2d-6ffeea3adf82",
   "metadata": {},
   "outputs": [
    {
     "data": {
      "text/plain": [
       "array([[24, 25, 26, 27, 28, 29],\n",
       "       [ 6,  7,  8,  9, 10, 11],\n",
       "       [30, 31, 32, 33, 34, 35],\n",
       "       [12, 13, 14, 15, 16, 17],\n",
       "       [18, 19, 20, 21, 22, 23],\n",
       "       [ 0,  1,  2,  3,  4,  5]])"
      ]
     },
     "execution_count": 32,
     "metadata": {},
     "output_type": "execute_result"
    }
   ],
   "source": [
    "# Randomly reorder the 6x6 array with permutation.\n",
    "rng.permutation(six_by_six)"
   ]
  },
  {
   "cell_type": "markdown",
   "id": "1143d5e2-7711-4e4c-9715-662dd8787876",
   "metadata": {},
   "source": [
    "Permutation performs differently to shuffle when axis is set to 1, however. While setting to axis to 1 when using shuffle would move entre columns, in permutation it will instead shuffle the contents within each row, but leave each row in its original position. "
   ]
  },
  {
   "cell_type": "code",
   "execution_count": 33,
   "id": "c6a4e56c-6e06-49a3-bddb-676db6dd2d40",
   "metadata": {},
   "outputs": [
    {
     "data": {
      "text/plain": [
       "array([[ 5,  4,  0,  1,  2,  3],\n",
       "       [11, 10,  6,  7,  8,  9],\n",
       "       [17, 16, 12, 13, 14, 15],\n",
       "       [23, 22, 18, 19, 20, 21],\n",
       "       [29, 28, 24, 25, 26, 27],\n",
       "       [35, 34, 30, 31, 32, 33]])"
      ]
     },
     "execution_count": 33,
     "metadata": {},
     "output_type": "execute_result"
    }
   ],
   "source": [
    "# Shuffle the order of the contents of each row in the 6x6 array\n",
    "rng.permutation(six_by_six, axis=1)"
   ]
  },
  {
   "cell_type": "markdown",
   "id": "d30b4142",
   "metadata": {},
   "source": [
    "### **permuted**<a id='h11'></a>[<sup>18</sup>](#f18)<a id='a18'></a>"
   ]
  },
  {
   "cell_type": "markdown",
   "id": "7b58c3be",
   "metadata": {},
   "source": [
    "random.Generator.permuted(x, axis=None, out=None)"
   ]
  },
  {
   "cell_type": "markdown",
   "id": "d4ad41ae-44e3-4a3f-96a4-7d6621161f81",
   "metadata": {},
   "source": [
    "The permuted function is a more recent addition, as of numpy 1.20[<sup>19</sup>](#f19)<a id='a19'></a>. Permuted is more flexible than either shuffle or permutation. It can be used to rearrange content in-place, like with shuffle, or create a new rearranged copy, like with permutation. By only passing in an array, permuted will leave the original array intact, as permutations does."
   ]
  },
  {
   "cell_type": "code",
   "execution_count": 34,
   "id": "2ceaac73",
   "metadata": {},
   "outputs": [
    {
     "data": {
      "text/plain": [
       "array([[ -4, -19, -10,  -2],\n",
       "       [ -9,  -3, -20, -13],\n",
       "       [-10,  -9,  -2,  -5],\n",
       "       [ -6,  -4, -19, -14]], dtype=int64)"
      ]
     },
     "execution_count": 34,
     "metadata": {},
     "output_type": "execute_result"
    }
   ],
   "source": [
    "# Generate a random 4x4 array.\n",
    "# Negative random numbers can also be generated.\n",
    "four_by_four = rng.integers(low=-20, high=-1, size = (4,4))\n",
    "four_by_four"
   ]
  },
  {
   "cell_type": "code",
   "execution_count": 35,
   "id": "fa79a853-8a61-49e5-bf5f-b16e1d8ae83b",
   "metadata": {},
   "outputs": [
    {
     "data": {
      "text/plain": [
       "array([[-10, -19, -10, -19],\n",
       "       [ -2,  -9,  -4,  -4],\n",
       "       [-14,  -5, -13,  -2],\n",
       "       [ -3,  -9,  -6, -20]], dtype=int64)"
      ]
     },
     "execution_count": 35,
     "metadata": {},
     "output_type": "execute_result"
    }
   ],
   "source": [
    "# Reorder the 4x4 array.\n",
    "rng.permuted(four_by_four)"
   ]
  },
  {
   "cell_type": "code",
   "execution_count": 36,
   "id": "be3b9857-825a-4aa5-9d99-affb2d763b37",
   "metadata": {},
   "outputs": [
    {
     "data": {
      "text/plain": [
       "array([[ -4, -19, -10,  -2],\n",
       "       [ -9,  -3, -20, -13],\n",
       "       [-10,  -9,  -2,  -5],\n",
       "       [ -6,  -4, -19, -14]], dtype=int64)"
      ]
     },
     "execution_count": 36,
     "metadata": {},
     "output_type": "execute_result"
    }
   ],
   "source": [
    "# Calling 4x4 to show the original is unchanged.\n",
    "four_by_four"
   ]
  },
  {
   "cell_type": "markdown",
   "id": "fa57ac48-b092-410a-ad68-1dda91007e3b",
   "metadata": {},
   "source": [
    "We can compare and contrast shuffle, permutation, and permuted further by reusing the 3x3 array example from before."
   ]
  },
  {
   "cell_type": "code",
   "execution_count": 37,
   "id": "ca998195-44f7-4996-b55b-710727b02533",
   "metadata": {},
   "outputs": [
    {
     "data": {
      "text/plain": [
       "array([[3, 4, 5],\n",
       "       [0, 1, 2],\n",
       "       [6, 7, 8]])"
      ]
     },
     "execution_count": 37,
     "metadata": {},
     "output_type": "execute_result"
    }
   ],
   "source": [
    "# The 3x3 array of 0-9 that was randomly reordered using shuffle.\n",
    "three_by_three"
   ]
  },
  {
   "cell_type": "markdown",
   "id": "c113a323-e4d3-4d49-b52b-fc1a0cff4daa",
   "metadata": {},
   "source": [
    "Permuted will shuffle the values within each row, but leave the rows in place if we set axis to 1. This is similar to using permutation with axis set to 1"
   ]
  },
  {
   "cell_type": "code",
   "execution_count": 38,
   "id": "86c28e41",
   "metadata": {},
   "outputs": [
    {
     "data": {
      "text/plain": [
       "array([[3, 5, 4],\n",
       "       [1, 2, 0],\n",
       "       [6, 8, 7]])"
      ]
     },
     "execution_count": 38,
     "metadata": {},
     "output_type": "execute_result"
    }
   ],
   "source": [
    "# Use permuted to reorder the 3x3 array.\n",
    "permuted_three_by_three = rng.permuted(three_by_three, axis=1)\n",
    "permuted_three_by_three"
   ]
  },
  {
   "cell_type": "markdown",
   "id": "c3676161-20eb-44a8-8174-430982097913",
   "metadata": {},
   "source": [
    "Permuted returned a copy, leaving the original array reordered by shuffle unchanged"
   ]
  },
  {
   "cell_type": "code",
   "execution_count": 39,
   "id": "7b16a934",
   "metadata": {},
   "outputs": [
    {
     "data": {
      "text/plain": [
       "array([[3, 4, 5],\n",
       "       [0, 1, 2],\n",
       "       [6, 7, 8]])"
      ]
     },
     "execution_count": 39,
     "metadata": {},
     "output_type": "execute_result"
    }
   ],
   "source": [
    "# Recalling the shuffled 3x3 array\n",
    "three_by_three"
   ]
  },
  {
   "cell_type": "markdown",
   "id": "1f0c9a11-6ed0-44b4-ab9a-a45c60b83593",
   "metadata": {},
   "source": [
    "However, we can use permuted to overwrite the original array by passing the variable of the original array as an argument using out. If we don't pass in an axis argument, then the output with be rearranged across both columns and rows, which neither shuffle nor permutation can do."
   ]
  },
  {
   "cell_type": "code",
   "execution_count": 40,
   "id": "1813c670",
   "metadata": {},
   "outputs": [],
   "source": [
    "# Using permuted to change the content of the original 3x3 array\n",
    "permuted_three_by_three = rng.permuted(three_by_three, out=three_by_three)"
   ]
  },
  {
   "cell_type": "markdown",
   "id": "146a9b3b-bb2c-459b-bf6f-27d36c58fc38",
   "metadata": {},
   "source": [
    "We can show that the new permuted 3x3 array and the original now have the same content."
   ]
  },
  {
   "cell_type": "code",
   "execution_count": 41,
   "id": "0178db52",
   "metadata": {},
   "outputs": [
    {
     "data": {
      "text/plain": [
       "array([[1, 0, 3],\n",
       "       [8, 4, 2],\n",
       "       [6, 7, 5]])"
      ]
     },
     "execution_count": 41,
     "metadata": {},
     "output_type": "execute_result"
    }
   ],
   "source": [
    "# Calling the 3x3 array\n",
    "three_by_three"
   ]
  },
  {
   "cell_type": "code",
   "execution_count": 42,
   "id": "84e743db",
   "metadata": {},
   "outputs": [
    {
     "data": {
      "text/plain": [
       "array([[1, 0, 3],\n",
       "       [8, 4, 2],\n",
       "       [6, 7, 5]])"
      ]
     },
     "execution_count": 42,
     "metadata": {},
     "output_type": "execute_result"
    }
   ],
   "source": [
    "# Calling the permuted 3x3 array\n",
    "permuted_three_by_three"
   ]
  },
  {
   "cell_type": "code",
   "execution_count": 43,
   "id": "36de1af1",
   "metadata": {},
   "outputs": [
    {
     "data": {
      "text/plain": [
       "True"
      ]
     },
     "execution_count": 43,
     "metadata": {},
     "output_type": "execute_result"
    }
   ],
   "source": [
    "# Show that the two 3x3 arrays have the same content\n",
    "three_by_three is permuted_three_by_three"
   ]
  },
  {
   "cell_type": "markdown",
   "id": "f666d67b",
   "metadata": {},
   "source": [
    "## **Distributions**<a id='h12'></a>\n",
    "---"
   ]
  },
  {
   "cell_type": "markdown",
   "id": "bcd75325-eca1-40d6-8a20-84ae1d1d93df",
   "metadata": {},
   "source": [
    "A probability distribution shows us the likelihood of different possible occurrences for an event[<sup>20</sup>](#f20)<a id='a20'></a>. The probability distribution most relevant to our needs depends on the type of data we’re working with and the expected outcomes. There are times when you have a particular type of data in mind that follows a particular probability distribution that you want to simulate, and to that end NumPy allows you to generate data that matches the parameters of different probability distributions. The section below looks at five of these distributions."
   ]
  },
  {
   "cell_type": "markdown",
   "id": "84f4663f",
   "metadata": {},
   "source": [
    "### **binomial**<a id='h13'></a>[<sup>21</sup>](#f21)<a id='a21'></a>"
   ]
  },
  {
   "cell_type": "markdown",
   "id": "bb170eff",
   "metadata": {},
   "source": [
    "random.Generator.binomial(n, p, size=None)"
   ]
  },
  {
   "cell_type": "markdown",
   "id": "3ab1ce7c-6e8d-4da0-9254-565dd5f54cba",
   "metadata": {},
   "source": [
    "A binomial distribution tracks trials and records a binary success/failure outcome of trials[<sup>22</sup>](#f22)<a id='a22'></a>. An everyday example of this would be flipping a coin with different faces. The coin can land either head up or tails up. We can use the binomial function to quickly simulate a random binomial distribution for events such as coin flips. To do this we need to include two arguments. The first is n, which is the number of trials we want to be simulated. In this instance, there will be 20 trials, simply meaning there will be 20 simulated coin flips, and then we will receive an output that can be interpreted as the number of heads that were observed. The second is p, which is the probability of success. This must be between 0 and 1. A fair coin has a probability of 0.5, as the coin has an equal chance of landing heads up or tails up. Other binomial observations might have one outcome more likely or more rare than the other. An example of this might be observing the number of penalties scored vs penalties missed in soccer, which should be weighted around 0.7549 in favour of penalties scored[<sup>23</sup>](#f23)<a id='a23'></a>. We can finally specify a size, which is how many times the trial is repeated. By setting the size to 100, that means the process of 20 coin flips will be repeated 100 times, giving a total of 2000 coin flips in the simulation. "
   ]
  },
  {
   "cell_type": "code",
   "execution_count": 44,
   "id": "b0fe52f3",
   "metadata": {},
   "outputs": [],
   "source": [
    "# Setting the number of trials\n",
    "n = 20\n",
    "\n",
    "# Setting the probablity of success \n",
    "p = 0.5"
   ]
  },
  {
   "cell_type": "code",
   "execution_count": 45,
   "id": "4c653457",
   "metadata": {},
   "outputs": [],
   "source": [
    "# Generating a random binomial distribution\n",
    "\n",
    "coin_flip = rng.binomial(n, p, size=100)"
   ]
  },
  {
   "cell_type": "markdown",
   "id": "7e943570-7ed8-4a03-9f02-32cb3d939084",
   "metadata": {},
   "source": [
    "We can take the resulting array as giving us the number of heads after every 20 coin flips"
   ]
  },
  {
   "cell_type": "code",
   "execution_count": 46,
   "id": "13222970",
   "metadata": {},
   "outputs": [
    {
     "data": {
      "text/plain": [
       "array([ 8,  9,  6, 13, 10, 14,  7, 11,  7,  9,  9, 10,  8, 16,  9, 12, 11,\n",
       "       13,  8, 14, 11,  9,  6,  8, 12, 12,  8,  9,  8,  7, 11, 11,  5,  8,\n",
       "       10, 15,  9, 11, 11, 11,  9, 16, 11,  9, 11,  9, 10,  7, 11,  7, 12,\n",
       "        9, 12, 10,  8,  7,  8, 11, 10, 10,  9,  7,  9,  8,  9,  9, 12, 10,\n",
       "        9, 14, 12, 12,  7,  6,  7, 11, 10,  8, 14,  9, 11, 16, 11,  9,  9,\n",
       "        6, 12, 11, 11,  9, 12, 11,  8, 12,  7, 10, 11, 12,  7, 10],\n",
       "      dtype=int64)"
      ]
     },
     "execution_count": 46,
     "metadata": {},
     "output_type": "execute_result"
    }
   ],
   "source": [
    "# View the randomly generated array\n",
    "coin_flip"
   ]
  },
  {
   "cell_type": "markdown",
   "id": "3a38f987-57c7-4b50-bc4c-be7603074ae4",
   "metadata": {},
   "source": [
    "We can plot the distribution to visualise the generated data. We should expect that the most common outcomes will be close to 10 and that lower and higher outcomes were increasingly unlikely. The output will almost certainly be different every time the code is run, but we should see a similar pattern which makes sense as we should expect a coin to land heads or tails 10 times each after 20 tosses, but we should also expect there will be rarer occasions when one value appeared much more common than the other."
   ]
  },
  {
   "cell_type": "code",
   "execution_count": 47,
   "id": "003feb59",
   "metadata": {},
   "outputs": [
    {
     "data": {
      "text/plain": [
       "(array([ 5., 11., 12., 20., 11., 19., 12.,  2.,  4.,  4.]),\n",
       " array([ 5. ,  6.1,  7.2,  8.3,  9.4, 10.5, 11.6, 12.7, 13.8, 14.9, 16. ]),\n",
       " <BarContainer object of 10 artists>)"
      ]
     },
     "execution_count": 47,
     "metadata": {},
     "output_type": "execute_result"
    },
    {
     "data": {
      "image/png": "[encoded data removed]",
      "text/plain": [
       "<Figure size 432x288 with 1 Axes>"
      ]
     },
     "metadata": {
      "needs_background": "light"
     },
     "output_type": "display_data"
    }
   ],
   "source": [
    "# Plotting the randomly generated data\n",
    "plt.hist(coin_flip, bins=10)"
   ]
  },
  {
   "cell_type": "markdown",
   "id": "d0d5c445",
   "metadata": {},
   "source": [
    "### **normal**<a id='h14'></a>[<sup>24</sup>](#f24)<a id='a24'></a>"
   ]
  },
  {
   "cell_type": "markdown",
   "id": "14fb095f",
   "metadata": {},
   "source": [
    "random.Generator.normal(loc=0.0, scale=1.0, size=None)"
   ]
  },
  {
   "cell_type": "markdown",
   "id": "e5bf8db4-21dd-4d87-b261-7cb5c022eb55",
   "metadata": {},
   "source": [
    "The normal (or Gaussian) distribution is a continuous probability distribution that is recognisable due to its \"bell-shaped curve\" appearance[<sup>25</sup>](#f25)<a id='a25'></a>. A lot of real-world data, such as height, IQ scores, and heart rate fit a normal distribution and a common assumption is that data collected is normally distributed thus allowing extrapolation to wider populations[<sup>26</sup>](#f26)<a id='a26'></a>. The distribution centers around the mean, which is where the probability is highest. Around 68% of the data falls within one standard deviation of the mean, 95% within 2 standard deviations of the mean, and 98% falling within 3 standard deviations of the mean, with standard deviation telling us how widely spread the data values are. As such, we can generate a random normal distribution if we know the mean and standard deviation of the data we wish to generate. For the example below a mean, which is often represented by the greek letter mu, is set as 100 and the standard deviation, which is often represented by the Greek letter sigma, is set at 15. Entering a size of 100 means that 100 data points are generated."
   ]
  },
  {
   "cell_type": "code",
   "execution_count": 48,
   "id": "81b81782",
   "metadata": {},
   "outputs": [],
   "source": [
    "# Mean\n",
    "mu = 100\n",
    "\n",
    "#Standard Deviation\n",
    "sigma = 15"
   ]
  },
  {
   "cell_type": "code",
   "execution_count": 49,
   "id": "d393b434",
   "metadata": {},
   "outputs": [
    {
     "data": {
      "text/plain": [
       "array([ 86.38296505,  94.05982159,  98.71405592,  65.69076197,\n",
       "        81.18047904, 106.08825124, 125.14912022, 113.75119801,\n",
       "        97.54699224, 136.07138891,  81.97843028,  72.62171128,\n",
       "       104.72614229,  97.74897025, 112.81996789, 116.12999149,\n",
       "        80.97984307, 106.89157346,  96.19125238,  85.47615934,\n",
       "        88.60428073,  88.07758772,  87.51097222, 100.55680538,\n",
       "        99.97072507, 102.29219755,  87.92815676,  88.95427939,\n",
       "        96.72369337, 108.22693571, 110.43208673,  99.60922255,\n",
       "        97.99948412, 102.33138287, 105.29970979,  83.69084403,\n",
       "       107.69231015, 109.05447041,  92.10995694, 115.92484637,\n",
       "        76.55275513, 100.53473256,  85.11375719, 116.94840289,\n",
       "        95.67729037, 111.79888169,  97.3243292 ,  82.55563453,\n",
       "        94.71861248,  85.49296316, 115.23140973,  92.20039816,\n",
       "        85.46404382, 110.80837975, 102.4398825 , 101.12176633,\n",
       "        98.96944691, 122.94351514,  85.90680943,  67.21668759,\n",
       "        94.055743  ,  77.21534461, 103.20522236, 112.57757648,\n",
       "       115.39687934, 115.06402778, 121.04053356, 130.51894396,\n",
       "        92.3103487 , 107.04728231,  99.84508424,  85.5929183 ,\n",
       "        86.30388707,  84.41416447,  92.28784339,  79.11835371,\n",
       "       103.53495266, 101.41564105, 112.73026911,  91.98577009,\n",
       "        71.49659807,  94.17825933,  89.19530629, 140.35794139,\n",
       "       112.72575544,  97.06835922, 113.95116352, 105.52812144,\n",
       "       107.04923098,  96.5979232 ,  92.3431787 , 106.64428782,\n",
       "        97.176622  ,  72.82392978,  85.02703222,  81.048575  ,\n",
       "       101.91977952,  89.67465777, 119.28093508,  85.23456639])"
      ]
     },
     "execution_count": 49,
     "metadata": {},
     "output_type": "execute_result"
    }
   ],
   "source": [
    "# A random example of 100 samples from a normal distribution\n",
    "normal = rng.normal(mu, sigma, size=100)\n",
    "normal"
   ]
  },
  {
   "cell_type": "markdown",
   "id": "da9e430c-49fc-4444-9cb2-84d65edf8c6c",
   "metadata": {},
   "source": [
    "A smaller sample size generally leads to a plot that vaguely resembles the bell-shaped curve the random values were drawn from. We can see this by generating a plot of the data."
   ]
  },
  {
   "cell_type": "code",
   "execution_count": 50,
   "id": "c51edf16",
   "metadata": {},
   "outputs": [
    {
     "data": {
      "text/plain": [
       "(array([1., 1., 0., 1., 2., 0., 0., 2., 1., 0., 4., 1., 3., 9., 3., 3., 1.,\n",
       "        6., 2., 2., 4., 6., 5., 4., 4., 2., 3., 5., 2., 2., 2., 4., 2., 5.,\n",
       "        1., 1., 0., 1., 1., 1., 0., 0., 0., 1., 0., 0., 0., 1., 0., 1.]),\n",
       " array([ 65.69076197,  67.18410556,  68.67744915,  70.17079274,\n",
       "         71.66413633,  73.15747991,  74.6508235 ,  76.14416709,\n",
       "         77.63751068,  79.13085427,  80.62419786,  82.11754145,\n",
       "         83.61088503,  85.10422862,  86.59757221,  88.0909158 ,\n",
       "         89.58425939,  91.07760298,  92.57094656,  94.06429015,\n",
       "         95.55763374,  97.05097733,  98.54432092, 100.03766451,\n",
       "        101.53100809, 103.02435168, 104.51769527, 106.01103886,\n",
       "        107.50438245, 108.99772604, 110.49106962, 111.98441321,\n",
       "        113.4777568 , 114.97110039, 116.46444398, 117.95778757,\n",
       "        119.45113116, 120.94447474, 122.43781833, 123.93116192,\n",
       "        125.42450551, 126.9178491 , 128.41119269, 129.90453627,\n",
       "        131.39787986, 132.89122345, 134.38456704, 135.87791063,\n",
       "        137.37125422, 138.8645978 , 140.35794139]),\n",
       " <BarContainer object of 50 artists>)"
      ]
     },
     "execution_count": 50,
     "metadata": {},
     "output_type": "execute_result"
    },
    {
     "data": {
      "image/png": "[encoded data removed]",
      "text/plain": [
       "<Figure size 432x288 with 1 Axes>"
      ]
     },
     "metadata": {
      "needs_background": "light"
     },
     "output_type": "display_data"
    }
   ],
   "source": [
    "# View the randomly generated normal data\n",
    "plt.hist(normal, bins = 50)"
   ]
  },
  {
   "cell_type": "markdown",
   "id": "aca0a2f6-1967-4749-a83f-9cbf53045acb",
   "metadata": {},
   "source": [
    "Use the same mean and standard deviation, but increase the sample size, we can see when the points are plotted that the bell-shape is much more obvious."
   ]
  },
  {
   "cell_type": "code",
   "execution_count": 51,
   "id": "e38b6952",
   "metadata": {},
   "outputs": [
    {
     "data": {
      "text/plain": [
       "(array([  1.,   0.,   1.,   2.,   1.,   7.,  10.,   5.,  16.,  26.,  41.,\n",
       "         68.,  88., 113., 149., 176., 246., 310., 390., 450., 479., 566.,\n",
       "        617., 585., 607., 623., 604., 589., 552., 548., 417., 374., 320.,\n",
       "        243., 202., 183., 120.,  80.,  62.,  31.,  23.,  27.,  19.,  12.,\n",
       "          5.,   5.,   3.,   2.,   1.,   1.]),\n",
       " array([ 39.6196831 ,  42.01916209,  44.41864108,  46.81812007,\n",
       "         49.21759907,  51.61707806,  54.01655705,  56.41603604,\n",
       "         58.81551503,  61.21499402,  63.61447301,  66.013952  ,\n",
       "         68.41343099,  70.81290998,  73.21238897,  75.61186796,\n",
       "         78.01134695,  80.41082594,  82.81030493,  85.20978392,\n",
       "         87.60926291,  90.0087419 ,  92.40822089,  94.80769988,\n",
       "         97.20717887,  99.60665786, 102.00613685, 104.40561584,\n",
       "        106.80509483, 109.20457382, 111.60405281, 114.0035318 ,\n",
       "        116.40301079, 118.80248978, 121.20196877, 123.60144776,\n",
       "        126.00092675, 128.40040574, 130.79988474, 133.19936373,\n",
       "        135.59884272, 137.99832171, 140.3978007 , 142.79727969,\n",
       "        145.19675868, 147.59623767, 149.99571666, 152.39519565,\n",
       "        154.79467464, 157.19415363, 159.59363262]),\n",
       " <BarContainer object of 50 artists>)"
      ]
     },
     "execution_count": 51,
     "metadata": {},
     "output_type": "execute_result"
    },
    {
     "data": {
      "image/png": "[encoded data removed]",
      "text/plain": [
       "<Figure size 432x288 with 1 Axes>"
      ]
     },
     "metadata": {
      "needs_background": "light"
     },
     "output_type": "display_data"
    }
   ],
   "source": [
    "# Generating 10000 random normal distribution data points\n",
    "normal_higher = rng.normal(mu, sigma, 10000)\n",
    "\n",
    "# Plotting the randomly generated data\n",
    "plt.hist(normal_higher, bins = 50)"
   ]
  },
  {
   "cell_type": "markdown",
   "id": "bfb6b36e-25a9-4f69-a8f9-660e7bb2fa58",
   "metadata": {},
   "source": [
    "Changing the standard deviation will change the size of the curve that the data points are drawn from. A larger standard deviation will make the curve wider and shorter while a smaller one will make the curve narrower and taller."
   ]
  },
  {
   "cell_type": "code",
   "execution_count": 52,
   "id": "e3a04cf6",
   "metadata": {},
   "outputs": [],
   "source": [
    "# Creating new standard deviation points\n",
    "sigma_wide = 50\n",
    "sigma_narrow = 7\n",
    "\n",
    "# Using the new standard deviations to generate random data\n",
    "normal_wide = rng.normal(mu, sigma_wide, 10000)\n",
    "normal_narrow = rng.normal(mu, sigma_narrow, 10000)"
   ]
  },
  {
   "cell_type": "code",
   "execution_count": 53,
   "id": "9161b5f0",
   "metadata": {},
   "outputs": [
    {
     "data": {
      "text/plain": [
       "array([106.00740297,  56.73265096, 102.72102195, ..., 104.66966058,\n",
       "       126.83087937, 212.27153043])"
      ]
     },
     "execution_count": 53,
     "metadata": {},
     "output_type": "execute_result"
    }
   ],
   "source": [
    "# View the wider data\n",
    "normal_wide"
   ]
  },
  {
   "cell_type": "code",
   "execution_count": 54,
   "id": "9562ca5f-ca7d-403c-8542-e30e8d514e80",
   "metadata": {},
   "outputs": [
    {
     "data": {
      "text/plain": [
       "array([100.67502085, 104.35805383,  95.09477984, ...,  97.51946279,\n",
       "        97.23568635, 104.11826771])"
      ]
     },
     "execution_count": 54,
     "metadata": {},
     "output_type": "execute_result"
    }
   ],
   "source": [
    "# View the narrower data\n",
    "normal_narrow"
   ]
  },
  {
   "cell_type": "code",
   "execution_count": 55,
   "id": "caef8ab4-8c8c-468a-8c78-0180464b11b3",
   "metadata": {},
   "outputs": [
    {
     "data": {
      "image/png": "[encoded data removed]",
      "text/plain": [
       "<Figure size 432x288 with 1 Axes>"
      ]
     },
     "metadata": {
      "needs_background": "light"
     },
     "output_type": "display_data"
    }
   ],
   "source": [
    "# Plot the wise and narrow data\n",
    "\n",
    "plt.hist([normal_wide, normal_narrow], bins = 50, label=['normal_wide', 'normal narrow'])\n",
    "plt.legend(loc='upper right')\n",
    "plt.show()"
   ]
  },
  {
   "cell_type": "markdown",
   "id": "17cbb2ab",
   "metadata": {},
   "source": [
    "### **uniform**<a id='h15'></a>[<sup>27</sup>](#f27)<a id='a27'></a>"
   ]
  },
  {
   "cell_type": "markdown",
   "id": "2b6a37fd",
   "metadata": {},
   "source": [
    "random.Generator.uniform(low=0.0, high=1.0, size=None)"
   ]
  },
  {
   "cell_type": "markdown",
   "id": "5c460ff3-f872-4bb0-9066-f5f3e9a1cc29",
   "metadata": {},
   "source": [
    "A uniform distribution is continuous distribution in which the probability is consistent throughout[<sup>28</sup>](#f28)<a id='a28'></a>. The data is generated by providing a lower and upper bound for the generated data to be drawn from. In this example, the lower bound is 1 and the upper bound is 6."
   ]
  },
  {
   "cell_type": "code",
   "execution_count": 56,
   "id": "ae40029e",
   "metadata": {},
   "outputs": [
    {
     "data": {
      "text/plain": [
       "array([1.94692445, 4.62196625, 4.71688647, 4.33580822, 3.29986694,\n",
       "       5.26217246, 2.73312192, 4.22707994, 4.08205119, 2.78510353,\n",
       "       2.72297606, 4.02667144, 5.75861669, 2.3186793 , 3.21116798,\n",
       "       2.75854843, 1.8178518 , 5.21549394, 5.04770296, 5.41075591,\n",
       "       2.94596718, 2.19535635, 5.98957375, 3.96929246, 4.78337659,\n",
       "       3.46995422, 4.94693808, 1.2494742 , 3.66958048, 3.39888843,\n",
       "       3.1387932 , 1.62703169, 5.0940786 , 2.8257655 , 5.8757447 ,\n",
       "       2.39320195, 4.91017305, 5.64093479, 4.55313066, 2.68636508,\n",
       "       5.61769347, 3.90437686, 2.24720932, 2.87082586, 5.50291196,\n",
       "       5.29180638, 2.46840267, 2.33761102, 2.43048308, 3.86007789,\n",
       "       3.92006906, 5.10264533, 5.94027007, 5.12146441, 1.23457915,\n",
       "       1.98449029, 5.93170546, 3.70200628, 4.93313944, 4.57989568,\n",
       "       2.04287314, 1.26379433, 3.23507724, 3.5730871 , 1.85213037,\n",
       "       1.76256822, 3.33915769, 4.21337121, 2.15667088, 2.9304589 ,\n",
       "       2.8357612 , 4.75137484, 4.63432342, 3.25684049, 5.30870111,\n",
       "       1.07962988, 3.30720982, 3.50751906, 3.80532522, 4.85368318,\n",
       "       5.87857046, 1.42955504, 4.34345824, 5.97857013, 2.02309744,\n",
       "       3.4644982 , 4.76476046, 3.77041923, 2.78107532, 1.27752732,\n",
       "       2.03959158, 4.30112408, 4.23765881, 5.61245961, 3.95938217,\n",
       "       1.3176901 , 2.18705359, 3.05200694, 1.95344575, 2.36344827])"
      ]
     },
     "execution_count": 56,
     "metadata": {},
     "output_type": "execute_result"
    }
   ],
   "source": [
    "# Generating 100 random floats between 1 and 6\n",
    "uniform = rng.uniform(1,6,100)\n",
    "uniform"
   ]
  },
  {
   "cell_type": "markdown",
   "id": "5f527269-167f-47d2-a8f2-04f88413e1c7",
   "metadata": {},
   "source": [
    "As a sample size of 100 is quite small, the resulting plot may not appear completely uniform due to chance, and the values tend to become more uniform as the sample size increases."
   ]
  },
  {
   "cell_type": "code",
   "execution_count": 57,
   "id": "c606aea1",
   "metadata": {},
   "outputs": [
    {
     "data": {
      "text/plain": [
       "(array([11., 17., 22., 18., 16., 16.]),\n",
       " array([1.07962988, 1.89795386, 2.71627784, 3.53460182, 4.35292579,\n",
       "        5.17124977, 5.98957375]),\n",
       " <BarContainer object of 6 artists>)"
      ]
     },
     "execution_count": 57,
     "metadata": {},
     "output_type": "execute_result"
    },
    {
     "data": {
      "image/png": "[encoded data removed]",
      "text/plain": [
       "<Figure size 432x288 with 1 Axes>"
      ]
     },
     "metadata": {
      "needs_background": "light"
     },
     "output_type": "display_data"
    }
   ],
   "source": [
    "# Plotting the randomly generated uniform data\n",
    "plt.hist(uniform, bins=6)"
   ]
  },
  {
   "cell_type": "markdown",
   "id": "aeb8d683-d1d7-4021-96a5-f9213dfbb41f",
   "metadata": {},
   "source": [
    "By increasing the sample size to 10000 we should expect the resulting data to make more of a rectangular shape. "
   ]
  },
  {
   "cell_type": "code",
   "execution_count": 58,
   "id": "23ae0024-0597-4bbe-9bb6-d874364c47b1",
   "metadata": {},
   "outputs": [
    {
     "data": {
      "text/plain": [
       "(array([1696., 1660., 1690., 1639., 1671., 1644.]),\n",
       " array([1.00131518, 1.83436672, 2.66741826, 3.5004698 , 4.33352134,\n",
       "        5.16657288, 5.99962442]),\n",
       " <BarContainer object of 6 artists>)"
      ]
     },
     "execution_count": 58,
     "metadata": {},
     "output_type": "execute_result"
    },
    {
     "data": {
      "image/png": "[encoded data removed]",
      "text/plain": [
       "<Figure size 432x288 with 1 Axes>"
      ]
     },
     "metadata": {
      "needs_background": "light"
     },
     "output_type": "display_data"
    }
   ],
   "source": [
    "# Repeating the random generation with a higher sample size of 10000\n",
    "uniform_higher = rng.uniform(1,6,10000)\n",
    "plt.hist(uniform_higher, bins=6)"
   ]
  },
  {
   "cell_type": "markdown",
   "id": "9623b95e",
   "metadata": {},
   "source": [
    "### **poisson**[<sup>29</sup>](#f29)<a id='a29'></a>"
   ]
  },
  {
   "cell_type": "markdown",
   "id": "8aeaf010",
   "metadata": {},
   "source": [
    "random.Generator.poisson(lam=1.0, size=None)"
   ]
  },
  {
   "cell_type": "markdown",
   "id": "f7fcbbc5-793f-4412-8b49-643f9f647bc1",
   "metadata": {},
   "source": [
    "A poisson distribution expresses the probability of a number of events within a particular timeframe[<sup>30</sup>](#f30)<a id='a30'></a>. A real-world example might be if a business typically receives 5 orders an hour, with the typical value often being represented by the Greek letter lambda, we can derive the probability of the business receiving only 2 orders an hour, or 10 orders an hour. We can define a size to simulate the number of times we want to draw a random sample from the distribution. In this instance, 500 data points will be generated."
   ]
  },
  {
   "cell_type": "code",
   "execution_count": 59,
   "id": "2b5e7170",
   "metadata": {},
   "outputs": [
    {
     "data": {
      "text/plain": [
       "array([ 4,  6,  3,  3,  4,  2,  7,  1,  7,  3,  8,  6,  6, 10,  6,  9,  3,\n",
       "        6,  5,  5,  3,  5,  2,  5,  4,  7,  2,  3,  3,  6,  5,  8,  5,  6,\n",
       "        2,  8,  7,  5,  5,  7,  7,  3,  4,  6,  8,  3,  4,  5,  4,  0,  5,\n",
       "        3,  4,  5,  3,  3,  2,  9,  7,  9,  6,  7,  4,  4,  5,  5,  6, 10,\n",
       "        1,  2,  5,  4,  7,  8,  5,  7,  8,  5,  4,  2,  6,  3,  9,  6,  3,\n",
       "        3,  3,  6,  5,  1,  3,  8,  6,  5,  7,  4,  5,  5,  2,  3,  8,  7,\n",
       "        3,  2,  6,  5,  6,  4,  4,  7,  7,  8,  5, 10,  8, 10,  7,  3,  6,\n",
       "        7,  5,  5,  8,  3,  5,  4,  4,  3,  3,  9,  2,  7,  4,  4,  5,  4,\n",
       "        5,  8,  4,  8,  9,  6,  6,  5,  4,  4,  4, 10,  6,  3,  5,  6,  2,\n",
       "        5,  3,  4,  7,  3,  4,  5, 10,  4, 10,  6,  5,  3,  5,  8,  6,  4,\n",
       "       10,  4,  8,  3,  3,  8,  4,  1,  8,  4,  5,  5,  6,  7,  4,  3,  5,\n",
       "        6,  9,  6,  7,  6,  5,  4,  6,  8,  1,  4,  6,  9,  4,  7,  5,  4,\n",
       "        8,  7,  5,  6,  7, 12,  4,  8,  6,  2,  5,  5,  3,  5,  8,  7,  0,\n",
       "        2,  3,  9,  5,  4,  6,  4,  4, 13,  2,  1,  4,  4,  5,  5,  0,  4,\n",
       "        8,  5,  5, 10,  6,  6,  6,  8,  7,  8,  8,  3,  5,  9,  4,  4,  4,\n",
       "       10,  3,  8,  3,  6,  5,  6,  3,  6,  3,  5,  6,  7,  5,  3,  7,  2,\n",
       "        4,  2,  9,  3,  5,  8,  6,  5, 11,  5,  4,  7,  7,  5,  8,  9,  2,\n",
       "        3,  3,  6,  2,  2,  6,  5,  5,  4,  7,  4, 10,  6,  3,  2,  9,  2,\n",
       "        7,  4,  6,  8,  1,  2,  3,  5,  8,  3,  4,  4,  3,  7,  1,  6,  6,\n",
       "        3,  6,  8,  3,  5,  7,  9,  5,  3,  3,  8,  7,  5,  4,  7,  5,  2,\n",
       "        6,  7,  4,  5,  5,  7,  2,  2,  7,  4,  5,  6,  4,  6,  5,  6,  3,\n",
       "        6,  4,  6,  8,  3,  1,  7,  7,  4,  5,  5,  3,  3,  3,  7,  8, 10,\n",
       "        8, 11,  5,  2,  3,  6, 10,  8,  3,  8,  5,  5,  3,  6,  3,  4, 10,\n",
       "        2,  4,  6,  4,  5,  5,  6,  3,  2,  7,  6,  6,  3,  8,  3, 11,  8,\n",
       "        4, 11,  7, 10,  6,  7,  5,  2,  8,  5,  3,  4,  6,  7,  3,  5,  2,\n",
       "        4,  4,  9,  4,  6,  4,  3,  8,  3,  4,  9,  4,  3,  2,  6,  6,  2,\n",
       "        4,  3,  3,  4,  6,  3,  4,  4,  7,  5,  6,  4,  6,  5,  4,  7,  4,\n",
       "        3,  4,  4,  2,  4,  8,  7, 10,  4,  2,  2,  8,  6,  7,  3,  6,  8,\n",
       "        7,  5,  3,  2,  6,  3,  8,  5,  4,  7,  4,  7,  4,  7,  4,  4,  6,\n",
       "        1,  2,  4,  7,  4,  3,  5], dtype=int64)"
      ]
     },
     "execution_count": 59,
     "metadata": {},
     "output_type": "execute_result"
    }
   ],
   "source": [
    "# Generating random data from a poisson distribution\n",
    "poisson = rng.poisson(5, size=500)\n",
    "poisson"
   ]
  },
  {
   "cell_type": "markdown",
   "id": "116c7c65-9023-4fa7-9aad-00621b563345",
   "metadata": {},
   "source": [
    "We can visualise the probabilities of possible outcomes with a plot."
   ]
  },
  {
   "cell_type": "code",
   "execution_count": 60,
   "id": "03b76741",
   "metadata": {},
   "outputs": [
    {
     "data": {
      "text/plain": [
       "(array([ 13.,  37.,  74., 168.,  71.,  54.,  61.,  16.,   4.,   2.]),\n",
       " array([ 0. ,  1.3,  2.6,  3.9,  5.2,  6.5,  7.8,  9.1, 10.4, 11.7, 13. ]),\n",
       " <BarContainer object of 10 artists>)"
      ]
     },
     "execution_count": 60,
     "metadata": {},
     "output_type": "execute_result"
    },
    {
     "data": {
      "image/png": "[encoded data removed]",
      "text/plain": [
       "<Figure size 432x288 with 1 Axes>"
      ]
     },
     "metadata": {
      "needs_background": "light"
     },
     "output_type": "display_data"
    }
   ],
   "source": [
    "# Generate a plot of the random poisson data\n",
    "plt.hist(poisson)"
   ]
  },
  {
   "cell_type": "markdown",
   "id": "701f0afa",
   "metadata": {},
   "source": [
    "### **exponential**<a id='h17'></a>[<sup>31</sup>](#f31)<a id='a31'></a>"
   ]
  },
  {
   "cell_type": "markdown",
   "id": "4438eb5f",
   "metadata": {},
   "source": [
    "random.Generator.exponential(scale=1.0, size=None)"
   ]
  },
  {
   "cell_type": "markdown",
   "id": "31c55713-1cb4-4b0c-8bcc-3e16c8fb83da",
   "metadata": {},
   "source": [
    "An exponential distribution shows the distribution of the time between poisson events[<sup>32</sup>](#f32)<a id='a32'></a>. The distribution will have a peak at the point in which poisson events are most rare, and will become steeper as the events become more common, before levelling out again as events become rarer at the other end of the scale. "
   ]
  },
  {
   "cell_type": "code",
   "execution_count": 61,
   "id": "4029955a",
   "metadata": {},
   "outputs": [
    {
     "data": {
      "text/plain": [
       "array([3.03702770e+00, 1.53728871e+00, 3.41627721e-02, 5.93498838e+00,\n",
       "       3.10410039e+00, 8.63686562e-01, 1.86106732e+00, 3.95480396e-01,\n",
       "       8.57949160e-01, 1.63118064e+01, 3.33933503e+00, 2.98673277e+00,\n",
       "       1.27688192e-01, 8.26490299e+00, 4.26760572e+00, 3.70303456e+00,\n",
       "       1.96189632e+01, 2.34280046e+00, 1.28230074e+00, 1.54324358e+00,\n",
       "       1.55271370e+01, 8.88439159e+00, 5.03989844e+00, 1.11605884e+00,\n",
       "       1.13630516e+01, 6.06167284e+00, 1.03158644e+01, 4.69118323e-01,\n",
       "       5.25020233e-01, 9.23402858e+00, 8.69689954e+00, 4.10943292e-01,\n",
       "       2.31164216e+00, 1.86112210e+01, 2.18780503e+00, 6.71742742e-01,\n",
       "       1.55520353e+00, 3.64565716e+00, 2.46153632e+00, 1.03101373e+00,\n",
       "       5.28066952e+00, 1.87372794e+00, 2.02256603e+00, 3.58822833e+00,\n",
       "       7.96806661e-01, 6.92771533e-01, 9.89998601e-01, 6.92312755e+00,\n",
       "       1.51427429e+01, 8.59825421e+00, 3.09716528e+00, 2.55759785e+01,\n",
       "       7.12541896e+00, 5.63664790e+00, 7.01676853e+00, 7.43756162e+00,\n",
       "       1.16024410e+01, 8.27363492e+00, 6.36060731e-01, 1.05479288e+00,\n",
       "       2.31157937e+01, 4.22285038e-01, 6.11861247e+00, 3.85119561e+00,\n",
       "       6.25309832e+00, 9.00312951e+00, 8.20710321e-01, 2.59856645e+00,\n",
       "       5.14838995e+00, 3.14821283e+00, 3.96963737e+00, 8.11163411e+00,\n",
       "       5.04053287e-01, 3.56608934e+00, 7.47765009e+00, 2.13774394e+00,\n",
       "       2.45350474e+00, 4.11033850e-01, 8.92607253e-02, 1.56822116e+00,\n",
       "       9.24347222e+00, 1.40140883e+00, 1.73639695e-02, 2.25441923e+00,\n",
       "       5.98264819e-01, 3.32341451e+00, 5.42767399e-01, 2.87660655e-01,\n",
       "       5.11488460e-01, 3.38295767e+00, 2.38155616e+00, 6.10366039e+00,\n",
       "       4.89636395e+00, 4.17144086e-01, 1.06444310e+01, 1.62830305e+00,\n",
       "       3.30839651e+00, 1.98696271e+00, 3.23627133e+00, 6.27307569e+00])"
      ]
     },
     "execution_count": 61,
     "metadata": {},
     "output_type": "execute_result"
    }
   ],
   "source": [
    "# Generate random exponental data\n",
    "scale = 5.0\n",
    "exponential = rng.exponential(scale, size=100)\n",
    "exponential"
   ]
  },
  {
   "cell_type": "code",
   "execution_count": 62,
   "id": "ebbbd1ca",
   "metadata": {},
   "outputs": [
    {
     "data": {
      "text/plain": [
       "(array([14., 11.,  6.,  7.,  8.,  3., 10.,  4.,  1.,  2.,  3.,  4.,  2.,\n",
       "         3.,  2.,  1.,  4.,  2.,  2.,  0.,  2.,  0.,  2.,  0.,  0.,  0.,\n",
       "         0.,  0.,  0.,  1.,  1.,  1.,  0.,  0.,  0.,  0.,  1.,  0.,  1.,\n",
       "         0.,  0.,  0.,  0.,  0.,  0.,  1.,  0.,  0.,  0.,  1.]),\n",
       " array([1.73639695e-02, 5.28536261e-01, 1.03970855e+00, 1.55088084e+00,\n",
       "        2.06205314e+00, 2.57322543e+00, 3.08439772e+00, 3.59557001e+00,\n",
       "        4.10674230e+00, 4.61791459e+00, 5.12908688e+00, 5.64025918e+00,\n",
       "        6.15143147e+00, 6.66260376e+00, 7.17377605e+00, 7.68494834e+00,\n",
       "        8.19612063e+00, 8.70729292e+00, 9.21846522e+00, 9.72963751e+00,\n",
       "        1.02408098e+01, 1.07519821e+01, 1.12631544e+01, 1.17743267e+01,\n",
       "        1.22854990e+01, 1.27966713e+01, 1.33078435e+01, 1.38190158e+01,\n",
       "        1.43301881e+01, 1.48413604e+01, 1.53525327e+01, 1.58637050e+01,\n",
       "        1.63748773e+01, 1.68860496e+01, 1.73972219e+01, 1.79083942e+01,\n",
       "        1.84195665e+01, 1.89307388e+01, 1.94419110e+01, 1.99530833e+01,\n",
       "        2.04642556e+01, 2.09754279e+01, 2.14866002e+01, 2.19977725e+01,\n",
       "        2.25089448e+01, 2.30201171e+01, 2.35312894e+01, 2.40424617e+01,\n",
       "        2.45536340e+01, 2.50648063e+01, 2.55759785e+01]),\n",
       " <BarContainer object of 50 artists>)"
      ]
     },
     "execution_count": 62,
     "metadata": {},
     "output_type": "execute_result"
    },
    {
     "data": {
      "image/png": "[encoded data removed]",
      "text/plain": [
       "<Figure size 432x288 with 1 Axes>"
      ]
     },
     "metadata": {
      "needs_background": "light"
     },
     "output_type": "display_data"
    }
   ],
   "source": [
    "# Plot the randomly generated exponential data\n",
    "plt.hist(exponential, bins=50)"
   ]
  },
  {
   "cell_type": "code",
   "execution_count": 63,
   "id": "73d20b2f",
   "metadata": {},
   "outputs": [],
   "source": [
    "# Repeating the random generation with a higher sample size of 10000\n",
    "exponential_higher = rng.exponential(10.0, 10000)"
   ]
  },
  {
   "cell_type": "code",
   "execution_count": 64,
   "id": "89cfbe6e",
   "metadata": {},
   "outputs": [
    {
     "data": {
      "text/plain": [
       "(array([1.640e+03, 1.418e+03, 1.166e+03, 9.710e+02, 8.150e+02, 6.350e+02,\n",
       "        5.350e+02, 4.840e+02, 3.860e+02, 3.310e+02, 2.750e+02, 2.360e+02,\n",
       "        1.870e+02, 1.480e+02, 1.290e+02, 1.180e+02, 8.300e+01, 8.400e+01,\n",
       "        5.400e+01, 5.400e+01, 3.700e+01, 3.900e+01, 3.500e+01, 2.200e+01,\n",
       "        2.000e+01, 8.000e+00, 1.500e+01, 1.200e+01, 1.900e+01, 7.000e+00,\n",
       "        5.000e+00, 5.000e+00, 4.000e+00, 4.000e+00, 4.000e+00, 1.000e+00,\n",
       "        3.000e+00, 1.000e+00, 1.000e+00, 1.000e+00, 1.000e+00, 1.000e+00,\n",
       "        0.000e+00, 1.000e+00, 2.000e+00, 0.000e+00, 1.000e+00, 0.000e+00,\n",
       "        1.000e+00, 1.000e+00]),\n",
       " array([1.72467781e-04, 1.79928432e+00, 3.59839616e+00, 5.39750801e+00,\n",
       "        7.19661986e+00, 8.99573170e+00, 1.07948436e+01, 1.25939554e+01,\n",
       "        1.43930672e+01, 1.61921791e+01, 1.79912909e+01, 1.97904028e+01,\n",
       "        2.15895146e+01, 2.33886265e+01, 2.51877383e+01, 2.69868502e+01,\n",
       "        2.87859620e+01, 3.05850739e+01, 3.23841857e+01, 3.41832976e+01,\n",
       "        3.59824094e+01, 3.77815213e+01, 3.95806331e+01, 4.13797450e+01,\n",
       "        4.31788568e+01, 4.49779687e+01, 4.67770805e+01, 4.85761923e+01,\n",
       "        5.03753042e+01, 5.21744160e+01, 5.39735279e+01, 5.57726397e+01,\n",
       "        5.75717516e+01, 5.93708634e+01, 6.11699753e+01, 6.29690871e+01,\n",
       "        6.47681990e+01, 6.65673108e+01, 6.83664227e+01, 7.01655345e+01,\n",
       "        7.19646464e+01, 7.37637582e+01, 7.55628701e+01, 7.73619819e+01,\n",
       "        7.91610938e+01, 8.09602056e+01, 8.27593174e+01, 8.45584293e+01,\n",
       "        8.63575411e+01, 8.81566530e+01, 8.99557648e+01]),\n",
       " <BarContainer object of 50 artists>)"
      ]
     },
     "execution_count": 64,
     "metadata": {},
     "output_type": "execute_result"
    },
    {
     "data": {
      "image/png": "[encoded data removed]",
      "text/plain": [
       "<Figure size 432x288 with 1 Axes>"
      ]
     },
     "metadata": {
      "needs_background": "light"
     },
     "output_type": "display_data"
    }
   ],
   "source": [
    "# As the sample size increases, the distribition becoms more smooth\n",
    "plt.hist(exponential_higher, bins=50)"
   ]
  },
  {
   "cell_type": "markdown",
   "id": "f1d06052",
   "metadata": {},
   "source": [
    "## **Seeds**<a id='h18'></a>\n",
    "---"
   ]
  },
  {
   "cell_type": "markdown",
   "id": "7841ad77-bb21-4837-92c1-5a1dbe833cc9",
   "metadata": {},
   "source": [
    "There are times when randomness needs to be predictable. For example, we may initially need a randomly generated dataset to test a model, but we would like to have repeated access to this data to be able to reproduce our findings. For this purpose, the pseudo-ness of using a computerised random number generator becomes a positive. Since the process is completely deterministic, we can ask for our result to be random but in a repeatable manner. This is where seeding comes in. By seeding a BitGenerator, we can get a random output that can be reproduced by others who use the same seed, BitGenerator, and code[<sup>33</sup>](#f33)<a id='a33'></a>. If a seed is not entered by the user, the algorithm with use a default seed that constantly changes. An example of a default seed might be the current time and date, which is why the random data generate constantly changes each time it's run. In the case of numpy.random, if no seed is provided, then \"unpredictable entropy will be pulled from the OS\" to set the seed[<sup>34</sup>](#f34)<a id='a34'></a>. With a seed set by the user, the algorithm will generate random data using the seed presented as a starting point, ensuring a repeatable output."
   ]
  },
  {
   "cell_type": "code",
   "execution_count": 65,
   "id": "60777f1b",
   "metadata": {},
   "outputs": [
    {
     "data": {
      "text/plain": [
       "array([4, 3, 1, 2, 1, 3, 2, 0, 0, 2, 0, 1, 2, 2, 2, 2, 0, 0, 4, 3],\n",
       "      dtype=int64)"
      ]
     },
     "execution_count": 65,
     "metadata": {},
     "output_type": "execute_result"
    }
   ],
   "source": [
    "# Calling the default rng but with a seed for reporoducable outcomes\n",
    "rng_seeded1 = np.random.default_rng(seed=1246)\n",
    "rng_seeded1.integers(5, size = 20)"
   ]
  },
  {
   "cell_type": "code",
   "execution_count": 66,
   "id": "61ac8ead",
   "metadata": {},
   "outputs": [
    {
     "data": {
      "text/plain": [
       "array([4, 3, 1, 2, 1, 3, 2, 0, 0, 2, 0, 1, 2, 2, 2, 2, 0, 0, 4, 3],\n",
       "      dtype=int64)"
      ]
     },
     "execution_count": 66,
     "metadata": {},
     "output_type": "execute_result"
    }
   ],
   "source": [
    "# A new rng with the same seeding (1246) will result in the same output\n",
    "rng_seeded2 = np.random.default_rng(seed=1246)\n",
    "rng_seeded2.integers(5, size = 20)"
   ]
  },
  {
   "cell_type": "markdown",
   "id": "a9b51cbf-b7f7-4e1a-a734-307ae6eb9300",
   "metadata": {},
   "source": [
    "### **BitGenerators (PCG64 vs Mersenne Twister)**<a id='h19'></a>"
   ]
  },
  {
   "cell_type": "markdown",
   "id": "8b3ee6cb-4278-4ed7-9f27-22eb90775e40",
   "metadata": {},
   "source": [
    "For many years the default BitGenerator for numpy.random was the Mersenne Twister BitGenerator[<sup>35</sup>](#f35)<a id='a35'></a>. It proved popular due to its widespread adoption and for most purposes proved to be robust and reliable, but in recent years it has begun to show its age[<sup>36</sup>](#f36)<a id='a36'></a>. There are some statistical vulnerabilities that, while unlikely to negatively affect the random outputs for most users, are not ideal. Furthermore, the large state associated with the algorithm means it is relatively slow and inefficient. As of NumPy 1.17, the Mersenne Twister algorithm has been replaced as the default BitGenerator with PCG64, which promises to be faster and more statistically robust[<sup>37</sup>](#f37)<a id='a37'></a>.\n",
    "\n",
    "It's important to at least be aware of the default BitGenerater used by numpy.random because as pointed out by Ben Gorman the following code has different outcomes depending on the version of NumPy used and the default BitGenerator used at the time[<sup>38</sup>](#f38)<a id='a38'></a>. While the code is short and easy to run, it can lead to compatibility problems down the line. "
   ]
  },
  {
   "cell_type": "code",
   "execution_count": 67,
   "id": "70d7a384-5316-4879-827c-17f353e9b16a",
   "metadata": {},
   "outputs": [
    {
     "data": {
      "text/plain": [
       "array([2, 1, 2])"
      ]
     },
     "execution_count": 67,
     "metadata": {},
     "output_type": "execute_result"
    }
   ],
   "source": [
    "np.random.seed(123)\n",
    "np.random.randint(3, size=3)"
   ]
  },
  {
   "cell_type": "markdown",
   "id": "a7651111-f113-48a2-974c-8b906ac06344",
   "metadata": {},
   "source": [
    "One benefit instantiating a BitGenerator rather than using numpy.random.RandomState methods is that code may no longer be reproducible in the future should the default generator change. By initially instantiating a BitGenerator, one can easily go back and explicitly change the BitGenerator called. For example, we can call the old Mersenne Twister RNG instead of the default PCG64 if for some reason we would prefer to use it, for example, the code we wish to run was originally written with Mersenne Twister in mind by using the legacy random generation, which the NumPy developers guarantee will be frozen and no longer change, allowing reproducibility into the foreseeable future[<sup>39</sup>](#f39)<a id='a39'></a>. "
   ]
  },
  {
   "cell_type": "code",
   "execution_count": 68,
   "id": "17cf5f39-0ac4-4e7d-8770-08b3ff7d50d9",
   "metadata": {},
   "outputs": [
    {
     "data": {
      "text/plain": [
       "array([2, 5, 1])"
      ]
     },
     "execution_count": 68,
     "metadata": {},
     "output_type": "execute_result"
    }
   ],
   "source": [
    "# Import the legacy Mersenne Twister Bit Generator\n",
    "from numpy.random import RandomState\n",
    "\n",
    "# Seeding the BitGenerator\n",
    "rs = RandomState(12345)\n",
    "\n",
    "# Generate a random, reproducable array of 3 ints between 0-10\n",
    "rs.randint(10, size=3)"
   ]
  },
  {
   "cell_type": "markdown",
   "id": "ae6b810d-3ae8-4c0f-b194-eafc9b57ba5d",
   "metadata": {},
   "source": [
    "Some of the methods are different for the legacy random generator so the separate documentation section for this feature should be referred to if it is going to be used<sup id=\"a39\">[39](#f39)</sup>. \n",
    "\n",
    "We can also explicitly call for PCG64 should we be concerned that the default RNG changes in a future NumPy update. Doing so should hopefully help code to remain reproducible, in the instance where PCG64 is no longer the default BitGenerator, but it is still supported and callable by NumPy. "
   ]
  },
  {
   "cell_type": "code",
   "execution_count": 69,
   "id": "8ccb1b0f-ebfb-4322-ba89-7c2b7336f08b",
   "metadata": {},
   "outputs": [
    {
     "data": {
      "text/plain": [
       "array([8, 1, 8], dtype=int64)"
      ]
     },
     "execution_count": 69,
     "metadata": {},
     "output_type": "execute_result"
    }
   ],
   "source": [
    "# Explicitly call the PCG64 RNG, seeded to 32\n",
    "from numpy.random import Generator, PCG64\n",
    "rng = Generator(PCG64(seed=32))\n",
    "\n",
    "# Generate a random, reproducable array of 3 ints between 0-10\n",
    "rng.integers(10, size=3)"
   ]
  },
  {
   "cell_type": "markdown",
   "id": "fbee86df-01e7-4c72-b4c0-0b5279a85f59",
   "metadata": {},
   "source": [
    "It is worth noting that other BitGenerators are also supported by NumPy should a user wish to use a different RNG, but exploring further alternatives is beyond the scope of this project[<sup>40</sup>](#f40)<a id='a40'></a>.\n",
    "\n",
    "-------"
   ]
  },
  {
   "cell_type": "markdown",
   "id": "8e9207f5",
   "metadata": {},
   "source": [
    "## **References**<a id='h20'></a>"
   ]
  },
  {
   "cell_type": "markdown",
   "id": "d2037b3d-c5be-4ab7-aa8a-2524442022df",
   "metadata": {},
   "source": [
    "**1**.<a id='f1'></a> Singh, S., 2018. Understanding Random Variables. [online] Available at: <https://towardsdatascience.com/understanding-random-variable-a618a2e99b93> [Accessed 21 November 2021].[↩](#a1)    \n",
    "**2**.<a id='f2'></a> Wilson, J., 2019. Randomness for Modeling and Simulation. [online] Available at: <https://realpython.com/lessons/randomness-modeling-and-simulation/> [Accessed 21 November 2021].[↩](#a2)    \n",
    "**3**.<a id='f3'></a> Kobayashi, S., Kane, T.B. and Paton, C., 2018. The privacy and security implications of open data in healthcare. *Yearbook of medical informatics*, 27(01), pp.041-047. [online]. Doi: 10.1055/s-0038-1641201 [Accessed 22 November 2021]. [↩](#a3)     \n",
    "**4**.<a id='f4'></a> Quintana, D.S., 2020. A synthetic dataset primer for the biobehavioural sciences to promote reproducibility and hypothesis generation. *Elife*, 9, p.e53275. [online]. Doi: 10.7554/eLife.53275 [Accessed 22 November 2021]. [↩](#a4)     \n",
    "**5**.<a id='f5'></a> Rubin, J. M., Can a computer generate a truly random number? [online] Available at: <https://engineering.mit.edu/engage/ask-an-engineer/can-a-computer-generate-a-truly-random-number/> [Accessed 22 November 2021].[↩](#a5)      \n",
    "**6**.<a id='f6'></a> Cruis, B., 2012. Pseudorandom number generators. [online] Available at: <https://www.khanacademy.org/computing/computer-science/cryptography/crypt/v/random-vs-pseudorandom-number-generators> [Accessed 22 November 2021]. [↩](#a6)      \n",
    "**7**.<a id='f7'></a> Harris, C.R., Millman, K.J., van der Walt, S.J., Gommers, R., Virtanen, P., Cournapeau, D., Wieser, E., Taylor, J., Berg, S., Smith, N.J. and Kern, R., 2020. Array programming with NumPy. Nature, 585(7825), pp.357-362. Doi: 10.1038/s41586-020-2649-2. [↩](#a7)     \n",
    "**8**.<a id='f8'></a> McKinney, W., 2018. *Python for data analysis: Data wrangling with Pandas, NumPy, and IPython.* \" O'Reilly Media, Inc.\"., p. 118.[↩](#a8)     \n",
    "**9**.<a id='f9'></a> Problem Solving with Python. Magic Commands. [online] Available at: <https://problemsolvingwithpython.com/02-Jupyter-Notebooks/02.06-Magic-Commands/> [Accessed 22 November 2021].[↩](#a9)   \n",
    "**10**.<a id='f10'></a> NumPy, 2021. Random Generator. [online]. Available at: <https://numpy.org/doc/stable/reference/random/generator.html#numpy.random.Generator> [Accessed 22 November 2021].[↩](#a10)     \n",
    "**11**.<a id='f11'></a> NumPy., 2021. numpy.random.Generator.integers. [online]. Available at: https://numpy.org/doc/stable/reference/random/generated/numpy.random.Generator.integers.html#numpy.random.Generator.integers [Accessed 22 November 2021]. [↩](#a11)    \n",
    "**12**.<a id='f12'></a> NumPy, 2021. numpy.random.Generator.random. [online]. Available at: https://numpy.org/doc/stable/reference/random/generated/numpy.random.Generator.integers.html#numpy.random.Generator.integers [Accessed 22 November 2021].[↩](#a12)     \n",
    "**13**.<a id='f13'></a> NumPy, 2021. numpy.random.Generator.choice. [online]. Available at: https://numpy.org/doc/stable/reference/random/generated/numpy.random.Generator.choice.html#numpy.random.Generator.choice [Accessed 22 November 2021].[↩](#a13)      \n",
    "**14**.<a id='f14'></a> NumPy, 2021. numpy.random.Generator.bytes. [online]. Available at: https://numpy.org/doc/stable/reference/random/generated/numpy.random.Generator.bytes.html#numpy.random.Generator.bytes [Accessed 22 November 2021].[↩](#a14)      \n",
    "**15**.<a id='f15'></a> Martello Security, 2021.  Use of Cryptographically Weak Pseudo-Random Number Generator (PRNG). [online]. Available at: https://www.martellosecurity.com/kb/mitre/cwe/338/ [Accessed 22 November 2021].[↩](#a15)      \n",
    "**16**.<a id='f16'></a> NumPy, 2021. numpy.random.Generator.shuffle. [online]. Available at: https://numpy.org/doc/stable/reference/random/generated/numpy.random.Generator.shuffle.html#numpy.random.Generator.shuffle [Accessed 22 November 2021].[↩](#a16)      \n",
    "**17**.<a id='f17'></a> NumPy, 2021. numpy.random.Generator.permutation. [online]. Available at: https://numpy.org/doc/stable/reference/random/generated/numpy.random.Generator.permutation.html#numpy.random.Generator.permutation [Accessed 22 November 2021].[↩](#a17)     \n",
    "**18**.<a id='f18'></a> NumPy, 2021. numpy.random.Generator.permuted. [online]. Available at: https://numpy.org/doc/stable/reference/random/generated/numpy.random.Generator.permuted.html#numpy.random.Generator.permuted [Accessed 22 November 2021].[↩](#a18)     \n",
    "**19**.<a id='f19'></a> NumPy, 2021. NumPy 1.20.0 Release Notes. [online]. Available at: https://numpy.org/doc/stable/release/1.20.0-notes.html?release#new-functions [Accessed 22 November 2021].[↩](#a19)     \n",
    "**20**.<a id='f20'></a> Albright, E. A., 2021. Probability Distributions. [online]. Available at: <https://sites.nicholas.duke.edu/statsreview/normal/> [Accessed April 27 2021].[↩](#a20)       \n",
    "**21**.<a id='f21'></a> NumPy, 2021. numpy.random.Generator.binomial. [online]. Available at: https://numpy.org/doc/stable/reference/random/generated/numpy.random.Generator.binomial.html#numpy.random.Generator.binomial [Accessed 22 November 2021].[↩](#a21)     \n",
    "**22**.<a id='f22'></a> Weisstein, E., 2021. \"Binomial Distribution.\" From MathWorld--A Wolfram Web Resource.[online]. Available at: https://mathworld.wolfram.com/BinomialDistribution.html [Accessed 22 November 2021].[↩](#a22)    \n",
    "**23**.<a id='f23'></a> InStat, 2021. Massive research of penalties by InStat. [online]. Available at: https://instatsport.com/football/article/penalty_research [Accessed 22 November 2021].[↩](#a23)     \n",
    "**24**.<a id='f24'></a> NumPy, 2021. numpy.random.Generator.normal. [online]. Available at: https://numpy.org/doc/stable/reference/random/generated/numpy.random.Generator.normal.html#numpy.random.Generator.normal [Accessed 22 November 2021].[↩](#a24)      \n",
    "**25**.<a id='f25'></a> Weisstein, E., 2021. \"Normal Distribution.\" From MathWorld--A Wolfram Web Resource.[online]. Available at: https://mathworld.wolfram.com/NormalDistribution.html [Accessed 22 November 2021].[↩](#a25)     \n",
    "**26**.<a id='f26'></a> Frost, J., 2018. Normal Distribution in Statistics. [online]. Available at: https://statisticsbyjim.com/basics/normal-distribution/ [Accessed 28 April 2021].[↩](#a26)      \n",
    "**27**.<a id='f27'></a> NumPy, 2021. numpy.random.Generator.uniform. [online]. Available at: https://numpy.org/doc/stable/reference/random/generated/numpy.random.Generator.uniform.html#numpy.random.Generator.uniform [Accessed 22 November 2021].[↩](#a27)     \n",
    "**28**.<a id='f28'></a> Weisstein, E., 2021. \"Uniform Distribution.\" From MathWorld--A Wolfram Web Resource.[online]. Available at: https://mathworld.wolfram.com/UniformDistribution.html [Accessed 22 November 2021].[↩](#a28)    \n",
    "**29**.<a id='f29'></a> NumPy, 2021. numpy.random.Generator.poisson. [online]. Available at: https://numpy.org/doc/stable/reference/random/generated/numpy.random.Generator.poisson.html#numpy.random.Generator.poisson [Accessed 22 November 2021].[↩](#a29)      \n",
    "**30**.<a id='f30'></a> Weisstein, E., 2021. \"Poisson Distribution.\" From MathWorld--A Wolfram Web Resource.[online]. Available at: https://mathworld.wolfram.com/PoissonDistribution.html [Accessed 22 November 2021].[↩](#a30)     \n",
    "**31**.<a id='f31'></a> NumPy, 2021. numpy.random.Generator.exponential. [online]. Available at: https://numpy.org/doc/stable/reference/random/generated/numpy.random.Generator.exponential.html#numpy.random.Generator.exponential [Accessed 22 November 2021].[↩](#a31)      \n",
    "**32**.<a id='f32'></a> Weisstein, E., 2021. \"Exponential Distribution.\" From MathWorld--A Wolfram Web Resource.[online]. Available at: https://mathworld.wolfram.com/ExponentialDistribution.html [Accessed 22 November 2021].[↩](#a32)   \n",
    "**33**.<a id='f33'></a> Ebner, J., 2019. NumPy Random Seed, Explained.[online]. Available at: https://www.sharpsightlabs.com/blog/numpy-random-seed/ [Accessed 22 November 2021].[↩](#a33)     \n",
    "**34**.<a id='f34'></a> NumPy, 2021. numpy.random.BitGenerator. [online]. Available at: https://numpy.org/doc/stable/reference/random/bit_generators/generated/numpy.random.BitGenerator.html#numpy.random.BitGenerator [Accessed 22 November 2021].[↩](#a34)     \n",
    "**35**.<a id='f35'></a> Matsumoto, M. and Nishimura, T., 1998. Mersenne twister: a 623-dimensionally equidistributed uniform pseudo-random number generator. *ACM Transactions on Modeling and Computer Simulation (TOMACS)*, 8(1), pp.3-30. Doi: https://doi.org/10.1145/272991.272995 [↩](#a35)     \n",
    "**36**.<a id='f36'></a> Vigna, S., 2019. It is high time we let go of the Mersenne Twister. *arXiv preprint* arXiv:1910.06437..[↩](#a36)     \n",
    "**37**.<a id='f37'></a> O’Neill, M.E., 2014. PCG: A family of simple fast space-efficient statistically good algorithms for random number generation. ACM Transactions on Mathematical Software. Doi: http://dx.doi.org/10.1145/0000000.000000.[↩](#a37)      \n",
    "**38**.<a id='f38'></a> Gorman, B. 2019. Python NumPy For Your Grandma - 3.7 random. [online]. Available at: <https://www.gormanalysis.com/blog/python-numpy-for-your-grandma-3-7-random/> [Accessed 22 November 2021].[↩](#a38)     \n",
    "**39**.<a id='f39'></a> NumPy, 2021. Legacy Random Generation. [online]. Available at: https://numpy.org/doc/stable/reference/random/legacy.html [Accessed 22 November 2021].[↩](#a39)     \n",
    "**40**.<a id='f40'></a> NumPy, 2021. Bit Generators. [online]. Available at: https://numpy.org/doc/stable/reference/random/bit_generators/index.html [Accessed 22 November 2021].[↩](#a40)  \n",
    "\n",
    "\n",
    "\n",
    "\n"
   ]
  }
 ],
 "metadata": {
  "kernelspec": {
   "display_name": "Python 3",
   "language": "python",
   "name": "python3"
  },
  "language_info": {
   "codemirror_mode": {
    "name": "ipython",
    "version": 3
   },
   "file_extension": ".py",
   "mimetype": "text/x-python",
   "name": "python",
   "nbconvert_exporter": "python",
   "pygments_lexer": "ipython3",
   "version": "3.8.8"
  }
 },
 "nbformat": 4,
 "nbformat_minor": 5
}
