{
 "cells": [
  {
   "cell_type": "markdown",
   "id": "0bb781ed",
   "metadata": {},
   "source": [
    "# The numpy.random package\n",
    "---"
   ]
  },
  {
   "cell_type": "code",
   "execution_count": null,
   "id": "8c5ae8d2",
   "metadata": {},
   "outputs": [],
   "source": [
    "# A magic command for helping display matplotlib plots in notebooks\n",
    "%matplotlib inline"
   ]
  },
  {
   "cell_type": "code",
   "execution_count": 1,
   "id": "57ab90f1",
   "metadata": {},
   "outputs": [],
   "source": [
    "# Package for numerical calculations and arrays\n",
    "import numpy as np\n",
    "\n",
    "# Generating plots\n",
    "import matplotlib.pyplot as plt"
   ]
  },
  {
   "cell_type": "markdown",
   "id": "263a9965",
   "metadata": {},
   "source": [
    "## Randomness"
   ]
  },
  {
   "cell_type": "markdown",
   "id": "def6248e-e69e-4743-978d-ae23f6a09565",
   "metadata": {},
   "source": [
    "Randomness is generally thought of as the unpredictability of an event’s outcome ahead of time[x]. Even if one outcome is more likely than another, we cannot be certain which outcome will happen until we observe it. This randomness is the basis of many common games of chance, such as flipping a coin or rolling dice. "
   ]
  },
  {
   "cell_type": "markdown",
   "id": "17f46df6-5fd5-4ff6-9960-f38cda36621e",
   "metadata": {},
   "source": [
    "## NumPy's Random Module"
   ]
  },
  {
   "cell_type": "markdown",
   "id": "e54048aa-43ce-4e05-ac98-d76ca2982dcc",
   "metadata": {},
   "source": [
    "In data science, we will want sometimes want to generate random data for the purposes of simulation[x]. This can save time. For example, it is much faster to code and run a simulation of a million coin tosses than to physically toss a coin a million times. We can also use simulated data to test and refine models, or to supplement existing data. Random data simulation has also been proposed as a solution to a problem in medical scientific research, where data is often not open due to concerns about patient confidentiality[x]. A compromise is to simulate the patient data so that the simulated dataset is statistically identical to the original. These “synthetic” datasets can then be open to the public, with any potential identifying variables hidden by the randomising process [X].\n",
    "\n",
    "Since computing is completely deterministic, it would be incredibly difficult for one to generate truly random data[x]. However, the outcome of an event appearing random to an observer might not be due to the fact multiple outcomes are possible. The outcome might instead appear random due to the observer’s ignorance. If the observer had all the relevant information about an event, they would be able to perfectly state the outcome ahead of time, but if they lack the relevant information, then other outcomes might appear equally plausible. Computers take advantage of this ignorance of the user with pseudo-random number generators (PRNGs) [x]. The coding is completely deterministic, but if the user lacks necessary information about how the algorithm works, then the outcome is considered random from the user’s perspective.\n",
    "\n",
    "While python has a built-in random module, a more powerful alternative is provided by NumPy’s random module. NumPy is a package that allows for fast calculations with arrays[x]. This feature extends to the generation of random values, where NumPy random can quickly generate not only single random values, but can also generate random arrays. As noted by Wes McKinney when discussing NumPy’s random module, “Python’s built-in random module, by contrast, only samples one value at a time… (and) numpy.random is well over an order of magnitude faster for generating very large samples”[x]. This makes NumPy a more powerful choice when it comes to generating larger random datasets for simulations. Many of NumPy random’s methods will now be discussed in turn. \n"
   ]
  },
  {
   "cell_type": "markdown",
   "id": "f20da043-ccd6-460d-b682-e2dc44065243",
   "metadata": {},
   "source": [
    "The numpy.random documentation recommends that before calling on any methods, that a new generator is called using the default PRNG, which can be done with the following code. The varible that points to this code will be used throughout to call on numpy.random's functions. \n",
    "\n",
    "The sections below will begin with the structure of the code needed to run each function, as presented in the numpy.random v1.21 documentation. For example, the code presented for the integers function is random.Generator.integers(low, high=None, size=None, dtype=np.int64, endpoint=False). This means that to run our code we will use the variable assigned to our random generator followed by a period and the function name, then followed by parantheses which contain the arguments that we wish use. Arguments without equal signs are neccessary and must be passed, otherwise the code will not runreturn an error. Arguments with equal signs are optional. If these are not passed by the user, then numpy.random will just use default values for these arguments. "
   ]
  },
  {
   "cell_type": "code",
   "execution_count": 2,
   "id": "bf3070b6-6b3a-42d6-948c-9b6c0b5c9e95",
   "metadata": {},
   "outputs": [],
   "source": [
    "# Construct a new Generator with the default BitGenerator (PCG64)\n",
    "rng = np.random.default_rng()"
   ]
  },
  {
   "cell_type": "markdown",
   "id": "aa5f4122",
   "metadata": {},
   "source": [
    "## \"Simple Random Data\" Functions\n",
    "---------------------------------"
   ]
  },
  {
   "cell_type": "markdown",
   "id": "b8f3f046-8101-4d85-bb49-d9ff3afd65f0",
   "metadata": {},
   "source": [
    "There are four ‘Simple Random Data’ functions for the fast generation of random data. "
   ]
  },
  {
   "cell_type": "markdown",
   "id": "f64d8a0c",
   "metadata": {},
   "source": [
    "### **integers**"
   ]
  },
  {
   "cell_type": "markdown",
   "id": "664f13fd",
   "metadata": {},
   "source": [
    "random.Generator.integers(low, high=None, size=None, dtype=np.int64, endpoint=False)"
   ]
  },
  {
   "cell_type": "markdown",
   "id": "b72aeeee-05e6-4834-944f-2bc8eec4eb0b",
   "metadata": {},
   "source": [
    "The integers function is used for the generation of integers, from a single integer to entire arrays. If only a single number is passed as an argument, the function will generate an integer between 0 and the number entered, with the higher number exclusive. In the example below, as 3 is entered as the argument, the randomly generated integer will be either 0, 1, or 2. "
   ]
  },
  {
   "cell_type": "code",
   "execution_count": 15,
   "id": "524a83ff-53ce-4e71-921a-92dae47df827",
   "metadata": {},
   "outputs": [
    {
     "data": {
      "text/plain": [
       "2"
      ]
     },
     "execution_count": 15,
     "metadata": {},
     "output_type": "execute_result"
    }
   ],
   "source": [
    "# Generate a single integer.\n",
    "\n",
    "random_int = rng.integers(3)\n",
    "random_int"
   ]
  },
  {
   "cell_type": "markdown",
   "id": "aea3516c-9e15-4847-9b98-6dc5d244168a",
   "metadata": {},
   "source": [
    "If we do not enter a number, the code will not work, and will return an error message that at least one argument needs to be given."
   ]
  },
  {
   "cell_type": "code",
   "execution_count": 14,
   "id": "0059fedc-6672-48d4-83e4-6612830d7255",
   "metadata": {},
   "outputs": [
    {
     "ename": "TypeError",
     "evalue": "integers() takes at least 1 positional argument (0 given)",
     "output_type": "error",
     "traceback": [
      "\u001b[1;31m---------------------------------------------------------------------------\u001b[0m",
      "\u001b[1;31mTypeError\u001b[0m                                 Traceback (most recent call last)",
      "\u001b[1;32m<ipython-input-14-903de47dc9f0>\u001b[0m in \u001b[0;36m<module>\u001b[1;34m\u001b[0m\n\u001b[0;32m      1\u001b[0m \u001b[1;31m# This will return an error as no argumentshave been passed.\u001b[0m\u001b[1;33m\u001b[0m\u001b[1;33m\u001b[0m\u001b[1;33m\u001b[0m\u001b[0m\n\u001b[1;32m----> 2\u001b[1;33m \u001b[0mrng\u001b[0m\u001b[1;33m.\u001b[0m\u001b[0mintegers\u001b[0m\u001b[1;33m(\u001b[0m\u001b[1;33m)\u001b[0m\u001b[1;33m\u001b[0m\u001b[1;33m\u001b[0m\u001b[0m\n\u001b[0m",
      "\u001b[1;32m_generator.pyx\u001b[0m in \u001b[0;36mnumpy.random._generator.Generator.integers\u001b[1;34m()\u001b[0m\n",
      "\u001b[1;31mTypeError\u001b[0m: integers() takes at least 1 positional argument (0 given)"
     ]
    }
   ],
   "source": [
    "# This will return an error as no argumentshave been passed.\n",
    "rng.integers()"
   ]
  },
  {
   "cell_type": "markdown",
   "id": "60769269-a537-46c2-9892-e5864d6f17a0",
   "metadata": {},
   "source": [
    "We can generate more than one number by specifying the size. For the below example, entering the size as 20 will result in 20 random intergers being returned in an array."
   ]
  },
  {
   "cell_type": "code",
   "execution_count": 12,
   "id": "cbd55f05-81a8-4854-a205-63ba31997a86",
   "metadata": {},
   "outputs": [
    {
     "data": {
      "text/plain": [
       "array([2, 3, 3, 0, 2, 3, 4, 4, 0, 1, 4, 1, 0, 0, 2, 3, 3, 3, 1, 1],\n",
       "      dtype=int64)"
      ]
     },
     "execution_count": 12,
     "metadata": {},
     "output_type": "execute_result"
    }
   ],
   "source": [
    "# Generates an array of 20 random integers from 0-4 (5 not inclusive).\n",
    "rng.integers(5, size = 20)"
   ]
  },
  {
   "cell_type": "markdown",
   "id": "dcd89273-c8b6-4758-9782-2e3f302a7da5",
   "metadata": {},
   "source": [
    "It is worth noting that running the same code again will lead to a brand new array of 20 random numbers. "
   ]
  },
  {
   "cell_type": "code",
   "execution_count": 19,
   "id": "67fe8e08",
   "metadata": {},
   "outputs": [
    {
     "data": {
      "text/plain": [
       "array([1, 4, 2, 0, 4, 4, 0, 2, 0, 2, 1, 1, 3, 0, 1, 4, 4, 0, 4, 3],\n",
       "      dtype=int64)"
      ]
     },
     "execution_count": 19,
     "metadata": {},
     "output_type": "execute_result"
    }
   ],
   "source": [
    "# Generates an array of 20 random integers from 0-4 (5 not inclusive).\n",
    "random_integers2 = rng.integers(5, size = 20)\n",
    "random_integers2"
   ]
  },
  {
   "cell_type": "markdown",
   "id": "e3bda5eb-388e-44e1-9c17-256ad31be328",
   "metadata": {},
   "source": [
    "While we do not need to assign variables for the code to work, by doing so we can reuse this array further in our code should we wish to do so. However, once the session is closed and the code is rerun at a later time, a new random array will be created and stored to the variable, with the original instance lost. If we want a random array that is consistantly reproducable, this will be dealt with in the section on seeding."
   ]
  },
  {
   "cell_type": "code",
   "execution_count": 20,
   "id": "51811f8a-b8a8-4d86-86cf-d334cdaaf958",
   "metadata": {},
   "outputs": [
    {
     "data": {
      "text/plain": [
       "array([1, 4, 2, 0, 4, 4, 0, 2, 0, 2, 1, 1, 3, 0, 1, 4, 4, 0, 4, 3],\n",
       "      dtype=int64)"
      ]
     },
     "execution_count": 20,
     "metadata": {},
     "output_type": "execute_result"
    }
   ],
   "source": [
    "# Recalling the variable to see the randomly generated array produced earlier\n",
    "random_integers2"
   ]
  },
  {
   "cell_type": "markdown",
   "id": "373cc3bb-d392-450e-9a53-6e77f43791af",
   "metadata": {},
   "source": [
    "We can specify the lowest and highest random numbers that can be selected. In this instance the lowest number is 10, which is inclusive. High being 25 means 24 is the highest number, as high is exclusive. We can also create a multidimensional array by specifying the size. In this instance size=(2,4) returns a 2x4 array"
   ]
  },
  {
   "cell_type": "code",
   "execution_count": 22,
   "id": "9be7070c",
   "metadata": {},
   "outputs": [
    {
     "data": {
      "text/plain": [
       "array([[13, 11, 21, 24],\n",
       "       [15, 15, 18, 15]], dtype=int64)"
      ]
     },
     "execution_count": 22,
     "metadata": {},
     "output_type": "execute_result"
    }
   ],
   "source": [
    "# Generate a random 2x4 array of numbers between 10 and 24.\n",
    "rng.integers(low=10, high=25, size=(2,4))"
   ]
  },
  {
   "cell_type": "markdown",
   "id": "9ed298d1",
   "metadata": {},
   "source": [
    "### **random**"
   ]
  },
  {
   "cell_type": "markdown",
   "id": "43aef6de",
   "metadata": {},
   "source": [
    "random.Generator.random(size=None, dtype=np.float64, out=None)"
   ]
  },
  {
   "cell_type": "markdown",
   "id": "4ccf4625-84bb-426d-9992-1f750726fdc1",
   "metadata": {},
   "source": [
    "The random function is used to return floating point numbers between 0.0 and 1.0."
   ]
  },
  {
   "cell_type": "markdown",
   "id": "45195ad6-7e4d-4d0c-8c66-f3292b41d591",
   "metadata": {},
   "source": [
    "Unlike with the integers function, random will work without passing an argument. If we do this, it will return a single floating point value betweeen 0.0 and 1.0."
   ]
  },
  {
   "cell_type": "code",
   "execution_count": 17,
   "id": "a430790b-6ffa-4459-886f-6efb5a388c4e",
   "metadata": {},
   "outputs": [
    {
     "data": {
      "text/plain": [
       "0.4030250832620421"
      ]
     },
     "execution_count": 17,
     "metadata": {},
     "output_type": "execute_result"
    }
   ],
   "source": [
    "# Generate a single random float between 0.0 and 1.0.\n",
    "rng.random()"
   ]
  },
  {
   "cell_type": "markdown",
   "id": "7f3c57ce-1cfa-4e79-b131-9ba5ec0f991d",
   "metadata": {},
   "source": [
    "If we need more than one random float, we can do this by specifying the size to the amount of random numbers we would like returned."
   ]
  },
  {
   "cell_type": "code",
   "execution_count": 25,
   "id": "5137a780-c968-4814-b3a5-aa0cc8f399e7",
   "metadata": {},
   "outputs": [
    {
     "data": {
      "text/plain": [
       "array([0.42194249, 0.71796406, 0.90449519, 0.3701903 , 0.90314291,\n",
       "       0.18178279, 0.40685708, 0.48607531, 0.70358656, 0.25475897,\n",
       "       0.52509826, 0.66945978, 0.68440788, 0.00480666, 0.70213566,\n",
       "       0.80814029, 0.76746261, 0.97993985, 0.86184173, 0.65302608])"
      ]
     },
     "execution_count": 25,
     "metadata": {},
     "output_type": "execute_result"
    }
   ],
   "source": [
    "# Returns 20 random floats between 0.0 and 1.0\n",
    "rng.random(size = 20)"
   ]
  },
  {
   "cell_type": "markdown",
   "id": "285b8380-8ae6-4f1d-86e3-354cf39962cc",
   "metadata": {},
   "source": [
    "Multidimensional arrays can be generated by adding more than one value to the size argument in parentheses."
   ]
  },
  {
   "cell_type": "code",
   "execution_count": 23,
   "id": "2d4e89b7",
   "metadata": {},
   "outputs": [
    {
     "data": {
      "text/plain": [
       "array([[0.32252695, 0.60957133, 0.92386631, 0.36566726, 0.78803775],\n",
       "       [0.59752522, 0.3206327 , 0.5059239 , 0.49500167, 0.31047462],\n",
       "       [0.78570488, 0.79939203, 0.35872539, 0.11047249, 0.29907112]])"
      ]
     },
     "execution_count": 23,
     "metadata": {},
     "output_type": "execute_result"
    }
   ],
   "source": [
    "# Create 3 random arrays of 5 floats between 0.0 and 1.0\n",
    "rng.random(size = (3, 5))"
   ]
  },
  {
   "cell_type": "markdown",
   "id": "28b61d21-7d5d-4e97-a847-59e0b48ec2c1",
   "metadata": {},
   "source": [
    "Since the power of NumPy is in fast calculations with arrays, we can take advantage of this to create random arrays of values greater than 1.0. The example below multiplies the randomly generated floats by 10 before returning the array to us."
   ]
  },
  {
   "cell_type": "code",
   "execution_count": 24,
   "id": "0f2379e9",
   "metadata": {},
   "outputs": [
    {
     "data": {
      "text/plain": [
       "array([5.8246178 , 4.13706449, 3.47690347, 2.1961966 , 2.29567561])"
      ]
     },
     "execution_count": 24,
     "metadata": {},
     "output_type": "execute_result"
    }
   ],
   "source": [
    "# Multiplying a randomly created array of floats by 10.\n",
    "10 * rng.random(size = 5)"
   ]
  },
  {
   "cell_type": "markdown",
   "id": "61f94151",
   "metadata": {},
   "source": [
    "### **choice**"
   ]
  },
  {
   "cell_type": "markdown",
   "id": "c016e084",
   "metadata": {},
   "source": [
    "random.Generator.choice(a, size=None, replace=True, p=None, axis=0, shuffle=True)"
   ]
  },
  {
   "cell_type": "markdown",
   "id": "c987ff77-5516-4dcc-8e85-4be242bebe42",
   "metadata": {},
   "source": [
    "The choice function takes an array as an argument, and returns random values from that array to the user based on the parameters passed in by the user. Entering a single integer as an arguments means choice will select a random integer in the range of numbers from 0 up to the entered number."
   ]
  },
  {
   "cell_type": "code",
   "execution_count": 30,
   "id": "cca00237-f499-4b03-8504-0367d08c28c0",
   "metadata": {},
   "outputs": [
    {
     "data": {
      "text/plain": [
       "3"
      ]
     },
     "execution_count": 30,
     "metadata": {},
     "output_type": "execute_result"
    }
   ],
   "source": [
    "# Chooses a random number between 0 and 5 to return to the user\n",
    "rng.choice(5)"
   ]
  },
  {
   "cell_type": "markdown",
   "id": "597377af-064c-4be6-9de7-700b7ea73d9b",
   "metadata": {},
   "source": [
    "We can ask choice to return more values by specifying them alongside the initial number. In the below example, (10,3) means the cdode will return 3 numbers between 0 and 10. "
   ]
  },
  {
   "cell_type": "code",
   "execution_count": 29,
   "id": "3681bd76",
   "metadata": {},
   "outputs": [
    {
     "data": {
      "text/plain": [
       "array([2, 9, 5], dtype=int64)"
      ]
     },
     "execution_count": 29,
     "metadata": {},
     "output_type": "execute_result"
    }
   ],
   "source": [
    "# Takes 10 as an input and then selects 3 random ints up to 10\n",
    "rng.choice(10, 3)"
   ]
  },
  {
   "cell_type": "markdown",
   "id": "121e5a76-a584-4b39-8443-c43ff0e64052",
   "metadata": {},
   "source": [
    "In the above examples, the exact same outcome can be achieved by using the integers function. The below examples show where choice differs. For example, we can pass in a list of strings and ask choice to return a random item from that list to us. If we have a list of colours, and then pass that list as an argument using choice, we will get one colour randomly returned. "
   ]
  },
  {
   "cell_type": "code",
   "execution_count": 31,
   "id": "6adfb758",
   "metadata": {},
   "outputs": [
    {
     "data": {
      "text/plain": [
       "'blue'"
      ]
     },
     "execution_count": 31,
     "metadata": {},
     "output_type": "execute_result"
    }
   ],
   "source": [
    "# A list of colours\n",
    "colours = [\"red\", \"blue\", \"green\", \"black\", \"yellow\"]\n",
    "\n",
    "# Using choice to randomly pick a colour\n",
    "rng.choice(colours)"
   ]
  },
  {
   "cell_type": "markdown",
   "id": "29dc07ee-37ef-459d-852f-689a827af73b",
   "metadata": {},
   "source": [
    "We can again get more than one value returned by specifying the size. By default, when selecting multiple items from a list, choice will replace the item chosen each time. That is to say, if we have 5 items in a list and choice picks one, the chosen item will be returned to the list where it can potentially be chosen again. If we don't want this to happen, we can set replacement to false. This means that when something is randomly chosen from our 5 item list, the chosen item will not be returned and cannot be selected again, meaning only one of the remaining 4 items from the list can be chosen. "
   ]
  },
  {
   "cell_type": "code",
   "execution_count": 32,
   "id": "f0ea7bc4-8197-4b65-a614-9a12bd64c13b",
   "metadata": {},
   "outputs": [
    {
     "data": {
      "text/plain": [
       "array(['red', 'yellow', 'blue'], dtype='<U6')"
      ]
     },
     "execution_count": 32,
     "metadata": {},
     "output_type": "execute_result"
    }
   ],
   "source": [
    "# Selecting 3 random colours without replacement. \n",
    "rng.choice(colours, size= 3, replace=False)"
   ]
  },
  {
   "cell_type": "markdown",
   "id": "008f38c8-ecc3-4ded-9d57-bd0e425a986b",
   "metadata": {},
   "source": [
    "We can add probabilitys to bias the outcome chosen in certain directions. With our list of colors, we can bias the outcome by adding an array of values with the same amount of values as there are items in our list, which in this instance is 5. The values of p should add to 1. With the last value being the highest at 0., this means the last item in our list (yellow), is more likely to be randomly chosen, followed by black with a value of 0.3. The remaining items may still be chosen, but will not be chosen as frquently were the code run multiple times. "
   ]
  },
  {
   "cell_type": "code",
   "execution_count": 33,
   "id": "b0cd33c4",
   "metadata": {},
   "outputs": [
    {
     "data": {
      "text/plain": [
       "array(['red', 'yellow'], dtype='<U6')"
      ]
     },
     "execution_count": 33,
     "metadata": {},
     "output_type": "execute_result"
    }
   ],
   "source": [
    "# Select two colours randomly with replacement and a biased outcome\n",
    "rng.choice(colours, size=2, p = np.array([0.1, 0.1, 0.1, 0.3, 0.4]))"
   ]
  },
  {
   "cell_type": "markdown",
   "id": "27b13d59",
   "metadata": {},
   "source": [
    "### **bytes**"
   ]
  },
  {
   "cell_type": "markdown",
   "id": "414bd523",
   "metadata": {},
   "source": [
    "random.Generator.bytes(length)"
   ]
  },
  {
   "cell_type": "markdown",
   "id": "27200812-348c-4e22-a0a2-b1ef5889c95f",
   "metadata": {},
   "source": [
    "The bytes function only takes a single argument, and returns random bytes of the length passed. Random byte generation can be used in cryptography. However, the NumPy documentation warns against using the random package for security purposes[x]."
   ]
  },
  {
   "cell_type": "code",
   "execution_count": 34,
   "id": "de2cc869",
   "metadata": {},
   "outputs": [
    {
     "data": {
      "text/plain": [
       "b'\\xb7\\xb3\\x85\\xdf2'"
      ]
     },
     "execution_count": 34,
     "metadata": {},
     "output_type": "execute_result"
    }
   ],
   "source": [
    "# Return 5 random bytes\n",
    "rng.bytes(5)"
   ]
  },
  {
   "cell_type": "markdown",
   "id": "3607c364",
   "metadata": {},
   "source": [
    "## \"Permutations\" functions\n",
    "---"
   ]
  },
  {
   "cell_type": "markdown",
   "id": "78b6fa81-f64e-40a2-bf42-5bbecf803bcd",
   "metadata": {},
   "source": [
    "The three Permutation methods can all be used for the random rearranging of items within an array."
   ]
  },
  {
   "cell_type": "markdown",
   "id": "02af79ca",
   "metadata": {},
   "source": [
    "### **shuffle**"
   ]
  },
  {
   "cell_type": "markdown",
   "id": "7d40d4c6",
   "metadata": {},
   "source": [
    "random.Generator.shuffle(x, axis=0)"
   ]
  },
  {
   "cell_type": "markdown",
   "id": "ebab81a3-2d14-49ff-975f-4f052c9133c9",
   "metadata": {},
   "source": [
    "The shuffle function takes in an a sequence or an array and returns everything in a new random order. Below we will create a variable containing the integers from 0-9 that we will then shuffle."
   ]
  },
  {
   "cell_type": "code",
   "execution_count": 36,
   "id": "bb7493e9",
   "metadata": {},
   "outputs": [
    {
     "data": {
      "text/plain": [
       "array([0, 1, 2, 3, 4, 5, 6, 7, 8, 9])"
      ]
     },
     "execution_count": 36,
     "metadata": {},
     "output_type": "execute_result"
    }
   ],
   "source": [
    "# Assign the range 0-9 (10 not inclusive) to the variable digits\n",
    "digits = np.arange(10)\n",
    "digits"
   ]
  },
  {
   "cell_type": "code",
   "execution_count": 37,
   "id": "a8dc1311-c236-45c3-a819-6727e2d80a28",
   "metadata": {},
   "outputs": [],
   "source": [
    "# Shuffle the array digits\n",
    "rng.shuffle(digits)"
   ]
  },
  {
   "cell_type": "markdown",
   "id": "c2be99a9-5ced-41c4-8bc0-fb4804f56def",
   "metadata": {},
   "source": [
    "Of note is that the shuffle function will alter the order of an array in place, which changes the contents of a variable. This means in this instance that the variable digits will no longer point to the array ([0, 1, 2, 3, 4, 5, 6, 7, 8, 9]). Rather, it will return the order they were shuffled into."
   ]
  },
  {
   "cell_type": "code",
   "execution_count": 38,
   "id": "08e9417d",
   "metadata": {},
   "outputs": [
    {
     "data": {
      "text/plain": [
       "array([7, 3, 0, 8, 9, 6, 2, 1, 4, 5])"
      ]
     },
     "execution_count": 38,
     "metadata": {},
     "output_type": "execute_result"
    }
   ],
   "source": [
    "# Returnn the shuffled array\n",
    "digits"
   ]
  },
  {
   "cell_type": "markdown",
   "id": "d08c2f7d-1b66-4880-9675-f2024da2f700",
   "metadata": {},
   "source": [
    "Shuffle can also be used to randomly reorder a list containing strings. "
   ]
  },
  {
   "cell_type": "code",
   "execution_count": 44,
   "id": "2687ab4c",
   "metadata": {},
   "outputs": [
    {
     "data": {
      "text/plain": [
       "['one', 'two', 'three', 'four', 'five', 'six', 'seven', 'eight', 'nine']"
      ]
     },
     "execution_count": 44,
     "metadata": {},
     "output_type": "execute_result"
    }
   ],
   "source": [
    "# Create a list of strings for the digits 0-9\n",
    "string_digits = [\"one\", \"two\", \"three\", \"four\", \"five\", \"six\", \"seven\", \"eight\", \"nine\"]\n",
    "string_digits"
   ]
  },
  {
   "cell_type": "code",
   "execution_count": 46,
   "id": "8569804c",
   "metadata": {},
   "outputs": [
    {
     "data": {
      "text/plain": [
       "['four', 'two', 'five', 'eight', 'three', 'one', 'six', 'seven', 'nine']"
      ]
     },
     "execution_count": 46,
     "metadata": {},
     "output_type": "execute_result"
    }
   ],
   "source": [
    "# Shuffle the list of strings and return it\n",
    "rng.shuffle(string_digits)\n",
    "string_digits"
   ]
  },
  {
   "cell_type": "markdown",
   "id": "b6d8cf5e-c0b7-4700-b3ad-f80596f00648",
   "metadata": {},
   "source": [
    "Shuffle can also be used to randomly reorder arrays, but it should be noted that the reordering will only take place along one dimension at a time. This means that shuffle can change the order of a row or a column, but it will not shuffle an item to both a new row and a new column at the same time."
   ]
  },
  {
   "cell_type": "code",
   "execution_count": 47,
   "id": "ca3d6b3e",
   "metadata": {},
   "outputs": [
    {
     "data": {
      "text/plain": [
       "array([[0, 1, 2],\n",
       "       [3, 4, 5],\n",
       "       [6, 7, 8]])"
      ]
     },
     "execution_count": 47,
     "metadata": {},
     "output_type": "execute_result"
    }
   ],
   "source": [
    "# Create a 3x3 array containing 0-8\n",
    "three_by_three = np.arange(9).reshape(3, 3)\n",
    "three_by_three"
   ]
  },
  {
   "cell_type": "markdown",
   "id": "fb4ce414-e306-4618-9812-25980f0f6ed5",
   "metadata": {},
   "source": [
    "By default, using shuffle on an array will rearrange the position of rows but will leave the items from each row in the original order"
   ]
  },
  {
   "cell_type": "code",
   "execution_count": 48,
   "id": "7d0f3b86",
   "metadata": {},
   "outputs": [
    {
     "data": {
      "text/plain": [
       "array([[6, 7, 8],\n",
       "       [3, 4, 5],\n",
       "       [0, 1, 2]])"
      ]
     },
     "execution_count": 48,
     "metadata": {},
     "output_type": "execute_result"
    }
   ],
   "source": [
    "rng.shuffle(three_by_three)\n",
    "three_by_three"
   ]
  },
  {
   "cell_type": "markdown",
   "id": "46c70c71-1348-4f05-95ee-09bb5be95833",
   "metadata": {},
   "source": [
    "However, if we set the axis to 1 as an argument, shuffle will instead change the order of the columns rather than rows."
   ]
  },
  {
   "cell_type": "code",
   "execution_count": 50,
   "id": "e48d6e67",
   "metadata": {},
   "outputs": [
    {
     "data": {
      "text/plain": [
       "array([[6, 3, 6, 2, 5],\n",
       "       [6, 4, 3, 4, 6],\n",
       "       [3, 2, 5, 3, 1],\n",
       "       [1, 1, 5, 1, 1],\n",
       "       [3, 3, 2, 4, 6]], dtype=int64)"
      ]
     },
     "execution_count": 50,
     "metadata": {},
     "output_type": "execute_result"
    }
   ],
   "source": [
    "# Generating a random 5x5 array\n",
    "five_by_five = rng.integers(low=1, high=7, size = (5,5))\n",
    "five_by_five"
   ]
  },
  {
   "cell_type": "code",
   "execution_count": 51,
   "id": "140f3eb8",
   "metadata": {},
   "outputs": [
    {
     "data": {
      "text/plain": [
       "array([[3, 2, 6, 5, 6],\n",
       "       [4, 4, 3, 6, 6],\n",
       "       [2, 3, 5, 1, 3],\n",
       "       [1, 1, 5, 1, 1],\n",
       "       [3, 4, 2, 6, 3]], dtype=int64)"
      ]
     },
     "execution_count": 51,
     "metadata": {},
     "output_type": "execute_result"
    }
   ],
   "source": [
    "# Randomly shuffle the order of the 5x5's columns\n",
    "rng.shuffle(five_by_five, axis=1)\n",
    "five_by_five"
   ]
  },
  {
   "cell_type": "markdown",
   "id": "fa6c3926",
   "metadata": {},
   "source": [
    "### **permutation**"
   ]
  },
  {
   "cell_type": "markdown",
   "id": "20ab72a1",
   "metadata": {},
   "source": [
    "random.Generator.permutation(x, axis=0)"
   ]
  },
  {
   "cell_type": "markdown",
   "id": "2e6a46e1-eeaa-4a08-bb69-d7a906b88c03",
   "metadata": {},
   "source": [
    "The permutation function will also return the entire contents of an array or list that has been passed to it in a new random order, but unlike shuffle, permutation will leave the original array intact and unchanged."
   ]
  },
  {
   "cell_type": "code",
   "execution_count": 24,
   "id": "4df04e33",
   "metadata": {},
   "outputs": [
    {
     "data": {
      "text/plain": [
       "array([0, 1, 2, 3, 4, 5, 6, 7, 8, 9])"
      ]
     },
     "execution_count": 24,
     "metadata": {},
     "output_type": "execute_result"
    }
   ],
   "source": [
    "# Assign the range 0-9 (10 not inclusive) to the variable digits2\n",
    "digits2 = np.arange(10)\n",
    "digits2"
   ]
  },
  {
   "cell_type": "code",
   "execution_count": 25,
   "id": "ae578d95",
   "metadata": {},
   "outputs": [
    {
     "data": {
      "text/plain": [
       "array([2, 9, 6, 7, 1, 3, 5, 4, 8, 0])"
      ]
     },
     "execution_count": 25,
     "metadata": {},
     "output_type": "execute_result"
    }
   ],
   "source": [
    "# Return the digits list in a new, random order\n",
    "rng.permutation(digits2)"
   ]
  },
  {
   "cell_type": "code",
   "execution_count": 26,
   "id": "68082ad8",
   "metadata": {},
   "outputs": [
    {
     "data": {
      "text/plain": [
       "array([0, 1, 2, 3, 4, 5, 6, 7, 8, 9])"
      ]
     },
     "execution_count": 26,
     "metadata": {},
     "output_type": "execute_result"
    }
   ],
   "source": [
    "# The original order of the variable digits2 is unchanged\n",
    "digits2"
   ]
  },
  {
   "cell_type": "markdown",
   "id": "1dc2886a-c26e-48db-a7f5-9373d9c52681",
   "metadata": {},
   "source": [
    "By default, permutation will rearrange multidimensional arrays in a similar manner to shuffle - it will move entire rows to a new position, but leave the order within each row unchanged."
   ]
  },
  {
   "cell_type": "code",
   "execution_count": 52,
   "id": "1d77197f",
   "metadata": {},
   "outputs": [
    {
     "data": {
      "text/plain": [
       "array([[ 0,  1,  2,  3,  4,  5],\n",
       "       [ 6,  7,  8,  9, 10, 11],\n",
       "       [12, 13, 14, 15, 16, 17],\n",
       "       [18, 19, 20, 21, 22, 23],\n",
       "       [24, 25, 26, 27, 28, 29],\n",
       "       [30, 31, 32, 33, 34, 35]])"
      ]
     },
     "execution_count": 52,
     "metadata": {},
     "output_type": "execute_result"
    }
   ],
   "source": [
    "# A 6x6 array\n",
    "six_by_six = np.arange(36).reshape(6,6)\n",
    "six_by_six"
   ]
  },
  {
   "cell_type": "code",
   "execution_count": 53,
   "id": "59d2e80d-dd99-41ed-af2d-6ffeea3adf82",
   "metadata": {},
   "outputs": [
    {
     "data": {
      "text/plain": [
       "array([[24, 25, 26, 27, 28, 29],\n",
       "       [30, 31, 32, 33, 34, 35],\n",
       "       [12, 13, 14, 15, 16, 17],\n",
       "       [ 0,  1,  2,  3,  4,  5],\n",
       "       [ 6,  7,  8,  9, 10, 11],\n",
       "       [18, 19, 20, 21, 22, 23]])"
      ]
     },
     "execution_count": 53,
     "metadata": {},
     "output_type": "execute_result"
    }
   ],
   "source": [
    "# Randomly reorder the 6x6 array with permutation.\n",
    "rng.permutation(six_by_six)"
   ]
  },
  {
   "cell_type": "markdown",
   "id": "1143d5e2-7711-4e4c-9715-662dd8787876",
   "metadata": {},
   "source": [
    "Permutation performs different to shuffle when axis is set to 1, however. While setiing to axis to 1 when using shuffle would move entre columns, in permutation it will instead shuffle the contents within each row, but leave each row in its original position. "
   ]
  },
  {
   "cell_type": "code",
   "execution_count": 90,
   "id": "c6a4e56c-6e06-49a3-bddb-676db6dd2d40",
   "metadata": {},
   "outputs": [
    {
     "data": {
      "text/plain": [
       "array([[ 5,  2,  3,  4,  0,  1],\n",
       "       [11,  8,  9, 10,  6,  7],\n",
       "       [17, 14, 15, 16, 12, 13],\n",
       "       [23, 20, 21, 22, 18, 19],\n",
       "       [29, 26, 27, 28, 24, 25],\n",
       "       [35, 32, 33, 34, 30, 31]])"
      ]
     },
     "execution_count": 90,
     "metadata": {},
     "output_type": "execute_result"
    }
   ],
   "source": [
    "# Shuffle the order of the contents of each row in the 6x6 array\n",
    "rng.permutation(six_by_six, axis=1)"
   ]
  },
  {
   "cell_type": "markdown",
   "id": "d30b4142",
   "metadata": {},
   "source": [
    "### **permuted**"
   ]
  },
  {
   "cell_type": "markdown",
   "id": "7b58c3be",
   "metadata": {},
   "source": [
    "random.Generator.permuted(x, axis=None, out=None)"
   ]
  },
  {
   "cell_type": "markdown",
   "id": "d4ad41ae-44e3-4a3f-96a4-7d6621161f81",
   "metadata": {},
   "source": [
    "The permuted function is a more recent addition, as of numpy 1.20[x]. Permuted is more flexible than either shuffle or permutation. It can be used to rearrange content in-place, like with shuffle, or create a new rearranged copy, like with permutation. By only passing in an array, permuted will leave the original array intact, as permutations does."
   ]
  },
  {
   "cell_type": "code",
   "execution_count": 58,
   "id": "2ceaac73",
   "metadata": {},
   "outputs": [
    {
     "data": {
      "text/plain": [
       "array([[ -5,  -3,  -5,  -9],\n",
       "       [-18, -20, -13,  -5],\n",
       "       [-18, -19,  -9,  -2],\n",
       "       [ -6, -19,  -8, -16]], dtype=int64)"
      ]
     },
     "execution_count": 58,
     "metadata": {},
     "output_type": "execute_result"
    }
   ],
   "source": [
    "# Generate a random 4x4 array.\n",
    "# Negative random numbers can also be generated.\n",
    "four_by_four = rng.integers(low=-20, high=-1, size = (4,4))\n",
    "four_by_four"
   ]
  },
  {
   "cell_type": "code",
   "execution_count": 59,
   "id": "fa79a853-8a61-49e5-bf5f-b16e1d8ae83b",
   "metadata": {},
   "outputs": [
    {
     "data": {
      "text/plain": [
       "array([[ -9, -18,  -3,  -5],\n",
       "       [-18, -19, -20,  -8],\n",
       "       [ -5,  -5,  -2, -13],\n",
       "       [ -9, -19, -16,  -6]], dtype=int64)"
      ]
     },
     "execution_count": 59,
     "metadata": {},
     "output_type": "execute_result"
    }
   ],
   "source": [
    "# Reorder the 4x4 array.\n",
    "rng.permuted(four_by_four)"
   ]
  },
  {
   "cell_type": "code",
   "execution_count": 68,
   "id": "be3b9857-825a-4aa5-9d99-affb2d763b37",
   "metadata": {},
   "outputs": [
    {
     "data": {
      "text/plain": [
       "array([[ -5,  -3,  -5,  -9],\n",
       "       [-18, -20, -13,  -5],\n",
       "       [-18, -19,  -9,  -2],\n",
       "       [ -6, -19,  -8, -16]], dtype=int64)"
      ]
     },
     "execution_count": 68,
     "metadata": {},
     "output_type": "execute_result"
    }
   ],
   "source": [
    "# Calling 4x4 to show the original is unchanged.\n",
    "four_by_four"
   ]
  },
  {
   "cell_type": "markdown",
   "id": "fa57ac48-b092-410a-ad68-1dda91007e3b",
   "metadata": {},
   "source": [
    "We can compare and contrast shuffle, permutation, and permuted further by reusing the 3x3 array example from before."
   ]
  },
  {
   "cell_type": "code",
   "execution_count": 69,
   "id": "ca998195-44f7-4996-b55b-710727b02533",
   "metadata": {},
   "outputs": [
    {
     "data": {
      "text/plain": [
       "array([[5, 6, 0],\n",
       "       [7, 1, 8],\n",
       "       [2, 4, 3]])"
      ]
     },
     "execution_count": 69,
     "metadata": {},
     "output_type": "execute_result"
    }
   ],
   "source": [
    "# The 3x3 array of 0-9 that was randomly reordered using shuffle.\n",
    "three_by_three"
   ]
  },
  {
   "cell_type": "markdown",
   "id": "c113a323-e4d3-4d49-b52b-fc1a0cff4daa",
   "metadata": {},
   "source": [
    "Permuted will shuffle the values within each row, but leave the rows in place if we set axis to 1. This is similar to using permutation with axis set to 1"
   ]
  },
  {
   "cell_type": "code",
   "execution_count": 70,
   "id": "86c28e41",
   "metadata": {},
   "outputs": [
    {
     "data": {
      "text/plain": [
       "array([[5, 6, 0],\n",
       "       [8, 1, 7],\n",
       "       [2, 4, 3]])"
      ]
     },
     "execution_count": 70,
     "metadata": {},
     "output_type": "execute_result"
    }
   ],
   "source": [
    "# Use permuted to reorder the 3x3 array.\n",
    "permuted_three_by_three = rng.permuted(three_by_three, axis=1)\n",
    "permuted_three_by_three"
   ]
  },
  {
   "cell_type": "markdown",
   "id": "c3676161-20eb-44a8-8174-430982097913",
   "metadata": {},
   "source": [
    "Permuted returned a copy, leaving the original array reordered by shuffle unchanged"
   ]
  },
  {
   "cell_type": "code",
   "execution_count": 71,
   "id": "7b16a934",
   "metadata": {},
   "outputs": [
    {
     "data": {
      "text/plain": [
       "array([[5, 6, 0],\n",
       "       [7, 1, 8],\n",
       "       [2, 4, 3]])"
      ]
     },
     "execution_count": 71,
     "metadata": {},
     "output_type": "execute_result"
    }
   ],
   "source": [
    "# Recalling the shuffled 3x3 array\n",
    "three_by_three"
   ]
  },
  {
   "cell_type": "markdown",
   "id": "1f0c9a11-6ed0-44b4-ab9a-a45c60b83593",
   "metadata": {},
   "source": [
    "However, we can use permuted to overwrite the original array by passing the variable of the original array as an argument using out. If we don't pass in an axis argument, then the output withh be rearranged across both columns and rows, which neither shuffle nor permutation can do."
   ]
  },
  {
   "cell_type": "code",
   "execution_count": 72,
   "id": "1813c670",
   "metadata": {},
   "outputs": [],
   "source": [
    "# Using permuted to change the content of the original 3x3 array\n",
    "permuted_three_by_three = rng.permuted(three_by_three, out=three_by_three)"
   ]
  },
  {
   "cell_type": "markdown",
   "id": "146a9b3b-bb2c-459b-bf6f-27d36c58fc38",
   "metadata": {},
   "source": [
    "We can show that the new permuted 3x3 array and the original now have the same content."
   ]
  },
  {
   "cell_type": "code",
   "execution_count": 73,
   "id": "0178db52",
   "metadata": {},
   "outputs": [
    {
     "data": {
      "text/plain": [
       "array([[5, 4, 2],\n",
       "       [7, 3, 0],\n",
       "       [1, 8, 6]])"
      ]
     },
     "execution_count": 73,
     "metadata": {},
     "output_type": "execute_result"
    }
   ],
   "source": [
    "# Calling the 3x3 array\n",
    "three_by_three"
   ]
  },
  {
   "cell_type": "code",
   "execution_count": 76,
   "id": "84e743db",
   "metadata": {},
   "outputs": [
    {
     "data": {
      "text/plain": [
       "array([[5, 4, 2],\n",
       "       [7, 3, 0],\n",
       "       [1, 8, 6]])"
      ]
     },
     "execution_count": 76,
     "metadata": {},
     "output_type": "execute_result"
    }
   ],
   "source": [
    "# Calling the permuted 3x3 array\n",
    "permuted_three_by_three"
   ]
  },
  {
   "cell_type": "code",
   "execution_count": 77,
   "id": "36de1af1",
   "metadata": {},
   "outputs": [
    {
     "data": {
      "text/plain": [
       "True"
      ]
     },
     "execution_count": 77,
     "metadata": {},
     "output_type": "execute_result"
    }
   ],
   "source": [
    "# Show that the two 3x3 arrays have the same content\n",
    "three_by_three is permuted_three_by_three"
   ]
  },
  {
   "cell_type": "markdown",
   "id": "f666d67b",
   "metadata": {},
   "source": [
    "## Distributions\n",
    "---"
   ]
  },
  {
   "cell_type": "code",
   "execution_count": null,
   "id": "d139b136",
   "metadata": {},
   "outputs": [],
   "source": []
  },
  {
   "cell_type": "code",
   "execution_count": null,
   "id": "42cc78e6",
   "metadata": {},
   "outputs": [],
   "source": []
  },
  {
   "cell_type": "code",
   "execution_count": null,
   "id": "aedb090c",
   "metadata": {},
   "outputs": [],
   "source": []
  },
  {
   "cell_type": "markdown",
   "id": "84f4663f",
   "metadata": {},
   "source": [
    "### **binomial**"
   ]
  },
  {
   "cell_type": "markdown",
   "id": "bb170eff",
   "metadata": {},
   "source": [
    "random.Generator.binomial(n, p, size=None)"
   ]
  },
  {
   "cell_type": "code",
   "execution_count": 37,
   "id": "dfdf8aa9",
   "metadata": {},
   "outputs": [],
   "source": [
    "# A binomial distribution tracks trials and records a binary success/failure \n",
    "# outcome of trials. "
   ]
  },
  {
   "cell_type": "code",
   "execution_count": null,
   "id": "8f74cc43",
   "metadata": {},
   "outputs": [],
   "source": []
  },
  {
   "cell_type": "code",
   "execution_count": 38,
   "id": "b0fe52f3",
   "metadata": {},
   "outputs": [],
   "source": [
    "# n is the number of trials \n",
    "n = 20\n",
    "\n",
    "# p = probability of success, which must be between 0 and 1. \n",
    "# For example, a fair coin has a 50/50 change of being either heads of tails\n",
    "# Therefore to simulate a fair coin, p = 0.5\n",
    "p = 0.5"
   ]
  },
  {
   "cell_type": "code",
   "execution_count": 39,
   "id": "4c653457",
   "metadata": {},
   "outputs": [],
   "source": [
    "# The third argument is the number of tests. \n",
    "# That means in this example, a coin is flipped 20 times\n",
    "# And there is 1000 instances of this\n",
    "coin_flip = rng.binomial(n, p, 100)"
   ]
  },
  {
   "cell_type": "code",
   "execution_count": 40,
   "id": "13222970",
   "metadata": {},
   "outputs": [
    {
     "data": {
      "text/plain": [
       "array([10, 12,  8,  9,  6, 13,  7, 11, 15,  8, 12, 11, 11, 12,  9, 13, 15,\n",
       "       10,  7,  7, 12, 11, 11,  9, 14, 12,  8, 11,  9, 15, 10, 11, 12, 10,\n",
       "       10, 12, 10,  9,  6, 11,  9, 10, 10, 13, 11,  8,  9,  7,  9,  8,  9,\n",
       "        4, 13,  9,  8,  9, 12,  9,  5, 10, 11, 10, 10, 12, 10, 13, 12, 10,\n",
       "        8,  5, 11, 12,  9,  8,  9, 15, 12, 10, 12,  6,  7, 13, 12,  7, 12,\n",
       "        6,  5,  9,  8,  7, 11, 11, 10, 10,  9,  8, 12, 11, 11,  7],\n",
       "      dtype=int64)"
      ]
     },
     "execution_count": 40,
     "metadata": {},
     "output_type": "execute_result"
    }
   ],
   "source": [
    "# We can take the resulting array as giving us the number of heads\n",
    "# After every 20 coin flips\n",
    "coin_flip"
   ]
  },
  {
   "cell_type": "code",
   "execution_count": null,
   "id": "ff671708",
   "metadata": {},
   "outputs": [],
   "source": []
  },
  {
   "cell_type": "code",
   "execution_count": 67,
   "id": "003feb59",
   "metadata": {},
   "outputs": [
    {
     "data": {
      "text/plain": [
       "(array([ 4.,  4.,  8., 10., 16., 16., 15., 16.,  6.,  5.]),\n",
       " array([ 4. ,  5.1,  6.2,  7.3,  8.4,  9.5, 10.6, 11.7, 12.8, 13.9, 15. ]),\n",
       " <BarContainer object of 10 artists>)"
      ]
     },
     "execution_count": 67,
     "metadata": {},
     "output_type": "execute_result"
    },
    {
     "data": {
      "image/png": "[encoded data removed]",
      "text/plain": [
       "<Figure size 432x288 with 1 Axes>"
      ]
     },
     "metadata": {
      "needs_background": "light"
     },
     "output_type": "display_data"
    }
   ],
   "source": [
    "# Plotting the randomly generated data\n",
    "plt.hist(coin_flip, bins=10)"
   ]
  },
  {
   "cell_type": "code",
   "execution_count": null,
   "id": "32aa98ee",
   "metadata": {},
   "outputs": [],
   "source": []
  },
  {
   "cell_type": "markdown",
   "id": "d0d5c445",
   "metadata": {},
   "source": [
    "### **normal**"
   ]
  },
  {
   "cell_type": "markdown",
   "id": "14fb095f",
   "metadata": {},
   "source": [
    "random.Generator.normal(loc=0.0, scale=1.0, size=None)"
   ]
  },
  {
   "cell_type": "code",
   "execution_count": null,
   "id": "a370521a",
   "metadata": {},
   "outputs": [],
   "source": []
  },
  {
   "cell_type": "code",
   "execution_count": 42,
   "id": "81b81782",
   "metadata": {},
   "outputs": [],
   "source": [
    "\n",
    "# Mean\n",
    "mu = 100\n",
    "\n",
    "#Standard Deviation\n",
    "sigma = 15"
   ]
  },
  {
   "cell_type": "code",
   "execution_count": 43,
   "id": "d393b434",
   "metadata": {},
   "outputs": [],
   "source": [
    "# A random example of 100 samples from a normal distribution\n",
    "normal = np.random.default_rng().normal(mu, sigma, 100)"
   ]
  },
  {
   "cell_type": "code",
   "execution_count": 44,
   "id": "122ef9e2",
   "metadata": {},
   "outputs": [
    {
     "data": {
      "text/plain": [
       "array([ 94.34010987, 108.09248559, 115.06812219,  92.30900731,\n",
       "       106.99199726,  99.11550455,  96.34071019, 122.56008391,\n",
       "        85.91363276, 105.9526565 ,  72.39894391,  72.14381639,\n",
       "       123.57413036,  90.92037204,  88.54433761,  87.79022941,\n",
       "        84.66742007, 117.55367729, 111.55800485,  92.34502784,\n",
       "       120.59264625,  97.47280601,  83.37335412, 112.77690783,\n",
       "       106.10380144,  91.06081623,  94.78983752, 110.51551979,\n",
       "       112.78021562, 133.34773924, 112.45059795, 100.90591921,\n",
       "       115.14421637, 113.81733555, 103.07192205, 102.99249111,\n",
       "       102.44743894, 129.16302527, 120.21460284, 101.84428898,\n",
       "       101.63578826,  83.27918514,  98.02163036,  93.27284111,\n",
       "        82.43743184,  82.80579377,  97.89070615, 110.00967504,\n",
       "        84.36291204,  92.84530932, 125.76624008, 102.63929233,\n",
       "       107.0599853 , 120.4125293 ,  94.34052273, 106.18443561,\n",
       "        60.16835263,  97.96626465,  90.30057219, 123.36764781,\n",
       "       112.00938129, 123.21507356,  96.98140833, 120.66366342,\n",
       "       112.34149049,  83.12179252, 116.23567969,  77.89584061,\n",
       "       105.55351094, 113.67356503,  95.09662853,  81.45715306,\n",
       "        89.46606323,  95.68342279,  77.82093592, 100.40547763,\n",
       "       104.18054136, 112.81722352, 110.04220081, 102.03283447,\n",
       "        84.10650725,  69.39949233, 103.52481639,  99.94811968,\n",
       "        93.86465092,  86.72380884,  91.92152434, 133.95542112,\n",
       "        99.19410002, 106.30900005,  97.84267669,  77.02206894,\n",
       "        97.03861405, 125.27212477, 116.26382302, 102.05271551,\n",
       "       100.20536389,  90.2849341 ,  98.23058776,  80.77541428])"
      ]
     },
     "execution_count": 44,
     "metadata": {},
     "output_type": "execute_result"
    }
   ],
   "source": [
    "normal"
   ]
  },
  {
   "cell_type": "code",
   "execution_count": 66,
   "id": "c51edf16",
   "metadata": {},
   "outputs": [
    {
     "data": {
      "text/plain": [
       "(array([1., 0., 0., 0., 0., 0., 1., 0., 2., 0., 0., 2., 1., 1., 1., 5., 3.,\n",
       "        2., 1., 2., 4., 3., 3., 4., 4., 6., 3., 3., 6., 4., 1., 6., 1., 2.,\n",
       "        2., 6., 2., 3., 2., 0., 4., 0., 4., 0., 2., 0., 1., 0., 0., 2.]),\n",
       " array([ 60.16835263,  61.644094  ,  63.11983537,  64.59557674,\n",
       "         66.07131811,  67.54705948,  69.02280085,  70.49854222,\n",
       "         71.97428359,  73.45002496,  74.92576633,  76.4015077 ,\n",
       "         77.87724907,  79.35299044,  80.82873181,  82.30447318,\n",
       "         83.78021455,  85.25595592,  86.73169729,  88.20743866,\n",
       "         89.68318003,  91.1589214 ,  92.63466277,  94.11040414,\n",
       "         95.58614551,  97.06188688,  98.53762825, 100.01336962,\n",
       "        101.48911099, 102.96485236, 104.44059373, 105.9163351 ,\n",
       "        107.39207647, 108.86781784, 110.34355921, 111.81930058,\n",
       "        113.29504195, 114.77078332, 116.24652469, 117.72226605,\n",
       "        119.19800742, 120.67374879, 122.14949016, 123.62523153,\n",
       "        125.1009729 , 126.57671427, 128.05245564, 129.52819701,\n",
       "        131.00393838, 132.47967975, 133.95542112]),\n",
       " <BarContainer object of 50 artists>)"
      ]
     },
     "execution_count": 66,
     "metadata": {},
     "output_type": "execute_result"
    },
    {
     "data": {
      "image/png": "[encoded data removed]",
      "text/plain": [
       "<Figure size 432x288 with 1 Axes>"
      ]
     },
     "metadata": {
      "needs_background": "light"
     },
     "output_type": "display_data"
    }
   ],
   "source": [
    "# While the smaller number of samples uaually are at the extremes, \n",
    "# a smaller sample size generally leads to a plot that only vaguely resembles a bell shaped curve\n",
    "plt.hist(normal, bins = 50)"
   ]
  },
  {
   "cell_type": "markdown",
   "id": "aca0a2f6-1967-4749-a83f-9cbf53045acb",
   "metadata": {},
   "source": [
    "##### Repeating the random generation with a higher sample size of 10000\n",
    "normal_higher = np.random.default_rng().normal(mu, sigma, 10000)"
   ]
  },
  {
   "cell_type": "code",
   "execution_count": 65,
   "id": "e38b6952",
   "metadata": {},
   "outputs": [
    {
     "data": {
      "text/plain": [
       "(array([  2.,   2.,   3.,   7.,  10.,  10.,  23.,  21.,  34.,  43.,  51.,\n",
       "         86., 114., 138., 193., 227., 262., 357., 387., 419., 465., 550.,\n",
       "        527., 589., 553., 522., 542., 539., 514., 467., 431., 346., 316.,\n",
       "        280., 235., 186., 143.,  98.,  85.,  70.,  47.,  38.,  20.,  11.,\n",
       "         13.,  13.,   7.,   1.,   1.,   2.]),\n",
       " array([ 46.12303377,  48.27940065,  50.43576754,  52.59213442,\n",
       "         54.74850131,  56.9048682 ,  59.06123508,  61.21760197,\n",
       "         63.37396886,  65.53033574,  67.68670263,  69.84306952,\n",
       "         71.9994364 ,  74.15580329,  76.31217018,  78.46853706,\n",
       "         80.62490395,  82.78127083,  84.93763772,  87.09400461,\n",
       "         89.25037149,  91.40673838,  93.56310527,  95.71947215,\n",
       "         97.87583904, 100.03220593, 102.18857281, 104.3449397 ,\n",
       "        106.50130659, 108.65767347, 110.81404036, 112.97040724,\n",
       "        115.12677413, 117.28314102, 119.4395079 , 121.59587479,\n",
       "        123.75224168, 125.90860856, 128.06497545, 130.22134234,\n",
       "        132.37770922, 134.53407611, 136.690443  , 138.84680988,\n",
       "        141.00317677, 143.15954365, 145.31591054, 147.47227743,\n",
       "        149.62864431, 151.7850112 , 153.94137809]),\n",
       " <BarContainer object of 50 artists>)"
      ]
     },
     "execution_count": 65,
     "metadata": {},
     "output_type": "execute_result"
    },
    {
     "data": {
      "image/png": "[encoded data removed]",
      "text/plain": [
       "<Figure size 432x288 with 1 Axes>"
      ]
     },
     "metadata": {
      "needs_background": "light"
     },
     "output_type": "display_data"
    }
   ],
   "source": [
    "# The plot should more closely resemble a bell shaped curve as the sample size increases\n",
    "plt.hist(normal_higher, bins = 50)"
   ]
  },
  {
   "cell_type": "code",
   "execution_count": null,
   "id": "8f77dd46",
   "metadata": {},
   "outputs": [],
   "source": []
  },
  {
   "cell_type": "code",
   "execution_count": null,
   "id": "e3a04cf6",
   "metadata": {},
   "outputs": [],
   "source": []
  },
  {
   "cell_type": "code",
   "execution_count": null,
   "id": "9161b5f0",
   "metadata": {},
   "outputs": [],
   "source": []
  },
  {
   "cell_type": "markdown",
   "id": "17cbb2ab",
   "metadata": {},
   "source": [
    "### **uniform**"
   ]
  },
  {
   "cell_type": "markdown",
   "id": "2b6a37fd",
   "metadata": {},
   "source": [
    "random.Generator.uniform(low=0.0, high=1.0, size=None)"
   ]
  },
  {
   "cell_type": "code",
   "execution_count": 48,
   "id": "ae40029e",
   "metadata": {},
   "outputs": [],
   "source": [
    "# Generating 100 random floats between 1 and 6\n",
    "uniform = np.random.default_rng().uniform(1,6,100)"
   ]
  },
  {
   "cell_type": "code",
   "execution_count": 49,
   "id": "09c09a4d",
   "metadata": {},
   "outputs": [
    {
     "data": {
      "text/plain": [
       "array([2.6664247 , 4.39237285, 3.14896004, 1.28850475, 2.16008835,\n",
       "       4.77841828, 1.06624063, 3.65952008, 4.79283005, 4.33774761,\n",
       "       2.35340697, 1.11290033, 4.43709777, 4.38867256, 2.17816076,\n",
       "       4.46352192, 3.13268352, 1.76148447, 2.37852405, 3.64641933,\n",
       "       2.54629339, 5.93193075, 3.08958549, 4.65292312, 1.55936813,\n",
       "       1.99707288, 4.66448979, 3.52101052, 5.19307473, 4.27923099,\n",
       "       1.33698599, 1.68045602, 5.91484732, 5.03604974, 3.53093675,\n",
       "       5.77751366, 1.4991321 , 5.75586642, 3.42644853, 2.34662023,\n",
       "       4.84787375, 3.16331167, 3.7154401 , 1.40124981, 5.22963029,\n",
       "       3.42277278, 1.98406894, 3.54844155, 3.85837066, 3.35106885,\n",
       "       2.26909275, 5.37062934, 1.64493522, 3.83005657, 5.22545184,\n",
       "       5.56267334, 1.00129606, 2.98457161, 1.73466925, 5.888295  ,\n",
       "       1.20015732, 5.5691276 , 3.46648486, 3.120789  , 3.96165178,\n",
       "       2.05637484, 2.60508564, 3.97678715, 1.88278482, 3.8333665 ,\n",
       "       3.87491133, 2.385806  , 2.63229634, 5.23293855, 4.59392854,\n",
       "       1.64296294, 1.64262523, 1.66527091, 1.26024268, 1.25683376,\n",
       "       1.47839424, 4.4597566 , 1.18539897, 5.20099824, 2.75841435,\n",
       "       5.49700851, 1.39695776, 1.60145263, 2.57276404, 4.62851295,\n",
       "       3.74406667, 1.45448483, 1.62636852, 1.20321188, 2.16755025,\n",
       "       1.02180974, 2.46573655, 2.15900205, 2.96955638, 2.29968159])"
      ]
     },
     "execution_count": 49,
     "metadata": {},
     "output_type": "execute_result"
    }
   ],
   "source": [
    "uniform"
   ]
  },
  {
   "cell_type": "code",
   "execution_count": 50,
   "id": "c606aea1",
   "metadata": {},
   "outputs": [
    {
     "data": {
      "text/plain": [
       "(array([26., 19., 13., 14., 14., 14.]),\n",
       " array([1.00129606, 1.8230685 , 2.64484095, 3.4666134 , 4.28838585,\n",
       "        5.1101583 , 5.93193075]),\n",
       " <BarContainer object of 6 artists>)"
      ]
     },
     "execution_count": 50,
     "metadata": {},
     "output_type": "execute_result"
    },
    {
     "data": {
      "image/png": "[encoded data removed]",
      "text/plain": [
       "<Figure size 432x288 with 1 Axes>"
      ]
     },
     "metadata": {
      "needs_background": "light"
     },
     "output_type": "display_data"
    }
   ],
   "source": [
    "# As the sample size is quite small, the resulting plot may not appear uniform\n",
    "# which is to be expected\n",
    "# set bins to 6 as all random numbers should fall between 1 and 6\n",
    "plt.hist(uniform, bins=6)"
   ]
  },
  {
   "cell_type": "code",
   "execution_count": 51,
   "id": "aed62719",
   "metadata": {},
   "outputs": [],
   "source": [
    "# Repeating the random generation with a higher sample size of 10000\n",
    "uniform_higher = uniform = np.random.default_rng().uniform(1,6,10000)"
   ]
  },
  {
   "cell_type": "code",
   "execution_count": 52,
   "id": "65b6e67c",
   "metadata": {},
   "outputs": [
    {
     "data": {
      "text/plain": [
       "(array([1638., 1665., 1668., 1638., 1678., 1713.]),\n",
       " array([1.00000402, 1.83333032, 2.66665663, 3.49998293, 4.33330924,\n",
       "        5.16663554, 5.99996185]),\n",
       " <BarContainer object of 6 artists>)"
      ]
     },
     "execution_count": 52,
     "metadata": {},
     "output_type": "execute_result"
    },
    {
     "data": {
      "image/png": "[encoded data removed]",
      "text/plain": [
       "<Figure size 432x288 with 1 Axes>"
      ]
     },
     "metadata": {
      "needs_background": "light"
     },
     "output_type": "display_data"
    }
   ],
   "source": [
    "# As the sample size increases, the distribition becoms more smooth\n",
    "plt.hist(uniform_higher, bins=6)"
   ]
  },
  {
   "cell_type": "code",
   "execution_count": null,
   "id": "ed0cacca",
   "metadata": {},
   "outputs": [],
   "source": []
  },
  {
   "cell_type": "markdown",
   "id": "9623b95e",
   "metadata": {},
   "source": [
    "### **poisson**"
   ]
  },
  {
   "cell_type": "markdown",
   "id": "8aeaf010",
   "metadata": {},
   "source": [
    "random.Generator.poisson(lam=1.0, size=None)"
   ]
  },
  {
   "cell_type": "code",
   "execution_count": 53,
   "id": "2b5e7170",
   "metadata": {},
   "outputs": [],
   "source": [
    "poisson = rng.poisson(100, 10000)"
   ]
  },
  {
   "cell_type": "code",
   "execution_count": 54,
   "id": "092be77a",
   "metadata": {},
   "outputs": [
    {
     "data": {
      "text/plain": [
       "array([102, 115,  99, ...,  91,  95,  99], dtype=int64)"
      ]
     },
     "execution_count": 54,
     "metadata": {},
     "output_type": "execute_result"
    }
   ],
   "source": [
    "poisson"
   ]
  },
  {
   "cell_type": "code",
   "execution_count": 55,
   "id": "03b76741",
   "metadata": {},
   "outputs": [
    {
     "data": {
      "text/plain": [
       "(array([   2.,    6.,   15.,   37.,   99.,  153.,  311.,  506.,  685.,\n",
       "         849., 1114., 1144., 1545., 1023.,  828.,  625.,  425.,  291.,\n",
       "         152.,   87.,   56.,   19.,   17.,    7.,    4.]),\n",
       " array([ 63.  ,  66.08,  69.16,  72.24,  75.32,  78.4 ,  81.48,  84.56,\n",
       "         87.64,  90.72,  93.8 ,  96.88,  99.96, 103.04, 106.12, 109.2 ,\n",
       "        112.28, 115.36, 118.44, 121.52, 124.6 , 127.68, 130.76, 133.84,\n",
       "        136.92, 140.  ]),\n",
       " <BarContainer object of 25 artists>)"
      ]
     },
     "execution_count": 55,
     "metadata": {},
     "output_type": "execute_result"
    },
    {
     "data": {
      "image/png": "[encoded data removed]",
      "text/plain": [
       "<Figure size 432x288 with 1 Axes>"
      ]
     },
     "metadata": {
      "needs_background": "light"
     },
     "output_type": "display_data"
    }
   ],
   "source": [
    "plt.hist(poisson, bins=25)"
   ]
  },
  {
   "cell_type": "code",
   "execution_count": null,
   "id": "f8d4faba",
   "metadata": {},
   "outputs": [],
   "source": []
  },
  {
   "cell_type": "code",
   "execution_count": null,
   "id": "73e67fa4",
   "metadata": {},
   "outputs": [],
   "source": []
  },
  {
   "cell_type": "markdown",
   "id": "701f0afa",
   "metadata": {},
   "source": [
    "### **exponential**"
   ]
  },
  {
   "cell_type": "markdown",
   "id": "4438eb5f",
   "metadata": {},
   "source": [
    "random.Generator.exponential(scale=1.0, size=None)"
   ]
  },
  {
   "cell_type": "code",
   "execution_count": 56,
   "id": "4029955a",
   "metadata": {},
   "outputs": [],
   "source": [
    "exponential = rng.exponential(10.0, 100)"
   ]
  },
  {
   "cell_type": "code",
   "execution_count": 57,
   "id": "277826e4",
   "metadata": {},
   "outputs": [
    {
     "data": {
      "text/plain": [
       "array([12.15942781,  1.06144208, 13.33410151,  1.15440816,  3.75654777,\n",
       "       11.31011216, 10.19066834, 11.52980355, 14.99154657,  1.09085708,\n",
       "        1.66265158,  0.61406838,  0.98794518,  6.74048008, 13.05685762,\n",
       "        0.35254848,  6.15719189,  1.39796747,  4.614146  , 20.41080229,\n",
       "       12.2969735 ,  1.91827927,  6.51875782,  3.38266197, 40.18308252,\n",
       "        3.03185349,  2.95681291, 33.86206027, 15.66983149, 11.27004122,\n",
       "       12.39438531,  8.03016263,  0.16024796,  2.38719192,  3.06276015,\n",
       "       11.31631494,  4.724303  ,  2.66076421,  3.71780905, 10.03262602,\n",
       "        3.96144233,  0.34249183,  1.85509251,  3.81729103,  3.53519542,\n",
       "        7.27262703,  2.16418839,  4.64369083,  6.83474825,  4.789887  ,\n",
       "        0.87353855,  8.54651364,  8.75176829, 15.97194037, 22.38594835,\n",
       "       10.39372913,  5.53252321,  6.78690805, 10.35473036,  7.56136338,\n",
       "        5.69742773, 25.59580294,  1.64611349,  2.95579692,  8.39184204,\n",
       "       10.91485037,  5.04968414,  0.60756735,  6.30402483, 21.36120815,\n",
       "       13.68380103, 18.50356322, 11.63164343, 16.99386398,  7.14206475,\n",
       "        2.50176206,  9.14438426, 13.98519233,  2.5168488 ,  7.38212143,\n",
       "       25.62872343,  1.81975708,  8.66930932,  9.61272435, 38.61139915,\n",
       "        8.36885707, 10.79277838, 13.38050499,  0.64532841,  1.29377385,\n",
       "        5.44405084,  6.21997018,  0.41642482,  0.16155554,  0.39796436,\n",
       "        6.50094312,  9.91231596,  2.02114597,  0.5796761 , 21.96729151])"
      ]
     },
     "execution_count": 57,
     "metadata": {},
     "output_type": "execute_result"
    }
   ],
   "source": [
    "exponential"
   ]
  },
  {
   "cell_type": "code",
   "execution_count": 58,
   "id": "ebbbd1ca",
   "metadata": {},
   "outputs": [
    {
     "data": {
      "text/plain": [
       "(array([11.,  8.,  8.,  5.,  6.,  4.,  4.,  5.,  5.,  3.,  5.,  2.,  5.,\n",
       "         5.,  3.,  2.,  4.,  1.,  1.,  2.,  0.,  1.,  1.,  0.,  0.,  1.,\n",
       "         1.,  2.,  0.,  0.,  0.,  2.,  0.,  0.,  0.,  0.,  0.,  0.,  0.,\n",
       "         0.,  0.,  0.,  1.,  0.,  0.,  0.,  0.,  0.,  1.,  1.]),\n",
       " array([ 0.16024796,  0.96070465,  1.76116134,  2.56161803,  3.36207472,\n",
       "         4.16253141,  4.9629881 ,  5.76344479,  6.56390148,  7.36435818,\n",
       "         8.16481487,  8.96527156,  9.76572825, 10.56618494, 11.36664163,\n",
       "        12.16709832, 12.96755501, 13.76801171, 14.5684684 , 15.36892509,\n",
       "        16.16938178, 16.96983847, 17.77029516, 18.57075185, 19.37120854,\n",
       "        20.17166524, 20.97212193, 21.77257862, 22.57303531, 23.373492  ,\n",
       "        24.17394869, 24.97440538, 25.77486207, 26.57531876, 27.37577546,\n",
       "        28.17623215, 28.97668884, 29.77714553, 30.57760222, 31.37805891,\n",
       "        32.1785156 , 32.97897229, 33.77942899, 34.57988568, 35.38034237,\n",
       "        36.18079906, 36.98125575, 37.78171244, 38.58216913, 39.38262582,\n",
       "        40.18308252]),\n",
       " <BarContainer object of 50 artists>)"
      ]
     },
     "execution_count": 58,
     "metadata": {},
     "output_type": "execute_result"
    },
    {
     "data": {
      "image/png": "[encoded data removed]",
      "text/plain": [
       "<Figure size 432x288 with 1 Axes>"
      ]
     },
     "metadata": {
      "needs_background": "light"
     },
     "output_type": "display_data"
    }
   ],
   "source": [
    "\n",
    "plt.hist(exponential, bins=50)"
   ]
  },
  {
   "cell_type": "code",
   "execution_count": 59,
   "id": "73d20b2f",
   "metadata": {},
   "outputs": [],
   "source": [
    "# Repeating the random generation with a higher sample size of 10000\n",
    "exponential_higher = rng.exponential(10.0, 10000)"
   ]
  },
  {
   "cell_type": "code",
   "execution_count": 60,
   "id": "89cfbe6e",
   "metadata": {},
   "outputs": [
    {
     "data": {
      "text/plain": [
       "(array([1.841e+03, 1.445e+03, 1.202e+03, 1.046e+03, 8.190e+02, 6.750e+02,\n",
       "        5.690e+02, 4.310e+02, 3.870e+02, 2.980e+02, 2.180e+02, 1.910e+02,\n",
       "        1.730e+02, 1.330e+02, 1.040e+02, 8.300e+01, 7.100e+01, 6.500e+01,\n",
       "        5.700e+01, 3.300e+01, 2.800e+01, 3.000e+01, 2.000e+01, 1.300e+01,\n",
       "        1.500e+01, 7.000e+00, 7.000e+00, 7.000e+00, 8.000e+00, 3.000e+00,\n",
       "        4.000e+00, 5.000e+00, 1.000e+00, 1.000e+00, 3.000e+00, 2.000e+00,\n",
       "        1.000e+00, 0.000e+00, 0.000e+00, 3.000e+00, 0.000e+00, 0.000e+00,\n",
       "        0.000e+00, 0.000e+00, 0.000e+00, 0.000e+00, 0.000e+00, 0.000e+00,\n",
       "        0.000e+00, 1.000e+00]),\n",
       " array([8.98733724e-04, 2.00859117e+00, 4.01628362e+00, 6.02397606e+00,\n",
       "        8.03166850e+00, 1.00393609e+01, 1.20470534e+01, 1.40547458e+01,\n",
       "        1.60624383e+01, 1.80701307e+01, 2.00778231e+01, 2.20855156e+01,\n",
       "        2.40932080e+01, 2.61009005e+01, 2.81085929e+01, 3.01162854e+01,\n",
       "        3.21239778e+01, 3.41316702e+01, 3.61393627e+01, 3.81470551e+01,\n",
       "        4.01547476e+01, 4.21624400e+01, 4.41701324e+01, 4.61778249e+01,\n",
       "        4.81855173e+01, 5.01932098e+01, 5.22009022e+01, 5.42085946e+01,\n",
       "        5.62162871e+01, 5.82239795e+01, 6.02316720e+01, 6.22393644e+01,\n",
       "        6.42470569e+01, 6.62547493e+01, 6.82624417e+01, 7.02701342e+01,\n",
       "        7.22778266e+01, 7.42855191e+01, 7.62932115e+01, 7.83009039e+01,\n",
       "        8.03085964e+01, 8.23162888e+01, 8.43239813e+01, 8.63316737e+01,\n",
       "        8.83393661e+01, 9.03470586e+01, 9.23547510e+01, 9.43624435e+01,\n",
       "        9.63701359e+01, 9.83778284e+01, 1.00385521e+02]),\n",
       " <BarContainer object of 50 artists>)"
      ]
     },
     "execution_count": 60,
     "metadata": {},
     "output_type": "execute_result"
    },
    {
     "data": {
      "image/png": "[encoded data removed]",
      "text/plain": [
       "<Figure size 432x288 with 1 Axes>"
      ]
     },
     "metadata": {
      "needs_background": "light"
     },
     "output_type": "display_data"
    }
   ],
   "source": [
    "# As the sample size increases, the distribition becoms more smooth\n",
    "plt.hist(exponential_higher, bins=50)"
   ]
  },
  {
   "cell_type": "code",
   "execution_count": null,
   "id": "fbda5fc8",
   "metadata": {},
   "outputs": [],
   "source": []
  },
  {
   "cell_type": "markdown",
   "id": "f1d06052",
   "metadata": {},
   "source": [
    "## Seeds\n",
    "---"
   ]
  },
  {
   "cell_type": "code",
   "execution_count": null,
   "id": "495f9ee6",
   "metadata": {},
   "outputs": [],
   "source": []
  },
  {
   "cell_type": "code",
   "execution_count": 61,
   "id": "60777f1b",
   "metadata": {},
   "outputs": [
    {
     "data": {
      "text/plain": [
       "array([4, 3, 1, 2, 1, 3, 2, 0, 0, 2, 0, 1, 2, 2, 2, 2, 0, 0, 4, 3],\n",
       "      dtype=int64)"
      ]
     },
     "execution_count": 61,
     "metadata": {},
     "output_type": "execute_result"
    }
   ],
   "source": [
    "# Calling the default random number generator but with a seed for reporoducable outcomes\n",
    "rng_seeded1 = np.random.default_rng(seed=1246)\n",
    "rng_seeded1.integers(5, size = 20)"
   ]
  },
  {
   "cell_type": "code",
   "execution_count": 62,
   "id": "61ac8ead",
   "metadata": {},
   "outputs": [
    {
     "data": {
      "text/plain": [
       "array([4, 3, 1, 2, 1, 3, 2, 0, 0, 2, 0, 1, 2, 2, 2, 2, 0, 0, 4, 3],\n",
       "      dtype=int64)"
      ]
     },
     "execution_count": 62,
     "metadata": {},
     "output_type": "execute_result"
    }
   ],
   "source": [
    "# A new generator with the same seeding of 1246 will result in the same output\n",
    "rng_seeded2 = np.random.default_rng(seed=1246)\n",
    "rng_seeded2.integers(5, size = 20)"
   ]
  },
  {
   "cell_type": "code",
   "execution_count": null,
   "id": "fb123059",
   "metadata": {},
   "outputs": [],
   "source": []
  },
  {
   "cell_type": "code",
   "execution_count": null,
   "id": "a8f00e30",
   "metadata": {},
   "outputs": [],
   "source": []
  },
  {
   "cell_type": "code",
   "execution_count": null,
   "id": "00c70b28",
   "metadata": {},
   "outputs": [],
   "source": []
  },
  {
   "cell_type": "markdown",
   "id": "8e9207f5",
   "metadata": {},
   "source": [
    "## References"
   ]
  },
  {
   "cell_type": "code",
   "execution_count": null,
   "id": "fdd50c4a",
   "metadata": {},
   "outputs": [],
   "source": []
  },
  {
   "cell_type": "code",
   "execution_count": null,
   "id": "a463f019",
   "metadata": {},
   "outputs": [],
   "source": []
  },
  {
   "cell_type": "code",
   "execution_count": null,
   "id": "1cef68d2",
   "metadata": {},
   "outputs": [],
   "source": []
  }
 ],
 "metadata": {
  "kernelspec": {
   "display_name": "Python 3",
   "language": "python",
   "name": "python3"
  },
  "language_info": {
   "codemirror_mode": {
    "name": "ipython",
    "version": 3
   },
   "file_extension": ".py",
   "mimetype": "text/x-python",
   "name": "python",
   "nbconvert_exporter": "python",
   "pygments_lexer": "ipython3",
   "version": "3.8.8"
  }
 },
 "nbformat": 4,
 "nbformat_minor": 5
}
