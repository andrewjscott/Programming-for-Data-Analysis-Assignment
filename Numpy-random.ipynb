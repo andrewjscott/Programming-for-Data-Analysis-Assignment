{
 "cells": [
  {
   "cell_type": "markdown",
   "id": "0bb781ed",
   "metadata": {},
   "source": [
    "# The numpy.random package"
   ]
  },
  {
   "cell_type": "code",
   "execution_count": null,
   "id": "8c5ae8d2",
   "metadata": {},
   "outputs": [],
   "source": []
  },
  {
   "cell_type": "code",
   "execution_count": 1,
   "id": "57ab90f1",
   "metadata": {},
   "outputs": [],
   "source": [
    "import numpy as np\n",
    "\n",
    "import matplotlib.pyplot as plt"
   ]
  },
  {
   "cell_type": "code",
   "execution_count": 2,
   "id": "c7eecb96",
   "metadata": {},
   "outputs": [],
   "source": [
    "rng = np.random.default_rng()"
   ]
  },
  {
   "cell_type": "code",
   "execution_count": null,
   "id": "32559a15",
   "metadata": {},
   "outputs": [],
   "source": []
  },
  {
   "cell_type": "markdown",
   "id": "263a9965",
   "metadata": {},
   "source": [
    "## What is numpy.random?"
   ]
  },
  {
   "cell_type": "code",
   "execution_count": null,
   "id": "f258bee5",
   "metadata": {},
   "outputs": [],
   "source": []
  },
  {
   "cell_type": "code",
   "execution_count": null,
   "id": "4c5991f7",
   "metadata": {},
   "outputs": [],
   "source": []
  },
  {
   "cell_type": "markdown",
   "id": "aa5f4122",
   "metadata": {},
   "source": [
    "### \"Simple random data\" functions"
   ]
  },
  {
   "cell_type": "markdown",
   "id": "f64d8a0c",
   "metadata": {},
   "source": [
    "#### integers"
   ]
  },
  {
   "cell_type": "code",
   "execution_count": null,
   "id": "b7d23e19",
   "metadata": {},
   "outputs": [],
   "source": []
  },
  {
   "cell_type": "code",
   "execution_count": 3,
   "id": "c29ab806",
   "metadata": {},
   "outputs": [
    {
     "data": {
      "text/plain": [
       "array([4, 4, 0, 3, 1, 1, 4, 4, 2, 4, 2, 3, 3, 2, 2, 4, 4, 1, 1, 3],\n",
       "      dtype=int64)"
      ]
     },
     "execution_count": 3,
     "metadata": {},
     "output_type": "execute_result"
    }
   ],
   "source": [
    "rng.integers(5, size = 20)"
   ]
  },
  {
   "cell_type": "code",
   "execution_count": null,
   "id": "67fe8e08",
   "metadata": {},
   "outputs": [],
   "source": []
  },
  {
   "cell_type": "markdown",
   "id": "9ed298d1",
   "metadata": {},
   "source": [
    "#### random"
   ]
  },
  {
   "cell_type": "code",
   "execution_count": null,
   "id": "999529c1",
   "metadata": {},
   "outputs": [],
   "source": []
  },
  {
   "cell_type": "code",
   "execution_count": 4,
   "id": "badca741",
   "metadata": {},
   "outputs": [
    {
     "data": {
      "text/plain": [
       "array([0.91943284, 0.85286891, 0.66738967, 0.88203117, 0.76894469,\n",
       "       0.00544587, 0.34313315, 0.45301027, 0.01527109, 0.9869636 ,\n",
       "       0.15589133, 0.48112743, 0.78777714, 0.81489473, 0.79065677,\n",
       "       0.01964047, 0.37758109, 0.47729335, 0.76147863, 0.2209561 ])"
      ]
     },
     "execution_count": 4,
     "metadata": {},
     "output_type": "execute_result"
    }
   ],
   "source": [
    "rng.random(size = 20)"
   ]
  },
  {
   "cell_type": "code",
   "execution_count": null,
   "id": "2d4e89b7",
   "metadata": {},
   "outputs": [],
   "source": []
  },
  {
   "cell_type": "markdown",
   "id": "61f94151",
   "metadata": {},
   "source": [
    "#### choice"
   ]
  },
  {
   "cell_type": "code",
   "execution_count": null,
   "id": "424a4e02",
   "metadata": {},
   "outputs": [],
   "source": []
  },
  {
   "cell_type": "code",
   "execution_count": 5,
   "id": "3681bd76",
   "metadata": {},
   "outputs": [
    {
     "data": {
      "text/plain": [
       "array([2, 2, 8], dtype=int64)"
      ]
     },
     "execution_count": 5,
     "metadata": {},
     "output_type": "execute_result"
    }
   ],
   "source": [
    "rng.choice(10, 3)"
   ]
  },
  {
   "cell_type": "code",
   "execution_count": 6,
   "id": "6adfb758",
   "metadata": {},
   "outputs": [],
   "source": [
    "colours = [\"red\", \"blue\", \"green\", \"black\", \"yellow\"]"
   ]
  },
  {
   "cell_type": "code",
   "execution_count": 7,
   "id": "5d9c8983",
   "metadata": {},
   "outputs": [
    {
     "data": {
      "text/plain": [
       "'red'"
      ]
     },
     "execution_count": 7,
     "metadata": {},
     "output_type": "execute_result"
    }
   ],
   "source": [
    "rng.choice(colours)"
   ]
  },
  {
   "cell_type": "code",
   "execution_count": null,
   "id": "01bbb5cd",
   "metadata": {},
   "outputs": [],
   "source": []
  },
  {
   "cell_type": "markdown",
   "id": "27b13d59",
   "metadata": {},
   "source": [
    "#### bytes"
   ]
  },
  {
   "cell_type": "code",
   "execution_count": null,
   "id": "692bac13",
   "metadata": {},
   "outputs": [],
   "source": []
  },
  {
   "cell_type": "code",
   "execution_count": 8,
   "id": "de2cc869",
   "metadata": {},
   "outputs": [
    {
     "data": {
      "text/plain": [
       "b'\\xb95\\x06\\x9ep'"
      ]
     },
     "execution_count": 8,
     "metadata": {},
     "output_type": "execute_result"
    }
   ],
   "source": [
    "rng.bytes(5)"
   ]
  },
  {
   "cell_type": "code",
   "execution_count": null,
   "id": "f6eb7f9e",
   "metadata": {},
   "outputs": [],
   "source": []
  },
  {
   "cell_type": "markdown",
   "id": "3607c364",
   "metadata": {},
   "source": [
    "### \"Permutations\" functions"
   ]
  },
  {
   "cell_type": "code",
   "execution_count": null,
   "id": "6025f07c",
   "metadata": {},
   "outputs": [],
   "source": []
  },
  {
   "cell_type": "code",
   "execution_count": 9,
   "id": "e32d3338",
   "metadata": {},
   "outputs": [],
   "source": [
    "# Explain In-place vs. copy differences between below functions"
   ]
  },
  {
   "cell_type": "code",
   "execution_count": null,
   "id": "1ba9a9cc",
   "metadata": {},
   "outputs": [],
   "source": []
  },
  {
   "cell_type": "markdown",
   "id": "02af79ca",
   "metadata": {},
   "source": [
    "#### shuffle"
   ]
  },
  {
   "cell_type": "code",
   "execution_count": null,
   "id": "ea5c1ed5",
   "metadata": {},
   "outputs": [],
   "source": []
  },
  {
   "cell_type": "code",
   "execution_count": 10,
   "id": "bb7493e9",
   "metadata": {},
   "outputs": [],
   "source": [
    "digits = np.arange(10)"
   ]
  },
  {
   "cell_type": "code",
   "execution_count": 11,
   "id": "90f76551",
   "metadata": {},
   "outputs": [
    {
     "data": {
      "text/plain": [
       "array([0, 1, 2, 3, 4, 5, 6, 7, 8, 9])"
      ]
     },
     "execution_count": 11,
     "metadata": {},
     "output_type": "execute_result"
    }
   ],
   "source": [
    "digits"
   ]
  },
  {
   "cell_type": "code",
   "execution_count": 12,
   "id": "27cd23f5",
   "metadata": {},
   "outputs": [],
   "source": [
    "rng.shuffle(digits)"
   ]
  },
  {
   "cell_type": "code",
   "execution_count": 13,
   "id": "08e9417d",
   "metadata": {},
   "outputs": [
    {
     "data": {
      "text/plain": [
       "array([9, 0, 6, 5, 8, 3, 4, 1, 2, 7])"
      ]
     },
     "execution_count": 13,
     "metadata": {},
     "output_type": "execute_result"
    }
   ],
   "source": [
    "digits"
   ]
  },
  {
   "cell_type": "code",
   "execution_count": null,
   "id": "2687ab4c",
   "metadata": {},
   "outputs": [],
   "source": []
  },
  {
   "cell_type": "code",
   "execution_count": 14,
   "id": "ca3d6b3e",
   "metadata": {},
   "outputs": [],
   "source": [
    "three_by_three = np.arange(9).reshape(3, 3)"
   ]
  },
  {
   "cell_type": "code",
   "execution_count": 15,
   "id": "f44d2d82",
   "metadata": {},
   "outputs": [
    {
     "data": {
      "text/plain": [
       "array([[0, 1, 2],\n",
       "       [3, 4, 5],\n",
       "       [6, 7, 8]])"
      ]
     },
     "execution_count": 15,
     "metadata": {},
     "output_type": "execute_result"
    }
   ],
   "source": [
    "three_by_three"
   ]
  },
  {
   "cell_type": "code",
   "execution_count": 16,
   "id": "4c27da9e",
   "metadata": {},
   "outputs": [],
   "source": [
    "# Using shuffle on an array will rearrange the position of rows\n",
    "# but will leave the items from each row in the original order"
   ]
  },
  {
   "cell_type": "code",
   "execution_count": 17,
   "id": "7d0f3b86",
   "metadata": {},
   "outputs": [],
   "source": [
    "rng.shuffle(three_by_three)"
   ]
  },
  {
   "cell_type": "code",
   "execution_count": 18,
   "id": "07614736",
   "metadata": {},
   "outputs": [
    {
     "data": {
      "text/plain": [
       "array([[6, 7, 8],\n",
       "       [3, 4, 5],\n",
       "       [0, 1, 2]])"
      ]
     },
     "execution_count": 18,
     "metadata": {},
     "output_type": "execute_result"
    }
   ],
   "source": [
    "three_by_three"
   ]
  },
  {
   "cell_type": "code",
   "execution_count": null,
   "id": "e48d6e67",
   "metadata": {},
   "outputs": [],
   "source": []
  },
  {
   "cell_type": "code",
   "execution_count": null,
   "id": "140f3eb8",
   "metadata": {},
   "outputs": [],
   "source": []
  },
  {
   "cell_type": "markdown",
   "id": "fa6c3926",
   "metadata": {},
   "source": [
    "#### permutation"
   ]
  },
  {
   "cell_type": "code",
   "execution_count": null,
   "id": "a14bc07a",
   "metadata": {},
   "outputs": [],
   "source": []
  },
  {
   "cell_type": "code",
   "execution_count": 19,
   "id": "ae578d95",
   "metadata": {},
   "outputs": [
    {
     "data": {
      "text/plain": [
       "array([2, 0, 6, 1, 5, 7, 3, 4, 8, 9])"
      ]
     },
     "execution_count": 19,
     "metadata": {},
     "output_type": "execute_result"
    }
   ],
   "source": [
    "rng.permutation(10)"
   ]
  },
  {
   "cell_type": "code",
   "execution_count": null,
   "id": "68082ad8",
   "metadata": {},
   "outputs": [],
   "source": []
  },
  {
   "cell_type": "markdown",
   "id": "d30b4142",
   "metadata": {},
   "source": [
    "#### permuted"
   ]
  },
  {
   "cell_type": "code",
   "execution_count": null,
   "id": "f65f1147",
   "metadata": {},
   "outputs": [],
   "source": []
  },
  {
   "cell_type": "code",
   "execution_count": 20,
   "id": "7e97aa88",
   "metadata": {},
   "outputs": [],
   "source": [
    "# Unlike Shuffle, Permuted will rearrange the order of items\n",
    "# Within each row. Permuted also requires a new variable.\n",
    "# If we reuse the same array we used Shuffle\n",
    "# on earlier, we can see the difference bewtween Shuffle and \n",
    "# Permuted"
   ]
  },
  {
   "cell_type": "code",
   "execution_count": 21,
   "id": "e56079a0",
   "metadata": {},
   "outputs": [],
   "source": [
    "permuted_three_by_three = rng.permuted(three_by_three, axis=1)"
   ]
  },
  {
   "cell_type": "code",
   "execution_count": 22,
   "id": "86c28e41",
   "metadata": {},
   "outputs": [
    {
     "data": {
      "text/plain": [
       "array([[8, 6, 7],\n",
       "       [4, 5, 3],\n",
       "       [0, 2, 1]])"
      ]
     },
     "execution_count": 22,
     "metadata": {},
     "output_type": "execute_result"
    }
   ],
   "source": [
    "permuted_three_by_three"
   ]
  },
  {
   "cell_type": "code",
   "execution_count": 23,
   "id": "56ce82ed",
   "metadata": {},
   "outputs": [],
   "source": [
    "# The original array can be passed in as an argument if we want it to \n",
    "# match the output of the permuted array"
   ]
  },
  {
   "cell_type": "code",
   "execution_count": 24,
   "id": "1813c670",
   "metadata": {},
   "outputs": [],
   "source": [
    "permuted_three_by_three = rng.permuted(three_by_three, axis=1, out=three_by_three)"
   ]
  },
  {
   "cell_type": "code",
   "execution_count": 25,
   "id": "0178db52",
   "metadata": {},
   "outputs": [
    {
     "data": {
      "text/plain": [
       "array([[6, 8, 7],\n",
       "       [5, 3, 4],\n",
       "       [1, 0, 2]])"
      ]
     },
     "execution_count": 25,
     "metadata": {},
     "output_type": "execute_result"
    }
   ],
   "source": [
    "three_by_three"
   ]
  },
  {
   "cell_type": "code",
   "execution_count": 26,
   "id": "84e743db",
   "metadata": {},
   "outputs": [
    {
     "data": {
      "text/plain": [
       "array([[6, 8, 7],\n",
       "       [5, 3, 4],\n",
       "       [1, 0, 2]])"
      ]
     },
     "execution_count": 26,
     "metadata": {},
     "output_type": "execute_result"
    }
   ],
   "source": [
    "permuted_three_by_three"
   ]
  },
  {
   "cell_type": "code",
   "execution_count": 27,
   "id": "36de1af1",
   "metadata": {},
   "outputs": [
    {
     "data": {
      "text/plain": [
       "True"
      ]
     },
     "execution_count": 27,
     "metadata": {},
     "output_type": "execute_result"
    }
   ],
   "source": [
    "three_by_three is permuted_three_by_three"
   ]
  },
  {
   "cell_type": "code",
   "execution_count": null,
   "id": "2ceaac73",
   "metadata": {},
   "outputs": [],
   "source": []
  },
  {
   "cell_type": "markdown",
   "id": "f666d67b",
   "metadata": {},
   "source": [
    "## Distributions"
   ]
  },
  {
   "cell_type": "code",
   "execution_count": null,
   "id": "d139b136",
   "metadata": {},
   "outputs": [],
   "source": []
  },
  {
   "cell_type": "code",
   "execution_count": null,
   "id": "42cc78e6",
   "metadata": {},
   "outputs": [],
   "source": []
  },
  {
   "cell_type": "code",
   "execution_count": null,
   "id": "aedb090c",
   "metadata": {},
   "outputs": [],
   "source": []
  },
  {
   "cell_type": "markdown",
   "id": "84f4663f",
   "metadata": {},
   "source": [
    "#### binomial"
   ]
  },
  {
   "cell_type": "code",
   "execution_count": null,
   "id": "4f5e00ab",
   "metadata": {},
   "outputs": [],
   "source": []
  },
  {
   "cell_type": "code",
   "execution_count": 28,
   "id": "dfdf8aa9",
   "metadata": {},
   "outputs": [],
   "source": [
    "# A binomial distribution tracks trials and records a binary success/failure \n",
    "# outcome of trials. "
   ]
  },
  {
   "cell_type": "code",
   "execution_count": null,
   "id": "8f74cc43",
   "metadata": {},
   "outputs": [],
   "source": []
  },
  {
   "cell_type": "code",
   "execution_count": 7,
   "id": "b0fe52f3",
   "metadata": {},
   "outputs": [],
   "source": [
    "# n is the number of trials \n",
    "n = 20\n",
    "\n",
    "# p = probability of success, which must be between 0 and 1. \n",
    "# For example, a fair coin has a 50/50 change of being either heads of tails\n",
    "# Therefore to simulate a fair coin, p = 0.5\n",
    "p = 0.5"
   ]
  },
  {
   "cell_type": "code",
   "execution_count": 15,
   "id": "4c653457",
   "metadata": {},
   "outputs": [],
   "source": [
    "# The third argument is the number of tests. \n",
    "# That means in this example, a coin is flipped 20 times\n",
    "# And there is 1000 instances of this\n",
    "coin_flip = rng.binomial(n, p, 100)"
   ]
  },
  {
   "cell_type": "code",
   "execution_count": 16,
   "id": "13222970",
   "metadata": {},
   "outputs": [
    {
     "data": {
      "text/plain": [
       "array([10, 10, 12,  7,  9,  9, 10, 10, 11, 11, 12,  7, 11, 13,  7,  7, 12,\n",
       "        8, 13,  9,  8, 10, 10,  6,  9, 13, 11,  7, 10, 12,  9,  7, 12,  8,\n",
       "       10,  7,  8, 13, 13,  7,  9,  8, 14,  8, 10,  9,  9,  5,  8, 13,  8,\n",
       "       10, 12, 11,  7,  8, 10, 12, 11,  8, 11, 11,  9,  9,  6,  9, 10, 11,\n",
       "       12,  7,  8, 10,  6, 11,  7,  7,  7,  9,  8, 10,  7, 14,  8, 10, 10,\n",
       "        8, 11, 12, 14, 12,  8, 13,  9,  9, 10,  8, 13, 15, 10,  9],\n",
       "      dtype=int64)"
      ]
     },
     "execution_count": 16,
     "metadata": {},
     "output_type": "execute_result"
    }
   ],
   "source": [
    "# We can take the resulting array as giving us the number of heads\n",
    "# After every 20 coin flips\n",
    "coin_flip"
   ]
  },
  {
   "cell_type": "code",
   "execution_count": null,
   "id": "ff671708",
   "metadata": {},
   "outputs": [],
   "source": []
  },
  {
   "cell_type": "code",
   "execution_count": 87,
   "id": "003feb59",
   "metadata": {},
   "outputs": [
    {
     "data": {
      "text/plain": [
       "(array([ 1.,  0.,  3.,  0., 14.,  0., 16.,  0., 15.,  0., 18.,  0., 11.,\n",
       "         0., 10.,  0.,  8.,  0.,  3.,  1.]),\n",
       " array([ 5. ,  5.5,  6. ,  6.5,  7. ,  7.5,  8. ,  8.5,  9. ,  9.5, 10. ,\n",
       "        10.5, 11. , 11.5, 12. , 12.5, 13. , 13.5, 14. , 14.5, 15. ]),\n",
       " <BarContainer object of 20 artists>)"
      ]
     },
     "execution_count": 87,
     "metadata": {},
     "output_type": "execute_result"
    },
    {
     "data": {
      "image/png": "[encoded data removed]",
      "text/plain": [
       "<Figure size 432x288 with 1 Axes>"
      ]
     },
     "metadata": {
      "needs_background": "light"
     },
     "output_type": "display_data"
    }
   ],
   "source": [
    "# Plotting the randomly generated data\n",
    "plt.hist(coin_flip, bins=20)"
   ]
  },
  {
   "cell_type": "code",
   "execution_count": null,
   "id": "32aa98ee",
   "metadata": {},
   "outputs": [],
   "source": []
  },
  {
   "cell_type": "markdown",
   "id": "d0d5c445",
   "metadata": {},
   "source": [
    "#### normal"
   ]
  },
  {
   "cell_type": "code",
   "execution_count": null,
   "id": "b9c94825",
   "metadata": {},
   "outputs": [],
   "source": []
  },
  {
   "cell_type": "code",
   "execution_count": null,
   "id": "a370521a",
   "metadata": {},
   "outputs": [],
   "source": []
  },
  {
   "cell_type": "code",
   "execution_count": 66,
   "id": "81b81782",
   "metadata": {},
   "outputs": [],
   "source": [
    "\n",
    "# Mean\n",
    "mu = 100\n",
    "\n",
    "#Standard Deviation\n",
    "sigma = 15"
   ]
  },
  {
   "cell_type": "code",
   "execution_count": 67,
   "id": "d393b434",
   "metadata": {},
   "outputs": [],
   "source": [
    "# A random example of 100 samples from a normal distribution\n",
    "normal = np.random.default_rng().normal(mu, sigma, 100)"
   ]
  },
  {
   "cell_type": "code",
   "execution_count": 68,
   "id": "122ef9e2",
   "metadata": {},
   "outputs": [
    {
     "data": {
      "text/plain": [
       "array([ 93.28148483, 114.63915336, 110.57016508, 119.84181736,\n",
       "        79.2693901 , 113.32577939, 124.41432998, 114.49535364,\n",
       "        68.57117294, 116.54273883, 101.87150206, 110.54187698,\n",
       "        94.37715714,  83.16720298, 117.14921409, 109.88081271,\n",
       "        79.56963774,  94.75303375,  78.6278069 , 101.31840253,\n",
       "       111.4162944 ,  80.86331851, 122.57305731, 121.98883436,\n",
       "        93.26549408,  90.16429614, 100.12340201, 124.48192951,\n",
       "        89.12893233, 110.19474602,  91.83131168,  85.47209835,\n",
       "        98.79830189, 111.99197272,  98.55326559, 122.73922005,\n",
       "       123.35652948, 111.14502481, 103.80819454,  98.79620199,\n",
       "       138.08615324,  89.89694029, 112.6692858 ,  92.92703291,\n",
       "       112.30653003, 132.95387199,  83.68206209,  83.49241701,\n",
       "       119.81137036, 109.07345671,  88.05844605,  77.75699645,\n",
       "        91.23406611, 104.8151707 ,  85.81805339, 110.28137446,\n",
       "        85.92482057,  99.39280709, 104.04047855,  85.25175454,\n",
       "       124.84683894, 133.80364381, 109.42145331, 103.56330477,\n",
       "       110.04727088,  93.38507508, 105.27873008,  95.27429189,\n",
       "       107.511411  ,  95.63260503, 111.02212633,  88.14371167,\n",
       "       110.21512875,  81.77469649,  98.89606784, 100.11096242,\n",
       "       131.7890338 , 102.98713341, 118.16663405,  86.30960055,\n",
       "        85.47000106, 104.8266748 , 124.941597  , 100.34621286,\n",
       "        87.39070573, 119.33590856,  87.60394761,  99.35255029,\n",
       "       130.35707047, 106.13357366,  84.06354299, 101.74026117,\n",
       "       113.97682688, 118.38068328, 120.53721667,  81.92140789,\n",
       "        85.4093667 , 110.16912838, 109.55912959,  80.71145056])"
      ]
     },
     "execution_count": 68,
     "metadata": {},
     "output_type": "execute_result"
    }
   ],
   "source": [
    "normal"
   ]
  },
  {
   "cell_type": "code",
   "execution_count": 76,
   "id": "c51edf16",
   "metadata": {},
   "outputs": [
    {
     "data": {
      "text/plain": [
       "(array([1., 0., 0., 0., 0., 0., 1., 3., 2., 2., 3., 2., 6., 2., 3., 2., 2.,\n",
       "        4., 2., 2., 0., 4., 5., 3., 1., 3., 3., 1., 1., 8., 6., 3., 2., 2.,\n",
       "        2., 2., 3., 1., 3., 1., 4., 0., 0., 0., 1., 1., 2., 0., 0., 1.]),\n",
       " array([ 68.57117294,  69.96147254,  71.35177215,  72.74207176,\n",
       "         74.13237136,  75.52267097,  76.91297057,  78.30327018,\n",
       "         79.69356979,  81.08386939,  82.474169  ,  83.8644686 ,\n",
       "         85.25476821,  86.64506782,  88.03536742,  89.42566703,\n",
       "         90.81596663,  92.20626624,  93.59656585,  94.98686545,\n",
       "         96.37716506,  97.76746466,  99.15776427, 100.54806388,\n",
       "        101.93836348, 103.32866309, 104.71896269, 106.1092623 ,\n",
       "        107.49956191, 108.88986151, 110.28016112, 111.67046073,\n",
       "        113.06076033, 114.45105994, 115.84135954, 117.23165915,\n",
       "        118.62195876, 120.01225836, 121.40255797, 122.79285757,\n",
       "        124.18315718, 125.57345679, 126.96375639, 128.354056  ,\n",
       "        129.7443556 , 131.13465521, 132.52495482, 133.91525442,\n",
       "        135.30555403, 136.69585363, 138.08615324]),\n",
       " <BarContainer object of 50 artists>)"
      ]
     },
     "execution_count": 76,
     "metadata": {},
     "output_type": "execute_result"
    },
    {
     "data": {
      "image/png": "[encoded data removed]",
      "text/plain": [
       "<Figure size 432x288 with 1 Axes>"
      ]
     },
     "metadata": {
      "needs_background": "light"
     },
     "output_type": "display_data"
    }
   ],
   "source": [
    "# While the smaller number of samples uaually are at the extremes, \n",
    "# a smaller sample size generally leads to a plot that only vaguely resembles a bell shaped curve\n",
    "plt.hist(normal, bins = 50)"
   ]
  },
  {
   "cell_type": "code",
   "execution_count": 72,
   "id": "2c0a6c4d",
   "metadata": {},
   "outputs": [],
   "source": [
    "# Repeating the random generation with a higher sample size of 10000\n",
    "normal_higher = np.random.default_rng().normal(mu, sigma, 10000)"
   ]
  },
  {
   "cell_type": "code",
   "execution_count": 77,
   "id": "e38b6952",
   "metadata": {},
   "outputs": [
    {
     "data": {
      "text/plain": [
       "(array([  1.,   2.,   2.,   1.,   2.,   8.,  12.,  15.,  37.,  47.,  57.,\n",
       "         65., 106., 129., 168., 191., 272., 320., 411., 422., 452., 535.,\n",
       "        589., 582., 581., 610., 614., 579., 520., 465., 413., 340., 332.,\n",
       "        261., 217., 179., 122., 103.,  68.,  50.,  44.,  26.,  13.,  10.,\n",
       "          6.,   7.,   5.,   2.,   4.,   3.]),\n",
       " array([ 43.34266074,  45.62578777,  47.90891479,  50.19204182,\n",
       "         52.47516884,  54.75829587,  57.04142289,  59.32454992,\n",
       "         61.60767694,  63.89080397,  66.17393099,  68.45705802,\n",
       "         70.74018504,  73.02331207,  75.30643909,  77.58956612,\n",
       "         79.87269314,  82.15582017,  84.43894719,  86.72207422,\n",
       "         89.00520124,  91.28832827,  93.57145529,  95.85458232,\n",
       "         98.13770934, 100.42083637, 102.70396339, 104.98709042,\n",
       "        107.27021744, 109.55334447, 111.83647149, 114.11959852,\n",
       "        116.40272554, 118.68585257, 120.96897959, 123.25210662,\n",
       "        125.53523364, 127.81836067, 130.10148769, 132.38461472,\n",
       "        134.66774174, 136.95086877, 139.23399579, 141.51712282,\n",
       "        143.80024984, 146.08337687, 148.36650389, 150.64963092,\n",
       "        152.93275794, 155.21588497, 157.49901199]),\n",
       " <BarContainer object of 50 artists>)"
      ]
     },
     "execution_count": 77,
     "metadata": {},
     "output_type": "execute_result"
    },
    {
     "data": {
      "image/png": "[encoded data removed]",
      "text/plain": [
       "<Figure size 432x288 with 1 Axes>"
      ]
     },
     "metadata": {
      "needs_background": "light"
     },
     "output_type": "display_data"
    }
   ],
   "source": [
    "# The plot should more closely resemble a bell shaped curve as the sample size increases\n",
    "plt.hist(normal_higher, bins = 50)"
   ]
  },
  {
   "cell_type": "code",
   "execution_count": null,
   "id": "8f77dd46",
   "metadata": {},
   "outputs": [],
   "source": []
  },
  {
   "cell_type": "code",
   "execution_count": null,
   "id": "e3a04cf6",
   "metadata": {},
   "outputs": [],
   "source": []
  },
  {
   "cell_type": "code",
   "execution_count": null,
   "id": "9161b5f0",
   "metadata": {},
   "outputs": [],
   "source": []
  },
  {
   "cell_type": "markdown",
   "id": "17cbb2ab",
   "metadata": {},
   "source": [
    "#### uniform"
   ]
  },
  {
   "cell_type": "code",
   "execution_count": null,
   "id": "b84d4ec2",
   "metadata": {},
   "outputs": [],
   "source": []
  },
  {
   "cell_type": "code",
   "execution_count": 79,
   "id": "ae40029e",
   "metadata": {},
   "outputs": [],
   "source": [
    "# Generating 100 random floats between 1 and 6\n",
    "uniform = np.random.default_rng().uniform(1,6,100)"
   ]
  },
  {
   "cell_type": "code",
   "execution_count": 80,
   "id": "09c09a4d",
   "metadata": {},
   "outputs": [
    {
     "data": {
      "text/plain": [
       "array([4.81388929, 1.24562182, 4.38655165, 2.70983105, 3.63672222,\n",
       "       3.45319216, 2.74840525, 3.44267493, 1.64465366, 3.82636718,\n",
       "       4.80344113, 3.8222295 , 5.06546224, 4.46124246, 4.2380013 ,\n",
       "       1.49288089, 3.76745251, 3.90169705, 5.10175527, 5.40986388,\n",
       "       1.08774775, 3.7871429 , 4.43517783, 4.19106577, 1.05330537,\n",
       "       4.75920848, 4.10340718, 3.00676993, 1.82881064, 1.27568451,\n",
       "       2.07363296, 1.76578742, 1.41190472, 4.48686101, 5.25538469,\n",
       "       2.41869638, 2.53804208, 3.9003706 , 5.28816835, 1.51453231,\n",
       "       3.7226385 , 4.80567478, 4.25452561, 1.64761409, 4.18442765,\n",
       "       5.88453727, 4.98566901, 1.58783356, 4.76635342, 4.08690347,\n",
       "       1.64947927, 5.74939366, 4.85136872, 5.46179463, 4.47386567,\n",
       "       1.78514649, 2.59127176, 2.18634678, 2.03653341, 4.18462822,\n",
       "       4.15070242, 3.46058321, 1.18756298, 3.32228388, 5.79202129,\n",
       "       1.78735717, 5.70452443, 5.99728214, 4.33619904, 4.01796267,\n",
       "       2.82850248, 3.97685004, 5.62968308, 5.83029426, 5.96249387,\n",
       "       4.86903364, 2.26709629, 3.84873331, 5.03228967, 5.21859428,\n",
       "       2.06798997, 3.57627855, 3.36625771, 5.55039085, 1.55672035,\n",
       "       3.76143895, 3.85286573, 5.59651165, 3.34430669, 4.21421589,\n",
       "       5.18818539, 1.90821306, 4.65325816, 5.46441438, 2.48623585,\n",
       "       1.39266736, 2.20853073, 2.5122004 , 5.21538783, 1.3330377 ])"
      ]
     },
     "execution_count": 80,
     "metadata": {},
     "output_type": "execute_result"
    }
   ],
   "source": [
    "uniform"
   ]
  },
  {
   "cell_type": "code",
   "execution_count": 81,
   "id": "c606aea1",
   "metadata": {},
   "outputs": [
    {
     "data": {
      "text/plain": [
       "(array([19., 12., 10., 24., 17., 18.]),\n",
       " array([1.05330537, 1.8773015 , 2.70129763, 3.52529375, 4.34928988,\n",
       "        5.17328601, 5.99728214]),\n",
       " <BarContainer object of 6 artists>)"
      ]
     },
     "execution_count": 81,
     "metadata": {},
     "output_type": "execute_result"
    },
    {
     "data": {
      "image/png": "[encoded data removed]",
      "text/plain": [
       "<Figure size 432x288 with 1 Axes>"
      ]
     },
     "metadata": {
      "needs_background": "light"
     },
     "output_type": "display_data"
    }
   ],
   "source": [
    "# As the sample size is quite small, the resulting plot may not appear uniform\n",
    "# which is to be expected\n",
    "# set bins to 6 as all random numbers should fall between 1 and 6\n",
    "plt.hist(uniform, bins=6)"
   ]
  },
  {
   "cell_type": "code",
   "execution_count": 82,
   "id": "aed62719",
   "metadata": {},
   "outputs": [],
   "source": [
    "# Repeating the random generation with a higher sample size of 10000\n",
    "uniform_higher = uniform = np.random.default_rng().uniform(1,6,10000)"
   ]
  },
  {
   "cell_type": "code",
   "execution_count": 84,
   "id": "65b6e67c",
   "metadata": {},
   "outputs": [
    {
     "data": {
      "text/plain": [
       "(array([1638., 1625., 1671., 1736., 1669., 1661.]),\n",
       " array([1.00020125, 1.83346351, 2.66672576, 3.49998802, 4.33325028,\n",
       "        5.16651254, 5.99977479]),\n",
       " <BarContainer object of 6 artists>)"
      ]
     },
     "execution_count": 84,
     "metadata": {},
     "output_type": "execute_result"
    },
    {
     "data": {
      "image/png": "[encoded data removed]",
      "text/plain": [
       "<Figure size 432x288 with 1 Axes>"
      ]
     },
     "metadata": {
      "needs_background": "light"
     },
     "output_type": "display_data"
    }
   ],
   "source": [
    "# As the sample size increases, the distribition becoms more smooth\n",
    "plt.hist(uniform_higher, bins=6)"
   ]
  },
  {
   "cell_type": "code",
   "execution_count": null,
   "id": "ed0cacca",
   "metadata": {},
   "outputs": [],
   "source": []
  },
  {
   "cell_type": "markdown",
   "id": "9623b95e",
   "metadata": {},
   "source": [
    "#### poisson"
   ]
  },
  {
   "cell_type": "code",
   "execution_count": null,
   "id": "921c6179",
   "metadata": {},
   "outputs": [],
   "source": []
  },
  {
   "cell_type": "code",
   "execution_count": 97,
   "id": "2b5e7170",
   "metadata": {},
   "outputs": [],
   "source": [
    "poisson = rng.poisson(100, 10000)"
   ]
  },
  {
   "cell_type": "code",
   "execution_count": 98,
   "id": "092be77a",
   "metadata": {},
   "outputs": [
    {
     "data": {
      "text/plain": [
       "array([119,  92, 109, ..., 134, 101,  89], dtype=int64)"
      ]
     },
     "execution_count": 98,
     "metadata": {},
     "output_type": "execute_result"
    }
   ],
   "source": [
    "poisson"
   ]
  },
  {
   "cell_type": "code",
   "execution_count": 99,
   "id": "03b76741",
   "metadata": {},
   "outputs": [
    {
     "data": {
      "text/plain": [
       "(array([   2.,    2.,    7.,   19.,   53.,  121.,  234.,  395.,  588.,\n",
       "         792., 1061., 1164., 1161., 1140.,  999.,  792.,  567.,  378.,\n",
       "         245.,  136.,   86.,   26.,   18.,    9.,    5.]),\n",
       " array([ 62.  ,  65.04,  68.08,  71.12,  74.16,  77.2 ,  80.24,  83.28,\n",
       "         86.32,  89.36,  92.4 ,  95.44,  98.48, 101.52, 104.56, 107.6 ,\n",
       "        110.64, 113.68, 116.72, 119.76, 122.8 , 125.84, 128.88, 131.92,\n",
       "        134.96, 138.  ]),\n",
       " <BarContainer object of 25 artists>)"
      ]
     },
     "execution_count": 99,
     "metadata": {},
     "output_type": "execute_result"
    },
    {
     "data": {
      "image/png": "[encoded data removed]",
      "text/plain": [
       "<Figure size 432x288 with 1 Axes>"
      ]
     },
     "metadata": {
      "needs_background": "light"
     },
     "output_type": "display_data"
    }
   ],
   "source": [
    "plt.hist(poisson, bins=25)"
   ]
  },
  {
   "cell_type": "code",
   "execution_count": null,
   "id": "f8d4faba",
   "metadata": {},
   "outputs": [],
   "source": []
  },
  {
   "cell_type": "code",
   "execution_count": null,
   "id": "73e67fa4",
   "metadata": {},
   "outputs": [],
   "source": []
  },
  {
   "cell_type": "markdown",
   "id": "701f0afa",
   "metadata": {},
   "source": [
    "#### exponential"
   ]
  },
  {
   "cell_type": "code",
   "execution_count": null,
   "id": "7f6256cc",
   "metadata": {},
   "outputs": [],
   "source": []
  },
  {
   "cell_type": "code",
   "execution_count": 114,
   "id": "4029955a",
   "metadata": {},
   "outputs": [],
   "source": [
    "exponential = rng.exponential(10.0, 100)"
   ]
  },
  {
   "cell_type": "code",
   "execution_count": 115,
   "id": "277826e4",
   "metadata": {},
   "outputs": [
    {
     "data": {
      "text/plain": [
       "array([ 7.46767866,  4.62999363,  3.69042419, 11.25889227,  1.53173888,\n",
       "        8.25523348,  1.92068415,  8.83022385,  8.98131424, 10.90486094,\n",
       "       53.75721764,  4.04627383,  0.24214217, 31.75776846, 20.67685846,\n",
       "        2.5453692 , 15.63410442,  7.09698022,  0.30588195, 13.68836992,\n",
       "        7.92064794,  1.2872746 , 12.41287948,  8.9686599 ,  8.0997158 ,\n",
       "       34.44078822, 10.47136062,  0.8911693 ,  5.43901964,  9.01746438,\n",
       "       13.78594282, 10.84637473,  5.15509384, 15.16578684,  1.19269259,\n",
       "        0.13551235, 10.10789677,  1.74628356, 16.38710393, 34.46646518,\n",
       "        3.62104563, 26.25709926,  3.5993514 , 11.10293796,  0.25856022,\n",
       "        6.95903681,  1.62152078, 13.40293417, 16.28051147,  2.73170907,\n",
       "        5.16740709,  2.31812764, 14.49159112, 17.62837252,  1.91919277,\n",
       "        5.10008551,  0.61749516, 35.63214928,  6.35174312,  8.57171886,\n",
       "        0.28672379, 17.71560439,  6.19439921,  2.96477573, 26.38861933,\n",
       "       26.55872709,  6.7096933 ,  6.40469947,  2.84888358, 14.15785554,\n",
       "        0.71576407, 10.10254962,  5.27525106, 37.66207553,  6.90028872,\n",
       "        0.7533712 ,  9.16028148, 10.13778063, 10.23031562, 39.56150379,\n",
       "        1.04671882,  4.7792627 ,  1.78082181,  0.76551501,  5.5750186 ,\n",
       "        1.90788767,  1.24228537,  8.59696141, 13.49977816,  1.8739354 ,\n",
       "        6.00754416, 16.0479241 , 15.01625665,  2.94670841,  6.65844508,\n",
       "        0.37269764, 17.04869451, 57.41830946,  4.36129035,  3.32876898])"
      ]
     },
     "execution_count": 115,
     "metadata": {},
     "output_type": "execute_result"
    }
   ],
   "source": [
    "exponential"
   ]
  },
  {
   "cell_type": "code",
   "execution_count": 122,
   "id": "ebbbd1ca",
   "metadata": {},
   "outputs": [
    {
     "data": {
      "text/plain": [
       "(array([14., 10.,  6.,  6.,  7.,  8.,  4.,  8.,  4.,  5.,  1.,  4.,  3.,\n",
       "         3.,  3.,  2.,  0.,  1.,  0.,  0.,  0.,  0.,  2.,  1.,  0.,  0.,\n",
       "         0.,  1.,  0.,  2.,  1.,  0.,  1.,  0.,  1.,  0.,  0.,  0.,  0.,\n",
       "         0.,  0.,  0.,  0.,  0.,  0.,  0.,  1.,  0.,  0.,  1.]),\n",
       " array([ 0.13551235,  1.28116829,  2.42682423,  3.57248017,  4.71813612,\n",
       "         5.86379206,  7.009448  ,  8.15510394,  9.30075988, 10.44641583,\n",
       "        11.59207177, 12.73772771, 13.88338365, 15.0290396 , 16.17469554,\n",
       "        17.32035148, 18.46600742, 19.61166337, 20.75731931, 21.90297525,\n",
       "        23.04863119, 24.19428713, 25.33994308, 26.48559902, 27.63125496,\n",
       "        28.7769109 , 29.92256685, 31.06822279, 32.21387873, 33.35953467,\n",
       "        34.50519062, 35.65084656, 36.7965025 , 37.94215844, 39.08781439,\n",
       "        40.23347033, 41.37912627, 42.52478221, 43.67043815, 44.8160941 ,\n",
       "        45.96175004, 47.10740598, 48.25306192, 49.39871787, 50.54437381,\n",
       "        51.69002975, 52.83568569, 53.98134164, 55.12699758, 56.27265352,\n",
       "        57.41830946]),\n",
       " <BarContainer object of 50 artists>)"
      ]
     },
     "execution_count": 122,
     "metadata": {},
     "output_type": "execute_result"
    },
    {
     "data": {
      "image/png": "[encoded data removed]",
      "text/plain": [
       "<Figure size 432x288 with 1 Axes>"
      ]
     },
     "metadata": {
      "needs_background": "light"
     },
     "output_type": "display_data"
    }
   ],
   "source": [
    "\n",
    "plt.hist(exponential, bins=50)"
   ]
  },
  {
   "cell_type": "code",
   "execution_count": 118,
   "id": "73d20b2f",
   "metadata": {},
   "outputs": [],
   "source": [
    "# Repeating the random generation with a higher sample size of 10000\n",
    "exponential_higher = rng.exponential(10.0, 10000)"
   ]
  },
  {
   "cell_type": "code",
   "execution_count": 123,
   "id": "89cfbe6e",
   "metadata": {},
   "outputs": [
    {
     "data": {
      "text/plain": [
       "(array([1.756e+03, 1.434e+03, 1.162e+03, 1.008e+03, 7.900e+02, 6.990e+02,\n",
       "        5.600e+02, 4.410e+02, 3.710e+02, 2.730e+02, 2.440e+02, 2.230e+02,\n",
       "        1.920e+02, 1.530e+02, 1.040e+02, 1.080e+02, 7.700e+01, 6.400e+01,\n",
       "        6.200e+01, 4.500e+01, 4.800e+01, 3.000e+01, 2.800e+01, 2.900e+01,\n",
       "        1.700e+01, 1.900e+01, 1.300e+01, 9.000e+00, 7.000e+00, 4.000e+00,\n",
       "        8.000e+00, 6.000e+00, 2.000e+00, 0.000e+00, 1.000e+00, 1.000e+00,\n",
       "        0.000e+00, 4.000e+00, 3.000e+00, 1.000e+00, 1.000e+00, 0.000e+00,\n",
       "        0.000e+00, 0.000e+00, 1.000e+00, 0.000e+00, 0.000e+00, 1.000e+00,\n",
       "        0.000e+00, 1.000e+00]),\n",
       " array([1.33772586e-03, 1.89213187e+00, 3.78292601e+00, 5.67372015e+00,\n",
       "        7.56451429e+00, 9.45530843e+00, 1.13461026e+01, 1.32368967e+01,\n",
       "        1.51276908e+01, 1.70184850e+01, 1.89092791e+01, 2.08000733e+01,\n",
       "        2.26908674e+01, 2.45816615e+01, 2.64724557e+01, 2.83632498e+01,\n",
       "        3.02540440e+01, 3.21448381e+01, 3.40356322e+01, 3.59264264e+01,\n",
       "        3.78172205e+01, 3.97080147e+01, 4.15988088e+01, 4.34896029e+01,\n",
       "        4.53803971e+01, 4.72711912e+01, 4.91619854e+01, 5.10527795e+01,\n",
       "        5.29435736e+01, 5.48343678e+01, 5.67251619e+01, 5.86159561e+01,\n",
       "        6.05067502e+01, 6.23975443e+01, 6.42883385e+01, 6.61791326e+01,\n",
       "        6.80699268e+01, 6.99607209e+01, 7.18515150e+01, 7.37423092e+01,\n",
       "        7.56331033e+01, 7.75238975e+01, 7.94146916e+01, 8.13054857e+01,\n",
       "        8.31962799e+01, 8.50870740e+01, 8.69778682e+01, 8.88686623e+01,\n",
       "        9.07594565e+01, 9.26502506e+01, 9.45410447e+01]),\n",
       " <BarContainer object of 50 artists>)"
      ]
     },
     "execution_count": 123,
     "metadata": {},
     "output_type": "execute_result"
    },
    {
     "data": {
      "image/png": "[encoded data removed]",
      "text/plain": [
       "<Figure size 432x288 with 1 Axes>"
      ]
     },
     "metadata": {
      "needs_background": "light"
     },
     "output_type": "display_data"
    }
   ],
   "source": [
    "# As the sample size increases, the distribition becoms more smooth\n",
    "plt.hist(exponential_higher, bins=50)"
   ]
  },
  {
   "cell_type": "code",
   "execution_count": null,
   "id": "fbda5fc8",
   "metadata": {},
   "outputs": [],
   "source": []
  },
  {
   "cell_type": "markdown",
   "id": "f1d06052",
   "metadata": {},
   "source": [
    "## Seeds"
   ]
  },
  {
   "cell_type": "code",
   "execution_count": null,
   "id": "495f9ee6",
   "metadata": {},
   "outputs": [],
   "source": []
  },
  {
   "cell_type": "code",
   "execution_count": null,
   "id": "60777f1b",
   "metadata": {},
   "outputs": [],
   "source": []
  },
  {
   "cell_type": "code",
   "execution_count": null,
   "id": "61ac8ead",
   "metadata": {},
   "outputs": [],
   "source": []
  },
  {
   "cell_type": "code",
   "execution_count": null,
   "id": "fb123059",
   "metadata": {},
   "outputs": [],
   "source": []
  },
  {
   "cell_type": "code",
   "execution_count": null,
   "id": "a8f00e30",
   "metadata": {},
   "outputs": [],
   "source": []
  },
  {
   "cell_type": "code",
   "execution_count": null,
   "id": "00c70b28",
   "metadata": {},
   "outputs": [],
   "source": []
  },
  {
   "cell_type": "markdown",
   "id": "8e9207f5",
   "metadata": {},
   "source": [
    "## References"
   ]
  },
  {
   "cell_type": "code",
   "execution_count": null,
   "id": "fdd50c4a",
   "metadata": {},
   "outputs": [],
   "source": []
  },
  {
   "cell_type": "code",
   "execution_count": null,
   "id": "a463f019",
   "metadata": {},
   "outputs": [],
   "source": []
  },
  {
   "cell_type": "code",
   "execution_count": null,
   "id": "1cef68d2",
   "metadata": {},
   "outputs": [],
   "source": []
  }
 ],
 "metadata": {
  "kernelspec": {
   "display_name": "Python 3",
   "language": "python",
   "name": "python3"
  },
  "language_info": {
   "codemirror_mode": {
    "name": "ipython",
    "version": 3
   },
   "file_extension": ".py",
   "mimetype": "text/x-python",
   "name": "python",
   "nbconvert_exporter": "python",
   "pygments_lexer": "ipython3",
   "version": "3.8.8"
  }
 },
 "nbformat": 4,
 "nbformat_minor": 5
}
