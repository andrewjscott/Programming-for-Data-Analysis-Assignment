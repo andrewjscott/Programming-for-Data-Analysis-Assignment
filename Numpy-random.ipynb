{
 "cells": [
  {
   "cell_type": "markdown",
   "id": "0bb781ed",
   "metadata": {},
   "source": [
    "# The numpy.random package\n",
    "---"
   ]
  },
  {
   "cell_type": "markdown",
   "id": "6d35d06f-4a4d-46ef-9667-36b86c6cb1af",
   "metadata": {},
   "source": [
    "# Table of Contents\n",
    "* <b id=\"toc1\">[Randomness](#h1)</b>\n",
    "* <b id=\"toc2\">[NumPy's Random Module](#h2)</b>\n",
    "* <b id=\"toc3\">[\"Simple Random Data\" Functions](#h3)</b>\n",
    "    * <b id=\"toc4\">[integers](#h4)</b>\n",
    "    * <b id=\"toc5\">[random](#h5)</b>\n",
    "    * <b id=\"toc6\">[choice](#h6)</b>\n",
    "    * <b id=\"toc7\">[bytes](#h7)</b>\n",
    "* <b id=\"toc8\">[\"Permutations\" functions](#h8)</b>\n",
    "    * <b id=\"toc9\">[shuffle](#h9)</b>\n",
    "    * <b id=\"toc10\">[permutation](#h10)</b>\n",
    "    * <b id=\"toc11\">[permuted](#h11)</b>\n",
    "* <b id=\"toc12\">[Distributions](#h12)</b>\n",
    "    * <b id=\"toc13\">[binomial](#h13)</b>\n",
    "    * <b id=\"toc14\">[normal](#h14)</b>\n",
    "    * <b id=\"toc15\">[uniform](#h15)</b>\n",
    "    * <b id=\"toc16\">[poisson](#h16)</b>\n",
    "    * <b id=\"toc17\">[exponential](#h17)</b>\n",
    "* <b id=\"toc18\">[Seeds](#h18)</b>\n",
    "    * <b id=\"toc19\">[BitGenerators (PCG64 vs Mersenne Twister)](#h19)</b>\n",
    "* <b id=\"toc20\">[References](#h20)</b>\n",
    "------"
   ]
  },
  {
   "cell_type": "markdown",
   "id": "263a9965",
   "metadata": {},
   "source": [
    "## <b id=\"h1\">Randomness</b>"
   ]
  },
  {
   "cell_type": "markdown",
   "id": "def6248e-e69e-4743-978d-ae23f6a09565",
   "metadata": {},
   "source": [
    "Randomness is generally thought of as the unpredictability of an event’s outcome ahead of time<sup id=\"a1\">[1](#f1)</sup>. Even if one outcome is more likely than another, we cannot be certain which outcome will happen until we observe it. This randomness is the basis of many common games of chance, such as flipping a coin or rolling dice. "
   ]
  },
  {
   "cell_type": "markdown",
   "id": "17f46df6-5fd5-4ff6-9960-f38cda36621e",
   "metadata": {},
   "source": [
    "## <b id=\"h2\">NumPy's Random Module</b>"
   ]
  },
  {
   "cell_type": "markdown",
   "id": "e54048aa-43ce-4e05-ac98-d76ca2982dcc",
   "metadata": {},
   "source": [
    "In data science, we will want sometimes want to generate random data for the purposes of simulation<sup id=\"a2\">[2](#f2)</sup>. This can save time. For example, it is much faster to code and run a simulation of a million coin tosses than to physically toss a coin a million times. We can also use simulated data to test and refine models, or to supplement existing data. Random data simulation has also been proposed as a solution to a problem in medical scientific research, where data is often not open due to concerns about patient confidentiality<sup id=\"a3\">[3](#f3)</sup>. A compromise is to simulate the patient data so that the simulated dataset is statistically identical to the original. These “synthetic” datasets can then be open to the public, with any potential identifying variables hidden by the randomising process<sup id=\"a4\">[4](#f4)</sup>.\n",
    "\n",
    "Since computing is completely deterministic, it would be incredibly difficult for one to generate truly random data<sup id=\"a5\">[5](#f5)</sup>. However, the outcome of an event appearing random to an observer might not be due to the fact multiple outcomes are possible. The outcome might instead appear random due to the observer’s ignorance. If the observer had all the relevant information about an event, they would be able to perfectly state the outcome ahead of time, but if they lack the relevant information, then other outcomes might appear equally plausible. Computers take advantage of this ignorance of the user with pseudo-random number generators (PRNGs)<sup id=\"a6\">[6](#f6)</sup>. The coding is completely deterministic, but if the user lacks necessary information about how the algorithm works, then the outcome is considered random from the user’s perspective.\n",
    "\n",
    "While python has a built-in random module, a more powerful alternative is provided by NumPy’s random module. NumPy is a package that allows for fast calculations with arrays<sup id=\"a7\">[7](#f7)</sup>. This feature extends to the generation of random values, where NumPy random can quickly generate not only single random values, but can also generate random arrays. As noted by Wes McKinney when discussing NumPy’s random module, “Python’s built-in random module, by contrast, only samples one value at a time… (and) numpy.random is well over an order of magnitude faster for generating very large samples”<sup id=\"a8\">[8](#f8)</sup>. This makes NumPy a more powerful choice when it comes to generating larger random datasets for simulations. Many of NumPy random’s methods will now be discussed in turn. \n"
   ]
  },
  {
   "cell_type": "markdown",
   "id": "981690cc-204d-4c29-8bf4-400885a849b6",
   "metadata": {},
   "source": [
    "To use the numpy.random module, we first need to import numpy, which by convention is generally imported as np. To visualise some of the random data that will be generated, matplotlib.pyplot will also be imported to generate plots of the data. A magic command has also been added as it helps to display plot within a notebook<sup id=\"a9\">[9](#f9)</sup>."
   ]
  },
  {
   "cell_type": "code",
   "execution_count": 1,
   "id": "57ab90f1",
   "metadata": {},
   "outputs": [],
   "source": [
    "# Package for numerical calculations and arrays\n",
    "import numpy as np\n",
    "\n",
    "# Generating plots\n",
    "import matplotlib.pyplot as plt\n",
    "\n",
    "# A magic command for helping display matplotlib plots in notebooks\n",
    "%matplotlib inline"
   ]
  },
  {
   "cell_type": "markdown",
   "id": "f20da043-ccd6-460d-b682-e2dc44065243",
   "metadata": {},
   "source": [
    "The numpy.random documentation recommends that before calling on any methods, that a new generator is called using the default PRNG, which can be done with the following code. The varible that points to this code will be used throughout to call on numpy.random's functions<sup id=\"a10\">[10](#f10)</sup>. "
   ]
  },
  {
   "cell_type": "code",
   "execution_count": 2,
   "id": "bf3070b6-6b3a-42d6-948c-9b6c0b5c9e95",
   "metadata": {},
   "outputs": [],
   "source": [
    "# Construct a new Generator with the default BitGenerator (PCG64)\n",
    "rng = np.random.default_rng()"
   ]
  },
  {
   "cell_type": "markdown",
   "id": "32657df0-737d-451d-bba4-c06841489b33",
   "metadata": {},
   "source": [
    "The sections below will begin with the structure of the code needed to run each function, as presented in the numpy.random v1.21 documentation<sup id=\"a10\">[10](#f10)</sup>. For example, the code presented for the integers function is random.Generator.integers(low, high=None, size=None, dtype=np.int64, endpoint=False). This means that to run our code we will use the variable assigned to our random generator followed by a period and the function name, then followed by parantheses which contain the arguments that we wish use. Arguments without equal signs are neccessary and must be passed, otherwise the code will not runreturn an error. Arguments with equal signs are optional. If these are not passed by the user, then numpy.random will just use default values for these arguments. "
   ]
  },
  {
   "cell_type": "markdown",
   "id": "aa5f4122",
   "metadata": {},
   "source": [
    "## <b id=\"h3\">\"Simple Random Data\" Functions</b>\n",
    "---------------------------------"
   ]
  },
  {
   "cell_type": "markdown",
   "id": "b8f3f046-8101-4d85-bb49-d9ff3afd65f0",
   "metadata": {},
   "source": [
    "There are four ‘Simple Random Data’ functions for the fast generation of random data. "
   ]
  },
  {
   "cell_type": "markdown",
   "id": "f64d8a0c",
   "metadata": {},
   "source": [
    "### <b id=\"h4\">integers</b><sup id=\"a11\">[11](#f11)</sup>"
   ]
  },
  {
   "cell_type": "markdown",
   "id": "664f13fd",
   "metadata": {},
   "source": [
    "random.Generator.integers(low, high=None, size=None, dtype=np.int64, endpoint=False)"
   ]
  },
  {
   "cell_type": "markdown",
   "id": "b72aeeee-05e6-4834-944f-2bc8eec4eb0b",
   "metadata": {},
   "source": [
    "The integers function is used for the generation of integers, from a single integer to entire arrays. If only a single number is passed as an argument, the function will generate an integer between 0 and the number entered, with the higher number exclusive. In the example below, as 3 is entered as the argument, the randomly generated integer will be either 0, 1, or 2. "
   ]
  },
  {
   "cell_type": "code",
   "execution_count": 3,
   "id": "524a83ff-53ce-4e71-921a-92dae47df827",
   "metadata": {},
   "outputs": [
    {
     "data": {
      "text/plain": [
       "0"
      ]
     },
     "execution_count": 3,
     "metadata": {},
     "output_type": "execute_result"
    }
   ],
   "source": [
    "# Generate a single integer.\n",
    "\n",
    "random_int = rng.integers(3)\n",
    "random_int"
   ]
  },
  {
   "cell_type": "markdown",
   "id": "aea3516c-9e15-4847-9b98-6dc5d244168a",
   "metadata": {},
   "source": [
    "If we do not enter a number, the code will not work, and will return an error message that at least one argument needs to be given."
   ]
  },
  {
   "cell_type": "code",
   "execution_count": 4,
   "id": "0059fedc-6672-48d4-83e4-6612830d7255",
   "metadata": {},
   "outputs": [
    {
     "ename": "TypeError",
     "evalue": "integers() takes at least 1 positional argument (0 given)",
     "output_type": "error",
     "traceback": [
      "\u001b[1;31m---------------------------------------------------------------------------\u001b[0m",
      "\u001b[1;31mTypeError\u001b[0m                                 Traceback (most recent call last)",
      "\u001b[1;32m<ipython-input-4-903de47dc9f0>\u001b[0m in \u001b[0;36m<module>\u001b[1;34m\u001b[0m\n\u001b[0;32m      1\u001b[0m \u001b[1;31m# This will return an error as no argumentshave been passed.\u001b[0m\u001b[1;33m\u001b[0m\u001b[1;33m\u001b[0m\u001b[1;33m\u001b[0m\u001b[0m\n\u001b[1;32m----> 2\u001b[1;33m \u001b[0mrng\u001b[0m\u001b[1;33m.\u001b[0m\u001b[0mintegers\u001b[0m\u001b[1;33m(\u001b[0m\u001b[1;33m)\u001b[0m\u001b[1;33m\u001b[0m\u001b[1;33m\u001b[0m\u001b[0m\n\u001b[0m",
      "\u001b[1;32m_generator.pyx\u001b[0m in \u001b[0;36mnumpy.random._generator.Generator.integers\u001b[1;34m()\u001b[0m\n",
      "\u001b[1;31mTypeError\u001b[0m: integers() takes at least 1 positional argument (0 given)"
     ]
    }
   ],
   "source": [
    "# This will return an error as no argumentshave been passed.\n",
    "rng.integers()"
   ]
  },
  {
   "cell_type": "markdown",
   "id": "60769269-a537-46c2-9892-e5864d6f17a0",
   "metadata": {},
   "source": [
    "We can generate more than one number by specifying the size. For the below example, entering the size as 20 will result in 20 random intergers being returned in an array."
   ]
  },
  {
   "cell_type": "code",
   "execution_count": 5,
   "id": "cbd55f05-81a8-4854-a205-63ba31997a86",
   "metadata": {},
   "outputs": [
    {
     "data": {
      "text/plain": [
       "array([0, 0, 1, 2, 0, 0, 1, 4, 3, 4, 3, 2, 2, 1, 0, 1, 4, 4, 4, 3],\n",
       "      dtype=int64)"
      ]
     },
     "execution_count": 5,
     "metadata": {},
     "output_type": "execute_result"
    }
   ],
   "source": [
    "# Generates an array of 20 random integers from 0-4 (5 not inclusive).\n",
    "rng.integers(5, size = 20)"
   ]
  },
  {
   "cell_type": "markdown",
   "id": "dcd89273-c8b6-4758-9782-2e3f302a7da5",
   "metadata": {},
   "source": [
    "It is worth noting that running the same code again will lead to a brand new array of 20 random numbers. "
   ]
  },
  {
   "cell_type": "code",
   "execution_count": 6,
   "id": "67fe8e08",
   "metadata": {},
   "outputs": [
    {
     "data": {
      "text/plain": [
       "array([2, 4, 3, 4, 3, 2, 2, 0, 2, 3, 3, 2, 3, 0, 1, 1, 1, 2, 2, 0],\n",
       "      dtype=int64)"
      ]
     },
     "execution_count": 6,
     "metadata": {},
     "output_type": "execute_result"
    }
   ],
   "source": [
    "# Generates an array of 20 random integers from 0-4 (5 not inclusive).\n",
    "random_integers2 = rng.integers(5, size = 20)\n",
    "random_integers2"
   ]
  },
  {
   "cell_type": "markdown",
   "id": "e3bda5eb-388e-44e1-9c17-256ad31be328",
   "metadata": {},
   "source": [
    "While we do not need to assign variables for the code to work, by doing so we can reuse this array further in our code should we wish to do so. However, once the session is closed and the code is rerun at a later time, a new random array will be created and stored to the variable, with the original instance lost. If we want a random array that is consistantly reproducable, this will be dealt with in the section on seeding."
   ]
  },
  {
   "cell_type": "code",
   "execution_count": 7,
   "id": "51811f8a-b8a8-4d86-86cf-d334cdaaf958",
   "metadata": {},
   "outputs": [
    {
     "data": {
      "text/plain": [
       "array([2, 4, 3, 4, 3, 2, 2, 0, 2, 3, 3, 2, 3, 0, 1, 1, 1, 2, 2, 0],\n",
       "      dtype=int64)"
      ]
     },
     "execution_count": 7,
     "metadata": {},
     "output_type": "execute_result"
    }
   ],
   "source": [
    "# Recalling the variable to see the randomly generated array produced earlier\n",
    "random_integers2"
   ]
  },
  {
   "cell_type": "markdown",
   "id": "373cc3bb-d392-450e-9a53-6e77f43791af",
   "metadata": {},
   "source": [
    "We can specify the lowest and highest random numbers that can be selected. In this instance the lowest number is 10, which is inclusive. High being 25 means 24 is the highest number, as high is exclusive. We can also create a multidimensional array by specifying the size. In this instance size=(2,4) returns a 2x4 array"
   ]
  },
  {
   "cell_type": "code",
   "execution_count": 8,
   "id": "9be7070c",
   "metadata": {},
   "outputs": [
    {
     "data": {
      "text/plain": [
       "array([[24, 12, 21, 16],\n",
       "       [20, 21, 20, 13]], dtype=int64)"
      ]
     },
     "execution_count": 8,
     "metadata": {},
     "output_type": "execute_result"
    }
   ],
   "source": [
    "# Generate a random 2x4 array of numbers between 10 and 24.\n",
    "rng.integers(low=10, high=25, size=(2,4))"
   ]
  },
  {
   "cell_type": "markdown",
   "id": "9ed298d1",
   "metadata": {},
   "source": [
    "### <b id=\"h5\">random</b><sup id=\"a12\">[12](#f12)</sup>"
   ]
  },
  {
   "cell_type": "markdown",
   "id": "43aef6de",
   "metadata": {},
   "source": [
    "random.Generator.random(size=None, dtype=np.float64, out=None)"
   ]
  },
  {
   "cell_type": "markdown",
   "id": "4ccf4625-84bb-426d-9992-1f750726fdc1",
   "metadata": {},
   "source": [
    "The random function is used to return floating point numbers between 0.0 and 1.0."
   ]
  },
  {
   "cell_type": "markdown",
   "id": "45195ad6-7e4d-4d0c-8c66-f3292b41d591",
   "metadata": {},
   "source": [
    "Unlike with the integers function, random will work without passing an argument. If we do this, it will return a single floating point value betweeen 0.0 and 1.0."
   ]
  },
  {
   "cell_type": "code",
   "execution_count": 9,
   "id": "a430790b-6ffa-4459-886f-6efb5a388c4e",
   "metadata": {},
   "outputs": [
    {
     "data": {
      "text/plain": [
       "0.7032268451766982"
      ]
     },
     "execution_count": 9,
     "metadata": {},
     "output_type": "execute_result"
    }
   ],
   "source": [
    "# Generate a single random float between 0.0 and 1.0.\n",
    "rng.random()"
   ]
  },
  {
   "cell_type": "markdown",
   "id": "7f3c57ce-1cfa-4e79-b131-9ba5ec0f991d",
   "metadata": {},
   "source": [
    "If we need more than one random float, we can do this by specifying the size to the amount of random numbers we would like returned."
   ]
  },
  {
   "cell_type": "code",
   "execution_count": 10,
   "id": "5137a780-c968-4814-b3a5-aa0cc8f399e7",
   "metadata": {},
   "outputs": [
    {
     "data": {
      "text/plain": [
       "array([0.37374116, 0.45421289, 0.9097844 , 0.28583312, 0.01906097,\n",
       "       0.8672242 , 0.92399418, 0.97052619, 0.58806589, 0.94674975,\n",
       "       0.86996825, 0.78939184, 0.98349057, 0.59280869, 0.28362291,\n",
       "       0.55358589, 0.39231848, 0.30992002, 0.83466991, 0.39098923])"
      ]
     },
     "execution_count": 10,
     "metadata": {},
     "output_type": "execute_result"
    }
   ],
   "source": [
    "# Returns 20 random floats between 0.0 and 1.0\n",
    "rng.random(size = 20)"
   ]
  },
  {
   "cell_type": "markdown",
   "id": "285b8380-8ae6-4f1d-86e3-354cf39962cc",
   "metadata": {},
   "source": [
    "Multidimensional arrays can be generated by adding more than one value to the size argument in parentheses."
   ]
  },
  {
   "cell_type": "code",
   "execution_count": 11,
   "id": "2d4e89b7",
   "metadata": {},
   "outputs": [
    {
     "data": {
      "text/plain": [
       "array([[0.35151245, 0.34711072, 0.08905611, 0.91303518, 0.39323113],\n",
       "       [0.60683116, 0.76579529, 0.59173192, 0.0971967 , 0.3972289 ],\n",
       "       [0.24554398, 0.04914747, 0.04100627, 0.46998106, 0.86680329]])"
      ]
     },
     "execution_count": 11,
     "metadata": {},
     "output_type": "execute_result"
    }
   ],
   "source": [
    "# Create 3 random arrays of 5 floats between 0.0 and 1.0\n",
    "rng.random(size = (3, 5))"
   ]
  },
  {
   "cell_type": "markdown",
   "id": "28b61d21-7d5d-4e97-a847-59e0b48ec2c1",
   "metadata": {},
   "source": [
    "Since the power of NumPy is in fast calculations with arrays, we can take advantage of this to create random arrays of values greater than 1.0. The example below multiplies the randomly generated floats by 10 before returning the array to us."
   ]
  },
  {
   "cell_type": "code",
   "execution_count": 12,
   "id": "0f2379e9",
   "metadata": {},
   "outputs": [
    {
     "data": {
      "text/plain": [
       "array([7.45390731, 4.4548851 , 0.8055484 , 5.24811085, 0.70378558])"
      ]
     },
     "execution_count": 12,
     "metadata": {},
     "output_type": "execute_result"
    }
   ],
   "source": [
    "# Multiplying a randomly created array of floats by 10.\n",
    "10 * rng.random(size = 5)"
   ]
  },
  {
   "cell_type": "markdown",
   "id": "61f94151",
   "metadata": {},
   "source": [
    "### <b id=\"h6\">choice</b> <sup id=\"a13\">[13](#f13)</sup>"
   ]
  },
  {
   "cell_type": "markdown",
   "id": "c016e084",
   "metadata": {},
   "source": [
    "random.Generator.choice(a, size=None, replace=True, p=None, axis=0, shuffle=True)"
   ]
  },
  {
   "cell_type": "markdown",
   "id": "c987ff77-5516-4dcc-8e85-4be242bebe42",
   "metadata": {},
   "source": [
    "The choice function takes an array as an argument, and returns random values from that array to the user based on the parameters passed in by the user. Entering a single integer as an arguments means choice will select a random integer in the range of numbers from 0 up to the entered number."
   ]
  },
  {
   "cell_type": "code",
   "execution_count": 13,
   "id": "cca00237-f499-4b03-8504-0367d08c28c0",
   "metadata": {},
   "outputs": [
    {
     "data": {
      "text/plain": [
       "3"
      ]
     },
     "execution_count": 13,
     "metadata": {},
     "output_type": "execute_result"
    }
   ],
   "source": [
    "# Chooses a random number between 0 and 5 to return to the user\n",
    "rng.choice(5)"
   ]
  },
  {
   "cell_type": "markdown",
   "id": "597377af-064c-4be6-9de7-700b7ea73d9b",
   "metadata": {},
   "source": [
    "We can ask choice to return more values by specifying them alongside the initial number. In the below example, (10,3) means the cdode will return 3 numbers between 0 and 10. "
   ]
  },
  {
   "cell_type": "code",
   "execution_count": 14,
   "id": "3681bd76",
   "metadata": {},
   "outputs": [
    {
     "data": {
      "text/plain": [
       "array([3, 4, 3], dtype=int64)"
      ]
     },
     "execution_count": 14,
     "metadata": {},
     "output_type": "execute_result"
    }
   ],
   "source": [
    "# Takes 10 as an input and then selects 3 random ints up to 10\n",
    "rng.choice(10, 3)"
   ]
  },
  {
   "cell_type": "markdown",
   "id": "121e5a76-a584-4b39-8443-c43ff0e64052",
   "metadata": {},
   "source": [
    "In the above examples, the exact same outcome can be achieved by using the integers function. The below examples show where choice differs. For example, we can pass in a list of strings and ask choice to return a random item from that list to us. If we have a list of colours, and then pass that list as an argument using choice, we will get one colour randomly returned. "
   ]
  },
  {
   "cell_type": "code",
   "execution_count": 15,
   "id": "6adfb758",
   "metadata": {},
   "outputs": [
    {
     "data": {
      "text/plain": [
       "'black'"
      ]
     },
     "execution_count": 15,
     "metadata": {},
     "output_type": "execute_result"
    }
   ],
   "source": [
    "# A list of colours\n",
    "colours = [\"red\", \"blue\", \"green\", \"black\", \"yellow\"]\n",
    "\n",
    "# Using choice to randomly pick a colour\n",
    "rng.choice(colours)"
   ]
  },
  {
   "cell_type": "markdown",
   "id": "29dc07ee-37ef-459d-852f-689a827af73b",
   "metadata": {},
   "source": [
    "We can again get more than one value returned by specifying the size. By default, when selecting multiple items from a list, choice will replace the item chosen each time. That is to say, if we have 5 items in a list and choice picks one, the chosen item will be returned to the list where it can potentially be chosen again. If we don't want this to happen, we can set replacement to false. This means that when something is randomly chosen from our 5 item list, the chosen item will not be returned and cannot be selected again, meaning only one of the remaining 4 items from the list can be chosen. "
   ]
  },
  {
   "cell_type": "code",
   "execution_count": 16,
   "id": "f0ea7bc4-8197-4b65-a614-9a12bd64c13b",
   "metadata": {},
   "outputs": [
    {
     "data": {
      "text/plain": [
       "array(['green', 'blue', 'yellow'], dtype='<U6')"
      ]
     },
     "execution_count": 16,
     "metadata": {},
     "output_type": "execute_result"
    }
   ],
   "source": [
    "# Selecting 3 random colours without replacement. \n",
    "rng.choice(colours, size= 3, replace=False)"
   ]
  },
  {
   "cell_type": "markdown",
   "id": "008f38c8-ecc3-4ded-9d57-bd0e425a986b",
   "metadata": {},
   "source": [
    "We can add probabilitys to bias the outcome chosen in certain directions. With our list of colors, we can bias the outcome by adding an array of values with the same amount of values as there are items in our list, which in this instance is 5. The values of p should add to 1. With the last value being the highest at 0., this means the last item in our list (yellow), is more likely to be randomly chosen, followed by black with a value of 0.3. The remaining items may still be chosen, but will not be chosen as frquently were the code run multiple times. "
   ]
  },
  {
   "cell_type": "code",
   "execution_count": 17,
   "id": "b0cd33c4",
   "metadata": {},
   "outputs": [
    {
     "data": {
      "text/plain": [
       "array(['yellow', 'yellow'], dtype='<U6')"
      ]
     },
     "execution_count": 17,
     "metadata": {},
     "output_type": "execute_result"
    }
   ],
   "source": [
    "# Select two colours randomly with replacement and a biased outcome\n",
    "rng.choice(colours, size=2, p = np.array([0.1, 0.1, 0.1, 0.3, 0.4]))"
   ]
  },
  {
   "cell_type": "markdown",
   "id": "27b13d59",
   "metadata": {},
   "source": [
    "### <b id=\"h7\">bytes<b id=\"h7\"> <sup id=\"a14\">[14](#f14)</sup>"
   ]
  },
  {
   "cell_type": "markdown",
   "id": "414bd523",
   "metadata": {},
   "source": [
    "random.Generator.bytes(length)"
   ]
  },
  {
   "cell_type": "markdown",
   "id": "27200812-348c-4e22-a0a2-b1ef5889c95f",
   "metadata": {},
   "source": [
    "The bytes function only takes a single argument, and returns random bytes of the length passed. Random byte generation can be used in cryptography. However, PRNGs should not be used for security or cryptography purposes as they are not secure enough for this purpose.<sup id=\"a15\">[15](#f15)</sup>."
   ]
  },
  {
   "cell_type": "code",
   "execution_count": 18,
   "id": "de2cc869",
   "metadata": {},
   "outputs": [
    {
     "data": {
      "text/plain": [
       "b'\\x0cre*\\xe2'"
      ]
     },
     "execution_count": 18,
     "metadata": {},
     "output_type": "execute_result"
    }
   ],
   "source": [
    "# Return 5 random bytes\n",
    "rng.bytes(5)"
   ]
  },
  {
   "cell_type": "markdown",
   "id": "3607c364",
   "metadata": {},
   "source": [
    "## <b id=\"h8\">\"Permutations\" functions</b>\n",
    "---"
   ]
  },
  {
   "cell_type": "markdown",
   "id": "78b6fa81-f64e-40a2-bf42-5bbecf803bcd",
   "metadata": {},
   "source": [
    "The three Permutation methods can all be used for the random rearranging of items within an array."
   ]
  },
  {
   "cell_type": "markdown",
   "id": "02af79ca",
   "metadata": {},
   "source": [
    "### <b id=\"h9\">shuffle</b><sup id=\"a16\">[16](#f16)</sup>"
   ]
  },
  {
   "cell_type": "markdown",
   "id": "7d40d4c6",
   "metadata": {},
   "source": [
    "random.Generator.shuffle(x, axis=0)"
   ]
  },
  {
   "cell_type": "markdown",
   "id": "ebab81a3-2d14-49ff-975f-4f052c9133c9",
   "metadata": {},
   "source": [
    "The shuffle function takes in an a sequence or an array and returns everything in a new random order. Below we will create a variable containing the integers from 0-9 that we will then shuffle."
   ]
  },
  {
   "cell_type": "code",
   "execution_count": 19,
   "id": "bb7493e9",
   "metadata": {},
   "outputs": [
    {
     "data": {
      "text/plain": [
       "array([0, 1, 2, 3, 4, 5, 6, 7, 8, 9])"
      ]
     },
     "execution_count": 19,
     "metadata": {},
     "output_type": "execute_result"
    }
   ],
   "source": [
    "# Assign the range 0-9 (10 not inclusive) to the variable digits\n",
    "digits = np.arange(10)\n",
    "digits"
   ]
  },
  {
   "cell_type": "code",
   "execution_count": 20,
   "id": "a8dc1311-c236-45c3-a819-6727e2d80a28",
   "metadata": {},
   "outputs": [],
   "source": [
    "# Shuffle the array digits\n",
    "rng.shuffle(digits)"
   ]
  },
  {
   "cell_type": "markdown",
   "id": "c2be99a9-5ced-41c4-8bc0-fb4804f56def",
   "metadata": {},
   "source": [
    "Of note is that the shuffle function will alter the order of an array in place, which changes the contents of a variable. This means in this instance that the variable digits will no longer point to the array ([0, 1, 2, 3, 4, 5, 6, 7, 8, 9]). Rather, it will return the order they were shuffled into."
   ]
  },
  {
   "cell_type": "code",
   "execution_count": 21,
   "id": "08e9417d",
   "metadata": {},
   "outputs": [
    {
     "data": {
      "text/plain": [
       "array([1, 4, 6, 2, 8, 9, 7, 3, 5, 0])"
      ]
     },
     "execution_count": 21,
     "metadata": {},
     "output_type": "execute_result"
    }
   ],
   "source": [
    "# Returnn the shuffled array\n",
    "digits"
   ]
  },
  {
   "cell_type": "markdown",
   "id": "d08c2f7d-1b66-4880-9675-f2024da2f700",
   "metadata": {},
   "source": [
    "Shuffle can also be used to randomly reorder a list containing strings. "
   ]
  },
  {
   "cell_type": "code",
   "execution_count": 22,
   "id": "2687ab4c",
   "metadata": {},
   "outputs": [
    {
     "data": {
      "text/plain": [
       "['one', 'two', 'three', 'four', 'five', 'six', 'seven', 'eight', 'nine']"
      ]
     },
     "execution_count": 22,
     "metadata": {},
     "output_type": "execute_result"
    }
   ],
   "source": [
    "# Create a list of strings for the digits 0-9\n",
    "string_digits = [\"one\", \"two\", \"three\", \"four\", \"five\", \"six\", \"seven\", \"eight\", \"nine\"]\n",
    "string_digits"
   ]
  },
  {
   "cell_type": "code",
   "execution_count": 23,
   "id": "8569804c",
   "metadata": {},
   "outputs": [
    {
     "data": {
      "text/plain": [
       "['one', 'nine', 'two', 'eight', 'three', 'five', 'seven', 'four', 'six']"
      ]
     },
     "execution_count": 23,
     "metadata": {},
     "output_type": "execute_result"
    }
   ],
   "source": [
    "# Shuffle the list of strings and return it\n",
    "rng.shuffle(string_digits)\n",
    "string_digits"
   ]
  },
  {
   "cell_type": "markdown",
   "id": "b6d8cf5e-c0b7-4700-b3ad-f80596f00648",
   "metadata": {},
   "source": [
    "Shuffle can also be used to randomly reorder arrays, but it should be noted that the reordering will only take place along one dimension at a time. This means that shuffle can change the order of a row or a column, but it will not shuffle an item to both a new row and a new column at the same time."
   ]
  },
  {
   "cell_type": "code",
   "execution_count": 24,
   "id": "ca3d6b3e",
   "metadata": {},
   "outputs": [
    {
     "data": {
      "text/plain": [
       "array([[0, 1, 2],\n",
       "       [3, 4, 5],\n",
       "       [6, 7, 8]])"
      ]
     },
     "execution_count": 24,
     "metadata": {},
     "output_type": "execute_result"
    }
   ],
   "source": [
    "# Create a 3x3 array containing 0-8\n",
    "three_by_three = np.arange(9).reshape(3, 3)\n",
    "three_by_three"
   ]
  },
  {
   "cell_type": "markdown",
   "id": "fb4ce414-e306-4618-9812-25980f0f6ed5",
   "metadata": {},
   "source": [
    "By default, using shuffle on an array will rearrange the position of rows but will leave the items from each row in the original order"
   ]
  },
  {
   "cell_type": "code",
   "execution_count": 25,
   "id": "7d0f3b86",
   "metadata": {},
   "outputs": [
    {
     "data": {
      "text/plain": [
       "array([[3, 4, 5],\n",
       "       [6, 7, 8],\n",
       "       [0, 1, 2]])"
      ]
     },
     "execution_count": 25,
     "metadata": {},
     "output_type": "execute_result"
    }
   ],
   "source": [
    "rng.shuffle(three_by_three)\n",
    "three_by_three"
   ]
  },
  {
   "cell_type": "markdown",
   "id": "46c70c71-1348-4f05-95ee-09bb5be95833",
   "metadata": {},
   "source": [
    "However, if we set the axis to 1 as an argument, shuffle will instead change the order of the columns rather than rows."
   ]
  },
  {
   "cell_type": "code",
   "execution_count": 26,
   "id": "e48d6e67",
   "metadata": {},
   "outputs": [
    {
     "data": {
      "text/plain": [
       "array([[5, 5, 1, 2, 4],\n",
       "       [6, 3, 3, 6, 5],\n",
       "       [3, 1, 2, 5, 5],\n",
       "       [1, 1, 6, 4, 5],\n",
       "       [5, 4, 3, 3, 4]], dtype=int64)"
      ]
     },
     "execution_count": 26,
     "metadata": {},
     "output_type": "execute_result"
    }
   ],
   "source": [
    "# Generating a random 5x5 array\n",
    "five_by_five = rng.integers(low=1, high=7, size = (5,5))\n",
    "five_by_five"
   ]
  },
  {
   "cell_type": "code",
   "execution_count": 27,
   "id": "140f3eb8",
   "metadata": {},
   "outputs": [
    {
     "data": {
      "text/plain": [
       "array([[5, 2, 1, 5, 4],\n",
       "       [3, 6, 3, 6, 5],\n",
       "       [1, 5, 2, 3, 5],\n",
       "       [1, 4, 6, 1, 5],\n",
       "       [4, 3, 3, 5, 4]], dtype=int64)"
      ]
     },
     "execution_count": 27,
     "metadata": {},
     "output_type": "execute_result"
    }
   ],
   "source": [
    "# Randomly shuffle the order of the 5x5's columns\n",
    "rng.shuffle(five_by_five, axis=1)\n",
    "five_by_five"
   ]
  },
  {
   "cell_type": "markdown",
   "id": "fa6c3926",
   "metadata": {},
   "source": [
    "### <b id=\"h10\">permutation</b><sup id=\"a17\">[17](#f17)</sup>"
   ]
  },
  {
   "cell_type": "markdown",
   "id": "20ab72a1",
   "metadata": {},
   "source": [
    "random.Generator.permutation(x, axis=0)"
   ]
  },
  {
   "cell_type": "markdown",
   "id": "2e6a46e1-eeaa-4a08-bb69-d7a906b88c03",
   "metadata": {},
   "source": [
    "The permutation function will also return the entire contents of an array or list that has been passed to it in a new random order, but unlike shuffle, permutation will leave the original array intact and unchanged."
   ]
  },
  {
   "cell_type": "code",
   "execution_count": 28,
   "id": "4df04e33",
   "metadata": {},
   "outputs": [
    {
     "data": {
      "text/plain": [
       "array([0, 1, 2, 3, 4, 5, 6, 7, 8, 9])"
      ]
     },
     "execution_count": 28,
     "metadata": {},
     "output_type": "execute_result"
    }
   ],
   "source": [
    "# Assign the range 0-9 (10 not inclusive) to the variable digits2\n",
    "digits2 = np.arange(10)\n",
    "digits2"
   ]
  },
  {
   "cell_type": "code",
   "execution_count": 29,
   "id": "ae578d95",
   "metadata": {},
   "outputs": [
    {
     "data": {
      "text/plain": [
       "array([3, 6, 1, 4, 0, 5, 8, 2, 9, 7])"
      ]
     },
     "execution_count": 29,
     "metadata": {},
     "output_type": "execute_result"
    }
   ],
   "source": [
    "# Return the digits list in a new, random order\n",
    "rng.permutation(digits2)"
   ]
  },
  {
   "cell_type": "code",
   "execution_count": 30,
   "id": "68082ad8",
   "metadata": {},
   "outputs": [
    {
     "data": {
      "text/plain": [
       "array([0, 1, 2, 3, 4, 5, 6, 7, 8, 9])"
      ]
     },
     "execution_count": 30,
     "metadata": {},
     "output_type": "execute_result"
    }
   ],
   "source": [
    "# The original order of the variable digits2 is unchanged\n",
    "digits2"
   ]
  },
  {
   "cell_type": "markdown",
   "id": "1dc2886a-c26e-48db-a7f5-9373d9c52681",
   "metadata": {},
   "source": [
    "By default, permutation will rearrange multidimensional arrays in a similar manner to shuffle - it will move entire rows to a new position, but leave the order within each row unchanged."
   ]
  },
  {
   "cell_type": "code",
   "execution_count": 31,
   "id": "1d77197f",
   "metadata": {},
   "outputs": [
    {
     "data": {
      "text/plain": [
       "array([[ 0,  1,  2,  3,  4,  5],\n",
       "       [ 6,  7,  8,  9, 10, 11],\n",
       "       [12, 13, 14, 15, 16, 17],\n",
       "       [18, 19, 20, 21, 22, 23],\n",
       "       [24, 25, 26, 27, 28, 29],\n",
       "       [30, 31, 32, 33, 34, 35]])"
      ]
     },
     "execution_count": 31,
     "metadata": {},
     "output_type": "execute_result"
    }
   ],
   "source": [
    "# A 6x6 array\n",
    "six_by_six = np.arange(36).reshape(6,6)\n",
    "six_by_six"
   ]
  },
  {
   "cell_type": "code",
   "execution_count": 32,
   "id": "59d2e80d-dd99-41ed-af2d-6ffeea3adf82",
   "metadata": {},
   "outputs": [
    {
     "data": {
      "text/plain": [
       "array([[30, 31, 32, 33, 34, 35],\n",
       "       [18, 19, 20, 21, 22, 23],\n",
       "       [24, 25, 26, 27, 28, 29],\n",
       "       [ 0,  1,  2,  3,  4,  5],\n",
       "       [ 6,  7,  8,  9, 10, 11],\n",
       "       [12, 13, 14, 15, 16, 17]])"
      ]
     },
     "execution_count": 32,
     "metadata": {},
     "output_type": "execute_result"
    }
   ],
   "source": [
    "# Randomly reorder the 6x6 array with permutation.\n",
    "rng.permutation(six_by_six)"
   ]
  },
  {
   "cell_type": "markdown",
   "id": "1143d5e2-7711-4e4c-9715-662dd8787876",
   "metadata": {},
   "source": [
    "Permutation performs different to shuffle when axis is set to 1, however. While setiing to axis to 1 when using shuffle would move entre columns, in permutation it will instead shuffle the contents within each row, but leave each row in its original position. "
   ]
  },
  {
   "cell_type": "code",
   "execution_count": 33,
   "id": "c6a4e56c-6e06-49a3-bddb-676db6dd2d40",
   "metadata": {},
   "outputs": [
    {
     "data": {
      "text/plain": [
       "array([[ 2,  4,  0,  3,  1,  5],\n",
       "       [ 8, 10,  6,  9,  7, 11],\n",
       "       [14, 16, 12, 15, 13, 17],\n",
       "       [20, 22, 18, 21, 19, 23],\n",
       "       [26, 28, 24, 27, 25, 29],\n",
       "       [32, 34, 30, 33, 31, 35]])"
      ]
     },
     "execution_count": 33,
     "metadata": {},
     "output_type": "execute_result"
    }
   ],
   "source": [
    "# Shuffle the order of the contents of each row in the 6x6 array\n",
    "rng.permutation(six_by_six, axis=1)"
   ]
  },
  {
   "cell_type": "markdown",
   "id": "d30b4142",
   "metadata": {},
   "source": [
    "### <b id=\"h11\">permuted</b><sup id=\"a18\">[18](#f18)</sup>"
   ]
  },
  {
   "cell_type": "markdown",
   "id": "7b58c3be",
   "metadata": {},
   "source": [
    "random.Generator.permuted(x, axis=None, out=None)"
   ]
  },
  {
   "cell_type": "markdown",
   "id": "d4ad41ae-44e3-4a3f-96a4-7d6621161f81",
   "metadata": {},
   "source": [
    "The permuted function is a more recent addition, as of numpy 1.20<sup id=\"a19\">[19](#f19)</sup>. Permuted is more flexible than either shuffle or permutation. It can be used to rearrange content in-place, like with shuffle, or create a new rearranged copy, like with permutation. By only passing in an array, permuted will leave the original array intact, as permutations does."
   ]
  },
  {
   "cell_type": "code",
   "execution_count": 34,
   "id": "2ceaac73",
   "metadata": {},
   "outputs": [
    {
     "data": {
      "text/plain": [
       "array([[ -3, -14, -12,  -4],\n",
       "       [-16,  -4, -13,  -6],\n",
       "       [ -9,  -6,  -6, -13],\n",
       "       [ -2,  -5, -20,  -2]], dtype=int64)"
      ]
     },
     "execution_count": 34,
     "metadata": {},
     "output_type": "execute_result"
    }
   ],
   "source": [
    "# Generate a random 4x4 array.\n",
    "# Negative random numbers can also be generated.\n",
    "four_by_four = rng.integers(low=-20, high=-1, size = (4,4))\n",
    "four_by_four"
   ]
  },
  {
   "cell_type": "code",
   "execution_count": 35,
   "id": "fa79a853-8a61-49e5-bf5f-b16e1d8ae83b",
   "metadata": {},
   "outputs": [
    {
     "data": {
      "text/plain": [
       "array([[-13,  -6,  -6,  -2],\n",
       "       [-14,  -3, -16,  -6],\n",
       "       [-20,  -9,  -4,  -5],\n",
       "       [-13,  -2, -12,  -4]], dtype=int64)"
      ]
     },
     "execution_count": 35,
     "metadata": {},
     "output_type": "execute_result"
    }
   ],
   "source": [
    "# Reorder the 4x4 array.\n",
    "rng.permuted(four_by_four)"
   ]
  },
  {
   "cell_type": "code",
   "execution_count": 36,
   "id": "be3b9857-825a-4aa5-9d99-affb2d763b37",
   "metadata": {},
   "outputs": [
    {
     "data": {
      "text/plain": [
       "array([[ -3, -14, -12,  -4],\n",
       "       [-16,  -4, -13,  -6],\n",
       "       [ -9,  -6,  -6, -13],\n",
       "       [ -2,  -5, -20,  -2]], dtype=int64)"
      ]
     },
     "execution_count": 36,
     "metadata": {},
     "output_type": "execute_result"
    }
   ],
   "source": [
    "# Calling 4x4 to show the original is unchanged.\n",
    "four_by_four"
   ]
  },
  {
   "cell_type": "markdown",
   "id": "fa57ac48-b092-410a-ad68-1dda91007e3b",
   "metadata": {},
   "source": [
    "We can compare and contrast shuffle, permutation, and permuted further by reusing the 3x3 array example from before."
   ]
  },
  {
   "cell_type": "code",
   "execution_count": 37,
   "id": "ca998195-44f7-4996-b55b-710727b02533",
   "metadata": {},
   "outputs": [
    {
     "data": {
      "text/plain": [
       "array([[3, 4, 5],\n",
       "       [6, 7, 8],\n",
       "       [0, 1, 2]])"
      ]
     },
     "execution_count": 37,
     "metadata": {},
     "output_type": "execute_result"
    }
   ],
   "source": [
    "# The 3x3 array of 0-9 that was randomly reordered using shuffle.\n",
    "three_by_three"
   ]
  },
  {
   "cell_type": "markdown",
   "id": "c113a323-e4d3-4d49-b52b-fc1a0cff4daa",
   "metadata": {},
   "source": [
    "Permuted will shuffle the values within each row, but leave the rows in place if we set axis to 1. This is similar to using permutation with axis set to 1"
   ]
  },
  {
   "cell_type": "code",
   "execution_count": 38,
   "id": "86c28e41",
   "metadata": {},
   "outputs": [
    {
     "data": {
      "text/plain": [
       "array([[4, 5, 3],\n",
       "       [8, 7, 6],\n",
       "       [2, 0, 1]])"
      ]
     },
     "execution_count": 38,
     "metadata": {},
     "output_type": "execute_result"
    }
   ],
   "source": [
    "# Use permuted to reorder the 3x3 array.\n",
    "permuted_three_by_three = rng.permuted(three_by_three, axis=1)\n",
    "permuted_three_by_three"
   ]
  },
  {
   "cell_type": "markdown",
   "id": "c3676161-20eb-44a8-8174-430982097913",
   "metadata": {},
   "source": [
    "Permuted returned a copy, leaving the original array reordered by shuffle unchanged"
   ]
  },
  {
   "cell_type": "code",
   "execution_count": 39,
   "id": "7b16a934",
   "metadata": {},
   "outputs": [
    {
     "data": {
      "text/plain": [
       "array([[3, 4, 5],\n",
       "       [6, 7, 8],\n",
       "       [0, 1, 2]])"
      ]
     },
     "execution_count": 39,
     "metadata": {},
     "output_type": "execute_result"
    }
   ],
   "source": [
    "# Recalling the shuffled 3x3 array\n",
    "three_by_three"
   ]
  },
  {
   "cell_type": "markdown",
   "id": "1f0c9a11-6ed0-44b4-ab9a-a45c60b83593",
   "metadata": {},
   "source": [
    "However, we can use permuted to overwrite the original array by passing the variable of the original array as an argument using out. If we don't pass in an axis argument, then the output withh be rearranged across both columns and rows, which neither shuffle nor permutation can do."
   ]
  },
  {
   "cell_type": "code",
   "execution_count": 40,
   "id": "1813c670",
   "metadata": {},
   "outputs": [],
   "source": [
    "# Using permuted to change the content of the original 3x3 array\n",
    "permuted_three_by_three = rng.permuted(three_by_three, out=three_by_three)"
   ]
  },
  {
   "cell_type": "markdown",
   "id": "146a9b3b-bb2c-459b-bf6f-27d36c58fc38",
   "metadata": {},
   "source": [
    "We can show that the new permuted 3x3 array and the original now have the same content."
   ]
  },
  {
   "cell_type": "code",
   "execution_count": 41,
   "id": "0178db52",
   "metadata": {},
   "outputs": [
    {
     "data": {
      "text/plain": [
       "array([[7, 8, 1],\n",
       "       [2, 4, 3],\n",
       "       [6, 5, 0]])"
      ]
     },
     "execution_count": 41,
     "metadata": {},
     "output_type": "execute_result"
    }
   ],
   "source": [
    "# Calling the 3x3 array\n",
    "three_by_three"
   ]
  },
  {
   "cell_type": "code",
   "execution_count": 42,
   "id": "84e743db",
   "metadata": {},
   "outputs": [
    {
     "data": {
      "text/plain": [
       "array([[7, 8, 1],\n",
       "       [2, 4, 3],\n",
       "       [6, 5, 0]])"
      ]
     },
     "execution_count": 42,
     "metadata": {},
     "output_type": "execute_result"
    }
   ],
   "source": [
    "# Calling the permuted 3x3 array\n",
    "permuted_three_by_three"
   ]
  },
  {
   "cell_type": "code",
   "execution_count": 43,
   "id": "36de1af1",
   "metadata": {},
   "outputs": [
    {
     "data": {
      "text/plain": [
       "True"
      ]
     },
     "execution_count": 43,
     "metadata": {},
     "output_type": "execute_result"
    }
   ],
   "source": [
    "# Show that the two 3x3 arrays have the same content\n",
    "three_by_three is permuted_three_by_three"
   ]
  },
  {
   "cell_type": "markdown",
   "id": "f666d67b",
   "metadata": {},
   "source": [
    "## <b id=\"h12\">Distributions</b>\n",
    "---"
   ]
  },
  {
   "cell_type": "markdown",
   "id": "bcd75325-eca1-40d6-8a20-84ae1d1d93df",
   "metadata": {},
   "source": [
    "A probability distribution shows us the likelihood of different possible occurrences for an event<sup id=\"a20\">[20](#f20)</sup>. The probability distribution most relevant to our needs depends on the type of data we’re working with and the expected outcomes. There are times when you have a particular type of data in mind that follows a particular probability distribution that you want to simulate, and to that end NumPy allows you to generate data that matches the parameters of different probability distributions. The section below looks at five of these distributions."
   ]
  },
  {
   "cell_type": "markdown",
   "id": "84f4663f",
   "metadata": {},
   "source": [
    "### <b id=\"h13\">binomial</b><sup id=\"a21\">[21](#f21)</sup>"
   ]
  },
  {
   "cell_type": "markdown",
   "id": "bb170eff",
   "metadata": {},
   "source": [
    "random.Generator.binomial(n, p, size=None)"
   ]
  },
  {
   "cell_type": "markdown",
   "id": "3ab1ce7c-6e8d-4da0-9254-565dd5f54cba",
   "metadata": {},
   "source": [
    "A binomial distribution tracks trials and records a binary success/failure outcome of trials<sup id=\"a22\">[22](#f22)</sup>. An everyday example of this would be flipping a coin with different faces. The coin can land either head up or tails up. We can use the binomial function to quickly simulate a randomm binomial distrution for events such as coin flips. To do this we need to include two arguments. The first is n, which is the number of trials we want simulated. In this instance, there will be 20 trials, simply meaning there will be 20 simulated coin flips, and then we will receive an output as to the number of heads that were observed. The second is p, which is the probability of success. This must be between 0 and 1. A fair coin has a probability of 0.5, as the coin has an equal chance of landing heads up or tails up. Other binomial observations might have one outcome more likely or more rare than the other. An example of this might be observing the number of penalties scored vs penalties missed in soccer, which should be weighted around 0.7549 in favour of penalties scored<sup id=\"a23\">[23](#f23)</sup>. We can finally specify a size, which is how many times the trial is repeated. By setting the size to 100, that means the process of 20 coin flips will be repeated 100 times, giving a total of 2000 coin flips in the simulation. "
   ]
  },
  {
   "cell_type": "code",
   "execution_count": 44,
   "id": "b0fe52f3",
   "metadata": {},
   "outputs": [],
   "source": [
    "# Setting the number of trials\n",
    "n = 20\n",
    "\n",
    "# Setting the probablity of success \n",
    "p = 0.5"
   ]
  },
  {
   "cell_type": "code",
   "execution_count": 45,
   "id": "4c653457",
   "metadata": {},
   "outputs": [],
   "source": [
    "# Generating a random binomial distribution\n",
    "\n",
    "coin_flip = rng.binomial(n, p, size=100)"
   ]
  },
  {
   "cell_type": "markdown",
   "id": "7e943570-7ed8-4a03-9f02-32cb3d939084",
   "metadata": {},
   "source": [
    "We can take the resulting array as giving us the number of heads after every 20 coin flips"
   ]
  },
  {
   "cell_type": "code",
   "execution_count": 46,
   "id": "13222970",
   "metadata": {},
   "outputs": [
    {
     "data": {
      "text/plain": [
       "array([ 6, 10,  9,  9, 10, 10, 10,  5, 11,  7, 11,  8, 11, 12,  6, 14, 13,\n",
       "        9, 12,  5,  9,  8, 10,  8,  8,  6, 12,  7, 10,  6, 10, 11,  8, 12,\n",
       "        8, 12,  9,  7,  6, 14, 12, 13, 10,  8,  7, 11, 12, 10,  9, 11, 11,\n",
       "       12,  7,  8, 12,  7, 12,  9,  9, 10,  9,  8, 12,  9, 10,  9, 11, 10,\n",
       "       11,  6, 12, 11,  9, 10, 10, 12, 11,  9,  9, 10,  5, 11, 10, 11, 13,\n",
       "        9, 13,  9,  8, 10, 13, 12,  8, 12, 11, 11,  9,  9, 11, 11],\n",
       "      dtype=int64)"
      ]
     },
     "execution_count": 46,
     "metadata": {},
     "output_type": "execute_result"
    }
   ],
   "source": [
    "# View the randomly generated array\n",
    "coin_flip"
   ]
  },
  {
   "cell_type": "markdown",
   "id": "3a38f987-57c7-4b50-bc4c-be7603074ae4",
   "metadata": {},
   "source": [
    "We can plot the distribution to visualise the generated data. We should expect that the most common outcomes will be close to 10, and that lower and higer outcomes were incresingly unlikely. The output won't be exactly the same every time the code is run, but we should see a similar pattern which makes sense as we should expect a coin to land heads or tails 10 times each after 20 tosses, but we should also expect there will be rarer occasions when one value appeared much more common than the other."
   ]
  },
  {
   "cell_type": "code",
   "execution_count": 47,
   "id": "003feb59",
   "metadata": {},
   "outputs": [
    {
     "data": {
      "text/plain": [
       "(array([ 3.,  6.,  6., 11., 18., 17., 17., 15.,  5.,  2.]),\n",
       " array([ 5. ,  5.9,  6.8,  7.7,  8.6,  9.5, 10.4, 11.3, 12.2, 13.1, 14. ]),\n",
       " <BarContainer object of 10 artists>)"
      ]
     },
     "execution_count": 47,
     "metadata": {},
     "output_type": "execute_result"
    },
    {
     "data": {
      "image/png": "[encoded data removed]",
      "text/plain": [
       "<Figure size 432x288 with 1 Axes>"
      ]
     },
     "metadata": {
      "needs_background": "light"
     },
     "output_type": "display_data"
    }
   ],
   "source": [
    "# Plotting the randomly generated data\n",
    "plt.hist(coin_flip, bins=10)"
   ]
  },
  {
   "cell_type": "markdown",
   "id": "d0d5c445",
   "metadata": {},
   "source": [
    "### <b id=\"h14\">normal</b><sup id=\"a24\">[24](#f24)</sup>"
   ]
  },
  {
   "cell_type": "markdown",
   "id": "14fb095f",
   "metadata": {},
   "source": [
    "random.Generator.normal(loc=0.0, scale=1.0, size=None)"
   ]
  },
  {
   "cell_type": "markdown",
   "id": "e5bf8db4-21dd-4d87-b261-7cb5c022eb55",
   "metadata": {},
   "source": [
    "The normal (or Gaussian) distribution is a continous continuous probability distribution that is recognisable due to its \"bell-shaped curve\" appearance<sup id=\"a25\">[25](#f25)</sup>. A lot of real world data, such as height, IQ scores, and heartrate fit a normal distribution and a common assumption is that data collected is normally distributed thus allowing extrapolition to wider populations<sup id=\"a26\">[26](#f26)</sup>. The distribution centers around the mean, which is where the probability is highest. Around 68% of the data falls within one standard deviation of the mean, 95% within 2 standard deviations of the mean, and 98% falling within 3 standard deviations of the mean, with standard deviation telling us how widely spread the data values are. As such, we can generate a random normal distribution if we know the mean and standard deviation of the data we wish to generate. For the example below a mean, which is often represented by the greek letter mu, is set as 100 and the standard deviation, which is often represented by the Greek letter sigma, is set at 15. Entering a size of 100 means that 100 datapoints are generated."
   ]
  },
  {
   "cell_type": "code",
   "execution_count": 48,
   "id": "81b81782",
   "metadata": {},
   "outputs": [],
   "source": [
    "# Mean\n",
    "mu = 100\n",
    "\n",
    "#Standard Deviation\n",
    "sigma = 15"
   ]
  },
  {
   "cell_type": "code",
   "execution_count": 49,
   "id": "d393b434",
   "metadata": {},
   "outputs": [
    {
     "data": {
      "text/plain": [
       "array([ 95.64777481, 104.20089041, 100.76789331, 136.14140557,\n",
       "        94.60027814,  90.0733945 , 100.73420722,  82.99162722,\n",
       "        97.5432997 , 116.39630561,  98.79666127, 101.80192002,\n",
       "        98.01354481,  79.21544253, 104.12084574,  87.09710759,\n",
       "       114.11443233,  95.94650673, 100.48102858,  81.4619108 ,\n",
       "       117.96196028, 112.29191538, 114.15220438, 111.53090057,\n",
       "       112.07149878,  94.90868137,  72.21420074,  94.31627012,\n",
       "        84.44907722,  90.42861569,  95.89522373, 103.81155674,\n",
       "       105.85651723, 112.34524612, 104.76873016,  91.06614893,\n",
       "       111.44391884,  82.50487945, 107.15691342,  89.69983524,\n",
       "       100.71404858,  88.5771815 ,  93.66844889,  75.75186306,\n",
       "       105.29915267, 100.95760839,  92.59319473, 103.9905436 ,\n",
       "       114.10781338, 104.53241226,  80.24448481, 102.03347843,\n",
       "        88.64212056,  61.44557011, 102.01173901, 101.02145367,\n",
       "       120.60082501, 106.48873763,  95.41273547,  90.017881  ,\n",
       "       101.4730004 ,  99.79240808, 108.31974889,  93.75747113,\n",
       "        89.20870795, 120.04441487, 100.42750948, 140.81620659,\n",
       "       101.73036611, 105.08273258,  97.95590969, 112.41366071,\n",
       "        94.89657494, 114.93532696, 114.65519397,  90.9060113 ,\n",
       "        85.5692771 ,  84.43729128,  85.09632408,  86.71908863,\n",
       "       113.24699835, 113.61492995, 100.67914368,  86.02120299,\n",
       "       113.78230189,  85.15135504,  89.05755211, 118.63841128,\n",
       "       124.33341689, 120.68820419, 115.45130729, 122.98515101,\n",
       "        87.69267434,  93.42092828, 104.55202587,  97.47767202,\n",
       "        74.01567691,  90.48624536,  96.35079409, 101.12234689])"
      ]
     },
     "execution_count": 49,
     "metadata": {},
     "output_type": "execute_result"
    }
   ],
   "source": [
    "# A random example of 100 samples from a normal distribution\n",
    "normal = rng.normal(mu, sigma, size=100)\n",
    "normal"
   ]
  },
  {
   "cell_type": "markdown",
   "id": "da9e430c-49fc-4444-9cb2-84d65edf8c6c",
   "metadata": {},
   "source": [
    "A smaller sample size generally leads to a plot that vaguely resembles the bell shaped curve the random values were drawn from. We can see this by generating a plot of the data."
   ]
  },
  {
   "cell_type": "code",
   "execution_count": 50,
   "id": "c51edf16",
   "metadata": {},
   "outputs": [
    {
     "data": {
      "text/plain": [
       "(array([ 1.,  0.,  0.,  0.,  0.,  0.,  1.,  1.,  0.,  1.,  0.,  2.,  1.,\n",
       "         2.,  4.,  3.,  2.,  6.,  5.,  1.,  5.,  7.,  3.,  2., 10.,  5.,\n",
       "         4.,  6.,  2.,  1.,  0.,  3.,  6.,  5.,  2.,  1.,  2.,  2.,  1.,\n",
       "         1.,  0.,  0.,  0.,  0.,  0.,  0.,  0.,  1.,  0.,  1.]),\n",
       " array([ 61.44557011,  63.03298284,  64.62039557,  66.2078083 ,\n",
       "         67.79522103,  69.38263376,  70.97004649,  72.55745922,\n",
       "         74.14487195,  75.73228467,  77.3196974 ,  78.90711013,\n",
       "         80.49452286,  82.08193559,  83.66934832,  85.25676105,\n",
       "         86.84417378,  88.43158651,  90.01899924,  91.60641197,\n",
       "         93.1938247 ,  94.78123743,  96.36865016,  97.95606289,\n",
       "         99.54347562, 101.13088835, 102.71830108, 104.30571381,\n",
       "        105.89312654, 107.48053927, 109.067952  , 110.65536473,\n",
       "        112.24277745, 113.83019018, 115.41760291, 117.00501564,\n",
       "        118.59242837, 120.1798411 , 121.76725383, 123.35466656,\n",
       "        124.94207929, 126.52949202, 128.11690475, 129.70431748,\n",
       "        131.29173021, 132.87914294, 134.46655567, 136.0539684 ,\n",
       "        137.64138113, 139.22879386, 140.81620659]),\n",
       " <BarContainer object of 50 artists>)"
      ]
     },
     "execution_count": 50,
     "metadata": {},
     "output_type": "execute_result"
    },
    {
     "data": {
      "image/png": "[encoded data removed]",
      "text/plain": [
       "<Figure size 432x288 with 1 Axes>"
      ]
     },
     "metadata": {
      "needs_background": "light"
     },
     "output_type": "display_data"
    }
   ],
   "source": [
    "# View the randomly generated normal data\n",
    "plt.hist(normal, bins = 50)"
   ]
  },
  {
   "cell_type": "markdown",
   "id": "aca0a2f6-1967-4749-a83f-9cbf53045acb",
   "metadata": {},
   "source": [
    "Use the same mean and standard deviation, but increase the sample size, we can see when the points are ploted that the plot closely resembles a bell shape. "
   ]
  },
  {
   "cell_type": "code",
   "execution_count": 51,
   "id": "e38b6952",
   "metadata": {},
   "outputs": [
    {
     "data": {
      "text/plain": [
       "(array([  2.,   2.,   2.,   3.,   6.,   6.,  17.,  23.,  31.,  36.,  64.,\n",
       "         70., 111., 138., 149., 211., 261., 306., 397., 416., 482., 537.,\n",
       "        598., 609., 577., 625., 636., 573., 517., 467., 449., 352., 302.,\n",
       "        254., 205., 171., 103.,  88.,  57.,  44.,  38.,  19.,  17.,  10.,\n",
       "          7.,   2.,   6.,   2.,   1.,   1.]),\n",
       " array([ 42.22414675,  44.55548326,  46.88681977,  49.21815628,\n",
       "         51.54949279,  53.88082931,  56.21216582,  58.54350233,\n",
       "         60.87483884,  63.20617536,  65.53751187,  67.86884838,\n",
       "         70.20018489,  72.53152141,  74.86285792,  77.19419443,\n",
       "         79.52553094,  81.85686746,  84.18820397,  86.51954048,\n",
       "         88.85087699,  91.1822135 ,  93.51355002,  95.84488653,\n",
       "         98.17622304, 100.50755955, 102.83889607, 105.17023258,\n",
       "        107.50156909, 109.8329056 , 112.16424212, 114.49557863,\n",
       "        116.82691514, 119.15825165, 121.48958817, 123.82092468,\n",
       "        126.15226119, 128.4835977 , 130.81493421, 133.14627073,\n",
       "        135.47760724, 137.80894375, 140.14028026, 142.47161678,\n",
       "        144.80295329, 147.1342898 , 149.46562631, 151.79696283,\n",
       "        154.12829934, 156.45963585, 158.79097236]),\n",
       " <BarContainer object of 50 artists>)"
      ]
     },
     "execution_count": 51,
     "metadata": {},
     "output_type": "execute_result"
    },
    {
     "data": {
      "image/png": "[encoded data removed]",
      "text/plain": [
       "<Figure size 432x288 with 1 Axes>"
      ]
     },
     "metadata": {
      "needs_background": "light"
     },
     "output_type": "display_data"
    }
   ],
   "source": [
    "# Generating 10000 random normal distribution datapoints\n",
    "normal_higher = rng.normal(mu, sigma, 10000)\n",
    "\n",
    "# Plotting the randomly generated data\n",
    "plt.hist(normal_higher, bins = 50)"
   ]
  },
  {
   "cell_type": "markdown",
   "id": "bfb6b36e-25a9-4f69-a8f9-660e7bb2fa58",
   "metadata": {},
   "source": [
    "Changing the standard deviation will change the size of the curve that the datapoints are drawn from. A larger standard deviation will make the curve wider and shorter while a smaller one will make the curve narrower and taller."
   ]
  },
  {
   "cell_type": "code",
   "execution_count": 52,
   "id": "e3a04cf6",
   "metadata": {},
   "outputs": [],
   "source": [
    "# Creating new standard deviation points\n",
    "sigma_wide = 50\n",
    "sigma_narrow = 7\n",
    "\n",
    "# Using the new standard deviations to generate random data\n",
    "normal_wide = rng.normal(mu, sigma_wide, 10000)\n",
    "normal_narrow = rng.normal(mu, sigma_narrow, 10000)"
   ]
  },
  {
   "cell_type": "code",
   "execution_count": 53,
   "id": "9161b5f0",
   "metadata": {},
   "outputs": [
    {
     "data": {
      "text/plain": [
       "array([ 50.11147231, 116.00548903, 105.91617937, ...,  35.11784801,\n",
       "       207.24145004,  78.72799908])"
      ]
     },
     "execution_count": 53,
     "metadata": {},
     "output_type": "execute_result"
    }
   ],
   "source": [
    "# View the wider data\n",
    "normal_wide"
   ]
  },
  {
   "cell_type": "code",
   "execution_count": 54,
   "id": "9562ca5f-ca7d-403c-8542-e30e8d514e80",
   "metadata": {},
   "outputs": [
    {
     "data": {
      "text/plain": [
       "array([ 96.49743032, 102.49004812,  94.45749472, ..., 101.82555178,\n",
       "       100.27611515, 102.42531644])"
      ]
     },
     "execution_count": 54,
     "metadata": {},
     "output_type": "execute_result"
    }
   ],
   "source": [
    "# View the narrower data\n",
    "normal_narrow"
   ]
  },
  {
   "cell_type": "code",
   "execution_count": 55,
   "id": "caef8ab4-8c8c-468a-8c78-0180464b11b3",
   "metadata": {},
   "outputs": [
    {
     "data": {
      "image/png": "[encoded data removed]",
      "text/plain": [
       "<Figure size 432x288 with 1 Axes>"
      ]
     },
     "metadata": {
      "needs_background": "light"
     },
     "output_type": "display_data"
    }
   ],
   "source": [
    "# Plot the wise and narrow data\n",
    "\n",
    "plt.hist([normal_wide, normal_narrow], bins = 50, label=['normal_wide', 'normal narrow'])\n",
    "plt.legend(loc='upper right')\n",
    "plt.show()"
   ]
  },
  {
   "cell_type": "markdown",
   "id": "17cbb2ab",
   "metadata": {},
   "source": [
    "### <b id=\"h15\">uniform</b><sup id=\"a27\">[27](#f27)</sup>"
   ]
  },
  {
   "cell_type": "markdown",
   "id": "2b6a37fd",
   "metadata": {},
   "source": [
    "random.Generator.uniform(low=0.0, high=1.0, size=None)"
   ]
  },
  {
   "cell_type": "markdown",
   "id": "5c460ff3-f872-4bb0-9066-f5f3e9a1cc29",
   "metadata": {},
   "source": [
    "A uniform distribution is continous distribution in which the probability is consistent throughout<sup id=\"a28\">[28](#f28)</sup>. The data is generating by providing a lower and upper bound for the generated data to be drawn from. In this example the lower bound is 1 and the upper bound is 6."
   ]
  },
  {
   "cell_type": "code",
   "execution_count": 56,
   "id": "ae40029e",
   "metadata": {},
   "outputs": [
    {
     "data": {
      "text/plain": [
       "array([1.49604393, 4.48804627, 1.48264104, 5.83350925, 2.75112948,\n",
       "       3.99631646, 3.19065214, 1.7499598 , 5.92211246, 5.14133749,\n",
       "       2.1485279 , 3.25468681, 3.65007509, 4.58290858, 4.42982585,\n",
       "       2.04644313, 2.94511884, 4.62904839, 3.83640369, 1.21799762,\n",
       "       5.19001991, 5.97944374, 4.27865057, 5.63949515, 4.86305634,\n",
       "       3.61493853, 5.84264775, 3.48314976, 2.57233097, 1.36477049,\n",
       "       5.7204366 , 2.00997308, 4.63112537, 1.30369832, 5.51595986,\n",
       "       4.05105078, 5.53695859, 4.61592767, 2.5037831 , 1.73159529,\n",
       "       4.89497592, 2.02442982, 4.95684425, 4.66897483, 5.06520085,\n",
       "       3.21510606, 1.7093819 , 5.27861537, 2.02264754, 4.18881462,\n",
       "       4.79860642, 1.15546388, 4.97157298, 4.13950347, 5.14584219,\n",
       "       5.570628  , 5.24278293, 4.53901363, 5.4840729 , 4.35762474,\n",
       "       3.33394362, 5.58450792, 3.68479223, 4.55389329, 4.08318083,\n",
       "       1.42934976, 3.68488849, 5.79063248, 2.94111076, 3.49157637,\n",
       "       1.75418156, 5.97362654, 3.69210558, 5.13044598, 1.54389774,\n",
       "       4.70725388, 5.04180717, 3.49588398, 3.1506516 , 2.83165698,\n",
       "       2.09668174, 1.2049316 , 4.31189051, 4.48272537, 4.44488736,\n",
       "       4.66855787, 4.06200463, 4.78221429, 3.33759867, 4.90714816,\n",
       "       5.50690571, 2.62110402, 1.45314602, 1.25774723, 4.26143222,\n",
       "       3.06407207, 5.8814779 , 5.50027965, 3.22634593, 3.9622124 ])"
      ]
     },
     "execution_count": 56,
     "metadata": {},
     "output_type": "execute_result"
    }
   ],
   "source": [
    "# Generating 100 random floats between 1 and 6\n",
    "uniform = rng.uniform(1,6,100)\n",
    "uniform"
   ]
  },
  {
   "cell_type": "markdown",
   "id": "5f527269-167f-47d2-a8f2-04f88413e1c7",
   "metadata": {},
   "source": [
    "As a sample size of 100 is quite small, the resulting plot may not appear completely uniform due to chance, and the values tend to become more uniform as the sample size increases."
   ]
  },
  {
   "cell_type": "code",
   "execution_count": 57,
   "id": "c606aea1",
   "metadata": {},
   "outputs": [
    {
     "data": {
      "text/plain": [
       "(array([15., 10., 14., 17., 25., 19.]),\n",
       " array([1.15546388, 1.95946053, 2.76345717, 3.56745381, 4.37145045,\n",
       "        5.17544709, 5.97944374]),\n",
       " <BarContainer object of 6 artists>)"
      ]
     },
     "execution_count": 57,
     "metadata": {},
     "output_type": "execute_result"
    },
    {
     "data": {
      "image/png": "[encoded data removed]",
      "text/plain": [
       "<Figure size 432x288 with 1 Axes>"
      ]
     },
     "metadata": {
      "needs_background": "light"
     },
     "output_type": "display_data"
    }
   ],
   "source": [
    "# Plotting the randomly generated uniform data\n",
    "plt.hist(uniform, bins=6)"
   ]
  },
  {
   "cell_type": "markdown",
   "id": "aeb8d683-d1d7-4021-96a5-f9213dfbb41f",
   "metadata": {},
   "source": [
    "By increasing the sample size to 10000 we should expect the resulting data make more of a rectangular shape. "
   ]
  },
  {
   "cell_type": "code",
   "execution_count": 58,
   "id": "23ae0024-0597-4bbe-9bb6-d874364c47b1",
   "metadata": {},
   "outputs": [
    {
     "data": {
      "text/plain": [
       "(array([1620., 1640., 1631., 1724., 1700., 1685.]),\n",
       " array([1.00043645, 1.83367815, 2.66691985, 3.50016155, 4.33340325,\n",
       "        5.16664495, 5.99988665]),\n",
       " <BarContainer object of 6 artists>)"
      ]
     },
     "execution_count": 58,
     "metadata": {},
     "output_type": "execute_result"
    },
    {
     "data": {
      "image/png": "[encoded data removed]",
      "text/plain": [
       "<Figure size 432x288 with 1 Axes>"
      ]
     },
     "metadata": {
      "needs_background": "light"
     },
     "output_type": "display_data"
    }
   ],
   "source": [
    "# Repeating the random generation with a higher sample size of 10000\n",
    "uniform_higher = rng.uniform(1,6,10000)\n",
    "plt.hist(uniform_higher, bins=6)"
   ]
  },
  {
   "cell_type": "markdown",
   "id": "9623b95e",
   "metadata": {},
   "source": [
    "### <b id=\"h16\">poisson</b><sup id=\"a29\">[29](#f29)</sup>"
   ]
  },
  {
   "cell_type": "markdown",
   "id": "8aeaf010",
   "metadata": {},
   "source": [
    "random.Generator.poisson(lam=1.0, size=None)"
   ]
  },
  {
   "cell_type": "markdown",
   "id": "f7fcbbc5-793f-4412-8b49-643f9f647bc1",
   "metadata": {},
   "source": [
    "A poisson distribution expresses the probability of a number of events within a particular timeframe<sup id=\"a30\">[30](#f30)</sup>. A real world example might be if a business typically receives 5 orders an hour, with the typical value often being represented by the Greek letter lamba, we can derive the probabilty of the business receiving only 2 orders an hour, or 10 orders an hour. We can define a size to simulate the amount of times we want to draw a random sample from the distribution. In this instance, 500 datapoints will be generated."
   ]
  },
  {
   "cell_type": "code",
   "execution_count": 59,
   "id": "2b5e7170",
   "metadata": {},
   "outputs": [
    {
     "data": {
      "text/plain": [
       "array([ 5,  5,  4,  3,  4,  4,  5,  5,  9,  3,  5,  1,  4,  3,  6,  5,  8,\n",
       "        9,  3,  5,  5,  8,  5,  9,  4,  5,  6,  2, 11,  7,  2, 10,  3,  4,\n",
       "        3,  5,  5,  2,  5,  4,  8,  3,  4,  3,  5,  3,  8,  5,  7,  5,  6,\n",
       "        8,  4,  3,  7,  7,  4,  8,  3,  3,  1,  2,  4,  3,  7,  9,  5,  5,\n",
       "        7,  3,  5,  4,  2,  5,  4,  4,  5,  3,  2,  4,  3,  9,  2,  9,  4,\n",
       "       12,  4,  4,  4,  2,  7,  6,  8,  5, 11,  5,  8,  4,  6,  6,  3, 10,\n",
       "        8,  5,  2,  8,  3,  6,  4,  4,  9,  8,  3, 11,  3,  2,  3,  6,  5,\n",
       "        1,  7,  2,  8,  5,  1,  5,  4,  4,  1,  9,  6,  8,  5,  3,  4,  3,\n",
       "        3,  6,  4,  5,  3,  6,  4,  5,  4,  9,  5,  6,  8,  6,  4,  5,  4,\n",
       "        4,  8,  4,  2,  9,  4,  9,  6,  5,  3,  6,  5,  3,  4,  4,  5,  1,\n",
       "        9,  4,  2,  4,  5,  6,  3,  6,  7,  6,  9,  3,  2,  4,  1,  9,  5,\n",
       "        9,  4,  7,  4,  6,  2,  2,  5,  7,  7,  4,  6,  2,  4,  4,  4,  3,\n",
       "        2,  6,  7,  4,  0,  1,  7,  4,  5,  4, 11,  9,  3,  3,  6,  5,  4,\n",
       "        4,  9,  5,  4,  3,  3,  7,  7,  5, 11,  5,  6,  2,  5,  5,  7,  8,\n",
       "        4,  7,  3,  3,  3,  8,  6, 10,  6,  3, 10,  4,  4,  9,  5,  3,  2,\n",
       "        5,  9,  5,  4,  8,  4,  6,  2,  8,  4,  5,  3,  3,  1,  4,  2,  3,\n",
       "        8,  6,  5,  6,  5,  9,  5,  7,  2,  5,  5,  6,  4,  2,  5,  2,  6,\n",
       "        5,  6,  9,  6,  7,  6,  4,  3,  3,  0, 10,  4,  9,  6,  5,  8,  4,\n",
       "        3,  3,  7,  2,  8,  6,  3,  7,  3,  4,  5,  5,  3,  5,  7,  1,  3,\n",
       "        6,  2, 10,  6,  3,  6,  4,  4,  8,  5, 11,  1,  4,  9,  6,  4,  5,\n",
       "        4,  7,  3,  3,  5,  4,  8,  6,  1,  6,  3,  2,  0,  7,  2,  4,  6,\n",
       "        1,  4,  5,  3,  7,  6,  2,  3,  1,  2,  7,  4,  7,  4,  5,  5,  4,\n",
       "        8,  3,  7,  5,  7,  3,  8,  7,  1,  2,  4,  7,  3,  2,  6,  2,  6,\n",
       "        3,  6,  3,  2,  8,  6,  2,  5,  8,  4,  8,  3,  6,  5,  3,  5,  2,\n",
       "        4,  5,  1,  5,  5,  5,  7,  4,  4,  4,  4,  6,  7, 11,  4,  7,  7,\n",
       "        5,  5,  3,  3,  3,  4, 11,  4,  7, 10,  7,  8,  6,  6,  1,  7,  6,\n",
       "        9,  5,  5,  4,  3,  2,  6,  4,  8,  7,  7,  1,  3,  9,  6,  2,  6,\n",
       "        4,  4,  4,  8,  8,  1,  2,  5,  3,  3,  2,  3,  6,  8,  5,  5,  6,\n",
       "        6,  8,  4,  3,  7,  8,  8,  8,  5,  6,  6,  3,  7,  6,  6,  6,  1,\n",
       "        4,  4,  4,  5,  4,  3,  1], dtype=int64)"
      ]
     },
     "execution_count": 59,
     "metadata": {},
     "output_type": "execute_result"
    }
   ],
   "source": [
    "# Generating random data from a poisson distribution\n",
    "lamda = 5\n",
    "poisson = rng.poisson(lamda, size=500)\n",
    "poisson"
   ]
  },
  {
   "cell_type": "markdown",
   "id": "116c7c65-9023-4fa7-9aad-00621b563345",
   "metadata": {},
   "source": [
    "We can visualise the probabilities of possible outcomes with a plot."
   ]
  },
  {
   "cell_type": "code",
   "execution_count": 60,
   "id": "03b76741",
   "metadata": {},
   "outputs": [
    {
     "data": {
      "text/plain": [
       "(array([ 24.,  41.,  74.,  93.,  83., 106.,  38.,  25.,   7.,   9.]),\n",
       " array([ 0. ,  1.2,  2.4,  3.6,  4.8,  6. ,  7.2,  8.4,  9.6, 10.8, 12. ]),\n",
       " <BarContainer object of 10 artists>)"
      ]
     },
     "execution_count": 60,
     "metadata": {},
     "output_type": "execute_result"
    },
    {
     "data": {
      "image/png": "[encoded data removed]",
      "text/plain": [
       "<Figure size 432x288 with 1 Axes>"
      ]
     },
     "metadata": {
      "needs_background": "light"
     },
     "output_type": "display_data"
    }
   ],
   "source": [
    "# Generate a plot of the random poisson data\n",
    "plt.hist(poisson)"
   ]
  },
  {
   "cell_type": "markdown",
   "id": "701f0afa",
   "metadata": {},
   "source": [
    "### <b id=\"h17\">exponential</b><sup id=\"a31\">[31](#f31)</sup>"
   ]
  },
  {
   "cell_type": "markdown",
   "id": "4438eb5f",
   "metadata": {},
   "source": [
    "random.Generator.exponential(scale=1.0, size=None)"
   ]
  },
  {
   "cell_type": "markdown",
   "id": "31c55713-1cb4-4b0c-8bcc-3e16c8fb83da",
   "metadata": {},
   "source": [
    "An exponential distribution shows the distribution of the time between poisson events<sup id=\"a32\">[32](#f32)</sup>. The distribution will have a peak at the point in which poisson events are most rare, and will become more steep as the events become more common, before levelling out again as events become more rare at the other end of the scale. "
   ]
  },
  {
   "cell_type": "code",
   "execution_count": 61,
   "id": "4029955a",
   "metadata": {},
   "outputs": [
    {
     "data": {
      "text/plain": [
       "array([ 1.17559502,  6.49585321,  6.82114985,  3.81444387,  7.52105192,\n",
       "        1.04815041,  1.99527583,  2.30673745,  6.81707522,  5.84533966,\n",
       "       10.23541175, 15.49226636,  7.53069317,  1.77201781, 26.29262446,\n",
       "       16.06676177,  2.05566226,  2.18241832,  0.45223912,  0.37586436,\n",
       "        4.80514667,  5.79916253,  4.58548807,  0.27130783,  2.6523576 ,\n",
       "        4.72950348,  0.67344708,  3.5019459 ,  6.16411978,  1.6562527 ,\n",
       "        5.22461253,  0.69632583, 16.38575596,  4.0306074 ,  1.40909368,\n",
       "        1.5719502 , 18.08959372,  5.85720276,  2.88549778,  6.37897607,\n",
       "        0.7991752 ,  0.83847803,  2.33246498,  4.07953126,  1.0200958 ,\n",
       "        1.12190152,  6.87796006,  9.44376989,  1.49422418, 11.12558496,\n",
       "       13.39435501,  0.19339124,  4.09054646, 12.51861319,  4.11227914,\n",
       "        6.94272389,  2.58257972,  3.16197331,  5.18696806,  1.4867197 ,\n",
       "        0.10287742,  1.28086436,  7.53998173,  5.49522523,  6.06069299,\n",
       "       21.06381204,  1.11780424,  3.57121568, 28.71221936,  6.2285005 ,\n",
       "        5.84415016,  8.35497842,  0.72382089,  4.94165275,  3.05529694,\n",
       "        5.8393038 ,  3.51113935, 12.53771135,  0.5894349 ,  2.81873341,\n",
       "       15.05448426, 17.43753402,  1.96808982,  0.52630189,  0.40222899,\n",
       "       11.23203498,  4.59138652, 12.35001885,  4.06903987,  9.36764564,\n",
       "        0.90761115, 14.57313397, 15.31376464,  4.65298551,  6.40580558,\n",
       "        0.87768043,  6.20907511, 11.4268894 ,  2.20455101,  4.97756218])"
      ]
     },
     "execution_count": 61,
     "metadata": {},
     "output_type": "execute_result"
    }
   ],
   "source": [
    "# Generate random exponental data\n",
    "scale = 5.0\n",
    "exponential = rng.exponential(scale, size=100)\n",
    "exponential"
   ]
  },
  {
   "cell_type": "code",
   "execution_count": 62,
   "id": "ebbbd1ca",
   "metadata": {},
   "outputs": [
    {
     "data": {
      "text/plain": [
       "(array([ 9., 11.,  7.,  7.,  4.,  4.,  6.,  4.,  6.,  2.,  9.,  6.,  3.,\n",
       "         0.,  1.,  0.,  2.,  1.,  0.,  3.,  0.,  3.,  0.,  1.,  0.,  1.,\n",
       "         3.,  1.,  1.,  0.,  1.,  1.,  0.,  0.,  0.,  0.,  1.,  0.,  0.,\n",
       "         0.,  0.,  0.,  0.,  0.,  0.,  1.,  0.,  0.,  0.,  1.]),\n",
       " array([ 0.10287742,  0.67506426,  1.2472511 ,  1.81943794,  2.39162478,\n",
       "         2.96381162,  3.53599845,  4.10818529,  4.68037213,  5.25255897,\n",
       "         5.82474581,  6.39693265,  6.96911949,  7.54130633,  8.11349316,\n",
       "         8.68568   ,  9.25786684,  9.83005368, 10.40224052, 10.97442736,\n",
       "        11.5466142 , 12.11880104, 12.69098787, 13.26317471, 13.83536155,\n",
       "        14.40754839, 14.97973523, 15.55192207, 16.12410891, 16.69629575,\n",
       "        17.26848259, 17.84066942, 18.41285626, 18.9850431 , 19.55722994,\n",
       "        20.12941678, 20.70160362, 21.27379046, 21.8459773 , 22.41816413,\n",
       "        22.99035097, 23.56253781, 24.13472465, 24.70691149, 25.27909833,\n",
       "        25.85128517, 26.42347201, 26.99565885, 27.56784568, 28.14003252,\n",
       "        28.71221936]),\n",
       " <BarContainer object of 50 artists>)"
      ]
     },
     "execution_count": 62,
     "metadata": {},
     "output_type": "execute_result"
    },
    {
     "data": {
      "image/png": "[encoded data removed]",
      "text/plain": [
       "<Figure size 432x288 with 1 Axes>"
      ]
     },
     "metadata": {
      "needs_background": "light"
     },
     "output_type": "display_data"
    }
   ],
   "source": [
    "# Plot the randomly generated exponential data\n",
    "plt.hist(exponential, bins=50)"
   ]
  },
  {
   "cell_type": "code",
   "execution_count": 63,
   "id": "73d20b2f",
   "metadata": {},
   "outputs": [],
   "source": [
    "# Repeating the random generation with a higher sample size of 10000\n",
    "exponential_higher = rng.exponential(10.0, 10000)"
   ]
  },
  {
   "cell_type": "code",
   "execution_count": 64,
   "id": "89cfbe6e",
   "metadata": {},
   "outputs": [
    {
     "data": {
      "text/plain": [
       "(array([1.891e+03, 1.516e+03, 1.221e+03, 1.032e+03, 7.890e+02, 6.750e+02,\n",
       "        5.320e+02, 4.730e+02, 3.400e+02, 2.990e+02, 2.520e+02, 1.930e+02,\n",
       "        1.510e+02, 1.350e+02, 1.100e+02, 7.800e+01, 4.500e+01, 5.300e+01,\n",
       "        4.300e+01, 3.000e+01, 2.000e+01, 2.700e+01, 1.900e+01, 1.200e+01,\n",
       "        1.000e+01, 1.000e+01, 4.000e+00, 6.000e+00, 4.000e+00, 9.000e+00,\n",
       "        2.000e+00, 1.000e+00, 3.000e+00, 1.000e+00, 3.000e+00, 3.000e+00,\n",
       "        1.000e+00, 1.000e+00, 2.000e+00, 1.000e+00, 0.000e+00, 1.000e+00,\n",
       "        1.000e+00, 0.000e+00, 0.000e+00, 0.000e+00, 0.000e+00, 0.000e+00,\n",
       "        0.000e+00, 1.000e+00]),\n",
       " array([6.73421821e-04, 2.08922133e+00, 4.17776924e+00, 6.26631714e+00,\n",
       "        8.35486505e+00, 1.04434130e+01, 1.25319609e+01, 1.46205088e+01,\n",
       "        1.67090567e+01, 1.87976046e+01, 2.08861525e+01, 2.29747004e+01,\n",
       "        2.50632483e+01, 2.71517962e+01, 2.92403441e+01, 3.13288920e+01,\n",
       "        3.34174399e+01, 3.55059878e+01, 3.75945357e+01, 3.96830837e+01,\n",
       "        4.17716316e+01, 4.38601795e+01, 4.59487274e+01, 4.80372753e+01,\n",
       "        5.01258232e+01, 5.22143711e+01, 5.43029190e+01, 5.63914669e+01,\n",
       "        5.84800148e+01, 6.05685627e+01, 6.26571106e+01, 6.47456585e+01,\n",
       "        6.68342064e+01, 6.89227544e+01, 7.10113023e+01, 7.30998502e+01,\n",
       "        7.51883981e+01, 7.72769460e+01, 7.93654939e+01, 8.14540418e+01,\n",
       "        8.35425897e+01, 8.56311376e+01, 8.77196855e+01, 8.98082334e+01,\n",
       "        9.18967813e+01, 9.39853292e+01, 9.60738771e+01, 9.81624251e+01,\n",
       "        1.00250973e+02, 1.02339521e+02, 1.04428069e+02]),\n",
       " <BarContainer object of 50 artists>)"
      ]
     },
     "execution_count": 64,
     "metadata": {},
     "output_type": "execute_result"
    },
    {
     "data": {
      "image/png": "[encoded data removed]",
      "text/plain": [
       "<Figure size 432x288 with 1 Axes>"
      ]
     },
     "metadata": {
      "needs_background": "light"
     },
     "output_type": "display_data"
    }
   ],
   "source": [
    "# As the sample size increases, the distribition becoms more smooth\n",
    "plt.hist(exponential_higher, bins=50)"
   ]
  },
  {
   "cell_type": "markdown",
   "id": "f1d06052",
   "metadata": {},
   "source": [
    "## <b id=\"h18\">Seeds</b>\n",
    "---"
   ]
  },
  {
   "cell_type": "markdown",
   "id": "7841ad77-bb21-4837-92c1-5a1dbe833cc9",
   "metadata": {},
   "source": [
    "There are times when randomness needs to be predictable. For example, we may initially need a randomly generated dataset to test a model, but we would like to have repeated access to this data to be able to reproduce our findings. For this purpose, the pseudo-ness of using a computerised random number generator becomes a positive. Since the process is completely deterministic, we can ask for our result to be random but in a repeatable manner. This is where seeding comes in. By seeding a BitGenerator, we can get a random output that can be reproduced by others who use the same seed, BitGenerator, and code<sup id=\"a33\">[33](#f33)</sup>. If a seed is not entered by the user, the algorithm with use a default seed that constantly changes. An example of a default seed might be the current time and date, which is why the random data generate constantly changes each time it's run. In the case of numpy.random, if no seed is provided, then \"unpredictable entropy will be pulled from the OS\" to set the seed<sup id=\"a34\">[34](#f34)</sup>. With a seed set by the user, the algorithm will generate random data using the seed presented as a starting point, ensuring a repeatable output."
   ]
  },
  {
   "cell_type": "code",
   "execution_count": 65,
   "id": "60777f1b",
   "metadata": {},
   "outputs": [
    {
     "data": {
      "text/plain": [
       "array([4, 3, 1, 2, 1, 3, 2, 0, 0, 2, 0, 1, 2, 2, 2, 2, 0, 0, 4, 3],\n",
       "      dtype=int64)"
      ]
     },
     "execution_count": 65,
     "metadata": {},
     "output_type": "execute_result"
    }
   ],
   "source": [
    "# Calling the default rng but with a seed for reporoducable outcomes\n",
    "rng_seeded1 = np.random.default_rng(seed=1246)\n",
    "rng_seeded1.integers(5, size = 20)"
   ]
  },
  {
   "cell_type": "code",
   "execution_count": 66,
   "id": "61ac8ead",
   "metadata": {},
   "outputs": [
    {
     "data": {
      "text/plain": [
       "array([4, 3, 1, 2, 1, 3, 2, 0, 0, 2, 0, 1, 2, 2, 2, 2, 0, 0, 4, 3],\n",
       "      dtype=int64)"
      ]
     },
     "execution_count": 66,
     "metadata": {},
     "output_type": "execute_result"
    }
   ],
   "source": [
    "# A new rng with the same seeding (1246) will result in the same output\n",
    "rng_seeded2 = np.random.default_rng(seed=1246)\n",
    "rng_seeded2.integers(5, size = 20)"
   ]
  },
  {
   "cell_type": "markdown",
   "id": "a9b51cbf-b7f7-4e1a-a734-307ae6eb9300",
   "metadata": {},
   "source": [
    "### <b id=\"h19\">BitGenerators (PCG64 vs Mersenne Twister)</b>"
   ]
  },
  {
   "cell_type": "markdown",
   "id": "8b3ee6cb-4278-4ed7-9f27-22eb90775e40",
   "metadata": {},
   "source": [
    "For many years the default BitGenerator for numpy.random was the Mersenne Twister BitGenerator<sup id=\"a35\">[35](#f35)</sup>. It proved popular due to its widespread adoption and for most purposes proved to be robust and reliable, but in recent years it has begun to show its age<sup id=\"a36\">[36](#f36)</sup>. There are some statistical vulnerabilities that, while unlikely to negatively affect the random outputs for most users, are not ideal. Furthermore, the large state associated with the algorithm means it is relatively slow and inefficient. As of NumPy 1.XX, the Mersenne Twister algorithm has been replaced as the default BitGenerator with PCG64, which promises to be faster and more statistically robust<sup id=\"a37\">[37](#f37)</sup>.\n",
    "\n",
    "It's important to at least be aware of the default BitGenerater used by numpy.random because as pointed out by Ben Gorman the following code has different outcomes depending on the version of NumPy used and the default BitGenerator used at the time<sup id=\"a38\">[38](#f38)</sup>. While the code is short and easy to run, it can led to compatibility problems down the line. "
   ]
  },
  {
   "cell_type": "code",
   "execution_count": 67,
   "id": "70d7a384-5316-4879-827c-17f353e9b16a",
   "metadata": {},
   "outputs": [
    {
     "data": {
      "text/plain": [
       "array([2, 1, 2])"
      ]
     },
     "execution_count": 67,
     "metadata": {},
     "output_type": "execute_result"
    }
   ],
   "source": [
    "np.random.seed(123)\n",
    "np.random.randint(3, size=3)"
   ]
  },
  {
   "cell_type": "markdown",
   "id": "a7651111-f113-48a2-974c-8b906ac06344",
   "metadata": {},
   "source": [
    "One benefit instantiating a BitGenerator rather than using numpy.random.RandomState methods is that code may no longer be reproducible in the future should the default generator change. By initially instantiating a BitGenerator, one can easily go back and explicitly change the BitGenerator called. For example, we can call the old Mersenne Twister RNG instead of the default PCG64 if for some reason we would prefer to use it, for example, the code we wish to run was originally written with Mersenne Twister in mind by using the legacy random generation, which the NumPy developers guarantee will be frozen and no longer change, allowing reproducibility into the foreseeable future<sup id=\"a39\">[39](#f39)</sup>. "
   ]
  },
  {
   "cell_type": "code",
   "execution_count": 68,
   "id": "17cf5f39-0ac4-4e7d-8770-08b3ff7d50d9",
   "metadata": {},
   "outputs": [
    {
     "data": {
      "text/plain": [
       "array([2, 5, 1])"
      ]
     },
     "execution_count": 68,
     "metadata": {},
     "output_type": "execute_result"
    }
   ],
   "source": [
    "# Import the legacy Mersenne Twister Bit Generator\n",
    "from numpy.random import RandomState\n",
    "\n",
    "# Seeding the BitGenerator\n",
    "rs = RandomState(12345)\n",
    "\n",
    "# Generate a random, reproducable array of 3 ints between 0-10\n",
    "rs.randint(10, size=3)"
   ]
  },
  {
   "cell_type": "markdown",
   "id": "ae6b810d-3ae8-4c0f-b194-eafc9b57ba5d",
   "metadata": {},
   "source": [
    "Some of the methods are different for the legacy random generator so the separate documentation section for this feature should be referred to if it is going to be used<sup id=\"a39\">[39](#f39)</sup>. \n",
    "\n",
    "We can also explicitly call for PCG64 should we be concerned that the default RNG changes in a future NumPy update. Doing so should hopefully help code to remain reproducible, in the instance where PCG64 is no longer the default BitGenerator, but it is still supported and callable by NumPy. "
   ]
  },
  {
   "cell_type": "code",
   "execution_count": 69,
   "id": "8ccb1b0f-ebfb-4322-ba89-7c2b7336f08b",
   "metadata": {},
   "outputs": [
    {
     "data": {
      "text/plain": [
       "array([8, 1, 8], dtype=int64)"
      ]
     },
     "execution_count": 69,
     "metadata": {},
     "output_type": "execute_result"
    }
   ],
   "source": [
    "# Explicitly call the PCG64 RNG, seeded to 32\n",
    "from numpy.random import Generator, PCG64\n",
    "rng = Generator(PCG64(seed=32))\n",
    "\n",
    "# Generate a random, reproducable array of 3 ints between 0-10\n",
    "rng.integers(10, size=3)"
   ]
  },
  {
   "cell_type": "markdown",
   "id": "fbee86df-01e7-4c72-b4c0-0b5279a85f59",
   "metadata": {},
   "source": [
    "It is worth noting that other BitGenerators are also supported by NumPy should a user wish to use a different RNG, but exploring further alternatives is beyond the scope of this project<sup id=\"a40\">[40](#f40)</sup>.\n",
    "\n",
    "-------"
   ]
  },
  {
   "cell_type": "markdown",
   "id": "8e9207f5",
   "metadata": {},
   "source": [
    "## <b id=\"h20\">References</b>"
   ]
  },
  {
   "cell_type": "markdown",
   "id": "d2037b3d-c5be-4ab7-aa8a-2524442022df",
   "metadata": {},
   "source": [
    "<b id=\"f1\">1.</b> Singh, S., 2018. Understanding Random Variables. [online] Available at: <https://towardsdatascience.com/understanding-random-variable-a618a2e99b93> [Accessed 21 November 2021].[↩](#a1)    \n",
    "<b id=\"f2\">2.</b> Wilson, J., 2019. Randomness for Modeling and Simulation. [online] Available at: <https://realpython.com/lessons/randomness-modeling-and-simulation/> [Accessed 21 November 2021].[↩](#a2)    \n",
    "<b id=\"f3\">3.</b> Kobayashi, S., Kane, T.B. and Paton, C., 2018. The privacy and security implications of open data in healthcare. *Yearbook of medical informatics*, 27(01), pp.041-047. [online]. Doi: 10.1055/s-0038-1641201 [Accessed 22 November 2021]. [↩](#a3)     \n",
    "<b id=\"f4\">4.</b> Quintana, D.S., 2020. A synthetic dataset primer for the biobehavioural sciences to promote reproducibility and hypothesis generation. *Elife*, 9, p.e53275. [online]. Doi: 10.7554/eLife.53275 [Accessed 22 November 2021]. [↩](#a4)     \n",
    "<b id=\"f5\">5.</b> Rubin, J. M., Can a computer generate a truly random number? [online] Available at: <https://engineering.mit.edu/engage/ask-an-engineer/can-a-computer-generate-a-truly-random-number/> [Accessed 22 November 2021].[↩](#a5)      \n",
    "<b id=\"f6\">6.</b> Cruis, B., 2012. Pseudorandom number generators. [online] Available at: <https://www.khanacademy.org/computing/computer-science/cryptography/crypt/v/random-vs-pseudorandom-number-generators> [Accessed 22 November 2021]. [↩](#a6)      \n",
    "<b id=\"f7\">7.</b> Harris, C.R., Millman, K.J., van der Walt, S.J., Gommers, R., Virtanen, P., Cournapeau, D., Wieser, E., Taylor, J., Berg, S., Smith, N.J. and Kern, R., 2020. Array programming with NumPy. Nature, 585(7825), pp.357-362. Doi: 10.1038/s41586-020-2649-2. [↩](#a7)     \n",
    "<b id=\"f8\">8.</b> McKinney, W., 2018. *Python for data analysis: Data wrangling with Pandas, NumPy, and IPython.* \" O'Reilly Media, Inc.\"., p. 118.[↩](#a8)     \n",
    "<b id=\"f9\">9.</b> Problem Solving with Python. Magic Commands. [online] Available at: <https://problemsolvingwithpython.com/02-Jupyter-Notebooks/02.06-Magic-Commands/> [Accessed 22 November 2021].[↩](#a9)   \n",
    "<b id=\"f10\">10.</b> NumPy, 2021. Random Generator. [online]. Available at: <https://numpy.org/doc/stable/reference/random/generator.html#numpy.random.Generator> [Accessed 22 November 2021].[↩](#a10)     \n",
    "<b id=\"f11\">11.</b> NumPy., 2021. numpy.random.Generator.integers. [online]. Available at: https://numpy.org/doc/stable/reference/random/generated/numpy.random.Generator.integers.html#numpy.random.Generator.integers [Accessed 22 November 2021]. [↩](#a11)    \n",
    "<b id=\"f12\">12.</b> NumPy, 2021. numpy.random.Generator.random. [online]. Available at: https://numpy.org/doc/stable/reference/random/generated/numpy.random.Generator.integers.html#numpy.random.Generator.integers [Accessed 22 November 2021].[↩](#a12)     \n",
    "<b id=\"f13\">13.</b> NumPy, 2021. numpy.random.Generator.choice. [online]. Available at: https://numpy.org/doc/stable/reference/random/generated/numpy.random.Generator.choice.html#numpy.random.Generator.choice [Accessed 22 November 2021].[↩](#a13)      \n",
    "<b id=\"f14\">14.</b> NumPy, 2021. numpy.random.Generator.bytes. [online]. Available at: https://numpy.org/doc/stable/reference/random/generated/numpy.random.Generator.bytes.html#numpy.random.Generator.bytes [Accessed 22 November 2021].[↩](#a14)      \n",
    "<b id=\"f15\">15.</b> Martello Security, 2021.  Use of Cryptographically Weak Pseudo-Random Number Generator (PRNG). [online]. Available at: https://www.martellosecurity.com/kb/mitre/cwe/338/ [Accessed 22 November 2021].[↩](#a15)      \n",
    "<b id=\"f16\">16.</b> NumPy, 2021. numpy.random.Generator.shuffle. [online]. Available at: https://numpy.org/doc/stable/reference/random/generated/numpy.random.Generator.shuffle.html#numpy.random.Generator.shuffle [Accessed 22 November 2021].[↩](#a16)      \n",
    "<b id=\"f17\">17.</b> NumPy, 2021. numpy.random.Generator.permutation. [online]. Available at: https://numpy.org/doc/stable/reference/random/generated/numpy.random.Generator.permutation.html#numpy.random.Generator.permutation [Accessed 22 November 2021].[↩](#a17)     \n",
    "<b id=\"f18\">18.</b> NumPy, 2021. numpy.random.Generator.permuted. [online]. Available at: https://numpy.org/doc/stable/reference/random/generated/numpy.random.Generator.permuted.html#numpy.random.Generator.permuted [Accessed 22 November 2021].[↩](#a18)     \n",
    "<b id=\"f19\">19.</b> NumPy, 2021. NumPy 1.20.0 Release Notes. [online]. Available at: https://numpy.org/doc/stable/release/1.20.0-notes.html?release#new-functions [Accessed 22 November 2021].[↩](#a19)     \n",
    "<b id=\"f20\">20.</b> Albright, E. A., 2021. Probability Distributions. [online]. Available at: <https://sites.nicholas.duke.edu/statsreview/normal/> [Accessed April 27 2021].[↩](#a20)       \n",
    "<b id=\"f21\">21.</b> NumPy, 2021. numpy.random.Generator.binomial. [online]. Available at: https://numpy.org/doc/stable/reference/random/generated/numpy.random.Generator.binomial.html#numpy.random.Generator.binomial [Accessed 22 November 2021].[↩](#a21)     \n",
    "<b id=\"f22\">22.</b> Weisstein, E., 2021. \"Binomial Distribution.\" From MathWorld--A Wolfram Web Resource.[online]. Available at: https://mathworld.wolfram.com/BinomialDistribution.html [Accessed 22 November 2021].[↩](#a22)    \n",
    "<b id=\"f23\">23.</b> InStat, 2021. Massive research of penalties by InStat. [online]. Available at: https://instatsport.com/football/article/penalty_research [Accessed 22 November 2021].[↩](#a23)     \n",
    "<b id=\"f24\">24.</b> NumPy, 2021. numpy.random.Generator.normal. [online]. Available at: https://numpy.org/doc/stable/reference/random/generated/numpy.random.Generator.normal.html#numpy.random.Generator.normal [Accessed 22 November 2021].[↩](#a24)      \n",
    "<b id=\"f25\">25.</b> Weisstein, E., 2021. \"Normal Distribution.\" From MathWorld--A Wolfram Web Resource.[online]. Available at: https://mathworld.wolfram.com/NormalDistribution.html [Accessed 22 November 2021].[↩](#a25)     \n",
    "<b id=\"f26\">26.</b> Frost, J., 2018. Normal Distribution in Statistics. [online]. Available at: https://statisticsbyjim.com/basics/normal-distribution/ [Accessed 28 April 2021].[↩](#a26)      \n",
    "<b id=\"f27\">27.</b> NumPy, 2021. numpy.random.Generator.uniform. [online]. Available at: https://numpy.org/doc/stable/reference/random/generated/numpy.random.Generator.uniform.html#numpy.random.Generator.uniform [Accessed 22 November 2021].[↩](#a27)     \n",
    "<b id=\"f28\">28.</b> Weisstein, E., 2021. \"Uniform Distribution.\" From MathWorld--A Wolfram Web Resource.[online]. Available at: https://mathworld.wolfram.com/UniformDistribution.html [Accessed 22 November 2021].[↩](#a28)    \n",
    "<b id=\"f29\">29.</b> NumPy, 2021. numpy.random.Generator.poisson. [online]. Available at: https://numpy.org/doc/stable/reference/random/generated/numpy.random.Generator.poisson.html#numpy.random.Generator.poisson [Accessed 22 November 2021].[↩](#a29)      \n",
    "<b id=\"f30\">30.</b> Weisstein, E., 2021. \"Poisson Distribution.\" From MathWorld--A Wolfram Web Resource.[online]. Available at: https://mathworld.wolfram.com/PoissonDistribution.html [Accessed 22 November 2021].[↩](#a30)     \n",
    "<b id=\"f31\">31.</b> NumPy, 2021. numpy.random.Generator.exponential. [online]. Available at: https://numpy.org/doc/stable/reference/random/generated/numpy.random.Generator.exponential.html#numpy.random.Generator.exponential [Accessed 22 November 2021].[↩](#a31)      \n",
    "<b id=\"f32\">32.</b> Weisstein, E., 2021. \"Exponential Distribution.\" From MathWorld--A Wolfram Web Resource.[online]. Available at: https://mathworld.wolfram.com/ExponentialDistribution.html [Accessed 22 November 2021].[↩](#a32)   \n",
    "<b id=\"f33\">33.</b> Ebner, J., 2019. NumPy Random Seed, Explained.[online]. Available at: https://www.sharpsightlabs.com/blog/numpy-random-seed/ [Accessed 22 November 2021].[↩](#a33)     \n",
    "<b id=\"f34\">34.</b> NumPy, 2021. numpy.random.BitGenerator. [online]. Available at: https://numpy.org/doc/stable/reference/random/bit_generators/generated/numpy.random.BitGenerator.html#numpy.random.BitGenerator [Accessed 22 November 2021].[↩](#a34)     \n",
    "<b id=\"f35\">35.</b> Matsumoto, M. and Nishimura, T., 1998. Mersenne twister: a 623-dimensionally equidistributed uniform pseudo-random number generator. *ACM Transactions on Modeling and Computer Simulation (TOMACS)*, 8(1), pp.3-30. Doi: https://doi.org/10.1145/272991.272995 [↩](#a35)     \n",
    "<b id=\"f36\">36.</b> Vigna, S., 2019. It is high time we let go of the Mersenne Twister. *arXiv preprint* arXiv:1910.06437..[↩](#a36)     \n",
    "<b id=\"f37\">37.</b> O’Neill, M.E., 2014. PCG: A family of simple fast space-efficient statistically good algorithms for random number generation. ACM Transactions on Mathematical Software. Doi: http://dx.doi.org/10.1145/0000000.000000.[↩](#a37)      \n",
    "<b id=\"f38\">38.</b> Gorman, B. 2019. Python NumPy For Your Grandma - 3.7 random. [online]. Available at: <https://www.gormanalysis.com/blog/python-numpy-for-your-grandma-3-7-random/> [Accessed 22 November 2021].[↩](#a38)     \n",
    "<b id=\"f39\">39.</b> NumPy, 2021. Legacy Random Generation. [online]. Available at: https://numpy.org/doc/stable/reference/random/legacy.html [Accessed 22 November 2021].[↩](#a39)     \n",
    "<b id=\"f40\">40.</b> NumPy, 2021. Bit Generators. [online]. Available at: https://numpy.org/doc/stable/reference/random/bit_generators/index.html [Accessed 22 November 2021].[↩](#a40)  \n",
    "\n",
    "\n",
    "\n",
    "\n"
   ]
  }
 ],
 "metadata": {
  "kernelspec": {
   "display_name": "Python 3",
   "language": "python",
   "name": "python3"
  },
  "language_info": {
   "codemirror_mode": {
    "name": "ipython",
    "version": 3
   },
   "file_extension": ".py",
   "mimetype": "text/x-python",
   "name": "python",
   "nbconvert_exporter": "python",
   "pygments_lexer": "ipython3",
   "version": "3.8.8"
  }
 },
 "nbformat": 4,
 "nbformat_minor": 5
}
