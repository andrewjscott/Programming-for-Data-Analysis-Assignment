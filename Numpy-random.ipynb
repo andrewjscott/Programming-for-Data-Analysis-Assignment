{
 "cells": [
  {
   "cell_type": "markdown",
   "id": "0bb781ed",
   "metadata": {},
   "source": [
    "# The numpy.random package\n",
    "**Author: Andrew Scott**\n",
    "---"
   ]
  },
  {
   "cell_type": "markdown",
   "id": "6d35d06f-4a4d-46ef-9667-36b86c6cb1af",
   "metadata": {},
   "source": [
    "# Table of Contents\n",
    "* <b id=\"toc1\">[Randomness](#h1)</b>\n",
    "* <b id=\"toc2\">[NumPy's Random Module](#h2)</b>\n",
    "* <b id=\"toc3\">[\"Simple Random Data\" Functions](#h3)</b>\n",
    "    * <b id=\"toc4\">[integers](#h4)</b>\n",
    "    * <b id=\"toc5\">[random](#h5)</b>\n",
    "    * <b id=\"toc6\">[choice](#h6)</b>\n",
    "    * <b id=\"toc7\">[bytes](#h7)</b>\n",
    "* <b id=\"toc8\">[\"Permutations\" functions](#h8)</b>\n",
    "    * <b id=\"toc9\">[shuffle](#h9)</b>\n",
    "    * <b id=\"toc10\">[permutation](#h10)</b>\n",
    "    * <b id=\"toc11\">[permuted](#h11)</b>\n",
    "* <b id=\"toc12\">[Distributions](#h12)</b>\n",
    "    * <b id=\"toc13\">[binomial](#h13)</b>\n",
    "    * <b id=\"toc14\">[normal](#h14)</b>\n",
    "    * <b id=\"toc15\">[uniform](#h15)</b>\n",
    "    * <b id=\"toc16\">[poisson](#h16)</b>\n",
    "    * <b id=\"toc17\">[exponential](#h17)</b>\n",
    "* <b id=\"toc18\">[Seeds](#h18)</b>\n",
    "    * <b id=\"toc19\">[BitGenerators (PCG64 vs Mersenne Twister)](#h19)</b>\n",
    "* <b id=\"toc20\">[References](#h20)</b>\n",
    "------"
   ]
  },
  {
   "cell_type": "markdown",
   "id": "263a9965",
   "metadata": {},
   "source": [
    "## <b id=\"h1\">Randomness</b>"
   ]
  },
  {
   "cell_type": "markdown",
   "id": "def6248e-e69e-4743-978d-ae23f6a09565",
   "metadata": {},
   "source": [
    "Randomness is generally thought of as the unpredictability of an event’s outcome ahead of time<sup id=\"a1\">[1](#f1)</sup>. Even if one outcome is more likely than another, we cannot be certain which outcome will happen until we observe it. This randomness is the basis of many common games of chance, such as flipping a coin or rolling dice. "
   ]
  },
  {
   "cell_type": "markdown",
   "id": "17f46df6-5fd5-4ff6-9960-f38cda36621e",
   "metadata": {},
   "source": [
    "## <b id=\"h2\">NumPy's Random Module</b>"
   ]
  },
  {
   "cell_type": "markdown",
   "id": "e54048aa-43ce-4e05-ac98-d76ca2982dcc",
   "metadata": {},
   "source": [
    "In data science, we will want sometimes want to generate random data for the purposes of simulation<sup id=\"a2\">[2](#f2)</sup>. This can save time. For example, it is much faster to code and run a simulation of a million coin tosses than to physically toss a coin a million times. We can also use simulated data to test and refine models, or to supplement existing data. Random data simulation has also been proposed as a solution to a problem in medical scientific research, where data is often not open due to concerns about patient confidentiality<sup id=\"a3\">[3](#f3)</sup>. A compromise is to simulate the patient data so that the simulated dataset is statistically identical to the original. These “synthetic” datasets can then be open to the public, with any potential identifying variables hidden by the randomising process<sup id=\"a4\">[4](#f4)</sup>.\n",
    "\n",
    "Since computing is completely deterministic, it would be incredibly difficult for one to generate truly random data<sup id=\"a5\">[5](#f5)</sup>. However, the outcome of an event appearing random to an observer might not be due to the fact multiple outcomes are possible. The outcome might instead appear random due to the observer’s ignorance. If the observer had all the relevant information about an event, they would be able to perfectly state the outcome ahead of time, but if they lack the relevant information, then other outcomes might appear equally plausible. Computers take advantage of this ignorance of the user with pseudo-random number generators (PRNGs)<sup id=\"a6\">[6](#f6)</sup>. The coding is completely deterministic, but if the user lacks necessary information about how the algorithm works, then the outcome is considered random from the user’s perspective.\n",
    "\n",
    "While python has a built-in random module, a more powerful alternative is provided by NumPy’s random module. NumPy is a package that allows for fast calculations with arrays<sup id=\"a7\">[7](#f7)</sup>. This feature extends to the generation of random values, where NumPy random can quickly generate not only single random values, but can also generate random arrays. As noted by Wes McKinney when discussing NumPy’s random module, “Python’s built-in random module, by contrast, only samples one value at a time… (and) numpy.random is well over an order of magnitude faster for generating very large samples”<sup id=\"a8\">[8](#f8)</sup>. This makes NumPy a more powerful choice when it comes to generating larger random datasets for simulations. Many of NumPy random’s methods will now be discussed in turn. \n"
   ]
  },
  {
   "cell_type": "markdown",
   "id": "981690cc-204d-4c29-8bf4-400885a849b6",
   "metadata": {},
   "source": [
    "To use the numpy.random module, we first need to import numpy, which by convention is generally imported as np. To visualise some of the random data that will be generated, matplotlib.pyplot will also be imported to generate plots of the data. A magic command has also been added as it helps to display plot within a notebook<sup id=\"a9\">[9](#f9)</sup>."
   ]
  },
  {
   "cell_type": "code",
   "execution_count": 1,
   "id": "57ab90f1",
   "metadata": {},
   "outputs": [],
   "source": [
    "# Package for numerical calculations and arrays\n",
    "import numpy as np\n",
    "\n",
    "# Generating plots\n",
    "import matplotlib.pyplot as plt\n",
    "\n",
    "# A magic command for helping display matplotlib plots in notebooks\n",
    "%matplotlib inline"
   ]
  },
  {
   "cell_type": "markdown",
   "id": "f20da043-ccd6-460d-b682-e2dc44065243",
   "metadata": {},
   "source": [
    "The numpy.random documentation recommends that before calling on any methods, that a new generator is called using the default PRNG, which can be done with the following code. The varible that points to this code will be used throughout to call on numpy.random's functions<sup id=\"a10\">[10](#f10)</sup>. "
   ]
  },
  {
   "cell_type": "code",
   "execution_count": 2,
   "id": "bf3070b6-6b3a-42d6-948c-9b6c0b5c9e95",
   "metadata": {},
   "outputs": [],
   "source": [
    "# Construct a new Generator with the default BitGenerator (PCG64)\n",
    "rng = np.random.default_rng()"
   ]
  },
  {
   "cell_type": "markdown",
   "id": "32657df0-737d-451d-bba4-c06841489b33",
   "metadata": {},
   "source": [
    "The sections below will begin with the structure of the code needed to run each function, as presented in the numpy.random v1.21 documentation<sup id=\"a10\">[10](#f10)</sup>. For example, the code presented for the integers function is random.Generator.integers(low, high=None, size=None, dtype=np.int64, endpoint=False). This means that to run our code we will use the variable assigned to our random generator followed by a period and the function name, then followed by parantheses which contain the arguments that we wish use. Arguments without equal signs are neccessary and must be passed, otherwise the code will not runreturn an error. Arguments with equal signs are optional. If these are not passed by the user, then numpy.random will just use default values for these arguments. "
   ]
  },
  {
   "cell_type": "markdown",
   "id": "aa5f4122",
   "metadata": {},
   "source": [
    "## <b id=\"h3\">\"Simple Random Data\" Functions</b>\n",
    "---------------------------------"
   ]
  },
  {
   "cell_type": "markdown",
   "id": "b8f3f046-8101-4d85-bb49-d9ff3afd65f0",
   "metadata": {},
   "source": [
    "There are four ‘Simple Random Data’ functions for the fast generation of random data. "
   ]
  },
  {
   "cell_type": "markdown",
   "id": "f64d8a0c",
   "metadata": {},
   "source": [
    "### <b id=\"h4\">integers</b><sup id=\"a11\">[11](#f11)</sup>"
   ]
  },
  {
   "cell_type": "markdown",
   "id": "664f13fd",
   "metadata": {},
   "source": [
    "random.Generator.integers(low, high=None, size=None, dtype=np.int64, endpoint=False)"
   ]
  },
  {
   "cell_type": "markdown",
   "id": "b72aeeee-05e6-4834-944f-2bc8eec4eb0b",
   "metadata": {},
   "source": [
    "The integers function is used for the generation of integers, from a single integer to entire arrays. If only a single number is passed as an argument, the function will generate an integer between 0 and the number entered, with the higher number exclusive. In the example below, as 3 is entered as the argument, the randomly generated integer will be either 0, 1, or 2. "
   ]
  },
  {
   "cell_type": "code",
   "execution_count": 3,
   "id": "524a83ff-53ce-4e71-921a-92dae47df827",
   "metadata": {},
   "outputs": [
    {
     "data": {
      "text/plain": [
       "0"
      ]
     },
     "execution_count": 3,
     "metadata": {},
     "output_type": "execute_result"
    }
   ],
   "source": [
    "# Generate a single integer.\n",
    "\n",
    "random_int = rng.integers(3)\n",
    "random_int"
   ]
  },
  {
   "cell_type": "markdown",
   "id": "aea3516c-9e15-4847-9b98-6dc5d244168a",
   "metadata": {},
   "source": [
    "If we do not enter a number, the code will not work, and will return an error message that at least one argument needs to be given."
   ]
  },
  {
   "cell_type": "code",
   "execution_count": 4,
   "id": "0059fedc-6672-48d4-83e4-6612830d7255",
   "metadata": {},
   "outputs": [
    {
     "ename": "TypeError",
     "evalue": "integers() takes at least 1 positional argument (0 given)",
     "output_type": "error",
     "traceback": [
      "\u001b[1;31m---------------------------------------------------------------------------\u001b[0m",
      "\u001b[1;31mTypeError\u001b[0m                                 Traceback (most recent call last)",
      "\u001b[1;32m<ipython-input-4-903de47dc9f0>\u001b[0m in \u001b[0;36m<module>\u001b[1;34m\u001b[0m\n\u001b[0;32m      1\u001b[0m \u001b[1;31m# This will return an error as no argumentshave been passed.\u001b[0m\u001b[1;33m\u001b[0m\u001b[1;33m\u001b[0m\u001b[1;33m\u001b[0m\u001b[0m\n\u001b[1;32m----> 2\u001b[1;33m \u001b[0mrng\u001b[0m\u001b[1;33m.\u001b[0m\u001b[0mintegers\u001b[0m\u001b[1;33m(\u001b[0m\u001b[1;33m)\u001b[0m\u001b[1;33m\u001b[0m\u001b[1;33m\u001b[0m\u001b[0m\n\u001b[0m",
      "\u001b[1;32m_generator.pyx\u001b[0m in \u001b[0;36mnumpy.random._generator.Generator.integers\u001b[1;34m()\u001b[0m\n",
      "\u001b[1;31mTypeError\u001b[0m: integers() takes at least 1 positional argument (0 given)"
     ]
    }
   ],
   "source": [
    "# This will return an error as no argumentshave been passed.\n",
    "rng.integers()"
   ]
  },
  {
   "cell_type": "markdown",
   "id": "60769269-a537-46c2-9892-e5864d6f17a0",
   "metadata": {},
   "source": [
    "We can generate more than one number by specifying the size. For the below example, entering the size as 20 will result in 20 random intergers being returned in an array."
   ]
  },
  {
   "cell_type": "code",
   "execution_count": 5,
   "id": "cbd55f05-81a8-4854-a205-63ba31997a86",
   "metadata": {},
   "outputs": [
    {
     "data": {
      "text/plain": [
       "array([1, 3, 4, 1, 1, 0, 4, 1, 4, 2, 2, 3, 2, 1, 2, 0, 0, 4, 1, 4],\n",
       "      dtype=int64)"
      ]
     },
     "execution_count": 5,
     "metadata": {},
     "output_type": "execute_result"
    }
   ],
   "source": [
    "# Generates an array of 20 random integers from 0-4 (5 not inclusive).\n",
    "rng.integers(5, size = 20)"
   ]
  },
  {
   "cell_type": "markdown",
   "id": "dcd89273-c8b6-4758-9782-2e3f302a7da5",
   "metadata": {},
   "source": [
    "It is worth noting that running the same code again will lead to a brand new array of 20 random numbers. "
   ]
  },
  {
   "cell_type": "code",
   "execution_count": 6,
   "id": "67fe8e08",
   "metadata": {},
   "outputs": [
    {
     "data": {
      "text/plain": [
       "array([1, 0, 2, 2, 2, 3, 0, 2, 1, 0, 2, 1, 3, 4, 4, 3, 3, 1, 4, 2],\n",
       "      dtype=int64)"
      ]
     },
     "execution_count": 6,
     "metadata": {},
     "output_type": "execute_result"
    }
   ],
   "source": [
    "# Generates an array of 20 random integers from 0-4 (5 not inclusive).\n",
    "random_integers2 = rng.integers(5, size = 20)\n",
    "random_integers2"
   ]
  },
  {
   "cell_type": "markdown",
   "id": "e3bda5eb-388e-44e1-9c17-256ad31be328",
   "metadata": {},
   "source": [
    "While we do not need to assign variables for the code to work, by doing so we can reuse this array further in our code should we wish to do so. However, once the session is closed and the code is rerun at a later time, a new random array will be created and stored to the variable, with the original instance lost. If we want a random array that is consistantly reproducable, this will be dealt with in the section on seeding."
   ]
  },
  {
   "cell_type": "code",
   "execution_count": 7,
   "id": "51811f8a-b8a8-4d86-86cf-d334cdaaf958",
   "metadata": {},
   "outputs": [
    {
     "data": {
      "text/plain": [
       "array([1, 0, 2, 2, 2, 3, 0, 2, 1, 0, 2, 1, 3, 4, 4, 3, 3, 1, 4, 2],\n",
       "      dtype=int64)"
      ]
     },
     "execution_count": 7,
     "metadata": {},
     "output_type": "execute_result"
    }
   ],
   "source": [
    "# Recalling the variable to see the randomly generated array produced earlier\n",
    "random_integers2"
   ]
  },
  {
   "cell_type": "markdown",
   "id": "373cc3bb-d392-450e-9a53-6e77f43791af",
   "metadata": {},
   "source": [
    "We can specify the lowest and highest random numbers that can be selected. In this instance the lowest number is 10, which is inclusive. High being 25 means 24 is the highest number, as high is exclusive. We can also create a multidimensional array by specifying the size. In this instance size=(2,4) returns a 2x4 array"
   ]
  },
  {
   "cell_type": "code",
   "execution_count": 8,
   "id": "9be7070c",
   "metadata": {},
   "outputs": [
    {
     "data": {
      "text/plain": [
       "array([[24, 24, 19, 14],\n",
       "       [15, 24, 18, 18]], dtype=int64)"
      ]
     },
     "execution_count": 8,
     "metadata": {},
     "output_type": "execute_result"
    }
   ],
   "source": [
    "# Generate a random 2x4 array of numbers between 10 and 24.\n",
    "rng.integers(low=10, high=25, size=(2,4))"
   ]
  },
  {
   "cell_type": "markdown",
   "id": "9ed298d1",
   "metadata": {},
   "source": [
    "### <b id=\"h5\">random</b><sup id=\"a12\">[12](#f12)</sup>"
   ]
  },
  {
   "cell_type": "markdown",
   "id": "43aef6de",
   "metadata": {},
   "source": [
    "random.Generator.random(size=None, dtype=np.float64, out=None)"
   ]
  },
  {
   "cell_type": "markdown",
   "id": "4ccf4625-84bb-426d-9992-1f750726fdc1",
   "metadata": {},
   "source": [
    "The random function is used to return floating point numbers between 0.0 and 1.0."
   ]
  },
  {
   "cell_type": "markdown",
   "id": "45195ad6-7e4d-4d0c-8c66-f3292b41d591",
   "metadata": {},
   "source": [
    "Unlike with the integers function, random will work without passing an argument. If we do this, it will return a single floating point value betweeen 0.0 and 1.0."
   ]
  },
  {
   "cell_type": "code",
   "execution_count": 9,
   "id": "a430790b-6ffa-4459-886f-6efb5a388c4e",
   "metadata": {},
   "outputs": [
    {
     "data": {
      "text/plain": [
       "0.4585041148136916"
      ]
     },
     "execution_count": 9,
     "metadata": {},
     "output_type": "execute_result"
    }
   ],
   "source": [
    "# Generate a single random float between 0.0 and 1.0.\n",
    "rng.random()"
   ]
  },
  {
   "cell_type": "markdown",
   "id": "7f3c57ce-1cfa-4e79-b131-9ba5ec0f991d",
   "metadata": {},
   "source": [
    "If we need more than one random float, we can do this by specifying the size to the amount of random numbers we would like returned."
   ]
  },
  {
   "cell_type": "code",
   "execution_count": 10,
   "id": "5137a780-c968-4814-b3a5-aa0cc8f399e7",
   "metadata": {},
   "outputs": [
    {
     "data": {
      "text/plain": [
       "array([0.28629367, 0.52557991, 0.81300288, 0.41344498, 0.25709737,\n",
       "       0.26455851, 0.82491405, 0.99547477, 0.63673684, 0.88691373,\n",
       "       0.02580402, 0.9662491 , 0.37684205, 0.86086458, 0.95585254,\n",
       "       0.45828661, 0.08053959, 0.96853162, 0.85403351, 0.4889185 ])"
      ]
     },
     "execution_count": 10,
     "metadata": {},
     "output_type": "execute_result"
    }
   ],
   "source": [
    "# Returns 20 random floats between 0.0 and 1.0\n",
    "rng.random(size = 20)"
   ]
  },
  {
   "cell_type": "markdown",
   "id": "285b8380-8ae6-4f1d-86e3-354cf39962cc",
   "metadata": {},
   "source": [
    "Multidimensional arrays can be generated by adding more than one value to the size argument in parentheses."
   ]
  },
  {
   "cell_type": "code",
   "execution_count": 11,
   "id": "2d4e89b7",
   "metadata": {},
   "outputs": [
    {
     "data": {
      "text/plain": [
       "array([[0.41097576, 0.69523416, 0.85983074, 0.15368432, 0.36016935],\n",
       "       [0.11884435, 0.15099765, 0.85000594, 0.15067675, 0.25967522],\n",
       "       [0.35323649, 0.79504746, 0.27359415, 0.669286  , 0.18396234]])"
      ]
     },
     "execution_count": 11,
     "metadata": {},
     "output_type": "execute_result"
    }
   ],
   "source": [
    "# Create 3 random arrays of 5 floats between 0.0 and 1.0\n",
    "rng.random(size = (3, 5))"
   ]
  },
  {
   "cell_type": "markdown",
   "id": "28b61d21-7d5d-4e97-a847-59e0b48ec2c1",
   "metadata": {},
   "source": [
    "Since the power of NumPy is in fast calculations with arrays, we can take advantage of this to create random arrays of values greater than 1.0. The example below multiplies the randomly generated floats by 10 before returning the array to us."
   ]
  },
  {
   "cell_type": "code",
   "execution_count": 12,
   "id": "0f2379e9",
   "metadata": {},
   "outputs": [
    {
     "data": {
      "text/plain": [
       "array([3.96279379, 4.81313069, 0.32018169, 0.31649115, 3.54454729])"
      ]
     },
     "execution_count": 12,
     "metadata": {},
     "output_type": "execute_result"
    }
   ],
   "source": [
    "# Multiplying a randomly created array of floats by 10.\n",
    "10 * rng.random(size = 5)"
   ]
  },
  {
   "cell_type": "markdown",
   "id": "61f94151",
   "metadata": {},
   "source": [
    "### <b id=\"h6\">choice</b> <sup id=\"a13\">[13](#f13)</sup>"
   ]
  },
  {
   "cell_type": "markdown",
   "id": "c016e084",
   "metadata": {},
   "source": [
    "random.Generator.choice(a, size=None, replace=True, p=None, axis=0, shuffle=True)"
   ]
  },
  {
   "cell_type": "markdown",
   "id": "c987ff77-5516-4dcc-8e85-4be242bebe42",
   "metadata": {},
   "source": [
    "The choice function takes an array as an argument, and returns random values from that array to the user based on the parameters passed in by the user. Entering a single integer as an arguments means choice will select a random integer in the range of numbers from 0 up to the entered number."
   ]
  },
  {
   "cell_type": "code",
   "execution_count": 13,
   "id": "cca00237-f499-4b03-8504-0367d08c28c0",
   "metadata": {},
   "outputs": [
    {
     "data": {
      "text/plain": [
       "2"
      ]
     },
     "execution_count": 13,
     "metadata": {},
     "output_type": "execute_result"
    }
   ],
   "source": [
    "# Chooses a random number between 0 and 5 to return to the user\n",
    "rng.choice(5)"
   ]
  },
  {
   "cell_type": "markdown",
   "id": "597377af-064c-4be6-9de7-700b7ea73d9b",
   "metadata": {},
   "source": [
    "We can ask choice to return more values by specifying them alongside the initial number. In the below example, (10,3) means the cdode will return 3 numbers between 0 and 10. "
   ]
  },
  {
   "cell_type": "code",
   "execution_count": 14,
   "id": "3681bd76",
   "metadata": {},
   "outputs": [
    {
     "data": {
      "text/plain": [
       "array([1, 6, 6], dtype=int64)"
      ]
     },
     "execution_count": 14,
     "metadata": {},
     "output_type": "execute_result"
    }
   ],
   "source": [
    "# Takes 10 as an input and then selects 3 random ints up to 10\n",
    "rng.choice(10, 3)"
   ]
  },
  {
   "cell_type": "markdown",
   "id": "121e5a76-a584-4b39-8443-c43ff0e64052",
   "metadata": {},
   "source": [
    "In the above examples, the exact same outcome can be achieved by using the integers function. The below examples show where choice differs. For example, we can pass in a list of strings and ask choice to return a random item from that list to us. If we have a list of colours, and then pass that list as an argument using choice, we will get one colour randomly returned. "
   ]
  },
  {
   "cell_type": "code",
   "execution_count": 15,
   "id": "6adfb758",
   "metadata": {},
   "outputs": [
    {
     "data": {
      "text/plain": [
       "'blue'"
      ]
     },
     "execution_count": 15,
     "metadata": {},
     "output_type": "execute_result"
    }
   ],
   "source": [
    "# A list of colours\n",
    "colours = [\"red\", \"blue\", \"green\", \"black\", \"yellow\"]\n",
    "\n",
    "# Using choice to randomly pick a colour\n",
    "rng.choice(colours)"
   ]
  },
  {
   "cell_type": "markdown",
   "id": "29dc07ee-37ef-459d-852f-689a827af73b",
   "metadata": {},
   "source": [
    "We can again get more than one value returned by specifying the size. By default, when selecting multiple items from a list, choice will replace the item chosen each time. That is to say, if we have 5 items in a list and choice picks one, the chosen item will be returned to the list where it can potentially be chosen again. If we don't want this to happen, we can set replacement to false. This means that when something is randomly chosen from our 5 item list, the chosen item will not be returned and cannot be selected again, meaning only one of the remaining 4 items from the list can be chosen. "
   ]
  },
  {
   "cell_type": "code",
   "execution_count": 16,
   "id": "f0ea7bc4-8197-4b65-a614-9a12bd64c13b",
   "metadata": {},
   "outputs": [
    {
     "data": {
      "text/plain": [
       "array(['green', 'blue', 'red'], dtype='<U6')"
      ]
     },
     "execution_count": 16,
     "metadata": {},
     "output_type": "execute_result"
    }
   ],
   "source": [
    "# Selecting 3 random colours without replacement. \n",
    "rng.choice(colours, size= 3, replace=False)"
   ]
  },
  {
   "cell_type": "markdown",
   "id": "008f38c8-ecc3-4ded-9d57-bd0e425a986b",
   "metadata": {},
   "source": [
    "We can add probabilitys to bias the outcome chosen in certain directions. With our list of colors, we can bias the outcome by adding an array of values with the same amount of values as there are items in our list, which in this instance is 5. The values of p should add to 1. With the last value being the highest at 0., this means the last item in our list (yellow), is more likely to be randomly chosen, followed by black with a value of 0.3. The remaining items may still be chosen, but will not be chosen as frquently were the code run multiple times. "
   ]
  },
  {
   "cell_type": "code",
   "execution_count": 17,
   "id": "b0cd33c4",
   "metadata": {},
   "outputs": [
    {
     "data": {
      "text/plain": [
       "array(['black', 'yellow'], dtype='<U6')"
      ]
     },
     "execution_count": 17,
     "metadata": {},
     "output_type": "execute_result"
    }
   ],
   "source": [
    "# Select two colours randomly with replacement and a biased outcome\n",
    "rng.choice(colours, size=2, p = np.array([0.1, 0.1, 0.1, 0.3, 0.4]))"
   ]
  },
  {
   "cell_type": "markdown",
   "id": "27b13d59",
   "metadata": {},
   "source": [
    "### <b id=\"h7\">bytes<b id=\"h7\"> <sup id=\"a14\">[14](#f14)</sup>"
   ]
  },
  {
   "cell_type": "markdown",
   "id": "414bd523",
   "metadata": {},
   "source": [
    "random.Generator.bytes(length)"
   ]
  },
  {
   "cell_type": "markdown",
   "id": "27200812-348c-4e22-a0a2-b1ef5889c95f",
   "metadata": {},
   "source": [
    "The bytes function only takes a single argument, and returns random bytes of the length passed. Random byte generation can be used in cryptography. However, PRNGs should not be used for security or cryptography purposes as they are not secure enough for this purpose.<sup id=\"a15\">[15](#f15)</sup>."
   ]
  },
  {
   "cell_type": "code",
   "execution_count": 18,
   "id": "de2cc869",
   "metadata": {},
   "outputs": [
    {
     "data": {
      "text/plain": [
       "b'=\\x86,\\xc2\"'"
      ]
     },
     "execution_count": 18,
     "metadata": {},
     "output_type": "execute_result"
    }
   ],
   "source": [
    "# Return 5 random bytes\n",
    "rng.bytes(5)"
   ]
  },
  {
   "cell_type": "markdown",
   "id": "3607c364",
   "metadata": {},
   "source": [
    "## <b id=\"h8\">\"Permutations\" functions</b>\n",
    "---"
   ]
  },
  {
   "cell_type": "markdown",
   "id": "78b6fa81-f64e-40a2-bf42-5bbecf803bcd",
   "metadata": {},
   "source": [
    "The three Permutation methods can all be used for the random rearranging of items within an array."
   ]
  },
  {
   "cell_type": "markdown",
   "id": "02af79ca",
   "metadata": {},
   "source": [
    "### <b id=\"h9\">shuffle</b><sup id=\"a16\">[16](#f16)</sup>"
   ]
  },
  {
   "cell_type": "markdown",
   "id": "7d40d4c6",
   "metadata": {},
   "source": [
    "random.Generator.shuffle(x, axis=0)"
   ]
  },
  {
   "cell_type": "markdown",
   "id": "ebab81a3-2d14-49ff-975f-4f052c9133c9",
   "metadata": {},
   "source": [
    "The shuffle function takes in an a sequence or an array and returns everything in a new random order. Below we will create a variable containing the integers from 0-9 that we will then shuffle."
   ]
  },
  {
   "cell_type": "code",
   "execution_count": 19,
   "id": "bb7493e9",
   "metadata": {},
   "outputs": [
    {
     "data": {
      "text/plain": [
       "array([0, 1, 2, 3, 4, 5, 6, 7, 8, 9])"
      ]
     },
     "execution_count": 19,
     "metadata": {},
     "output_type": "execute_result"
    }
   ],
   "source": [
    "# Assign the range 0-9 (10 not inclusive) to the variable digits\n",
    "digits = np.arange(10)\n",
    "digits"
   ]
  },
  {
   "cell_type": "code",
   "execution_count": 20,
   "id": "a8dc1311-c236-45c3-a819-6727e2d80a28",
   "metadata": {},
   "outputs": [],
   "source": [
    "# Shuffle the array digits\n",
    "rng.shuffle(digits)"
   ]
  },
  {
   "cell_type": "markdown",
   "id": "c2be99a9-5ced-41c4-8bc0-fb4804f56def",
   "metadata": {},
   "source": [
    "Of note is that the shuffle function will alter the order of an array in place, which changes the contents of a variable. This means in this instance that the variable digits will no longer point to the array ([0, 1, 2, 3, 4, 5, 6, 7, 8, 9]). Rather, it will return the order they were shuffled into."
   ]
  },
  {
   "cell_type": "code",
   "execution_count": 21,
   "id": "08e9417d",
   "metadata": {},
   "outputs": [
    {
     "data": {
      "text/plain": [
       "array([5, 6, 2, 9, 3, 1, 8, 7, 0, 4])"
      ]
     },
     "execution_count": 21,
     "metadata": {},
     "output_type": "execute_result"
    }
   ],
   "source": [
    "# Returnn the shuffled array\n",
    "digits"
   ]
  },
  {
   "cell_type": "markdown",
   "id": "d08c2f7d-1b66-4880-9675-f2024da2f700",
   "metadata": {},
   "source": [
    "Shuffle can also be used to randomly reorder a list containing strings. "
   ]
  },
  {
   "cell_type": "code",
   "execution_count": 22,
   "id": "2687ab4c",
   "metadata": {},
   "outputs": [
    {
     "data": {
      "text/plain": [
       "['one', 'two', 'three', 'four', 'five', 'six', 'seven', 'eight', 'nine']"
      ]
     },
     "execution_count": 22,
     "metadata": {},
     "output_type": "execute_result"
    }
   ],
   "source": [
    "# Create a list of strings for the digits 0-9\n",
    "string_digits = [\"one\", \"two\", \"three\", \"four\", \"five\", \"six\", \"seven\", \"eight\", \"nine\"]\n",
    "string_digits"
   ]
  },
  {
   "cell_type": "code",
   "execution_count": 23,
   "id": "8569804c",
   "metadata": {},
   "outputs": [
    {
     "data": {
      "text/plain": [
       "['nine', 'four', 'one', 'seven', 'two', 'three', 'five', 'eight', 'six']"
      ]
     },
     "execution_count": 23,
     "metadata": {},
     "output_type": "execute_result"
    }
   ],
   "source": [
    "# Shuffle the list of strings and return it\n",
    "rng.shuffle(string_digits)\n",
    "string_digits"
   ]
  },
  {
   "cell_type": "markdown",
   "id": "b6d8cf5e-c0b7-4700-b3ad-f80596f00648",
   "metadata": {},
   "source": [
    "Shuffle can also be used to randomly reorder arrays, but it should be noted that the reordering will only take place along one dimension at a time. This means that shuffle can change the order of a row or a column, but it will not shuffle an item to both a new row and a new column at the same time."
   ]
  },
  {
   "cell_type": "code",
   "execution_count": 24,
   "id": "ca3d6b3e",
   "metadata": {},
   "outputs": [
    {
     "data": {
      "text/plain": [
       "array([[0, 1, 2],\n",
       "       [3, 4, 5],\n",
       "       [6, 7, 8]])"
      ]
     },
     "execution_count": 24,
     "metadata": {},
     "output_type": "execute_result"
    }
   ],
   "source": [
    "# Create a 3x3 array containing 0-8\n",
    "three_by_three = np.arange(9).reshape(3, 3)\n",
    "three_by_three"
   ]
  },
  {
   "cell_type": "markdown",
   "id": "fb4ce414-e306-4618-9812-25980f0f6ed5",
   "metadata": {},
   "source": [
    "By default, using shuffle on an array will rearrange the position of rows but will leave the items from each row in the original order"
   ]
  },
  {
   "cell_type": "code",
   "execution_count": 25,
   "id": "7d0f3b86",
   "metadata": {},
   "outputs": [
    {
     "data": {
      "text/plain": [
       "array([[6, 7, 8],\n",
       "       [3, 4, 5],\n",
       "       [0, 1, 2]])"
      ]
     },
     "execution_count": 25,
     "metadata": {},
     "output_type": "execute_result"
    }
   ],
   "source": [
    "rng.shuffle(three_by_three)\n",
    "three_by_three"
   ]
  },
  {
   "cell_type": "markdown",
   "id": "46c70c71-1348-4f05-95ee-09bb5be95833",
   "metadata": {},
   "source": [
    "However, if we set the axis to 1 as an argument, shuffle will instead change the order of the columns rather than rows."
   ]
  },
  {
   "cell_type": "code",
   "execution_count": 26,
   "id": "e48d6e67",
   "metadata": {},
   "outputs": [
    {
     "data": {
      "text/plain": [
       "array([[5, 2, 5, 4, 2],\n",
       "       [6, 4, 4, 1, 4],\n",
       "       [3, 6, 6, 4, 6],\n",
       "       [3, 6, 2, 5, 5],\n",
       "       [4, 5, 5, 3, 4]], dtype=int64)"
      ]
     },
     "execution_count": 26,
     "metadata": {},
     "output_type": "execute_result"
    }
   ],
   "source": [
    "# Generating a random 5x5 array\n",
    "five_by_five = rng.integers(low=1, high=7, size = (5,5))\n",
    "five_by_five"
   ]
  },
  {
   "cell_type": "code",
   "execution_count": 27,
   "id": "140f3eb8",
   "metadata": {},
   "outputs": [
    {
     "data": {
      "text/plain": [
       "array([[5, 5, 4, 2, 2],\n",
       "       [4, 6, 1, 4, 4],\n",
       "       [6, 3, 4, 6, 6],\n",
       "       [2, 3, 5, 5, 6],\n",
       "       [5, 4, 3, 4, 5]], dtype=int64)"
      ]
     },
     "execution_count": 27,
     "metadata": {},
     "output_type": "execute_result"
    }
   ],
   "source": [
    "# Randomly shuffle the order of the 5x5's columns\n",
    "rng.shuffle(five_by_five, axis=1)\n",
    "five_by_five"
   ]
  },
  {
   "cell_type": "markdown",
   "id": "fa6c3926",
   "metadata": {},
   "source": [
    "### <b id=\"h10\">permutation</b><sup id=\"a17\">[17](#f17)</sup>"
   ]
  },
  {
   "cell_type": "markdown",
   "id": "20ab72a1",
   "metadata": {},
   "source": [
    "random.Generator.permutation(x, axis=0)"
   ]
  },
  {
   "cell_type": "markdown",
   "id": "2e6a46e1-eeaa-4a08-bb69-d7a906b88c03",
   "metadata": {},
   "source": [
    "The permutation function will also return the entire contents of an array or list that has been passed to it in a new random order, but unlike shuffle, permutation will leave the original array intact and unchanged."
   ]
  },
  {
   "cell_type": "code",
   "execution_count": 28,
   "id": "4df04e33",
   "metadata": {},
   "outputs": [
    {
     "data": {
      "text/plain": [
       "array([0, 1, 2, 3, 4, 5, 6, 7, 8, 9])"
      ]
     },
     "execution_count": 28,
     "metadata": {},
     "output_type": "execute_result"
    }
   ],
   "source": [
    "# Assign the range 0-9 (10 not inclusive) to the variable digits2\n",
    "digits2 = np.arange(10)\n",
    "digits2"
   ]
  },
  {
   "cell_type": "code",
   "execution_count": 29,
   "id": "ae578d95",
   "metadata": {},
   "outputs": [
    {
     "data": {
      "text/plain": [
       "array([4, 9, 5, 6, 1, 0, 2, 3, 8, 7])"
      ]
     },
     "execution_count": 29,
     "metadata": {},
     "output_type": "execute_result"
    }
   ],
   "source": [
    "# Return the digits list in a new, random order\n",
    "rng.permutation(digits2)"
   ]
  },
  {
   "cell_type": "code",
   "execution_count": 30,
   "id": "68082ad8",
   "metadata": {},
   "outputs": [
    {
     "data": {
      "text/plain": [
       "array([0, 1, 2, 3, 4, 5, 6, 7, 8, 9])"
      ]
     },
     "execution_count": 30,
     "metadata": {},
     "output_type": "execute_result"
    }
   ],
   "source": [
    "# The original order of the variable digits2 is unchanged\n",
    "digits2"
   ]
  },
  {
   "cell_type": "markdown",
   "id": "1dc2886a-c26e-48db-a7f5-9373d9c52681",
   "metadata": {},
   "source": [
    "By default, permutation will rearrange multidimensional arrays in a similar manner to shuffle - it will move entire rows to a new position, but leave the order within each row unchanged."
   ]
  },
  {
   "cell_type": "code",
   "execution_count": 31,
   "id": "1d77197f",
   "metadata": {},
   "outputs": [
    {
     "data": {
      "text/plain": [
       "array([[ 0,  1,  2,  3,  4,  5],\n",
       "       [ 6,  7,  8,  9, 10, 11],\n",
       "       [12, 13, 14, 15, 16, 17],\n",
       "       [18, 19, 20, 21, 22, 23],\n",
       "       [24, 25, 26, 27, 28, 29],\n",
       "       [30, 31, 32, 33, 34, 35]])"
      ]
     },
     "execution_count": 31,
     "metadata": {},
     "output_type": "execute_result"
    }
   ],
   "source": [
    "# A 6x6 array\n",
    "six_by_six = np.arange(36).reshape(6,6)\n",
    "six_by_six"
   ]
  },
  {
   "cell_type": "code",
   "execution_count": 32,
   "id": "59d2e80d-dd99-41ed-af2d-6ffeea3adf82",
   "metadata": {},
   "outputs": [
    {
     "data": {
      "text/plain": [
       "array([[ 6,  7,  8,  9, 10, 11],\n",
       "       [ 0,  1,  2,  3,  4,  5],\n",
       "       [30, 31, 32, 33, 34, 35],\n",
       "       [12, 13, 14, 15, 16, 17],\n",
       "       [18, 19, 20, 21, 22, 23],\n",
       "       [24, 25, 26, 27, 28, 29]])"
      ]
     },
     "execution_count": 32,
     "metadata": {},
     "output_type": "execute_result"
    }
   ],
   "source": [
    "# Randomly reorder the 6x6 array with permutation.\n",
    "rng.permutation(six_by_six)"
   ]
  },
  {
   "cell_type": "markdown",
   "id": "1143d5e2-7711-4e4c-9715-662dd8787876",
   "metadata": {},
   "source": [
    "Permutation performs different to shuffle when axis is set to 1, however. While setiing to axis to 1 when using shuffle would move entre columns, in permutation it will instead shuffle the contents within each row, but leave each row in its original position. "
   ]
  },
  {
   "cell_type": "code",
   "execution_count": 33,
   "id": "c6a4e56c-6e06-49a3-bddb-676db6dd2d40",
   "metadata": {},
   "outputs": [
    {
     "data": {
      "text/plain": [
       "array([[ 1,  0,  4,  5,  2,  3],\n",
       "       [ 7,  6, 10, 11,  8,  9],\n",
       "       [13, 12, 16, 17, 14, 15],\n",
       "       [19, 18, 22, 23, 20, 21],\n",
       "       [25, 24, 28, 29, 26, 27],\n",
       "       [31, 30, 34, 35, 32, 33]])"
      ]
     },
     "execution_count": 33,
     "metadata": {},
     "output_type": "execute_result"
    }
   ],
   "source": [
    "# Shuffle the order of the contents of each row in the 6x6 array\n",
    "rng.permutation(six_by_six, axis=1)"
   ]
  },
  {
   "cell_type": "markdown",
   "id": "d30b4142",
   "metadata": {},
   "source": [
    "### <b id=\"h11\">permuted</b><sup id=\"a18\">[18](#f18)</sup>"
   ]
  },
  {
   "cell_type": "markdown",
   "id": "7b58c3be",
   "metadata": {},
   "source": [
    "random.Generator.permuted(x, axis=None, out=None)"
   ]
  },
  {
   "cell_type": "markdown",
   "id": "d4ad41ae-44e3-4a3f-96a4-7d6621161f81",
   "metadata": {},
   "source": [
    "The permuted function is a more recent addition, as of numpy 1.20<sup id=\"a19\">[19](#f19)</sup>. Permuted is more flexible than either shuffle or permutation. It can be used to rearrange content in-place, like with shuffle, or create a new rearranged copy, like with permutation. By only passing in an array, permuted will leave the original array intact, as permutations does."
   ]
  },
  {
   "cell_type": "code",
   "execution_count": 34,
   "id": "2ceaac73",
   "metadata": {},
   "outputs": [
    {
     "data": {
      "text/plain": [
       "array([[-18, -16,  -6, -13],\n",
       "       [ -5, -17,  -2, -13],\n",
       "       [-11,  -5, -14, -12],\n",
       "       [ -9,  -3, -19,  -9]], dtype=int64)"
      ]
     },
     "execution_count": 34,
     "metadata": {},
     "output_type": "execute_result"
    }
   ],
   "source": [
    "# Generate a random 4x4 array.\n",
    "# Negative random numbers can also be generated.\n",
    "four_by_four = rng.integers(low=-20, high=-1, size = (4,4))\n",
    "four_by_four"
   ]
  },
  {
   "cell_type": "code",
   "execution_count": 35,
   "id": "fa79a853-8a61-49e5-bf5f-b16e1d8ae83b",
   "metadata": {},
   "outputs": [
    {
     "data": {
      "text/plain": [
       "array([[-14, -13, -12, -11],\n",
       "       [ -3,  -9,  -5, -16],\n",
       "       [ -2, -18,  -9,  -6],\n",
       "       [-13, -17, -19,  -5]], dtype=int64)"
      ]
     },
     "execution_count": 35,
     "metadata": {},
     "output_type": "execute_result"
    }
   ],
   "source": [
    "# Reorder the 4x4 array.\n",
    "rng.permuted(four_by_four)"
   ]
  },
  {
   "cell_type": "code",
   "execution_count": 36,
   "id": "be3b9857-825a-4aa5-9d99-affb2d763b37",
   "metadata": {},
   "outputs": [
    {
     "data": {
      "text/plain": [
       "array([[-18, -16,  -6, -13],\n",
       "       [ -5, -17,  -2, -13],\n",
       "       [-11,  -5, -14, -12],\n",
       "       [ -9,  -3, -19,  -9]], dtype=int64)"
      ]
     },
     "execution_count": 36,
     "metadata": {},
     "output_type": "execute_result"
    }
   ],
   "source": [
    "# Calling 4x4 to show the original is unchanged.\n",
    "four_by_four"
   ]
  },
  {
   "cell_type": "markdown",
   "id": "fa57ac48-b092-410a-ad68-1dda91007e3b",
   "metadata": {},
   "source": [
    "We can compare and contrast shuffle, permutation, and permuted further by reusing the 3x3 array example from before."
   ]
  },
  {
   "cell_type": "code",
   "execution_count": 37,
   "id": "ca998195-44f7-4996-b55b-710727b02533",
   "metadata": {},
   "outputs": [
    {
     "data": {
      "text/plain": [
       "array([[6, 7, 8],\n",
       "       [3, 4, 5],\n",
       "       [0, 1, 2]])"
      ]
     },
     "execution_count": 37,
     "metadata": {},
     "output_type": "execute_result"
    }
   ],
   "source": [
    "# The 3x3 array of 0-9 that was randomly reordered using shuffle.\n",
    "three_by_three"
   ]
  },
  {
   "cell_type": "markdown",
   "id": "c113a323-e4d3-4d49-b52b-fc1a0cff4daa",
   "metadata": {},
   "source": [
    "Permuted will shuffle the values within each row, but leave the rows in place if we set axis to 1. This is similar to using permutation with axis set to 1"
   ]
  },
  {
   "cell_type": "code",
   "execution_count": 38,
   "id": "86c28e41",
   "metadata": {},
   "outputs": [
    {
     "data": {
      "text/plain": [
       "array([[7, 6, 8],\n",
       "       [3, 5, 4],\n",
       "       [1, 0, 2]])"
      ]
     },
     "execution_count": 38,
     "metadata": {},
     "output_type": "execute_result"
    }
   ],
   "source": [
    "# Use permuted to reorder the 3x3 array.\n",
    "permuted_three_by_three = rng.permuted(three_by_three, axis=1)\n",
    "permuted_three_by_three"
   ]
  },
  {
   "cell_type": "markdown",
   "id": "c3676161-20eb-44a8-8174-430982097913",
   "metadata": {},
   "source": [
    "Permuted returned a copy, leaving the original array reordered by shuffle unchanged"
   ]
  },
  {
   "cell_type": "code",
   "execution_count": 39,
   "id": "7b16a934",
   "metadata": {},
   "outputs": [
    {
     "data": {
      "text/plain": [
       "array([[6, 7, 8],\n",
       "       [3, 4, 5],\n",
       "       [0, 1, 2]])"
      ]
     },
     "execution_count": 39,
     "metadata": {},
     "output_type": "execute_result"
    }
   ],
   "source": [
    "# Recalling the shuffled 3x3 array\n",
    "three_by_three"
   ]
  },
  {
   "cell_type": "markdown",
   "id": "1f0c9a11-6ed0-44b4-ab9a-a45c60b83593",
   "metadata": {},
   "source": [
    "However, we can use permuted to overwrite the original array by passing the variable of the original array as an argument using out. If we don't pass in an axis argument, then the output withh be rearranged across both columns and rows, which neither shuffle nor permutation can do."
   ]
  },
  {
   "cell_type": "code",
   "execution_count": 40,
   "id": "1813c670",
   "metadata": {},
   "outputs": [],
   "source": [
    "# Using permuted to change the content of the original 3x3 array\n",
    "permuted_three_by_three = rng.permuted(three_by_three, out=three_by_three)"
   ]
  },
  {
   "cell_type": "markdown",
   "id": "146a9b3b-bb2c-459b-bf6f-27d36c58fc38",
   "metadata": {},
   "source": [
    "We can show that the new permuted 3x3 array and the original now have the same content."
   ]
  },
  {
   "cell_type": "code",
   "execution_count": 41,
   "id": "0178db52",
   "metadata": {},
   "outputs": [
    {
     "data": {
      "text/plain": [
       "array([[3, 5, 4],\n",
       "       [2, 1, 6],\n",
       "       [8, 7, 0]])"
      ]
     },
     "execution_count": 41,
     "metadata": {},
     "output_type": "execute_result"
    }
   ],
   "source": [
    "# Calling the 3x3 array\n",
    "three_by_three"
   ]
  },
  {
   "cell_type": "code",
   "execution_count": 42,
   "id": "84e743db",
   "metadata": {},
   "outputs": [
    {
     "data": {
      "text/plain": [
       "array([[3, 5, 4],\n",
       "       [2, 1, 6],\n",
       "       [8, 7, 0]])"
      ]
     },
     "execution_count": 42,
     "metadata": {},
     "output_type": "execute_result"
    }
   ],
   "source": [
    "# Calling the permuted 3x3 array\n",
    "permuted_three_by_three"
   ]
  },
  {
   "cell_type": "code",
   "execution_count": 43,
   "id": "36de1af1",
   "metadata": {},
   "outputs": [
    {
     "data": {
      "text/plain": [
       "True"
      ]
     },
     "execution_count": 43,
     "metadata": {},
     "output_type": "execute_result"
    }
   ],
   "source": [
    "# Show that the two 3x3 arrays have the same content\n",
    "three_by_three is permuted_three_by_three"
   ]
  },
  {
   "cell_type": "markdown",
   "id": "f666d67b",
   "metadata": {},
   "source": [
    "## <b id=\"h12\">Distributions</b>\n",
    "---"
   ]
  },
  {
   "cell_type": "markdown",
   "id": "bcd75325-eca1-40d6-8a20-84ae1d1d93df",
   "metadata": {},
   "source": [
    "A probability distribution shows us the likelihood of different possible occurrences for an event<sup id=\"a20\">[20](#f20)</sup>. The probability distribution most relevant to our needs depends on the type of data we’re working with and the expected outcomes. There are times when you have a particular type of data in mind that follows a particular probability distribution that you want to simulate, and to that end NumPy allows you to generate data that matches the parameters of different probability distributions. The section below looks at five of these distributions."
   ]
  },
  {
   "cell_type": "markdown",
   "id": "84f4663f",
   "metadata": {},
   "source": [
    "### <b id=\"h13\">binomial</b><sup id=\"a21\">[21](#f21)</sup>"
   ]
  },
  {
   "cell_type": "markdown",
   "id": "bb170eff",
   "metadata": {},
   "source": [
    "random.Generator.binomial(n, p, size=None)"
   ]
  },
  {
   "cell_type": "markdown",
   "id": "3ab1ce7c-6e8d-4da0-9254-565dd5f54cba",
   "metadata": {},
   "source": [
    "A binomial distribution tracks trials and records a binary success/failure outcome of trials<sup id=\"a22\">[22](#f22)</sup>. An everyday example of this would be flipping a coin with different faces. The coin can land either head up or tails up. We can use the binomial function to quickly simulate a randomm binomial distrution for events such as coin flips. To do this we need to include two arguments. The first is n, which is the number of trials we want simulated. In this instance, there will be 20 trials, simply meaning there will be 20 simulated coin flips, and then we will receive an output as to the number of heads that were observed. The second is p, which is the probability of success. This must be between 0 and 1. A fair coin has a probability of 0.5, as the coin has an equal chance of landing heads up or tails up. Other binomial observations might have one outcome more likely or more rare than the other. An example of this might be observing the number of penalties scored vs penalties missed in soccer, which should be weighted around 0.7549 in favour of penalties scored<sup id=\"a23\">[23](#f23)</sup>. We can finally specify a size, which is how many times the trial is repeated. By setting the size to 100, that means the process of 20 coin flips will be repeated 100 times, giving a total of 2000 coin flips in the simulation. "
   ]
  },
  {
   "cell_type": "code",
   "execution_count": 44,
   "id": "b0fe52f3",
   "metadata": {},
   "outputs": [],
   "source": [
    "# Setting the number of trials\n",
    "n = 20\n",
    "\n",
    "# Setting the probablity of success \n",
    "p = 0.5"
   ]
  },
  {
   "cell_type": "code",
   "execution_count": 45,
   "id": "4c653457",
   "metadata": {},
   "outputs": [],
   "source": [
    "# Generating a random binomial distribution\n",
    "\n",
    "coin_flip = rng.binomial(n, p, size=100)"
   ]
  },
  {
   "cell_type": "markdown",
   "id": "7e943570-7ed8-4a03-9f02-32cb3d939084",
   "metadata": {},
   "source": [
    "We can take the resulting array as giving us the number of heads after every 20 coin flips"
   ]
  },
  {
   "cell_type": "code",
   "execution_count": 46,
   "id": "13222970",
   "metadata": {},
   "outputs": [
    {
     "data": {
      "text/plain": [
       "array([ 8, 11, 11,  9, 12, 10, 11, 14, 11, 12, 10,  9, 11, 11,  7,  6, 11,\n",
       "       14,  5,  9, 12,  7, 13,  9, 10,  9, 14,  7, 13, 11, 11, 11, 10,  9,\n",
       "        8, 12, 11,  9, 10, 14, 10,  9,  9, 11,  8,  8,  8, 12,  8, 10, 13,\n",
       "       10, 12,  9, 15, 11,  9, 14, 10,  9,  7, 10, 12,  8, 12, 11, 10, 10,\n",
       "       13, 10, 12, 13, 13,  7, 10, 10, 11,  7, 12, 12,  8,  9,  9,  7, 10,\n",
       "       11,  8, 10,  9, 12,  5,  7,  8, 12, 11,  6,  9, 13, 11, 10],\n",
       "      dtype=int64)"
      ]
     },
     "execution_count": 46,
     "metadata": {},
     "output_type": "execute_result"
    }
   ],
   "source": [
    "# View the randomly generated array\n",
    "coin_flip"
   ]
  },
  {
   "cell_type": "markdown",
   "id": "3a38f987-57c7-4b50-bc4c-be7603074ae4",
   "metadata": {},
   "source": [
    "We can plot the distribution to visualise the generated data. We should expect that the most common outcomes will be close to 10, and that lower and higer outcomes were incresingly unlikely. The output won't be exactly the same every time the code is run, but we should see a similar pattern which makes sense as we should expect a coin to land heads or tails 10 times each after 20 tosses, but we should also expect there will be rarer occasions when one value appeared much more common than the other."
   ]
  },
  {
   "cell_type": "code",
   "execution_count": 47,
   "id": "003feb59",
   "metadata": {},
   "outputs": [
    {
     "data": {
      "text/plain": [
       "(array([ 2.,  2.,  8., 10., 16., 18., 18., 13.,  7.,  6.]),\n",
       " array([ 5.,  6.,  7.,  8.,  9., 10., 11., 12., 13., 14., 15.]),\n",
       " <BarContainer object of 10 artists>)"
      ]
     },
     "execution_count": 47,
     "metadata": {},
     "output_type": "execute_result"
    },
    {
     "data": {
      "image/png": "[encoded data removed]",
      "text/plain": [
       "<Figure size 432x288 with 1 Axes>"
      ]
     },
     "metadata": {
      "needs_background": "light"
     },
     "output_type": "display_data"
    }
   ],
   "source": [
    "# Plotting the randomly generated data\n",
    "plt.hist(coin_flip, bins=10)"
   ]
  },
  {
   "cell_type": "markdown",
   "id": "d0d5c445",
   "metadata": {},
   "source": [
    "### <b id=\"h14\">normal</b><sup id=\"a24\">[24](#f24)</sup>"
   ]
  },
  {
   "cell_type": "markdown",
   "id": "14fb095f",
   "metadata": {},
   "source": [
    "random.Generator.normal(loc=0.0, scale=1.0, size=None)"
   ]
  },
  {
   "cell_type": "markdown",
   "id": "e5bf8db4-21dd-4d87-b261-7cb5c022eb55",
   "metadata": {},
   "source": [
    "The normal (or Gaussian) distribution is a continous continuous probability distribution that is recognisable due to its \"bell-shaped curve\" appearance<sup id=\"a25\">[25](#f25)</sup>. A lot of real world data, such as height, IQ scores, and heartrate fit a normal distribution and a common assumption is that data collected is normally distributed thus allowing extrapolition to wider populations<sup id=\"a26\">[26](#f26)</sup>. The distribution centers around the mean, which is where the probability is highest. Around 68% of the data falls within one standard deviation of the mean, 95% within 2 standard deviations of the mean, and 98% falling within 3 standard deviations of the mean, with standard deviation telling us how widely spread the data values are. As such, we can generate a random normal distribution if we know the mean and standard deviation of the data we wish to generate. For the example below a mean, which is often represented by the greek letter mu, is set as 100 and the standard deviation, which is often represented by the Greek letter sigma, is set at 15. Entering a size of 100 means that 100 datapoints are generated."
   ]
  },
  {
   "cell_type": "code",
   "execution_count": 48,
   "id": "81b81782",
   "metadata": {},
   "outputs": [],
   "source": [
    "# Mean\n",
    "mu = 100\n",
    "\n",
    "#Standard Deviation\n",
    "sigma = 15"
   ]
  },
  {
   "cell_type": "code",
   "execution_count": 49,
   "id": "d393b434",
   "metadata": {},
   "outputs": [
    {
     "data": {
      "text/plain": [
       "array([ 89.62539133, 102.82039191,  93.29669045,  99.5115087 ,\n",
       "       103.95744821,  89.47886264,  88.40129739, 102.05525446,\n",
       "       118.37872589,  74.26870747, 101.1184852 ,  97.5732866 ,\n",
       "       119.23590352,  94.11585728, 110.83760014,  92.60814491,\n",
       "       128.12415194, 104.40922369,  91.99844353,  95.41067516,\n",
       "        92.94895339, 121.94942711, 101.29948279,  98.91121259,\n",
       "       112.32941227,  95.19285681, 104.5696647 ,  90.4721008 ,\n",
       "        77.0696444 ,  92.20184364,  97.10968657, 120.15744732,\n",
       "        99.98864984, 107.15432062,  85.23871978, 104.88763439,\n",
       "        85.24751759,  75.96345742,  94.78939723, 105.16434375,\n",
       "        94.50008261,  78.83717458,  96.2961216 ,  99.97773366,\n",
       "        96.99813723, 109.74775554, 126.74400142, 109.95412994,\n",
       "       118.44335986, 110.0977289 ,  73.01097551, 106.56999527,\n",
       "        85.70824447,  91.62928912,  70.83595198, 120.02572412,\n",
       "        95.15211328, 120.01647247,  94.48732146, 112.18192088,\n",
       "       127.97239162, 101.87899364, 100.19101395, 103.70782613,\n",
       "        88.85793456, 140.83759564,  88.41302416,  83.04575618,\n",
       "       108.1045013 ,  83.55341572,  98.23056774,  78.35098073,\n",
       "       100.19115458, 118.64381378, 110.21799605,  91.38060181,\n",
       "        71.12998602, 112.00836119, 101.53500891,  93.77212652,\n",
       "        92.39320228,  99.82743352,  97.29208641,  90.27398471,\n",
       "        99.38951936,  89.31601818, 100.10007713, 110.95902526,\n",
       "       121.10815604, 119.56896315, 121.87819467,  93.18862271,\n",
       "        88.48215935,  86.74361699,  78.03393464, 108.28979983,\n",
       "       122.56089272, 107.4876789 ,  96.95756208,  86.23514991])"
      ]
     },
     "execution_count": 49,
     "metadata": {},
     "output_type": "execute_result"
    }
   ],
   "source": [
    "# A random example of 100 samples from a normal distribution\n",
    "normal = rng.normal(mu, sigma, size=100)\n",
    "normal"
   ]
  },
  {
   "cell_type": "markdown",
   "id": "da9e430c-49fc-4444-9cb2-84d65edf8c6c",
   "metadata": {},
   "source": [
    "A smaller sample size generally leads to a plot that vaguely resembles the bell shaped curve the random values were drawn from. We can see this by generating a plot of the data."
   ]
  },
  {
   "cell_type": "code",
   "execution_count": 50,
   "id": "c51edf16",
   "metadata": {},
   "outputs": [
    {
     "data": {
      "text/plain": [
       "(array([2., 1., 1., 1., 1., 3., 0., 0., 1., 1., 4., 1., 4., 4., 3., 6., 5.,\n",
       "        4., 5., 2., 9., 3., 3., 3., 3., 2., 3., 2., 4., 3., 0., 0., 0., 1.,\n",
       "        4., 4., 3., 0., 0., 1., 2., 0., 0., 0., 0., 0., 0., 0., 0., 1.]),\n",
       " array([ 70.83595198,  72.23598486,  73.63601773,  75.0360506 ,\n",
       "         76.43608348,  77.83611635,  79.23614922,  80.63618209,\n",
       "         82.03621497,  83.43624784,  84.83628071,  86.23631359,\n",
       "         87.63634646,  89.03637933,  90.43641221,  91.83644508,\n",
       "         93.23647795,  94.63651083,  96.0365437 ,  97.43657657,\n",
       "         98.83660944, 100.23664232, 101.63667519, 103.03670806,\n",
       "        104.43674094, 105.83677381, 107.23680668, 108.63683956,\n",
       "        110.03687243, 111.4369053 , 112.83693818, 114.23697105,\n",
       "        115.63700392, 117.03703679, 118.43706967, 119.83710254,\n",
       "        121.23713541, 122.63716829, 124.03720116, 125.43723403,\n",
       "        126.83726691, 128.23729978, 129.63733265, 131.03736553,\n",
       "        132.4373984 , 133.83743127, 135.23746414, 136.63749702,\n",
       "        138.03752989, 139.43756276, 140.83759564]),\n",
       " <BarContainer object of 50 artists>)"
      ]
     },
     "execution_count": 50,
     "metadata": {},
     "output_type": "execute_result"
    },
    {
     "data": {
      "image/png": "[encoded data removed]",
      "text/plain": [
       "<Figure size 432x288 with 1 Axes>"
      ]
     },
     "metadata": {
      "needs_background": "light"
     },
     "output_type": "display_data"
    }
   ],
   "source": [
    "# View the randomly generated normal data\n",
    "plt.hist(normal, bins = 50)"
   ]
  },
  {
   "cell_type": "markdown",
   "id": "aca0a2f6-1967-4749-a83f-9cbf53045acb",
   "metadata": {},
   "source": [
    "Use the same mean and standard deviation, but increase the sample size, we can see when the points are ploted that the plot closely resembles a bell shape. "
   ]
  },
  {
   "cell_type": "code",
   "execution_count": 51,
   "id": "e38b6952",
   "metadata": {},
   "outputs": [
    {
     "data": {
      "text/plain": [
       "(array([  1.,   1.,   2.,   2.,   2.,   4.,   6.,  13.,  23.,  22.,  50.,\n",
       "         62.,  69., 116., 129., 182., 231., 292., 347., 393., 453., 507.,\n",
       "        525., 601., 596., 616., 678., 591., 535., 511., 468., 413., 314.,\n",
       "        286., 247., 170., 141., 106., 101.,  53.,  52.,  35.,  21.,  13.,\n",
       "          9.,   2.,   5.,   2.,   0.,   2.]),\n",
       " array([ 41.12845673,  43.43745634,  45.74645595,  48.05545556,\n",
       "         50.36445516,  52.67345477,  54.98245438,  57.29145399,\n",
       "         59.60045359,  61.9094532 ,  64.21845281,  66.52745242,\n",
       "         68.83645202,  71.14545163,  73.45445124,  75.76345085,\n",
       "         78.07245046,  80.38145006,  82.69044967,  84.99944928,\n",
       "         87.30844889,  89.61744849,  91.9264481 ,  94.23544771,\n",
       "         96.54444732,  98.85344692, 101.16244653, 103.47144614,\n",
       "        105.78044575, 108.08944535, 110.39844496, 112.70744457,\n",
       "        115.01644418, 117.32544378, 119.63444339, 121.943443  ,\n",
       "        124.25244261, 126.56144221, 128.87044182, 131.17944143,\n",
       "        133.48844104, 135.79744065, 138.10644025, 140.41543986,\n",
       "        142.72443947, 145.03343908, 147.34243868, 149.65143829,\n",
       "        151.9604379 , 154.26943751, 156.57843711]),\n",
       " <BarContainer object of 50 artists>)"
      ]
     },
     "execution_count": 51,
     "metadata": {},
     "output_type": "execute_result"
    },
    {
     "data": {
      "image/png": "[encoded data removed]",
      "text/plain": [
       "<Figure size 432x288 with 1 Axes>"
      ]
     },
     "metadata": {
      "needs_background": "light"
     },
     "output_type": "display_data"
    }
   ],
   "source": [
    "# Generating 10000 random normal distribution datapoints\n",
    "normal_higher = rng.normal(mu, sigma, 10000)\n",
    "\n",
    "# Plotting the randomly generated data\n",
    "plt.hist(normal_higher, bins = 50)"
   ]
  },
  {
   "cell_type": "markdown",
   "id": "bfb6b36e-25a9-4f69-a8f9-660e7bb2fa58",
   "metadata": {},
   "source": [
    "Changing the standard deviation will change the size of the curve that the datapoints are drawn from. A larger standard deviation will make the curve wider and shorter while a smaller one will make the curve narrower and taller."
   ]
  },
  {
   "cell_type": "code",
   "execution_count": 52,
   "id": "e3a04cf6",
   "metadata": {},
   "outputs": [],
   "source": [
    "# Creating new standard deviation points\n",
    "sigma_wide = 50\n",
    "sigma_narrow = 7\n",
    "\n",
    "# Using the new standard deviations to generate random data\n",
    "normal_wide = rng.normal(mu, sigma_wide, 10000)\n",
    "normal_narrow = rng.normal(mu, sigma_narrow, 10000)"
   ]
  },
  {
   "cell_type": "code",
   "execution_count": 53,
   "id": "9161b5f0",
   "metadata": {},
   "outputs": [
    {
     "data": {
      "text/plain": [
       "array([113.88425568,  64.37786931,  54.95783743, ...,  34.3664961 ,\n",
       "       169.88839406, 108.15897827])"
      ]
     },
     "execution_count": 53,
     "metadata": {},
     "output_type": "execute_result"
    }
   ],
   "source": [
    "# View the wider data\n",
    "normal_wide"
   ]
  },
  {
   "cell_type": "code",
   "execution_count": 54,
   "id": "9562ca5f-ca7d-403c-8542-e30e8d514e80",
   "metadata": {},
   "outputs": [
    {
     "data": {
      "text/plain": [
       "array([ 91.95099019, 103.11045532,  99.11655019, ...,  86.55634467,\n",
       "       104.9039541 ,  94.62869045])"
      ]
     },
     "execution_count": 54,
     "metadata": {},
     "output_type": "execute_result"
    }
   ],
   "source": [
    "# View the narrower data\n",
    "normal_narrow"
   ]
  },
  {
   "cell_type": "code",
   "execution_count": 55,
   "id": "caef8ab4-8c8c-468a-8c78-0180464b11b3",
   "metadata": {},
   "outputs": [
    {
     "data": {
      "image/png": "[encoded data removed]",
      "text/plain": [
       "<Figure size 432x288 with 1 Axes>"
      ]
     },
     "metadata": {
      "needs_background": "light"
     },
     "output_type": "display_data"
    }
   ],
   "source": [
    "# Plot the wise and narrow data\n",
    "\n",
    "plt.hist([normal_wide, normal_narrow], bins = 50, label=['normal_wide', 'normal narrow'])\n",
    "plt.legend(loc='upper right')\n",
    "plt.show()"
   ]
  },
  {
   "cell_type": "markdown",
   "id": "17cbb2ab",
   "metadata": {},
   "source": [
    "### <b id=\"h15\">uniform</b><sup id=\"a27\">[27](#f27)</sup>"
   ]
  },
  {
   "cell_type": "markdown",
   "id": "2b6a37fd",
   "metadata": {},
   "source": [
    "random.Generator.uniform(low=0.0, high=1.0, size=None)"
   ]
  },
  {
   "cell_type": "markdown",
   "id": "5c460ff3-f872-4bb0-9066-f5f3e9a1cc29",
   "metadata": {},
   "source": [
    "A uniform distribution is continous distribution in which the probability is consistent throughout<sup id=\"a28\">[28](#f28)</sup>. The data is generating by providing a lower and upper bound for the generated data to be drawn from. In this example the lower bound is 1 and the upper bound is 6."
   ]
  },
  {
   "cell_type": "code",
   "execution_count": 56,
   "id": "ae40029e",
   "metadata": {},
   "outputs": [
    {
     "data": {
      "text/plain": [
       "array([2.12108273, 2.97368238, 4.40610085, 1.97023694, 2.41619397,\n",
       "       5.94433325, 5.74283931, 1.70967717, 2.75539945, 4.43182158,\n",
       "       4.83462396, 3.64661378, 2.07927132, 2.27547338, 4.29570539,\n",
       "       2.2072228 , 3.33037657, 3.94073082, 5.04900684, 4.23767793,\n",
       "       1.60741599, 3.28998485, 1.58454497, 1.75200492, 2.04812205,\n",
       "       2.70211531, 2.33659526, 5.01956238, 4.62139612, 3.68467249,\n",
       "       5.41532119, 3.84827952, 4.14402591, 4.12976114, 2.39016649,\n",
       "       5.70707844, 4.49064091, 5.03523458, 3.12743276, 3.13918704,\n",
       "       5.63982516, 1.97935374, 4.3797131 , 5.57981748, 4.69192142,\n",
       "       3.67018541, 2.36183155, 1.30040722, 4.85921974, 4.31200337,\n",
       "       3.4233775 , 4.84791912, 2.43575693, 4.14897581, 5.53509682,\n",
       "       2.02110171, 5.55240989, 4.6082959 , 5.28433719, 3.25084296,\n",
       "       3.2900934 , 5.49788322, 2.11828699, 5.67283911, 2.04533107,\n",
       "       5.39024175, 1.5440307 , 3.24935644, 1.79057941, 5.26557987,\n",
       "       2.73727509, 5.99607739, 1.44191409, 4.57637674, 1.43951923,\n",
       "       3.16812612, 5.51320325, 1.43459488, 3.54687763, 3.90119002,\n",
       "       1.32450772, 1.33877541, 2.46408056, 5.71982387, 1.4573003 ,\n",
       "       2.67922582, 2.07001705, 2.75901864, 3.76573656, 2.86893032,\n",
       "       3.68032279, 2.26916144, 4.06762615, 5.36675181, 3.40620901,\n",
       "       2.88015894, 1.0250247 , 4.58310923, 4.63066555, 4.22219505])"
      ]
     },
     "execution_count": 56,
     "metadata": {},
     "output_type": "execute_result"
    }
   ],
   "source": [
    "# Generating 100 random floats between 1 and 6\n",
    "uniform = rng.uniform(1,6,100)\n",
    "uniform"
   ]
  },
  {
   "cell_type": "markdown",
   "id": "5f527269-167f-47d2-a8f2-04f88413e1c7",
   "metadata": {},
   "source": [
    "As a sample size of 100 is quite small, the resulting plot may not appear completely uniform due to chance, and the values tend to become more uniform as the sample size increases."
   ]
  },
  {
   "cell_type": "code",
   "execution_count": 57,
   "id": "c606aea1",
   "metadata": {},
   "outputs": [
    {
     "data": {
      "text/plain": [
       "(array([14., 19., 17., 17., 16., 17.]),\n",
       " array([1.0250247 , 1.85353348, 2.68204226, 3.51055104, 4.33905983,\n",
       "        5.16756861, 5.99607739]),\n",
       " <BarContainer object of 6 artists>)"
      ]
     },
     "execution_count": 57,
     "metadata": {},
     "output_type": "execute_result"
    },
    {
     "data": {
      "image/png": "[encoded data removed]",
      "text/plain": [
       "<Figure size 432x288 with 1 Axes>"
      ]
     },
     "metadata": {
      "needs_background": "light"
     },
     "output_type": "display_data"
    }
   ],
   "source": [
    "# Plotting the randomly generated uniform data\n",
    "plt.hist(uniform, bins=6)"
   ]
  },
  {
   "cell_type": "markdown",
   "id": "aeb8d683-d1d7-4021-96a5-f9213dfbb41f",
   "metadata": {},
   "source": [
    "By increasing the sample size to 10000 we should expect the resulting data make more of a rectangular shape. "
   ]
  },
  {
   "cell_type": "code",
   "execution_count": 58,
   "id": "23ae0024-0597-4bbe-9bb6-d874364c47b1",
   "metadata": {},
   "outputs": [
    {
     "data": {
      "text/plain": [
       "(array([1587., 1700., 1744., 1736., 1667., 1566.]),\n",
       " array([1.00112465, 1.83419702, 2.66726938, 3.50034175, 4.33341411,\n",
       "        5.16648648, 5.99955884]),\n",
       " <BarContainer object of 6 artists>)"
      ]
     },
     "execution_count": 58,
     "metadata": {},
     "output_type": "execute_result"
    },
    {
     "data": {
      "image/png": "[encoded data removed]",
      "text/plain": [
       "<Figure size 432x288 with 1 Axes>"
      ]
     },
     "metadata": {
      "needs_background": "light"
     },
     "output_type": "display_data"
    }
   ],
   "source": [
    "# Repeating the random generation with a higher sample size of 10000\n",
    "uniform_higher = rng.uniform(1,6,10000)\n",
    "plt.hist(uniform_higher, bins=6)"
   ]
  },
  {
   "cell_type": "markdown",
   "id": "9623b95e",
   "metadata": {},
   "source": [
    "### <b id=\"h16\">poisson</b><sup id=\"a29\">[29](#f29)</sup>"
   ]
  },
  {
   "cell_type": "markdown",
   "id": "8aeaf010",
   "metadata": {},
   "source": [
    "random.Generator.poisson(lam=1.0, size=None)"
   ]
  },
  {
   "cell_type": "markdown",
   "id": "f7fcbbc5-793f-4412-8b49-643f9f647bc1",
   "metadata": {},
   "source": [
    "A poisson distribution expresses the probability of a number of events within a particular timeframe<sup id=\"a30\">[30](#f30)</sup>. A real world example might be if a business typically receives 5 orders an hour, with the typical value often being represented by the Greek letter lamba, we can derive the probabilty of the business receiving only 2 orders an hour, or 10 orders an hour. We can define a size to simulate the amount of times we want to draw a random sample from the distribution. In this instance, 500 datapoints will be generated."
   ]
  },
  {
   "cell_type": "code",
   "execution_count": 59,
   "id": "2b5e7170",
   "metadata": {},
   "outputs": [
    {
     "data": {
      "text/plain": [
       "array([ 5,  2,  4,  3,  3,  4,  3,  6,  5,  9, 11,  3,  9,  9,  5,  6,  8,\n",
       "        3,  7,  3,  8,  6,  6,  6,  6,  6, 11,  6,  4,  5,  6,  9,  7,  5,\n",
       "        5,  5,  2,  2,  3,  7,  4,  8,  3,  2,  5,  4, 12,  8,  2,  6,  1,\n",
       "        3,  7,  3,  5,  3,  5,  8,  7,  1,  6,  5,  9,  0,  5,  3,  6,  5,\n",
       "        4,  8,  6,  3,  2,  7,  4,  8,  3, 11,  2, 10,  7,  7,  5,  8,  5,\n",
       "        4,  8,  6,  6,  3,  2,  7,  4, 10,  4,  7,  3,  7,  5,  7,  6,  3,\n",
       "        4,  7,  5,  5,  5, 10,  3,  4,  6,  5,  4,  4,  7,  3,  3,  4,  6,\n",
       "        4,  9,  7,  4,  2,  4,  5,  6,  6,  7,  4,  4,  5,  6,  9,  5,  1,\n",
       "        5,  5,  6,  7,  5,  4,  6,  8,  3,  9,  4,  5,  5,  6,  4,  6,  6,\n",
       "        5,  8,  5,  3,  4,  5, 10,  7,  6,  4,  3,  1,  6,  3,  5,  3,  2,\n",
       "        7,  3,  2,  6,  3,  5,  4,  6,  4,  2, 12,  4,  5,  8,  3,  6,  3,\n",
       "        3,  5,  3,  7,  5, 12,  8,  3,  3,  4,  3,  8,  4,  7,  4,  4,  3,\n",
       "        7,  2,  4,  5,  4,  3,  5,  7,  9,  3,  6,  5,  3,  7,  6,  2,  7,\n",
       "        5,  3,  6,  8,  9,  6,  3,  9,  5,  3,  5,  5,  8,  5,  6,  1,  6,\n",
       "        4,  7,  6,  3,  5, 10,  5,  9,  4,  3,  1,  9,  7,  4,  4,  4,  5,\n",
       "        7,  4,  6,  8,  4,  3,  2,  3,  7,  1,  7,  8,  7,  1,  2,  6,  6,\n",
       "        4,  3,  2,  5,  7,  9,  4,  7,  3,  4,  6,  6,  6,  1,  7,  6,  7,\n",
       "        6,  6,  4,  7, 12,  4,  2,  2,  8,  4,  1,  0,  3,  6,  2,  4,  6,\n",
       "        7,  3,  2,  6,  2,  6,  4,  4,  7,  5,  6,  7,  2,  6, 10,  9,  3,\n",
       "        4,  3,  6,  7,  4,  4,  3,  3,  4,  4,  5,  6,  3,  1,  6,  4,  5,\n",
       "        2,  7,  4,  5,  7,  4,  8,  4,  5,  8,  2,  7,  6,  5,  3,  4,  4,\n",
       "        8,  1,  3,  4,  7,  5,  7,  5,  4,  6,  6,  1,  4,  5,  5,  5,  5,\n",
       "        7,  4,  5,  3,  9,  6,  5,  6,  2,  5,  5,  7,  4,  5,  6,  8,  4,\n",
       "        3,  2,  3,  3,  8,  5,  8,  5,  7,  6,  5,  4,  3,  4,  4,  7,  5,\n",
       "        9,  6,  2,  5,  5,  7,  2,  3,  6,  6,  6,  4,  3,  7,  6,  4,  5,\n",
       "        5,  4,  6,  4,  8,  2,  3,  7,  7,  6,  6,  6,  7,  1,  4,  4,  3,\n",
       "        3,  5,  5,  5,  7,  4,  1,  6,  5,  4,  7,  6,  2,  5,  5,  4,  7,\n",
       "        6,  3,  6,  4,  2,  3,  7,  3,  9,  8,  3,  4,  8,  6,  2,  8,  2,\n",
       "        4,  7,  8,  4,  4,  5,  1,  7,  8,  2,  5,  6,  4,  2,  3,  3,  5,\n",
       "        5,  4,  4,  2,  6,  5,  4], dtype=int64)"
      ]
     },
     "execution_count": 59,
     "metadata": {},
     "output_type": "execute_result"
    }
   ],
   "source": [
    "# Generating random data from a poisson distribution\n",
    "lamda = 5\n",
    "poisson = rng.poisson(lamda, size=500)\n",
    "poisson"
   ]
  },
  {
   "cell_type": "markdown",
   "id": "116c7c65-9023-4fa7-9aad-00621b563345",
   "metadata": {},
   "source": [
    "We can visualise the probabilities of possible outcomes with a plot."
   ]
  },
  {
   "cell_type": "code",
   "execution_count": 60,
   "id": "03b76741",
   "metadata": {},
   "outputs": [
    {
     "data": {
      "text/plain": [
       "(array([ 18.,  37.,  72.,  88.,  84., 139.,  31.,  18.,   6.,   7.]),\n",
       " array([ 0. ,  1.2,  2.4,  3.6,  4.8,  6. ,  7.2,  8.4,  9.6, 10.8, 12. ]),\n",
       " <BarContainer object of 10 artists>)"
      ]
     },
     "execution_count": 60,
     "metadata": {},
     "output_type": "execute_result"
    },
    {
     "data": {
      "image/png": "[encoded data removed]",
      "text/plain": [
       "<Figure size 432x288 with 1 Axes>"
      ]
     },
     "metadata": {
      "needs_background": "light"
     },
     "output_type": "display_data"
    }
   ],
   "source": [
    "# Generate a plot of the random poisson data\n",
    "plt.hist(poisson)"
   ]
  },
  {
   "cell_type": "markdown",
   "id": "701f0afa",
   "metadata": {},
   "source": [
    "### <b id=\"h17\">exponential</b><sup id=\"a31\">[31](#f31)</sup>"
   ]
  },
  {
   "cell_type": "markdown",
   "id": "4438eb5f",
   "metadata": {},
   "source": [
    "random.Generator.exponential(scale=1.0, size=None)"
   ]
  },
  {
   "cell_type": "markdown",
   "id": "31c55713-1cb4-4b0c-8bcc-3e16c8fb83da",
   "metadata": {},
   "source": [
    "An exponential distribution shows the distribution of the time between poisson events<sup id=\"a32\">[32](#f32)</sup>. The distribution will have a peak at the point in which poisson events are most rare, and will become more steep as the events become more common, before levelling out again as events become more rare at the other end of the scale. "
   ]
  },
  {
   "cell_type": "code",
   "execution_count": 61,
   "id": "4029955a",
   "metadata": {},
   "outputs": [
    {
     "data": {
      "text/plain": [
       "array([14.26319429,  7.40276012,  0.03897484, 14.54071074,  1.33010131,\n",
       "        2.8717231 ,  1.0765862 ,  6.88500754,  1.02074809,  1.76185839,\n",
       "        7.02925028,  3.11761559,  0.78499627,  1.92423278,  1.16461983,\n",
       "        7.9051698 ,  1.13375722,  0.16853203,  2.3069671 ,  6.58946594,\n",
       "        1.08771411,  0.62143243,  4.6075173 ,  2.28018603,  0.1443428 ,\n",
       "        6.02202699,  2.81131848, 16.09293113,  8.27250774,  0.94040573,\n",
       "        4.08404894,  2.44482202, 10.10363251,  8.97879118,  1.45442069,\n",
       "        1.65098422,  5.06656073, 12.70451642,  2.00393515, 10.09590681,\n",
       "        4.48124472,  1.02390657,  8.29928694,  3.89001419,  2.10158156,\n",
       "        9.20009234,  7.37527306,  5.18768902,  1.84518034,  0.24140069,\n",
       "        0.27556898,  2.00279407,  0.84900152, 11.89358902,  9.7654169 ,\n",
       "        4.16422023,  2.05200297,  1.35422371,  0.65099361,  0.63471318,\n",
       "        1.19067178,  6.76736567, 13.09636153, 13.53619214,  0.91664936,\n",
       "        5.65173566,  4.27904235,  0.24098818, 10.8428352 ,  1.56666926,\n",
       "        0.33178092,  7.85824972,  6.56239419,  5.23379782,  0.36672746,\n",
       "        0.42932969,  4.43411403,  0.0520752 , 13.54090372,  4.41586035,\n",
       "        2.41562734,  0.89720357,  5.97254081,  6.28255425,  6.76828851,\n",
       "        4.59508263,  4.08873431,  1.52850269,  3.564992  ,  1.71696957,\n",
       "       11.2385947 ,  3.58097307,  6.09126422,  4.72799776,  1.43366579,\n",
       "        7.46089524,  0.11055015, 13.58746026,  9.66111549,  4.17079546])"
      ]
     },
     "execution_count": 61,
     "metadata": {},
     "output_type": "execute_result"
    }
   ],
   "source": [
    "# Generate random exponental data\n",
    "scale = 5.0\n",
    "exponential = rng.exponential(scale, size=100)\n",
    "exponential"
   ]
  },
  {
   "cell_type": "code",
   "execution_count": 62,
   "id": "ebbbd1ca",
   "metadata": {},
   "outputs": [
    {
     "data": {
      "text/plain": [
       "(array([9., 5., 5., 7., 6., 5., 5., 3., 2., 1., 1., 2., 4., 4., 3., 1., 2.,\n",
       "        1., 3., 1., 4., 2., 2., 1., 2., 2., 0., 1., 1., 1., 1., 2., 0., 1.,\n",
       "        1., 0., 1., 0., 0., 1., 1., 0., 3., 0., 1., 1., 0., 0., 0., 1.]),\n",
       " array([ 0.03897484,  0.36005397,  0.6811331 ,  1.00221222,  1.32329135,\n",
       "         1.64437047,  1.9654496 ,  2.28652872,  2.60760785,  2.92868698,\n",
       "         3.2497661 ,  3.57084523,  3.89192435,  4.21300348,  4.5340826 ,\n",
       "         4.85516173,  5.17624085,  5.49731998,  5.81839911,  6.13947823,\n",
       "         6.46055736,  6.78163648,  7.10271561,  7.42379473,  7.74487386,\n",
       "         8.06595299,  8.38703211,  8.70811124,  9.02919036,  9.35026949,\n",
       "         9.67134861,  9.99242774, 10.31350686, 10.63458599, 10.95566512,\n",
       "        11.27674424, 11.59782337, 11.91890249, 12.23998162, 12.56106074,\n",
       "        12.88213987, 13.203219  , 13.52429812, 13.84537725, 14.16645637,\n",
       "        14.4875355 , 14.80861462, 15.12969375, 15.45077287, 15.771852  ,\n",
       "        16.09293113]),\n",
       " <BarContainer object of 50 artists>)"
      ]
     },
     "execution_count": 62,
     "metadata": {},
     "output_type": "execute_result"
    },
    {
     "data": {
      "image/png": "[encoded data removed]",
      "text/plain": [
       "<Figure size 432x288 with 1 Axes>"
      ]
     },
     "metadata": {
      "needs_background": "light"
     },
     "output_type": "display_data"
    }
   ],
   "source": [
    "# Plot the randomly generated exponential data\n",
    "plt.hist(exponential, bins=50)"
   ]
  },
  {
   "cell_type": "code",
   "execution_count": 63,
   "id": "73d20b2f",
   "metadata": {},
   "outputs": [],
   "source": [
    "# Repeating the random generation with a higher sample size of 10000\n",
    "exponential_higher = rng.exponential(10.0, 10000)"
   ]
  },
  {
   "cell_type": "code",
   "execution_count": 64,
   "id": "89cfbe6e",
   "metadata": {},
   "outputs": [
    {
     "data": {
      "text/plain": [
       "(array([1.466e+03, 1.306e+03, 1.043e+03, 9.080e+02, 8.000e+02, 6.730e+02,\n",
       "        5.580e+02, 4.760e+02, 3.740e+02, 3.890e+02, 3.050e+02, 2.470e+02,\n",
       "        2.190e+02, 1.880e+02, 1.560e+02, 1.220e+02, 1.000e+02, 1.090e+02,\n",
       "        8.700e+01, 6.500e+01, 6.200e+01, 5.200e+01, 4.600e+01, 3.300e+01,\n",
       "        3.200e+01, 3.200e+01, 2.900e+01, 1.300e+01, 1.900e+01, 1.300e+01,\n",
       "        9.000e+00, 1.100e+01, 1.200e+01, 9.000e+00, 6.000e+00, 8.000e+00,\n",
       "        6.000e+00, 2.000e+00, 2.000e+00, 1.000e+00, 1.000e+00, 3.000e+00,\n",
       "        1.000e+00, 1.000e+00, 0.000e+00, 2.000e+00, 2.000e+00, 1.000e+00,\n",
       "        0.000e+00, 1.000e+00]),\n",
       " array([2.31716979e-04, 1.61610893e+00, 3.23198615e+00, 4.84786337e+00,\n",
       "        6.46374059e+00, 8.07961781e+00, 9.69549502e+00, 1.13113722e+01,\n",
       "        1.29272495e+01, 1.45431267e+01, 1.61590039e+01, 1.77748811e+01,\n",
       "        1.93907583e+01, 2.10066355e+01, 2.26225128e+01, 2.42383900e+01,\n",
       "        2.58542672e+01, 2.74701444e+01, 2.90860216e+01, 3.07018989e+01,\n",
       "        3.23177761e+01, 3.39336533e+01, 3.55495305e+01, 3.71654077e+01,\n",
       "        3.87812849e+01, 4.03971622e+01, 4.20130394e+01, 4.36289166e+01,\n",
       "        4.52447938e+01, 4.68606710e+01, 4.84765483e+01, 5.00924255e+01,\n",
       "        5.17083027e+01, 5.33241799e+01, 5.49400571e+01, 5.65559343e+01,\n",
       "        5.81718116e+01, 5.97876888e+01, 6.14035660e+01, 6.30194432e+01,\n",
       "        6.46353204e+01, 6.62511976e+01, 6.78670749e+01, 6.94829521e+01,\n",
       "        7.10988293e+01, 7.27147065e+01, 7.43305837e+01, 7.59464610e+01,\n",
       "        7.75623382e+01, 7.91782154e+01, 8.07940926e+01]),\n",
       " <BarContainer object of 50 artists>)"
      ]
     },
     "execution_count": 64,
     "metadata": {},
     "output_type": "execute_result"
    },
    {
     "data": {
      "image/png": "[encoded data removed]",
      "text/plain": [
       "<Figure size 432x288 with 1 Axes>"
      ]
     },
     "metadata": {
      "needs_background": "light"
     },
     "output_type": "display_data"
    }
   ],
   "source": [
    "# As the sample size increases, the distribition becoms more smooth\n",
    "plt.hist(exponential_higher, bins=50)"
   ]
  },
  {
   "cell_type": "markdown",
   "id": "f1d06052",
   "metadata": {},
   "source": [
    "## <b id=\"h18\">Seeds</b>\n",
    "---"
   ]
  },
  {
   "cell_type": "markdown",
   "id": "7841ad77-bb21-4837-92c1-5a1dbe833cc9",
   "metadata": {},
   "source": [
    "There are times when randomness needs to be predictable. For example, we may initially need a randomly generated dataset to test a model, but we would like to have repeated access to this data to be able to reproduce our findings. For this purpose, the pseudo-ness of using a computerised random number generator becomes a positive. Since the process is completely deterministic, we can ask for our result to be random but in a repeatable manner. This is where seeding comes in. By seeding a BitGenerator, we can get a random output that can be reproduced by others who use the same seed, BitGenerator, and code<sup id=\"a33\">[33](#f33)</sup>. If a seed is not entered by the user, the algorithm with use a default seed that constantly changes. An example of a default seed might be the current time and date, which is why the random data generate constantly changes each time it's run. In the case of numpy.random, if no seed is provided, then \"unpredictable entropy will be pulled from the OS\" to set the seed<sup id=\"a34\">[34](#f34)</sup>. With a seed set by the user, the algorithm will generate random data using the seed presented as a starting point, ensuring a repeatable output."
   ]
  },
  {
   "cell_type": "code",
   "execution_count": 65,
   "id": "60777f1b",
   "metadata": {},
   "outputs": [
    {
     "data": {
      "text/plain": [
       "array([4, 3, 1, 2, 1, 3, 2, 0, 0, 2, 0, 1, 2, 2, 2, 2, 0, 0, 4, 3],\n",
       "      dtype=int64)"
      ]
     },
     "execution_count": 65,
     "metadata": {},
     "output_type": "execute_result"
    }
   ],
   "source": [
    "# Calling the default rng but with a seed for reporoducable outcomes\n",
    "rng_seeded1 = np.random.default_rng(seed=1246)\n",
    "rng_seeded1.integers(5, size = 20)"
   ]
  },
  {
   "cell_type": "code",
   "execution_count": 66,
   "id": "61ac8ead",
   "metadata": {},
   "outputs": [
    {
     "data": {
      "text/plain": [
       "array([4, 3, 1, 2, 1, 3, 2, 0, 0, 2, 0, 1, 2, 2, 2, 2, 0, 0, 4, 3],\n",
       "      dtype=int64)"
      ]
     },
     "execution_count": 66,
     "metadata": {},
     "output_type": "execute_result"
    }
   ],
   "source": [
    "# A new rng with the same seeding (1246) will result in the same output\n",
    "rng_seeded2 = np.random.default_rng(seed=1246)\n",
    "rng_seeded2.integers(5, size = 20)"
   ]
  },
  {
   "cell_type": "markdown",
   "id": "a9b51cbf-b7f7-4e1a-a734-307ae6eb9300",
   "metadata": {},
   "source": [
    "### <b id=\"h19\">BitGenerators (PCG64 vs Mersenne Twister)</b>"
   ]
  },
  {
   "cell_type": "markdown",
   "id": "8b3ee6cb-4278-4ed7-9f27-22eb90775e40",
   "metadata": {},
   "source": [
    "For many years the default BitGenerator for numpy.random was the Mersenne Twister BitGenerator<sup id=\"a35\">[35](#f35)</sup>. It proved popular due to its widespread adoption and for most purposes proved to be robust and reliable, but in recent years it has begun to show its age<sup id=\"a36\">[36](#f36)</sup>. There are some statistical vulnerabilities that, while unlikely to negatively affect the random outputs for most users, are not ideal. Furthermore, the large state associated with the algorithm means it is relatively slow and inefficient. As of NumPy 1.XX, the Mersenne Twister algorithm has been replaced as the default BitGenerator with PCG64, which promises to be faster and more statistically robust<sup id=\"a37\">[37](#f37)</sup>.\n",
    "\n",
    "It's important to at least be aware of the default BitGenerater used by numpy.random because as pointed out by Ben Gorman the following code has different outcomes depending on the version of NumPy used and the default BitGenerator used at the time<sup id=\"a38\">[38](#f38)</sup>. While the code is short and easy to run, it can led to compatibility problems down the line. "
   ]
  },
  {
   "cell_type": "code",
   "execution_count": 67,
   "id": "70d7a384-5316-4879-827c-17f353e9b16a",
   "metadata": {},
   "outputs": [
    {
     "data": {
      "text/plain": [
       "array([2, 1, 2])"
      ]
     },
     "execution_count": 67,
     "metadata": {},
     "output_type": "execute_result"
    }
   ],
   "source": [
    "np.random.seed(123)\n",
    "np.random.randint(3, size=3)"
   ]
  },
  {
   "cell_type": "markdown",
   "id": "a7651111-f113-48a2-974c-8b906ac06344",
   "metadata": {},
   "source": [
    "One benefit instantiating a BitGenerator rather than using numpy.random.RandomState methods is that code may no longer be reproducible in the future should the default generator change. By initially instantiating a BitGenerator, one can easily go back and explicitly change the BitGenerator called. For example, we can call the old Mersenne Twister RNG instead of the default PCG64 if for some reason we would prefer to use it, for example, the code we wish to run was originally written with Mersenne Twister in mind by using the legacy random generation, which the NumPy developers guarantee will be frozen and no longer change, allowing reproducibility into the foreseeable future<sup id=\"a39\">[39](#f39)</sup>. "
   ]
  },
  {
   "cell_type": "code",
   "execution_count": 68,
   "id": "17cf5f39-0ac4-4e7d-8770-08b3ff7d50d9",
   "metadata": {},
   "outputs": [
    {
     "data": {
      "text/plain": [
       "array([2, 5, 1])"
      ]
     },
     "execution_count": 68,
     "metadata": {},
     "output_type": "execute_result"
    }
   ],
   "source": [
    "# Import the legacy Mersenne Twister Bit Generator\n",
    "from numpy.random import RandomState\n",
    "\n",
    "# Seeding the BitGenerator\n",
    "rs = RandomState(12345)\n",
    "\n",
    "# Generate a random, reproducable array of 3 ints between 0-10\n",
    "rs.randint(10, size=3)"
   ]
  },
  {
   "cell_type": "markdown",
   "id": "ae6b810d-3ae8-4c0f-b194-eafc9b57ba5d",
   "metadata": {},
   "source": [
    "Some of the methods are different for the legacy random generator so the separate documentation section for this feature should be referred to if it is going to be used<sup id=\"a39\">[39](#f39)</sup>. \n",
    "\n",
    "We can also explicitly call for PCG64 should we be concerned that the default RNG changes in a future NumPy update. Doing so should hopefully help code to remain reproducible, in the instance where PCG64 is no longer the default BitGenerator, but it is still supported and callable by NumPy. "
   ]
  },
  {
   "cell_type": "code",
   "execution_count": 69,
   "id": "8ccb1b0f-ebfb-4322-ba89-7c2b7336f08b",
   "metadata": {},
   "outputs": [
    {
     "data": {
      "text/plain": [
       "array([8, 1, 8], dtype=int64)"
      ]
     },
     "execution_count": 69,
     "metadata": {},
     "output_type": "execute_result"
    }
   ],
   "source": [
    "# Explicitly call the PCG64 RNG, seeded to 32\n",
    "from numpy.random import Generator, PCG64\n",
    "rng = Generator(PCG64(seed=32))\n",
    "\n",
    "# Generate a random, reproducable array of 3 ints between 0-10\n",
    "rng.integers(10, size=3)"
   ]
  },
  {
   "cell_type": "markdown",
   "id": "fbee86df-01e7-4c72-b4c0-0b5279a85f59",
   "metadata": {},
   "source": [
    "It is worth noting that other BitGenerators are also supported by NumPy should a user wish to use a different RNG, but exploring further alternatives is beyond the scope of this project<sup id=\"a40\">[40](#f40)</sup>.\n",
    "\n",
    "-------"
   ]
  },
  {
   "cell_type": "markdown",
   "id": "8e9207f5",
   "metadata": {},
   "source": [
    "## <b id=\"h20\">References</b>"
   ]
  },
  {
   "cell_type": "markdown",
   "id": "d2037b3d-c5be-4ab7-aa8a-2524442022df",
   "metadata": {},
   "source": [
    "<b id=\"f1\">1.</b> Singh, S., 2018. Understanding Random Variables. [online] Available at: <https://towardsdatascience.com/understanding-random-variable-a618a2e99b93> [Accessed 21 November 2021].[↩](#a1)    \n",
    "<b id=\"f2\">2.</b> Wilson, J., 2019. Randomness for Modeling and Simulation. [online] Available at: <https://realpython.com/lessons/randomness-modeling-and-simulation/> [Accessed 21 November 2021].[↩](#a2)    \n",
    "<b id=\"f3\">3.</b> Kobayashi, S., Kane, T.B. and Paton, C., 2018. The privacy and security implications of open data in healthcare. *Yearbook of medical informatics*, 27(01), pp.041-047. [online]. Doi: 10.1055/s-0038-1641201 [Accessed 22 November 2021]. [↩](#a3)     \n",
    "<b id=\"f4\">4.</b> Quintana, D.S., 2020. A synthetic dataset primer for the biobehavioural sciences to promote reproducibility and hypothesis generation. *Elife*, 9, p.e53275. [online]. Doi: 10.7554/eLife.53275 [Accessed 22 November 2021]. [↩](#a4)     \n",
    "<b id=\"f5\">5.</b> Rubin, J. M., Can a computer generate a truly random number? [online] Available at: <https://engineering.mit.edu/engage/ask-an-engineer/can-a-computer-generate-a-truly-random-number/> [Accessed 22 November 2021].[↩](#a5)      \n",
    "<b id=\"f6\">6.</b> Cruis, B., 2012. Pseudorandom number generators. [online] Available at: <https://www.khanacademy.org/computing/computer-science/cryptography/crypt/v/random-vs-pseudorandom-number-generators> [Accessed 22 November 2021]. [↩](#a6)      \n",
    "<b id=\"f7\">7.</b> Harris, C.R., Millman, K.J., van der Walt, S.J., Gommers, R., Virtanen, P., Cournapeau, D., Wieser, E., Taylor, J., Berg, S., Smith, N.J. and Kern, R., 2020. Array programming with NumPy. Nature, 585(7825), pp.357-362. Doi: 10.1038/s41586-020-2649-2. [↩](#a7)     \n",
    "<b id=\"f8\">8.</b> McKinney, W., 2018. *Python for data analysis: Data wrangling with Pandas, NumPy, and IPython.* \" O'Reilly Media, Inc.\"., p. 118.[↩](#a8)     \n",
    "<b id=\"f9\">9.</b> Problem Solving with Python. Magic Commands. [online] Available at: <https://problemsolvingwithpython.com/02-Jupyter-Notebooks/02.06-Magic-Commands/> [Accessed 22 November 2021].[↩](#a9)   \n",
    "<b id=\"f10\">10.</b> NumPy, 2021. Random Generator. [online]. Available at: <https://numpy.org/doc/stable/reference/random/generator.html#numpy.random.Generator> [Accessed 22 November 2021].[↩](#a10)     \n",
    "<b id=\"f11\">11.</b> NumPy., 2021. numpy.random.Generator.integers. [online]. Available at: https://numpy.org/doc/stable/reference/random/generated/numpy.random.Generator.integers.html#numpy.random.Generator.integers [Accessed 22 November 2021]. [↩](#a11)    \n",
    "<b id=\"f12\">12.</b> NumPy, 2021. numpy.random.Generator.random. [online]. Available at: https://numpy.org/doc/stable/reference/random/generated/numpy.random.Generator.integers.html#numpy.random.Generator.integers [Accessed 22 November 2021].[↩](#a12)     \n",
    "<b id=\"f13\">13.</b> NumPy, 2021. numpy.random.Generator.choice. [online]. Available at: https://numpy.org/doc/stable/reference/random/generated/numpy.random.Generator.choice.html#numpy.random.Generator.choice [Accessed 22 November 2021].[↩](#a13)      \n",
    "<b id=\"f14\">14.</b> NumPy, 2021. numpy.random.Generator.bytes. [online]. Available at: https://numpy.org/doc/stable/reference/random/generated/numpy.random.Generator.bytes.html#numpy.random.Generator.bytes [Accessed 22 November 2021].[↩](#a14)      \n",
    "<b id=\"f15\">15.</b> Martello Security, 2021.  Use of Cryptographically Weak Pseudo-Random Number Generator (PRNG). [online]. Available at: https://www.martellosecurity.com/kb/mitre/cwe/338/ [Accessed 22 November 2021].[↩](#a15)      \n",
    "<b id=\"f16\">16.</b> NumPy, 2021. numpy.random.Generator.shuffle. [online]. Available at: https://numpy.org/doc/stable/reference/random/generated/numpy.random.Generator.shuffle.html#numpy.random.Generator.shuffle [Accessed 22 November 2021].[↩](#a16)      \n",
    "<b id=\"f17\">17.</b> NumPy, 2021. numpy.random.Generator.permutation. [online]. Available at: https://numpy.org/doc/stable/reference/random/generated/numpy.random.Generator.permutation.html#numpy.random.Generator.permutation [Accessed 22 November 2021].[↩](#a17)     \n",
    "<b id=\"f18\">18.</b> NumPy, 2021. numpy.random.Generator.permuted. [online]. Available at: https://numpy.org/doc/stable/reference/random/generated/numpy.random.Generator.permuted.html#numpy.random.Generator.permuted [Accessed 22 November 2021].[↩](#a18)     \n",
    "<b id=\"f19\">19.</b> NumPy, 2021. NumPy 1.20.0 Release Notes. [online]. Available at: https://numpy.org/doc/stable/release/1.20.0-notes.html?release#new-functions [Accessed 22 November 2021].[↩](#a19)     \n",
    "<b id=\"f20\">20.</b> Albright, E. A., 2021. Probability Distributions. [online]. Available at: <https://sites.nicholas.duke.edu/statsreview/normal/> [Accessed April 27 2021].[↩](#a20)       \n",
    "<b id=\"f21\">21.</b> NumPy, 2021. numpy.random.Generator.binomial. [online]. Available at: https://numpy.org/doc/stable/reference/random/generated/numpy.random.Generator.binomial.html#numpy.random.Generator.binomial [Accessed 22 November 2021].[↩](#a21)     \n",
    "<b id=\"f22\">22.</b> Weisstein, E., 2021. \"Binomial Distribution.\" From MathWorld--A Wolfram Web Resource.[online]. Available at: https://mathworld.wolfram.com/BinomialDistribution.html [Accessed 22 November 2021].[↩](#a22)    \n",
    "<b id=\"f23\">23.</b> InStat, 2021. Massive research of penalties by InStat. [online]. Available at: https://instatsport.com/football/article/penalty_research [Accessed 22 November 2021].[↩](#a23)     \n",
    "<b id=\"f24\">24.</b> NumPy, 2021. numpy.random.Generator.normal. [online]. Available at: https://numpy.org/doc/stable/reference/random/generated/numpy.random.Generator.normal.html#numpy.random.Generator.normal [Accessed 22 November 2021].[↩](#a24)      \n",
    "<b id=\"f25\">25.</b> Weisstein, E., 2021. \"Normal Distribution.\" From MathWorld--A Wolfram Web Resource.[online]. Available at: https://mathworld.wolfram.com/NormalDistribution.html [Accessed 22 November 2021].[↩](#a25)     \n",
    "<b id=\"f26\">26.</b> Frost, J., 2018. Normal Distribution in Statistics. [online]. Available at: https://statisticsbyjim.com/basics/normal-distribution/ [Accessed 28 April 2021].[↩](#a26)      \n",
    "<b id=\"f27\">27.</b> NumPy, 2021. numpy.random.Generator.uniform. [online]. Available at: https://numpy.org/doc/stable/reference/random/generated/numpy.random.Generator.uniform.html#numpy.random.Generator.uniform [Accessed 22 November 2021].[↩](#a27)     \n",
    "<b id=\"f28\">28.</b> Weisstein, E., 2021. \"Uniform Distribution.\" From MathWorld--A Wolfram Web Resource.[online]. Available at: https://mathworld.wolfram.com/UniformDistribution.html [Accessed 22 November 2021].[↩](#a28)    \n",
    "<b id=\"f29\">29.</b> NumPy, 2021. numpy.random.Generator.poisson. [online]. Available at: https://numpy.org/doc/stable/reference/random/generated/numpy.random.Generator.poisson.html#numpy.random.Generator.poisson [Accessed 22 November 2021].[↩](#a29)      \n",
    "<b id=\"f30\">30.</b> Weisstein, E., 2021. \"Poisson Distribution.\" From MathWorld--A Wolfram Web Resource.[online]. Available at: https://mathworld.wolfram.com/PoissonDistribution.html [Accessed 22 November 2021].[↩](#a30)     \n",
    "<b id=\"f31\">31.</b> NumPy, 2021. numpy.random.Generator.exponential. [online]. Available at: https://numpy.org/doc/stable/reference/random/generated/numpy.random.Generator.exponential.html#numpy.random.Generator.exponential [Accessed 22 November 2021].[↩](#a31)      \n",
    "<b id=\"f32\">32.</b> Weisstein, E., 2021. \"Exponential Distribution.\" From MathWorld--A Wolfram Web Resource.[online]. Available at: https://mathworld.wolfram.com/ExponentialDistribution.html [Accessed 22 November 2021].[↩](#a32)   \n",
    "<b id=\"f33\">33.</b> Ebner, J., 2019. NumPy Random Seed, Explained.[online]. Available at: https://www.sharpsightlabs.com/blog/numpy-random-seed/ [Accessed 22 November 2021].[↩](#a33)     \n",
    "<b id=\"f34\">34.</b> NumPy, 2021. numpy.random.BitGenerator. [online]. Available at: https://numpy.org/doc/stable/reference/random/bit_generators/generated/numpy.random.BitGenerator.html#numpy.random.BitGenerator [Accessed 22 November 2021].[↩](#a34)     \n",
    "<b id=\"f35\">35.</b> Matsumoto, M. and Nishimura, T., 1998. Mersenne twister: a 623-dimensionally equidistributed uniform pseudo-random number generator. *ACM Transactions on Modeling and Computer Simulation (TOMACS)*, 8(1), pp.3-30. Doi: https://doi.org/10.1145/272991.272995 [↩](#a35)     \n",
    "<b id=\"f36\">36.</b> Vigna, S., 2019. It is high time we let go of the Mersenne Twister. *arXiv preprint* arXiv:1910.06437..[↩](#a36)     \n",
    "<b id=\"f37\">37.</b> O’Neill, M.E., 2014. PCG: A family of simple fast space-efficient statistically good algorithms for random number generation. ACM Transactions on Mathematical Software. Doi: http://dx.doi.org/10.1145/0000000.000000.[↩](#a37)      \n",
    "<b id=\"f38\">38.</b> Gorman, B. 2019. Python NumPy For Your Grandma - 3.7 random. [online]. Available at: <https://www.gormanalysis.com/blog/python-numpy-for-your-grandma-3-7-random/> [Accessed 22 November 2021].[↩](#a38)     \n",
    "<b id=\"f39\">39.</b> NumPy, 2021. Legacy Random Generation. [online]. Available at: https://numpy.org/doc/stable/reference/random/legacy.html [Accessed 22 November 2021].[↩](#a39)     \n",
    "<b id=\"f40\">40.</b> NumPy, 2021. Bit Generators. [online]. Available at: https://numpy.org/doc/stable/reference/random/bit_generators/index.html [Accessed 22 November 2021].[↩](#a40)  \n",
    "\n",
    "\n",
    "\n",
    "\n"
   ]
  }
 ],
 "metadata": {
  "kernelspec": {
   "display_name": "Python 3",
   "language": "python",
   "name": "python3"
  },
  "language_info": {
   "codemirror_mode": {
    "name": "ipython",
    "version": 3
   },
   "file_extension": ".py",
   "mimetype": "text/x-python",
   "name": "python",
   "nbconvert_exporter": "python",
   "pygments_lexer": "ipython3",
   "version": "3.8.8"
  }
 },
 "nbformat": 4,
 "nbformat_minor": 5
}
