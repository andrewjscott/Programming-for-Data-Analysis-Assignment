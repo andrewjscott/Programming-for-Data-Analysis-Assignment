{
 "cells": [
  {
   "cell_type": "markdown",
   "id": "0bb781ed",
   "metadata": {},
   "source": [
    "# The numpy.random package"
   ]
  },
  {
   "cell_type": "code",
   "execution_count": null,
   "id": "8c5ae8d2",
   "metadata": {},
   "outputs": [],
   "source": []
  },
  {
   "cell_type": "code",
   "execution_count": 1,
   "id": "57ab90f1",
   "metadata": {},
   "outputs": [],
   "source": [
    "import numpy as np\n",
    "\n",
    "import matplotlib.pyplot as plt"
   ]
  },
  {
   "cell_type": "code",
   "execution_count": 2,
   "id": "c7eecb96",
   "metadata": {},
   "outputs": [],
   "source": [
    "rng = np.random.default_rng()"
   ]
  },
  {
   "cell_type": "code",
   "execution_count": null,
   "id": "32559a15",
   "metadata": {},
   "outputs": [],
   "source": []
  },
  {
   "cell_type": "markdown",
   "id": "263a9965",
   "metadata": {},
   "source": [
    "## What is numpy.random?"
   ]
  },
  {
   "cell_type": "code",
   "execution_count": null,
   "id": "f258bee5",
   "metadata": {},
   "outputs": [],
   "source": []
  },
  {
   "cell_type": "code",
   "execution_count": null,
   "id": "4c5991f7",
   "metadata": {},
   "outputs": [],
   "source": []
  },
  {
   "cell_type": "markdown",
   "id": "aa5f4122",
   "metadata": {},
   "source": [
    "### \"Simple random data\" functions"
   ]
  },
  {
   "cell_type": "markdown",
   "id": "f64d8a0c",
   "metadata": {},
   "source": [
    "#### integers"
   ]
  },
  {
   "cell_type": "code",
   "execution_count": null,
   "id": "b7d23e19",
   "metadata": {},
   "outputs": [],
   "source": []
  },
  {
   "cell_type": "code",
   "execution_count": 13,
   "id": "c29ab806",
   "metadata": {},
   "outputs": [
    {
     "data": {
      "text/plain": [
       "array([0, 1, 1, 4, 2, 0, 4, 3, 3, 0, 0, 2, 4, 3, 4, 0, 4, 2, 4, 2],\n",
       "      dtype=int64)"
      ]
     },
     "execution_count": 13,
     "metadata": {},
     "output_type": "execute_result"
    }
   ],
   "source": [
    "rng.integers(5, size = 20)"
   ]
  },
  {
   "cell_type": "code",
   "execution_count": null,
   "id": "67fe8e08",
   "metadata": {},
   "outputs": [],
   "source": []
  },
  {
   "cell_type": "markdown",
   "id": "9ed298d1",
   "metadata": {},
   "source": [
    "#### random"
   ]
  },
  {
   "cell_type": "code",
   "execution_count": null,
   "id": "999529c1",
   "metadata": {},
   "outputs": [],
   "source": []
  },
  {
   "cell_type": "code",
   "execution_count": 4,
   "id": "badca741",
   "metadata": {},
   "outputs": [
    {
     "data": {
      "text/plain": [
       "array([0.67434731, 0.84152429, 0.46875767, 0.79301905, 0.96892531,\n",
       "       0.6490917 , 0.59434932, 0.52998682, 0.82146958, 0.4576029 ,\n",
       "       0.16202685, 0.17615017, 0.28753352, 0.70343635, 0.34627634,\n",
       "       0.80725159, 0.05367254, 0.40568319, 0.07504424, 0.3787318 ])"
      ]
     },
     "execution_count": 4,
     "metadata": {},
     "output_type": "execute_result"
    }
   ],
   "source": [
    "rng.random(size = 20)"
   ]
  },
  {
   "cell_type": "code",
   "execution_count": null,
   "id": "2d4e89b7",
   "metadata": {},
   "outputs": [],
   "source": []
  },
  {
   "cell_type": "markdown",
   "id": "61f94151",
   "metadata": {},
   "source": [
    "#### choice"
   ]
  },
  {
   "cell_type": "code",
   "execution_count": null,
   "id": "424a4e02",
   "metadata": {},
   "outputs": [],
   "source": []
  },
  {
   "cell_type": "code",
   "execution_count": 5,
   "id": "3681bd76",
   "metadata": {},
   "outputs": [
    {
     "data": {
      "text/plain": [
       "array([1, 3, 8], dtype=int64)"
      ]
     },
     "execution_count": 5,
     "metadata": {},
     "output_type": "execute_result"
    }
   ],
   "source": [
    "rng.choice(10, 3)"
   ]
  },
  {
   "cell_type": "code",
   "execution_count": 6,
   "id": "6adfb758",
   "metadata": {},
   "outputs": [],
   "source": [
    "colours = [\"red\", \"blue\", \"green\", \"black\", \"yellow\"]"
   ]
  },
  {
   "cell_type": "code",
   "execution_count": 7,
   "id": "5d9c8983",
   "metadata": {},
   "outputs": [
    {
     "data": {
      "text/plain": [
       "'black'"
      ]
     },
     "execution_count": 7,
     "metadata": {},
     "output_type": "execute_result"
    }
   ],
   "source": [
    "rng.choice(colours)"
   ]
  },
  {
   "cell_type": "code",
   "execution_count": null,
   "id": "01bbb5cd",
   "metadata": {},
   "outputs": [],
   "source": []
  },
  {
   "cell_type": "markdown",
   "id": "27b13d59",
   "metadata": {},
   "source": [
    "#### bytes"
   ]
  },
  {
   "cell_type": "code",
   "execution_count": null,
   "id": "692bac13",
   "metadata": {},
   "outputs": [],
   "source": []
  },
  {
   "cell_type": "code",
   "execution_count": 8,
   "id": "de2cc869",
   "metadata": {},
   "outputs": [
    {
     "data": {
      "text/plain": [
       "b'\\xdf\\xb4\\xb5\\xef\\xcf'"
      ]
     },
     "execution_count": 8,
     "metadata": {},
     "output_type": "execute_result"
    }
   ],
   "source": [
    "rng.bytes(5)"
   ]
  },
  {
   "cell_type": "code",
   "execution_count": null,
   "id": "f6eb7f9e",
   "metadata": {},
   "outputs": [],
   "source": []
  },
  {
   "cell_type": "markdown",
   "id": "3607c364",
   "metadata": {},
   "source": [
    "### \"Permutations\" functions"
   ]
  },
  {
   "cell_type": "code",
   "execution_count": null,
   "id": "6025f07c",
   "metadata": {},
   "outputs": [],
   "source": []
  },
  {
   "cell_type": "code",
   "execution_count": null,
   "id": "e32d3338",
   "metadata": {},
   "outputs": [],
   "source": [
    "# Explain In-place vs. copy differences between below functions"
   ]
  },
  {
   "cell_type": "code",
   "execution_count": null,
   "id": "1ba9a9cc",
   "metadata": {},
   "outputs": [],
   "source": []
  },
  {
   "cell_type": "markdown",
   "id": "02af79ca",
   "metadata": {},
   "source": [
    "#### shuffle"
   ]
  },
  {
   "cell_type": "code",
   "execution_count": null,
   "id": "ea5c1ed5",
   "metadata": {},
   "outputs": [],
   "source": []
  },
  {
   "cell_type": "code",
   "execution_count": 9,
   "id": "bb7493e9",
   "metadata": {},
   "outputs": [],
   "source": [
    "digits = np.arange(10)"
   ]
  },
  {
   "cell_type": "code",
   "execution_count": 10,
   "id": "90f76551",
   "metadata": {},
   "outputs": [
    {
     "data": {
      "text/plain": [
       "array([0, 1, 2, 3, 4, 5, 6, 7, 8, 9])"
      ]
     },
     "execution_count": 10,
     "metadata": {},
     "output_type": "execute_result"
    }
   ],
   "source": [
    "digits"
   ]
  },
  {
   "cell_type": "code",
   "execution_count": 11,
   "id": "27cd23f5",
   "metadata": {},
   "outputs": [],
   "source": [
    "rng.shuffle(digits)"
   ]
  },
  {
   "cell_type": "code",
   "execution_count": 12,
   "id": "08e9417d",
   "metadata": {},
   "outputs": [
    {
     "data": {
      "text/plain": [
       "array([4, 7, 9, 2, 8, 0, 6, 1, 3, 5])"
      ]
     },
     "execution_count": 12,
     "metadata": {},
     "output_type": "execute_result"
    }
   ],
   "source": [
    "digits"
   ]
  },
  {
   "cell_type": "code",
   "execution_count": null,
   "id": "2687ab4c",
   "metadata": {},
   "outputs": [],
   "source": []
  },
  {
   "cell_type": "code",
   "execution_count": 34,
   "id": "ca3d6b3e",
   "metadata": {},
   "outputs": [],
   "source": [
    "three_by_three = np.arange(9).reshape(3, 3)"
   ]
  },
  {
   "cell_type": "code",
   "execution_count": 35,
   "id": "f44d2d82",
   "metadata": {},
   "outputs": [
    {
     "data": {
      "text/plain": [
       "array([[0, 1, 2],\n",
       "       [3, 4, 5],\n",
       "       [6, 7, 8]])"
      ]
     },
     "execution_count": 35,
     "metadata": {},
     "output_type": "execute_result"
    }
   ],
   "source": [
    "three_by_three"
   ]
  },
  {
   "cell_type": "code",
   "execution_count": 39,
   "id": "4c27da9e",
   "metadata": {},
   "outputs": [],
   "source": [
    "# Using shuffle on an array will rearrange the position of rows\n",
    "# but will leave the items from each row in the original order"
   ]
  },
  {
   "cell_type": "code",
   "execution_count": 40,
   "id": "7d0f3b86",
   "metadata": {},
   "outputs": [],
   "source": [
    "rng.shuffle(three_by_three)"
   ]
  },
  {
   "cell_type": "code",
   "execution_count": 41,
   "id": "07614736",
   "metadata": {},
   "outputs": [
    {
     "data": {
      "text/plain": [
       "array([[6, 7, 8],\n",
       "       [3, 4, 5],\n",
       "       [0, 1, 2]])"
      ]
     },
     "execution_count": 41,
     "metadata": {},
     "output_type": "execute_result"
    }
   ],
   "source": [
    "three_by_three"
   ]
  },
  {
   "cell_type": "code",
   "execution_count": null,
   "id": "e48d6e67",
   "metadata": {},
   "outputs": [],
   "source": []
  },
  {
   "cell_type": "code",
   "execution_count": null,
   "id": "140f3eb8",
   "metadata": {},
   "outputs": [],
   "source": []
  },
  {
   "cell_type": "markdown",
   "id": "fa6c3926",
   "metadata": {},
   "source": [
    "#### permutation"
   ]
  },
  {
   "cell_type": "code",
   "execution_count": null,
   "id": "a14bc07a",
   "metadata": {},
   "outputs": [],
   "source": []
  },
  {
   "cell_type": "code",
   "execution_count": 14,
   "id": "ae578d95",
   "metadata": {},
   "outputs": [
    {
     "data": {
      "text/plain": [
       "array([1, 9, 0, 2, 3, 7, 4, 8, 5, 6])"
      ]
     },
     "execution_count": 14,
     "metadata": {},
     "output_type": "execute_result"
    }
   ],
   "source": [
    "rng.permutation(10)"
   ]
  },
  {
   "cell_type": "code",
   "execution_count": null,
   "id": "68082ad8",
   "metadata": {},
   "outputs": [],
   "source": []
  },
  {
   "cell_type": "markdown",
   "id": "d30b4142",
   "metadata": {},
   "source": [
    "#### permuted"
   ]
  },
  {
   "cell_type": "code",
   "execution_count": null,
   "id": "f65f1147",
   "metadata": {},
   "outputs": [],
   "source": []
  },
  {
   "cell_type": "code",
   "execution_count": 45,
   "id": "7e97aa88",
   "metadata": {},
   "outputs": [],
   "source": [
    "# Unlike Shuffle, Permuted will rearrange the order of items\n",
    "# Within each row. Permuted also requires a new variable.\n",
    "# If we reuse the same array we used Shuffle\n",
    "# on earlier, we can see the difference bewtween Shuffle and \n",
    "# Permuted"
   ]
  },
  {
   "cell_type": "code",
   "execution_count": 46,
   "id": "e56079a0",
   "metadata": {},
   "outputs": [],
   "source": [
    "permuted_three_by_three = rng.permuted(three_by_three, axis=1)"
   ]
  },
  {
   "cell_type": "code",
   "execution_count": 47,
   "id": "86c28e41",
   "metadata": {},
   "outputs": [
    {
     "data": {
      "text/plain": [
       "array([[6, 7, 8],\n",
       "       [4, 3, 5],\n",
       "       [2, 0, 1]])"
      ]
     },
     "execution_count": 47,
     "metadata": {},
     "output_type": "execute_result"
    }
   ],
   "source": [
    "permuted_three_by_three"
   ]
  },
  {
   "cell_type": "code",
   "execution_count": 49,
   "id": "56ce82ed",
   "metadata": {},
   "outputs": [],
   "source": [
    "# The original array can be passed in as an argument if we want it to \n",
    "# match the output of the permuted array"
   ]
  },
  {
   "cell_type": "code",
   "execution_count": 50,
   "id": "1813c670",
   "metadata": {},
   "outputs": [],
   "source": [
    "permuted_three_by_three = rng.permuted(three_by_three, axis=1, out=three_by_three)"
   ]
  },
  {
   "cell_type": "code",
   "execution_count": 51,
   "id": "0178db52",
   "metadata": {},
   "outputs": [
    {
     "data": {
      "text/plain": [
       "array([[7, 6, 8],\n",
       "       [5, 3, 4],\n",
       "       [2, 1, 0]])"
      ]
     },
     "execution_count": 51,
     "metadata": {},
     "output_type": "execute_result"
    }
   ],
   "source": [
    "three_by_three"
   ]
  },
  {
   "cell_type": "code",
   "execution_count": 52,
   "id": "84e743db",
   "metadata": {},
   "outputs": [
    {
     "data": {
      "text/plain": [
       "array([[7, 6, 8],\n",
       "       [5, 3, 4],\n",
       "       [2, 1, 0]])"
      ]
     },
     "execution_count": 52,
     "metadata": {},
     "output_type": "execute_result"
    }
   ],
   "source": [
    "permuted_three_by_three"
   ]
  },
  {
   "cell_type": "code",
   "execution_count": 53,
   "id": "36de1af1",
   "metadata": {},
   "outputs": [
    {
     "data": {
      "text/plain": [
       "True"
      ]
     },
     "execution_count": 53,
     "metadata": {},
     "output_type": "execute_result"
    }
   ],
   "source": [
    "three_by_three is permuted_three_by_three"
   ]
  },
  {
   "cell_type": "code",
   "execution_count": null,
   "id": "2ceaac73",
   "metadata": {},
   "outputs": [],
   "source": []
  },
  {
   "cell_type": "markdown",
   "id": "f666d67b",
   "metadata": {},
   "source": [
    "## Distributions"
   ]
  },
  {
   "cell_type": "code",
   "execution_count": null,
   "id": "d139b136",
   "metadata": {},
   "outputs": [],
   "source": []
  },
  {
   "cell_type": "code",
   "execution_count": null,
   "id": "42cc78e6",
   "metadata": {},
   "outputs": [],
   "source": []
  },
  {
   "cell_type": "code",
   "execution_count": null,
   "id": "aedb090c",
   "metadata": {},
   "outputs": [],
   "source": []
  },
  {
   "cell_type": "markdown",
   "id": "84f4663f",
   "metadata": {},
   "source": [
    "#### binomial"
   ]
  },
  {
   "cell_type": "code",
   "execution_count": null,
   "id": "dfdf8aa9",
   "metadata": {},
   "outputs": [],
   "source": []
  },
  {
   "cell_type": "code",
   "execution_count": null,
   "id": "8f74cc43",
   "metadata": {},
   "outputs": [],
   "source": [
    "# "
   ]
  },
  {
   "cell_type": "code",
   "execution_count": 60,
   "id": "b0fe52f3",
   "metadata": {},
   "outputs": [],
   "source": [
    "# n is the number of trials \n",
    "n = 20\n",
    "\n",
    "# p = probability of success, which must be between 0 and 1. \n",
    "# For example, a fair coin has a 50/50 change of being either heads of tails\n",
    "# Therefore to simulate a fair coin, p = 0.5\n",
    "p = 0.5"
   ]
  },
  {
   "cell_type": "code",
   "execution_count": 61,
   "id": "4c653457",
   "metadata": {},
   "outputs": [],
   "source": [
    "# The third argument is the number of tests. \n",
    "# That means in this example, a coin is flipped 20 times\n",
    "# And there is 1000 instances of this\n",
    "coin_flip = rng.binomial(n, p, 100)"
   ]
  },
  {
   "cell_type": "code",
   "execution_count": 62,
   "id": "13222970",
   "metadata": {},
   "outputs": [
    {
     "data": {
      "text/plain": [
       "array([10, 10,  9,  8,  6,  7,  8, 14, 12,  8, 12,  6, 11,  9, 12, 11, 10,\n",
       "       12,  7, 13, 13,  6, 13, 10, 10, 11,  6, 10, 12, 10,  8, 13,  8,  8,\n",
       "        9, 14, 12,  8, 11, 10,  9, 12, 10,  9, 11, 11,  9, 12,  9,  8, 12,\n",
       "       11,  9, 10, 13, 12, 13, 12,  6, 11, 13, 13, 11,  9,  9, 13, 10,  8,\n",
       "       14, 11,  8, 12, 10, 10, 11, 10, 13,  6, 14, 11, 10, 10,  5, 10, 10,\n",
       "       14,  9, 11,  9,  9,  8,  9,  9,  9,  8, 10,  7, 10,  9, 12],\n",
       "      dtype=int64)"
      ]
     },
     "execution_count": 62,
     "metadata": {},
     "output_type": "execute_result"
    }
   ],
   "source": [
    "# We can take the resulting array as giving us the number of heads\n",
    "# After every 20 coin flips\n",
    "coin_flip"
   ]
  },
  {
   "cell_type": "code",
   "execution_count": null,
   "id": "ff671708",
   "metadata": {},
   "outputs": [],
   "source": []
  },
  {
   "cell_type": "code",
   "execution_count": 63,
   "id": "003feb59",
   "metadata": {},
   "outputs": [
    {
     "data": {
      "text/plain": [
       "(array([ 1.,  6.,  3., 12., 17., 20., 13., 13., 10.,  5.]),\n",
       " array([ 5. ,  5.9,  6.8,  7.7,  8.6,  9.5, 10.4, 11.3, 12.2, 13.1, 14. ]),\n",
       " <BarContainer object of 10 artists>)"
      ]
     },
     "execution_count": 63,
     "metadata": {},
     "output_type": "execute_result"
    },
    {
     "data": {
      "image/png": "[encoded data removed]",
      "text/plain": [
       "<Figure size 432x288 with 1 Axes>"
      ]
     },
     "metadata": {
      "needs_background": "light"
     },
     "output_type": "display_data"
    }
   ],
   "source": [
    "plt.hist(coin_flip)"
   ]
  },
  {
   "cell_type": "code",
   "execution_count": null,
   "id": "32aa98ee",
   "metadata": {},
   "outputs": [],
   "source": []
  },
  {
   "cell_type": "markdown",
   "id": "d0d5c445",
   "metadata": {},
   "source": [
    "#### normal"
   ]
  },
  {
   "cell_type": "code",
   "execution_count": null,
   "id": "a370521a",
   "metadata": {},
   "outputs": [],
   "source": []
  },
  {
   "cell_type": "code",
   "execution_count": null,
   "id": "81b81782",
   "metadata": {},
   "outputs": [],
   "source": []
  },
  {
   "cell_type": "code",
   "execution_count": null,
   "id": "8f77dd46",
   "metadata": {},
   "outputs": [],
   "source": []
  },
  {
   "cell_type": "markdown",
   "id": "17cbb2ab",
   "metadata": {},
   "source": [
    "#### uniform"
   ]
  },
  {
   "cell_type": "code",
   "execution_count": null,
   "id": "b84d4ec2",
   "metadata": {},
   "outputs": [],
   "source": []
  },
  {
   "cell_type": "code",
   "execution_count": null,
   "id": "ae40029e",
   "metadata": {},
   "outputs": [],
   "source": []
  },
  {
   "cell_type": "code",
   "execution_count": null,
   "id": "65b6e67c",
   "metadata": {},
   "outputs": [],
   "source": []
  },
  {
   "cell_type": "markdown",
   "id": "9623b95e",
   "metadata": {},
   "source": [
    "#### poisson"
   ]
  },
  {
   "cell_type": "code",
   "execution_count": null,
   "id": "921c6179",
   "metadata": {},
   "outputs": [],
   "source": []
  },
  {
   "cell_type": "code",
   "execution_count": null,
   "id": "2b5e7170",
   "metadata": {},
   "outputs": [],
   "source": []
  },
  {
   "cell_type": "code",
   "execution_count": null,
   "id": "73e67fa4",
   "metadata": {},
   "outputs": [],
   "source": []
  },
  {
   "cell_type": "markdown",
   "id": "701f0afa",
   "metadata": {},
   "source": [
    "#### exponential"
   ]
  },
  {
   "cell_type": "code",
   "execution_count": null,
   "id": "7f6256cc",
   "metadata": {},
   "outputs": [],
   "source": []
  },
  {
   "cell_type": "code",
   "execution_count": null,
   "id": "4029955a",
   "metadata": {},
   "outputs": [],
   "source": []
  },
  {
   "cell_type": "code",
   "execution_count": null,
   "id": "fbda5fc8",
   "metadata": {},
   "outputs": [],
   "source": []
  },
  {
   "cell_type": "markdown",
   "id": "f1d06052",
   "metadata": {},
   "source": [
    "## Seeds"
   ]
  },
  {
   "cell_type": "code",
   "execution_count": null,
   "id": "495f9ee6",
   "metadata": {},
   "outputs": [],
   "source": []
  },
  {
   "cell_type": "code",
   "execution_count": null,
   "id": "60777f1b",
   "metadata": {},
   "outputs": [],
   "source": []
  },
  {
   "cell_type": "code",
   "execution_count": null,
   "id": "00c70b28",
   "metadata": {},
   "outputs": [],
   "source": []
  },
  {
   "cell_type": "markdown",
   "id": "8e9207f5",
   "metadata": {},
   "source": [
    "## References"
   ]
  },
  {
   "cell_type": "code",
   "execution_count": null,
   "id": "fdd50c4a",
   "metadata": {},
   "outputs": [],
   "source": []
  }
 ],
 "metadata": {
  "kernelspec": {
   "display_name": "Python 3",
   "language": "python",
   "name": "python3"
  },
  "language_info": {
   "codemirror_mode": {
    "name": "ipython",
    "version": 3
   },
   "file_extension": ".py",
   "mimetype": "text/x-python",
   "name": "python",
   "nbconvert_exporter": "python",
   "pygments_lexer": "ipython3",
   "version": "3.8.8"
  }
 },
 "nbformat": 4,
 "nbformat_minor": 5
}
