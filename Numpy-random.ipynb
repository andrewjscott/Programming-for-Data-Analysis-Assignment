{
 "cells": [
  {
   "cell_type": "markdown",
   "id": "0bb781ed",
   "metadata": {},
   "source": [
    "# The numpy.random package\n",
    "**Author: Andrew Scott**\n",
    "---"
   ]
  },
  {
   "cell_type": "markdown",
   "id": "6d35d06f-4a4d-46ef-9667-36b86c6cb1af",
   "metadata": {},
   "source": [
    "# Table of Contents\n",
    "\n",
    "* [**Randomness**](#h1)   \n",
    "* [**NumPy's Random Module**](#h2)\n",
    "* [**\"Simple Random Data\" Functions**](#h3)\n",
    "    * [**integers**](#h4)\n",
    "    * [**random**](#h5)\n",
    "    * [**choice**](#h6)\n",
    "    * [**bytes**](#h7)\n",
    "* [**\"Permutations\" functions**](#h8)\n",
    "    * [**shuffle**](#h9)\n",
    "    * [**permutation**](#h10)\n",
    "    * [**permuted**](#h11)\n",
    "* [**Distributions**](#h12)\n",
    "    * [**binomial**](#h13)\n",
    "    * [**normal**](#h14)\n",
    "    * [**uniform**](#h15)\n",
    "    * [**poisson**](#h16)\n",
    "    * [**exponential**](#h17)\n",
    "* [**Seeds**](#h18)\n",
    "    * [**BitGenerators (PCG64 vs Mersenne Twister)**](#h19)\n",
    "* [**References**](#h20)\n",
    "------"
   ]
  },
  {
   "cell_type": "markdown",
   "id": "263a9965",
   "metadata": {},
   "source": [
    "## **Randomness**<a id='h1'></a>"
   ]
  },
  {
   "cell_type": "markdown",
   "id": "def6248e-e69e-4743-978d-ae23f6a09565",
   "metadata": {},
   "source": [
    "Randomness is generally thought of as the unpredictability of an event’s outcome ahead of time[<sup>1</sup>](#f1).<a id='a1'></a> Even if one outcome is more likely than another, we cannot be certain which outcome will happen until we observe it. This randomness is the basis of many common games of chance, such as flipping a coin or rolling dice. "
   ]
  },
  {
   "cell_type": "markdown",
   "id": "17f46df6-5fd5-4ff6-9960-f38cda36621e",
   "metadata": {},
   "source": [
    "## **NumPy's Random Module**<a id='h2'></a>"
   ]
  },
  {
   "cell_type": "markdown",
   "id": "e54048aa-43ce-4e05-ac98-d76ca2982dcc",
   "metadata": {},
   "source": [
    "In data science, we will want sometimes want to generate random data for the purposes of simulation[<sup>2</sup>](#f2)<a id='a2'></a>. This can save time. For example, it is much faster to code and run a simulation of a million coin tosses than to physically toss a coin a million times. We can also use simulated data to test and refine models, or to supplement existing data. Random data simulation has also been proposed as a solution to a problem in medical scientific research, where data is often not open due to concerns about patient confidentiality[<sup>3</sup>](#f3)<a id='a3'></a>. A compromise is to simulate the patient data so that the simulated dataset is statistically identical to the original. These “synthetic” datasets can then be open to the public, with any potential identifying variables hidden by the randomising process[<sup>4</sup>](#f4)<a id='a4'></a>.\n",
    "\n",
    "Since computing is completely deterministic, it would be incredibly difficult for one to generate truly random data[<sup>5</sup>](#f5)<a id='a5'></a>. However, the outcome of an event appearing random to an observer might not be due to the fact multiple outcomes are possible. The outcome might instead appear random due to the observer’s ignorance. If the observer had all the relevant information about an event, they would be able to perfectly state the outcome ahead of time, but if they lack the relevant information, then other outcomes might appear equally plausible. Computers take advantage of this ignorance of the user with pseudo-random number generators (PRNGs)[<sup>6</sup>](#f6)<a id='a6'></a>. The coding is completely deterministic, but if the user lacks necessary information about how the algorithm works, then the outcome is considered random from the user’s perspective.\n",
    "\n",
    "While python has a built-in random module, a more powerful alternative is provided by NumPy’s random module. NumPy is a package that allows for fast calculations with arrays[<sup>7</sup>](#f7)<a id='a7'></a>. This feature extends to the generation of random values, where NumPy random can quickly generate not only single random values, but can also generate random arrays. As noted by Wes McKinney when discussing NumPy’s random module, “Python’s built-in random module, by contrast, only samples one value at a time… (and) numpy.random is well over an order of magnitude faster for generating very large samples”[<sup>8</sup>](#f8)<a id='a8'></a>. This makes NumPy a more powerful choice when it comes to generating larger random datasets for simulations. Many of NumPy random’s methods will now be discussed in turn. \n"
   ]
  },
  {
   "cell_type": "markdown",
   "id": "981690cc-204d-4c29-8bf4-400885a849b6",
   "metadata": {},
   "source": [
    "To use the numpy.random module, we first need to import numpy, which by convention is generally imported as np. To visualise some of the random data that will be generated, matplotlib.pyplot will also be imported to generate plots of the data. A magic command has also been added as it helps to display plot within a notebook[<sup>9</sup>](#f9)<a id='a9'></a>."
   ]
  },
  {
   "cell_type": "code",
   "execution_count": 1,
   "id": "57ab90f1",
   "metadata": {},
   "outputs": [],
   "source": [
    "# Package for numerical calculations and arrays\n",
    "import numpy as np\n",
    "\n",
    "# Generating plots\n",
    "import matplotlib.pyplot as plt\n",
    "\n",
    "# A magic command for helping display matplotlib plots in notebooks\n",
    "%matplotlib inline"
   ]
  },
  {
   "cell_type": "markdown",
   "id": "f20da043-ccd6-460d-b682-e2dc44065243",
   "metadata": {},
   "source": [
    "The numpy.random documentation recommends that before calling on any methods, that a new generator is called using the default PRNG, which can be done with the following code. The varible that points to this code will be used throughout to call on numpy.random's functions[<sup>10</sup>](#f10)<a id='a10'></a>. "
   ]
  },
  {
   "cell_type": "code",
   "execution_count": 2,
   "id": "bf3070b6-6b3a-42d6-948c-9b6c0b5c9e95",
   "metadata": {},
   "outputs": [],
   "source": [
    "# Construct a new Generator with the default BitGenerator (PCG64)\n",
    "rng = np.random.default_rng()"
   ]
  },
  {
   "cell_type": "markdown",
   "id": "32657df0-737d-451d-bba4-c06841489b33",
   "metadata": {},
   "source": [
    "The sections below will begin with the structure of the code needed to run each function, as presented in the numpy.random v1.21 documentation[<sup>10</sup>](#f10)<a id='a10'></a>. For example, the code presented for the integers function is random.Generator.integers(low, high=None, size=None, dtype=np.int64, endpoint=False). This means that to run our code we will use the variable assigned to our random generator followed by a period and the function name, then followed by parantheses which contain the arguments that we wish use. Arguments without equal signs are neccessary and must be passed, otherwise the code will not runreturn an error. Arguments with equal signs are optional. If these are not passed by the user, then numpy.random will just use default values for these arguments. "
   ]
  },
  {
   "cell_type": "markdown",
   "id": "aa5f4122",
   "metadata": {},
   "source": [
    "## **\"Simple Random Data\" Functions**<a id='h3'></a>\n",
    "---------------------------------"
   ]
  },
  {
   "cell_type": "markdown",
   "id": "b8f3f046-8101-4d85-bb49-d9ff3afd65f0",
   "metadata": {},
   "source": [
    "There are four ‘Simple Random Data’ functions for the fast generation of random data. "
   ]
  },
  {
   "cell_type": "markdown",
   "id": "f64d8a0c",
   "metadata": {},
   "source": [
    "### **integers**<a id='h4'></a>[<sup>11</sup>](#f11)<a id='a11'></a>"
   ]
  },
  {
   "cell_type": "markdown",
   "id": "664f13fd",
   "metadata": {},
   "source": [
    "random.Generator.integers(low, high=None, size=None, dtype=np.int64, endpoint=False)"
   ]
  },
  {
   "cell_type": "markdown",
   "id": "b72aeeee-05e6-4834-944f-2bc8eec4eb0b",
   "metadata": {},
   "source": [
    "The integers function is used for the generation of integers, from a single integer to entire arrays. If only a single number is passed as an argument, the function will generate an integer between 0 and the number entered, with the higher number exclusive. In the example below, as 3 is entered as the argument, the randomly generated integer will be either 0, 1, or 2. "
   ]
  },
  {
   "cell_type": "code",
   "execution_count": 3,
   "id": "524a83ff-53ce-4e71-921a-92dae47df827",
   "metadata": {},
   "outputs": [
    {
     "data": {
      "text/plain": [
       "0"
      ]
     },
     "execution_count": 3,
     "metadata": {},
     "output_type": "execute_result"
    }
   ],
   "source": [
    "# Generate a single integer.\n",
    "\n",
    "random_int = rng.integers(3)\n",
    "random_int"
   ]
  },
  {
   "cell_type": "markdown",
   "id": "aea3516c-9e15-4847-9b98-6dc5d244168a",
   "metadata": {},
   "source": [
    "If we do not enter a number, the code will not work, and will return an error message that at least one argument needs to be given."
   ]
  },
  {
   "cell_type": "code",
   "execution_count": 4,
   "id": "0059fedc-6672-48d4-83e4-6612830d7255",
   "metadata": {},
   "outputs": [
    {
     "ename": "TypeError",
     "evalue": "integers() takes at least 1 positional argument (0 given)",
     "output_type": "error",
     "traceback": [
      "\u001b[1;31m---------------------------------------------------------------------------\u001b[0m",
      "\u001b[1;31mTypeError\u001b[0m                                 Traceback (most recent call last)",
      "\u001b[1;32m<ipython-input-4-903de47dc9f0>\u001b[0m in \u001b[0;36m<module>\u001b[1;34m\u001b[0m\n\u001b[0;32m      1\u001b[0m \u001b[1;31m# This will return an error as no argumentshave been passed.\u001b[0m\u001b[1;33m\u001b[0m\u001b[1;33m\u001b[0m\u001b[1;33m\u001b[0m\u001b[0m\n\u001b[1;32m----> 2\u001b[1;33m \u001b[0mrng\u001b[0m\u001b[1;33m.\u001b[0m\u001b[0mintegers\u001b[0m\u001b[1;33m(\u001b[0m\u001b[1;33m)\u001b[0m\u001b[1;33m\u001b[0m\u001b[1;33m\u001b[0m\u001b[0m\n\u001b[0m",
      "\u001b[1;32m_generator.pyx\u001b[0m in \u001b[0;36mnumpy.random._generator.Generator.integers\u001b[1;34m()\u001b[0m\n",
      "\u001b[1;31mTypeError\u001b[0m: integers() takes at least 1 positional argument (0 given)"
     ]
    }
   ],
   "source": [
    "# This will return an error as no argumentshave been passed.\n",
    "rng.integers()"
   ]
  },
  {
   "cell_type": "markdown",
   "id": "60769269-a537-46c2-9892-e5864d6f17a0",
   "metadata": {},
   "source": [
    "We can generate more than one number by specifying the size. For the below example, entering the size as 20 will result in 20 random intergers being returned in an array."
   ]
  },
  {
   "cell_type": "code",
   "execution_count": 5,
   "id": "cbd55f05-81a8-4854-a205-63ba31997a86",
   "metadata": {},
   "outputs": [
    {
     "data": {
      "text/plain": [
       "array([2, 0, 0, 1, 0, 0, 0, 1, 1, 1, 4, 3, 4, 3, 0, 0, 4, 1, 4, 3],\n",
       "      dtype=int64)"
      ]
     },
     "execution_count": 5,
     "metadata": {},
     "output_type": "execute_result"
    }
   ],
   "source": [
    "# Generates an array of 20 random integers from 0-4 (5 not inclusive).\n",
    "rng.integers(5, size = 20)"
   ]
  },
  {
   "cell_type": "markdown",
   "id": "dcd89273-c8b6-4758-9782-2e3f302a7da5",
   "metadata": {},
   "source": [
    "It is worth noting that running the same code again will lead to a brand new array of 20 random numbers. "
   ]
  },
  {
   "cell_type": "code",
   "execution_count": 6,
   "id": "67fe8e08",
   "metadata": {},
   "outputs": [
    {
     "data": {
      "text/plain": [
       "array([3, 2, 4, 3, 0, 4, 4, 2, 2, 3, 3, 4, 0, 1, 3, 4, 0, 1, 0, 0],\n",
       "      dtype=int64)"
      ]
     },
     "execution_count": 6,
     "metadata": {},
     "output_type": "execute_result"
    }
   ],
   "source": [
    "# Generates an array of 20 random integers from 0-4 (5 not inclusive).\n",
    "random_integers2 = rng.integers(5, size = 20)\n",
    "random_integers2"
   ]
  },
  {
   "cell_type": "markdown",
   "id": "e3bda5eb-388e-44e1-9c17-256ad31be328",
   "metadata": {},
   "source": [
    "While we do not need to assign variables for the code to work, by doing so we can reuse this array further in our code should we wish to do so. However, once the session is closed and the code is rerun at a later time, a new random array will be created and stored to the variable, with the original instance lost. If we want a random array that is consistantly reproducable, this will be dealt with in the section on seeding."
   ]
  },
  {
   "cell_type": "code",
   "execution_count": 7,
   "id": "51811f8a-b8a8-4d86-86cf-d334cdaaf958",
   "metadata": {},
   "outputs": [
    {
     "data": {
      "text/plain": [
       "array([3, 2, 4, 3, 0, 4, 4, 2, 2, 3, 3, 4, 0, 1, 3, 4, 0, 1, 0, 0],\n",
       "      dtype=int64)"
      ]
     },
     "execution_count": 7,
     "metadata": {},
     "output_type": "execute_result"
    }
   ],
   "source": [
    "# Recalling the variable to see the randomly generated array produced earlier\n",
    "random_integers2"
   ]
  },
  {
   "cell_type": "markdown",
   "id": "373cc3bb-d392-450e-9a53-6e77f43791af",
   "metadata": {},
   "source": [
    "We can specify the lowest and highest random numbers that can be selected. In this instance the lowest number is 10, which is inclusive. High being 25 means 24 is the highest number, as high is exclusive. We can also create a multidimensional array by specifying the size. In this instance size=(2,4) returns a 2x4 array"
   ]
  },
  {
   "cell_type": "code",
   "execution_count": 8,
   "id": "9be7070c",
   "metadata": {},
   "outputs": [
    {
     "data": {
      "text/plain": [
       "array([[18, 22, 15, 23],\n",
       "       [19, 15, 18, 24]], dtype=int64)"
      ]
     },
     "execution_count": 8,
     "metadata": {},
     "output_type": "execute_result"
    }
   ],
   "source": [
    "# Generate a random 2x4 array of numbers between 10 and 24.\n",
    "rng.integers(low=10, high=25, size=(2,4))"
   ]
  },
  {
   "cell_type": "markdown",
   "id": "9ed298d1",
   "metadata": {},
   "source": [
    "### **random**<a id='h5'></a>[<sup>12</sup>](#f12)<a id='a12'></a>"
   ]
  },
  {
   "cell_type": "markdown",
   "id": "43aef6de",
   "metadata": {},
   "source": [
    "random.Generator.random(size=None, dtype=np.float64, out=None)"
   ]
  },
  {
   "cell_type": "markdown",
   "id": "4ccf4625-84bb-426d-9992-1f750726fdc1",
   "metadata": {},
   "source": [
    "The random function is used to return floating point numbers between 0.0 and 1.0."
   ]
  },
  {
   "cell_type": "markdown",
   "id": "45195ad6-7e4d-4d0c-8c66-f3292b41d591",
   "metadata": {},
   "source": [
    "Unlike with the integers function, random will work without passing an argument. If we do this, it will return a single floating point value betweeen 0.0 and 1.0."
   ]
  },
  {
   "cell_type": "code",
   "execution_count": 9,
   "id": "a430790b-6ffa-4459-886f-6efb5a388c4e",
   "metadata": {},
   "outputs": [
    {
     "data": {
      "text/plain": [
       "0.17235152342509907"
      ]
     },
     "execution_count": 9,
     "metadata": {},
     "output_type": "execute_result"
    }
   ],
   "source": [
    "# Generate a single random float between 0.0 and 1.0.\n",
    "rng.random()"
   ]
  },
  {
   "cell_type": "markdown",
   "id": "7f3c57ce-1cfa-4e79-b131-9ba5ec0f991d",
   "metadata": {},
   "source": [
    "If we need more than one random float, we can do this by specifying the size to the amount of random numbers we would like returned."
   ]
  },
  {
   "cell_type": "code",
   "execution_count": 10,
   "id": "5137a780-c968-4814-b3a5-aa0cc8f399e7",
   "metadata": {},
   "outputs": [
    {
     "data": {
      "text/plain": [
       "array([0.85267539, 0.60100384, 0.06951765, 0.63235349, 0.77712563,\n",
       "       0.90427084, 0.75677922, 0.72784505, 0.47505238, 0.16572083,\n",
       "       0.65854919, 0.64339797, 0.5679764 , 0.54285944, 0.67698834,\n",
       "       0.25261703, 0.67001378, 0.99381223, 0.6292108 , 0.25982883])"
      ]
     },
     "execution_count": 10,
     "metadata": {},
     "output_type": "execute_result"
    }
   ],
   "source": [
    "# Returns 20 random floats between 0.0 and 1.0\n",
    "rng.random(size = 20)"
   ]
  },
  {
   "cell_type": "markdown",
   "id": "285b8380-8ae6-4f1d-86e3-354cf39962cc",
   "metadata": {},
   "source": [
    "Multidimensional arrays can be generated by adding more than one value to the size argument in parentheses."
   ]
  },
  {
   "cell_type": "code",
   "execution_count": 11,
   "id": "2d4e89b7",
   "metadata": {},
   "outputs": [
    {
     "data": {
      "text/plain": [
       "array([[0.14748144, 0.33531165, 0.2988863 , 0.00535945, 0.43009991],\n",
       "       [0.06934395, 0.66222174, 0.11273308, 0.87376167, 0.46359345],\n",
       "       [0.02723389, 0.23391636, 0.08787089, 0.6132655 , 0.16177505]])"
      ]
     },
     "execution_count": 11,
     "metadata": {},
     "output_type": "execute_result"
    }
   ],
   "source": [
    "# Create 3 random arrays of 5 floats between 0.0 and 1.0\n",
    "rng.random(size = (3, 5))"
   ]
  },
  {
   "cell_type": "markdown",
   "id": "28b61d21-7d5d-4e97-a847-59e0b48ec2c1",
   "metadata": {},
   "source": [
    "Since the power of NumPy is in fast calculations with arrays, we can take advantage of this to create random arrays of values greater than 1.0. The example below multiplies the randomly generated floats by 10 before returning the array to us."
   ]
  },
  {
   "cell_type": "code",
   "execution_count": 12,
   "id": "0f2379e9",
   "metadata": {},
   "outputs": [
    {
     "data": {
      "text/plain": [
       "array([9.96754782, 7.36313575, 6.68872923, 9.15660636, 4.63725072])"
      ]
     },
     "execution_count": 12,
     "metadata": {},
     "output_type": "execute_result"
    }
   ],
   "source": [
    "# Multiplying a randomly created array of floats by 10.\n",
    "10 * rng.random(size = 5)"
   ]
  },
  {
   "cell_type": "markdown",
   "id": "61f94151",
   "metadata": {},
   "source": [
    "### **choice**<a id='h6'></a>[<sup>13</sup>](#f13)<a id='a13'></a>"
   ]
  },
  {
   "cell_type": "markdown",
   "id": "c016e084",
   "metadata": {},
   "source": [
    "random.Generator.choice(a, size=None, replace=True, p=None, axis=0, shuffle=True)"
   ]
  },
  {
   "cell_type": "markdown",
   "id": "c987ff77-5516-4dcc-8e85-4be242bebe42",
   "metadata": {},
   "source": [
    "The choice function takes an array as an argument, and returns random values from that array to the user based on the parameters passed in by the user. Entering a single integer as an arguments means choice will select a random integer in the range of numbers from 0 up to the entered number."
   ]
  },
  {
   "cell_type": "code",
   "execution_count": 13,
   "id": "cca00237-f499-4b03-8504-0367d08c28c0",
   "metadata": {},
   "outputs": [
    {
     "data": {
      "text/plain": [
       "2"
      ]
     },
     "execution_count": 13,
     "metadata": {},
     "output_type": "execute_result"
    }
   ],
   "source": [
    "# Chooses a random number between 0 and 5 to return to the user\n",
    "rng.choice(5)"
   ]
  },
  {
   "cell_type": "markdown",
   "id": "597377af-064c-4be6-9de7-700b7ea73d9b",
   "metadata": {},
   "source": [
    "We can ask choice to return more values by specifying them alongside the initial number. In the below example, (10,3) means the cdode will return 3 numbers between 0 and 10. "
   ]
  },
  {
   "cell_type": "code",
   "execution_count": 14,
   "id": "3681bd76",
   "metadata": {},
   "outputs": [
    {
     "data": {
      "text/plain": [
       "array([9, 5, 8], dtype=int64)"
      ]
     },
     "execution_count": 14,
     "metadata": {},
     "output_type": "execute_result"
    }
   ],
   "source": [
    "# Takes 10 as an input and then selects 3 random ints up to 10\n",
    "rng.choice(10, 3)"
   ]
  },
  {
   "cell_type": "markdown",
   "id": "121e5a76-a584-4b39-8443-c43ff0e64052",
   "metadata": {},
   "source": [
    "In the above examples, the exact same outcome can be achieved by using the integers function. The below examples show where choice differs. For example, we can pass in a list of strings and ask choice to return a random item from that list to us. If we have a list of colours, and then pass that list as an argument using choice, we will get one colour randomly returned. "
   ]
  },
  {
   "cell_type": "code",
   "execution_count": 15,
   "id": "6adfb758",
   "metadata": {},
   "outputs": [
    {
     "data": {
      "text/plain": [
       "'green'"
      ]
     },
     "execution_count": 15,
     "metadata": {},
     "output_type": "execute_result"
    }
   ],
   "source": [
    "# A list of colours\n",
    "colours = [\"red\", \"blue\", \"green\", \"black\", \"yellow\"]\n",
    "\n",
    "# Using choice to randomly pick a colour\n",
    "rng.choice(colours)"
   ]
  },
  {
   "cell_type": "markdown",
   "id": "29dc07ee-37ef-459d-852f-689a827af73b",
   "metadata": {},
   "source": [
    "We can again get more than one value returned by specifying the size. By default, when selecting multiple items from a list, choice will replace the item chosen each time. That is to say, if we have 5 items in a list and choice picks one, the chosen item will be returned to the list where it can potentially be chosen again. If we don't want this to happen, we can set replacement to false. This means that when something is randomly chosen from our 5 item list, the chosen item will not be returned and cannot be selected again, meaning only one of the remaining 4 items from the list can be chosen. "
   ]
  },
  {
   "cell_type": "code",
   "execution_count": 16,
   "id": "f0ea7bc4-8197-4b65-a614-9a12bd64c13b",
   "metadata": {},
   "outputs": [
    {
     "data": {
      "text/plain": [
       "array(['green', 'black', 'red'], dtype='<U6')"
      ]
     },
     "execution_count": 16,
     "metadata": {},
     "output_type": "execute_result"
    }
   ],
   "source": [
    "# Selecting 3 random colours without replacement. \n",
    "rng.choice(colours, size= 3, replace=False)"
   ]
  },
  {
   "cell_type": "markdown",
   "id": "008f38c8-ecc3-4ded-9d57-bd0e425a986b",
   "metadata": {},
   "source": [
    "We can add probabilitys to bias the outcome chosen in certain directions. With our list of colors, we can bias the outcome by adding an array of values with the same amount of values as there are items in our list, which in this instance is 5. The values of p should add to 1. With the last value being the highest at 0., this means the last item in our list (yellow), is more likely to be randomly chosen, followed by black with a value of 0.3. The remaining items may still be chosen, but will not be chosen as frquently were the code run multiple times. "
   ]
  },
  {
   "cell_type": "code",
   "execution_count": 17,
   "id": "b0cd33c4",
   "metadata": {},
   "outputs": [
    {
     "data": {
      "text/plain": [
       "array(['yellow', 'yellow'], dtype='<U6')"
      ]
     },
     "execution_count": 17,
     "metadata": {},
     "output_type": "execute_result"
    }
   ],
   "source": [
    "# Select two colours randomly with replacement and a biased outcome\n",
    "rng.choice(colours, size=2, p = np.array([0.1, 0.1, 0.1, 0.3, 0.4]))"
   ]
  },
  {
   "cell_type": "markdown",
   "id": "27b13d59",
   "metadata": {},
   "source": [
    "### **bytes**<a id='h7'></a>[<sup>14</sup>](#f14)<a id='a14'></a>"
   ]
  },
  {
   "cell_type": "markdown",
   "id": "414bd523",
   "metadata": {},
   "source": [
    "random.Generator.bytes(length)"
   ]
  },
  {
   "cell_type": "markdown",
   "id": "27200812-348c-4e22-a0a2-b1ef5889c95f",
   "metadata": {},
   "source": [
    "The bytes function only takes a single argument, and returns random bytes of the length passed. Random byte generation can be used in cryptography. However, PRNGs should not be used for security or cryptography purposes as they are not secure enough for this purpose.[<sup>15</sup>](#f15)<a id='a15'></a>."
   ]
  },
  {
   "cell_type": "code",
   "execution_count": 18,
   "id": "de2cc869",
   "metadata": {},
   "outputs": [
    {
     "data": {
      "text/plain": [
       "b'\\x84\\xcfq\\x00W'"
      ]
     },
     "execution_count": 18,
     "metadata": {},
     "output_type": "execute_result"
    }
   ],
   "source": [
    "# Return 5 random bytes\n",
    "rng.bytes(5)"
   ]
  },
  {
   "cell_type": "markdown",
   "id": "3607c364",
   "metadata": {},
   "source": [
    "## **\"Permutations\" functions**<a id='h8'></a>\n",
    "---"
   ]
  },
  {
   "cell_type": "markdown",
   "id": "78b6fa81-f64e-40a2-bf42-5bbecf803bcd",
   "metadata": {},
   "source": [
    "The three Permutation methods can all be used for the random rearranging of items within an array."
   ]
  },
  {
   "cell_type": "markdown",
   "id": "02af79ca",
   "metadata": {},
   "source": [
    "### **shuffle**<a id='h9'></a>[<sup>16</sup>](#f16)<a id='a16'></a>"
   ]
  },
  {
   "cell_type": "markdown",
   "id": "7d40d4c6",
   "metadata": {},
   "source": [
    "random.Generator.shuffle(x, axis=0)"
   ]
  },
  {
   "cell_type": "markdown",
   "id": "ebab81a3-2d14-49ff-975f-4f052c9133c9",
   "metadata": {},
   "source": [
    "The shuffle function takes in an a sequence or an array and returns everything in a new random order. Below we will create a variable containing the integers from 0-9 that we will then shuffle."
   ]
  },
  {
   "cell_type": "code",
   "execution_count": 19,
   "id": "bb7493e9",
   "metadata": {},
   "outputs": [
    {
     "data": {
      "text/plain": [
       "array([0, 1, 2, 3, 4, 5, 6, 7, 8, 9])"
      ]
     },
     "execution_count": 19,
     "metadata": {},
     "output_type": "execute_result"
    }
   ],
   "source": [
    "# Assign the range 0-9 (10 not inclusive) to the variable digits\n",
    "digits = np.arange(10)\n",
    "digits"
   ]
  },
  {
   "cell_type": "code",
   "execution_count": 20,
   "id": "a8dc1311-c236-45c3-a819-6727e2d80a28",
   "metadata": {},
   "outputs": [],
   "source": [
    "# Shuffle the array digits\n",
    "rng.shuffle(digits)"
   ]
  },
  {
   "cell_type": "markdown",
   "id": "c2be99a9-5ced-41c4-8bc0-fb4804f56def",
   "metadata": {},
   "source": [
    "Of note is that the shuffle function will alter the order of an array in place, which changes the contents of a variable. This means in this instance that the variable digits will no longer point to the array ([0, 1, 2, 3, 4, 5, 6, 7, 8, 9]). Rather, it will return the order they were shuffled into."
   ]
  },
  {
   "cell_type": "code",
   "execution_count": 21,
   "id": "08e9417d",
   "metadata": {},
   "outputs": [
    {
     "data": {
      "text/plain": [
       "array([4, 3, 5, 8, 0, 7, 2, 6, 9, 1])"
      ]
     },
     "execution_count": 21,
     "metadata": {},
     "output_type": "execute_result"
    }
   ],
   "source": [
    "# Returnn the shuffled array\n",
    "digits"
   ]
  },
  {
   "cell_type": "markdown",
   "id": "d08c2f7d-1b66-4880-9675-f2024da2f700",
   "metadata": {},
   "source": [
    "Shuffle can also be used to randomly reorder a list containing strings. "
   ]
  },
  {
   "cell_type": "code",
   "execution_count": 22,
   "id": "2687ab4c",
   "metadata": {},
   "outputs": [
    {
     "data": {
      "text/plain": [
       "['one', 'two', 'three', 'four', 'five', 'six', 'seven', 'eight', 'nine']"
      ]
     },
     "execution_count": 22,
     "metadata": {},
     "output_type": "execute_result"
    }
   ],
   "source": [
    "# Create a list of strings for the digits 0-9\n",
    "string_digits = [\"one\", \"two\", \"three\", \"four\", \"five\", \"six\", \"seven\", \"eight\", \"nine\"]\n",
    "string_digits"
   ]
  },
  {
   "cell_type": "code",
   "execution_count": 23,
   "id": "8569804c",
   "metadata": {},
   "outputs": [
    {
     "data": {
      "text/plain": [
       "['eight', 'five', 'nine', 'seven', 'four', 'one', 'two', 'six', 'three']"
      ]
     },
     "execution_count": 23,
     "metadata": {},
     "output_type": "execute_result"
    }
   ],
   "source": [
    "# Shuffle the list of strings and return it\n",
    "rng.shuffle(string_digits)\n",
    "string_digits"
   ]
  },
  {
   "cell_type": "markdown",
   "id": "b6d8cf5e-c0b7-4700-b3ad-f80596f00648",
   "metadata": {},
   "source": [
    "Shuffle can also be used to randomly reorder arrays, but it should be noted that the reordering will only take place along one dimension at a time. This means that shuffle can change the order of a row or a column, but it will not shuffle an item to both a new row and a new column at the same time."
   ]
  },
  {
   "cell_type": "code",
   "execution_count": 24,
   "id": "ca3d6b3e",
   "metadata": {},
   "outputs": [
    {
     "data": {
      "text/plain": [
       "array([[0, 1, 2],\n",
       "       [3, 4, 5],\n",
       "       [6, 7, 8]])"
      ]
     },
     "execution_count": 24,
     "metadata": {},
     "output_type": "execute_result"
    }
   ],
   "source": [
    "# Create a 3x3 array containing 0-8\n",
    "three_by_three = np.arange(9).reshape(3, 3)\n",
    "three_by_three"
   ]
  },
  {
   "cell_type": "markdown",
   "id": "fb4ce414-e306-4618-9812-25980f0f6ed5",
   "metadata": {},
   "source": [
    "By default, using shuffle on an array will rearrange the position of rows but will leave the items from each row in the original order"
   ]
  },
  {
   "cell_type": "code",
   "execution_count": 25,
   "id": "7d0f3b86",
   "metadata": {},
   "outputs": [
    {
     "data": {
      "text/plain": [
       "array([[0, 1, 2],\n",
       "       [3, 4, 5],\n",
       "       [6, 7, 8]])"
      ]
     },
     "execution_count": 25,
     "metadata": {},
     "output_type": "execute_result"
    }
   ],
   "source": [
    "rng.shuffle(three_by_three)\n",
    "three_by_three"
   ]
  },
  {
   "cell_type": "markdown",
   "id": "46c70c71-1348-4f05-95ee-09bb5be95833",
   "metadata": {},
   "source": [
    "However, if we set the axis to 1 as an argument, shuffle will instead change the order of the columns rather than rows."
   ]
  },
  {
   "cell_type": "code",
   "execution_count": 26,
   "id": "e48d6e67",
   "metadata": {},
   "outputs": [
    {
     "data": {
      "text/plain": [
       "array([[5, 4, 5, 6, 6],\n",
       "       [4, 5, 4, 3, 1],\n",
       "       [2, 1, 2, 6, 2],\n",
       "       [3, 1, 3, 3, 4],\n",
       "       [1, 5, 6, 5, 6]], dtype=int64)"
      ]
     },
     "execution_count": 26,
     "metadata": {},
     "output_type": "execute_result"
    }
   ],
   "source": [
    "# Generating a random 5x5 array\n",
    "five_by_five = rng.integers(low=1, high=7, size = (5,5))\n",
    "five_by_five"
   ]
  },
  {
   "cell_type": "code",
   "execution_count": 27,
   "id": "140f3eb8",
   "metadata": {},
   "outputs": [
    {
     "data": {
      "text/plain": [
       "array([[6, 5, 6, 4, 5],\n",
       "       [1, 4, 3, 5, 4],\n",
       "       [2, 2, 6, 1, 2],\n",
       "       [4, 3, 3, 1, 3],\n",
       "       [6, 6, 5, 5, 1]], dtype=int64)"
      ]
     },
     "execution_count": 27,
     "metadata": {},
     "output_type": "execute_result"
    }
   ],
   "source": [
    "# Randomly shuffle the order of the 5x5's columns\n",
    "rng.shuffle(five_by_five, axis=1)\n",
    "five_by_five"
   ]
  },
  {
   "cell_type": "markdown",
   "id": "fa6c3926",
   "metadata": {},
   "source": [
    "### **permutation**<a id='h10'></a>[<sup>17</sup>](#f17)<a id='a17'></a>"
   ]
  },
  {
   "cell_type": "markdown",
   "id": "20ab72a1",
   "metadata": {},
   "source": [
    "random.Generator.permutation(x, axis=0)"
   ]
  },
  {
   "cell_type": "markdown",
   "id": "2e6a46e1-eeaa-4a08-bb69-d7a906b88c03",
   "metadata": {},
   "source": [
    "The permutation function will also return the entire contents of an array or list that has been passed to it in a new random order, but unlike shuffle, permutation will leave the original array intact and unchanged."
   ]
  },
  {
   "cell_type": "code",
   "execution_count": 28,
   "id": "4df04e33",
   "metadata": {},
   "outputs": [
    {
     "data": {
      "text/plain": [
       "array([0, 1, 2, 3, 4, 5, 6, 7, 8, 9])"
      ]
     },
     "execution_count": 28,
     "metadata": {},
     "output_type": "execute_result"
    }
   ],
   "source": [
    "# Assign the range 0-9 (10 not inclusive) to the variable digits2\n",
    "digits2 = np.arange(10)\n",
    "digits2"
   ]
  },
  {
   "cell_type": "code",
   "execution_count": 29,
   "id": "ae578d95",
   "metadata": {},
   "outputs": [
    {
     "data": {
      "text/plain": [
       "array([9, 5, 4, 3, 7, 1, 6, 2, 8, 0])"
      ]
     },
     "execution_count": 29,
     "metadata": {},
     "output_type": "execute_result"
    }
   ],
   "source": [
    "# Return the digits list in a new, random order\n",
    "rng.permutation(digits2)"
   ]
  },
  {
   "cell_type": "code",
   "execution_count": 30,
   "id": "68082ad8",
   "metadata": {},
   "outputs": [
    {
     "data": {
      "text/plain": [
       "array([0, 1, 2, 3, 4, 5, 6, 7, 8, 9])"
      ]
     },
     "execution_count": 30,
     "metadata": {},
     "output_type": "execute_result"
    }
   ],
   "source": [
    "# The original order of the variable digits2 is unchanged\n",
    "digits2"
   ]
  },
  {
   "cell_type": "markdown",
   "id": "1dc2886a-c26e-48db-a7f5-9373d9c52681",
   "metadata": {},
   "source": [
    "By default, permutation will rearrange multidimensional arrays in a similar manner to shuffle - it will move entire rows to a new position, but leave the order within each row unchanged."
   ]
  },
  {
   "cell_type": "code",
   "execution_count": 31,
   "id": "1d77197f",
   "metadata": {},
   "outputs": [
    {
     "data": {
      "text/plain": [
       "array([[ 0,  1,  2,  3,  4,  5],\n",
       "       [ 6,  7,  8,  9, 10, 11],\n",
       "       [12, 13, 14, 15, 16, 17],\n",
       "       [18, 19, 20, 21, 22, 23],\n",
       "       [24, 25, 26, 27, 28, 29],\n",
       "       [30, 31, 32, 33, 34, 35]])"
      ]
     },
     "execution_count": 31,
     "metadata": {},
     "output_type": "execute_result"
    }
   ],
   "source": [
    "# A 6x6 array\n",
    "six_by_six = np.arange(36).reshape(6,6)\n",
    "six_by_six"
   ]
  },
  {
   "cell_type": "code",
   "execution_count": 32,
   "id": "59d2e80d-dd99-41ed-af2d-6ffeea3adf82",
   "metadata": {},
   "outputs": [
    {
     "data": {
      "text/plain": [
       "array([[18, 19, 20, 21, 22, 23],\n",
       "       [24, 25, 26, 27, 28, 29],\n",
       "       [ 6,  7,  8,  9, 10, 11],\n",
       "       [30, 31, 32, 33, 34, 35],\n",
       "       [ 0,  1,  2,  3,  4,  5],\n",
       "       [12, 13, 14, 15, 16, 17]])"
      ]
     },
     "execution_count": 32,
     "metadata": {},
     "output_type": "execute_result"
    }
   ],
   "source": [
    "# Randomly reorder the 6x6 array with permutation.\n",
    "rng.permutation(six_by_six)"
   ]
  },
  {
   "cell_type": "markdown",
   "id": "1143d5e2-7711-4e4c-9715-662dd8787876",
   "metadata": {},
   "source": [
    "Permutation performs different to shuffle when axis is set to 1, however. While setiing to axis to 1 when using shuffle would move entre columns, in permutation it will instead shuffle the contents within each row, but leave each row in its original position. "
   ]
  },
  {
   "cell_type": "code",
   "execution_count": 33,
   "id": "c6a4e56c-6e06-49a3-bddb-676db6dd2d40",
   "metadata": {},
   "outputs": [
    {
     "data": {
      "text/plain": [
       "array([[ 1,  3,  2,  5,  4,  0],\n",
       "       [ 7,  9,  8, 11, 10,  6],\n",
       "       [13, 15, 14, 17, 16, 12],\n",
       "       [19, 21, 20, 23, 22, 18],\n",
       "       [25, 27, 26, 29, 28, 24],\n",
       "       [31, 33, 32, 35, 34, 30]])"
      ]
     },
     "execution_count": 33,
     "metadata": {},
     "output_type": "execute_result"
    }
   ],
   "source": [
    "# Shuffle the order of the contents of each row in the 6x6 array\n",
    "rng.permutation(six_by_six, axis=1)"
   ]
  },
  {
   "cell_type": "markdown",
   "id": "d30b4142",
   "metadata": {},
   "source": [
    "### **permuted**<a id='h11'></a>[<sup>18</sup>](#f18)<a id='a18'></a>"
   ]
  },
  {
   "cell_type": "markdown",
   "id": "7b58c3be",
   "metadata": {},
   "source": [
    "random.Generator.permuted(x, axis=None, out=None)"
   ]
  },
  {
   "cell_type": "markdown",
   "id": "d4ad41ae-44e3-4a3f-96a4-7d6621161f81",
   "metadata": {},
   "source": [
    "The permuted function is a more recent addition, as of numpy 1.20[<sup>19</sup>](#f19)<a id='a19'></a>. Permuted is more flexible than either shuffle or permutation. It can be used to rearrange content in-place, like with shuffle, or create a new rearranged copy, like with permutation. By only passing in an array, permuted will leave the original array intact, as permutations does."
   ]
  },
  {
   "cell_type": "code",
   "execution_count": 34,
   "id": "2ceaac73",
   "metadata": {},
   "outputs": [
    {
     "data": {
      "text/plain": [
       "array([[ -9,  -3, -10, -15],\n",
       "       [ -6,  -8, -13, -15],\n",
       "       [-12, -12, -19,  -3],\n",
       "       [-20, -19,  -2,  -9]], dtype=int64)"
      ]
     },
     "execution_count": 34,
     "metadata": {},
     "output_type": "execute_result"
    }
   ],
   "source": [
    "# Generate a random 4x4 array.\n",
    "# Negative random numbers can also be generated.\n",
    "four_by_four = rng.integers(low=-20, high=-1, size = (4,4))\n",
    "four_by_four"
   ]
  },
  {
   "cell_type": "code",
   "execution_count": 35,
   "id": "fa79a853-8a61-49e5-bf5f-b16e1d8ae83b",
   "metadata": {},
   "outputs": [
    {
     "data": {
      "text/plain": [
       "array([[-12, -10,  -6,  -3],\n",
       "       [-13, -19,  -9, -20],\n",
       "       [ -2,  -8, -12,  -3],\n",
       "       [-19, -15,  -9, -15]], dtype=int64)"
      ]
     },
     "execution_count": 35,
     "metadata": {},
     "output_type": "execute_result"
    }
   ],
   "source": [
    "# Reorder the 4x4 array.\n",
    "rng.permuted(four_by_four)"
   ]
  },
  {
   "cell_type": "code",
   "execution_count": 36,
   "id": "be3b9857-825a-4aa5-9d99-affb2d763b37",
   "metadata": {},
   "outputs": [
    {
     "data": {
      "text/plain": [
       "array([[ -9,  -3, -10, -15],\n",
       "       [ -6,  -8, -13, -15],\n",
       "       [-12, -12, -19,  -3],\n",
       "       [-20, -19,  -2,  -9]], dtype=int64)"
      ]
     },
     "execution_count": 36,
     "metadata": {},
     "output_type": "execute_result"
    }
   ],
   "source": [
    "# Calling 4x4 to show the original is unchanged.\n",
    "four_by_four"
   ]
  },
  {
   "cell_type": "markdown",
   "id": "fa57ac48-b092-410a-ad68-1dda91007e3b",
   "metadata": {},
   "source": [
    "We can compare and contrast shuffle, permutation, and permuted further by reusing the 3x3 array example from before."
   ]
  },
  {
   "cell_type": "code",
   "execution_count": 37,
   "id": "ca998195-44f7-4996-b55b-710727b02533",
   "metadata": {},
   "outputs": [
    {
     "data": {
      "text/plain": [
       "array([[0, 1, 2],\n",
       "       [3, 4, 5],\n",
       "       [6, 7, 8]])"
      ]
     },
     "execution_count": 37,
     "metadata": {},
     "output_type": "execute_result"
    }
   ],
   "source": [
    "# The 3x3 array of 0-9 that was randomly reordered using shuffle.\n",
    "three_by_three"
   ]
  },
  {
   "cell_type": "markdown",
   "id": "c113a323-e4d3-4d49-b52b-fc1a0cff4daa",
   "metadata": {},
   "source": [
    "Permuted will shuffle the values within each row, but leave the rows in place if we set axis to 1. This is similar to using permutation with axis set to 1"
   ]
  },
  {
   "cell_type": "code",
   "execution_count": 38,
   "id": "86c28e41",
   "metadata": {},
   "outputs": [
    {
     "data": {
      "text/plain": [
       "array([[1, 0, 2],\n",
       "       [4, 3, 5],\n",
       "       [7, 6, 8]])"
      ]
     },
     "execution_count": 38,
     "metadata": {},
     "output_type": "execute_result"
    }
   ],
   "source": [
    "# Use permuted to reorder the 3x3 array.\n",
    "permuted_three_by_three = rng.permuted(three_by_three, axis=1)\n",
    "permuted_three_by_three"
   ]
  },
  {
   "cell_type": "markdown",
   "id": "c3676161-20eb-44a8-8174-430982097913",
   "metadata": {},
   "source": [
    "Permuted returned a copy, leaving the original array reordered by shuffle unchanged"
   ]
  },
  {
   "cell_type": "code",
   "execution_count": 39,
   "id": "7b16a934",
   "metadata": {},
   "outputs": [
    {
     "data": {
      "text/plain": [
       "array([[0, 1, 2],\n",
       "       [3, 4, 5],\n",
       "       [6, 7, 8]])"
      ]
     },
     "execution_count": 39,
     "metadata": {},
     "output_type": "execute_result"
    }
   ],
   "source": [
    "# Recalling the shuffled 3x3 array\n",
    "three_by_three"
   ]
  },
  {
   "cell_type": "markdown",
   "id": "1f0c9a11-6ed0-44b4-ab9a-a45c60b83593",
   "metadata": {},
   "source": [
    "However, we can use permuted to overwrite the original array by passing the variable of the original array as an argument using out. If we don't pass in an axis argument, then the output withh be rearranged across both columns and rows, which neither shuffle nor permutation can do."
   ]
  },
  {
   "cell_type": "code",
   "execution_count": 40,
   "id": "1813c670",
   "metadata": {},
   "outputs": [],
   "source": [
    "# Using permuted to change the content of the original 3x3 array\n",
    "permuted_three_by_three = rng.permuted(three_by_three, out=three_by_three)"
   ]
  },
  {
   "cell_type": "markdown",
   "id": "146a9b3b-bb2c-459b-bf6f-27d36c58fc38",
   "metadata": {},
   "source": [
    "We can show that the new permuted 3x3 array and the original now have the same content."
   ]
  },
  {
   "cell_type": "code",
   "execution_count": 41,
   "id": "0178db52",
   "metadata": {},
   "outputs": [
    {
     "data": {
      "text/plain": [
       "array([[7, 0, 6],\n",
       "       [1, 5, 4],\n",
       "       [2, 8, 3]])"
      ]
     },
     "execution_count": 41,
     "metadata": {},
     "output_type": "execute_result"
    }
   ],
   "source": [
    "# Calling the 3x3 array\n",
    "three_by_three"
   ]
  },
  {
   "cell_type": "code",
   "execution_count": 42,
   "id": "84e743db",
   "metadata": {},
   "outputs": [
    {
     "data": {
      "text/plain": [
       "array([[7, 0, 6],\n",
       "       [1, 5, 4],\n",
       "       [2, 8, 3]])"
      ]
     },
     "execution_count": 42,
     "metadata": {},
     "output_type": "execute_result"
    }
   ],
   "source": [
    "# Calling the permuted 3x3 array\n",
    "permuted_three_by_three"
   ]
  },
  {
   "cell_type": "code",
   "execution_count": 43,
   "id": "36de1af1",
   "metadata": {},
   "outputs": [
    {
     "data": {
      "text/plain": [
       "True"
      ]
     },
     "execution_count": 43,
     "metadata": {},
     "output_type": "execute_result"
    }
   ],
   "source": [
    "# Show that the two 3x3 arrays have the same content\n",
    "three_by_three is permuted_three_by_three"
   ]
  },
  {
   "cell_type": "markdown",
   "id": "f666d67b",
   "metadata": {},
   "source": [
    "## **Distributions**<a id='h12'></a>\n",
    "---"
   ]
  },
  {
   "cell_type": "markdown",
   "id": "bcd75325-eca1-40d6-8a20-84ae1d1d93df",
   "metadata": {},
   "source": [
    "A probability distribution shows us the likelihood of different possible occurrences for an event[<sup>20</sup>](#f20)<a id='a20'></a>. The probability distribution most relevant to our needs depends on the type of data we’re working with and the expected outcomes. There are times when you have a particular type of data in mind that follows a particular probability distribution that you want to simulate, and to that end NumPy allows you to generate data that matches the parameters of different probability distributions. The section below looks at five of these distributions."
   ]
  },
  {
   "cell_type": "markdown",
   "id": "84f4663f",
   "metadata": {},
   "source": [
    "### **binomial**<a id='h13'></a>[<sup>21</sup>](#f21)<a id='a21'></a>"
   ]
  },
  {
   "cell_type": "markdown",
   "id": "bb170eff",
   "metadata": {},
   "source": [
    "random.Generator.binomial(n, p, size=None)"
   ]
  },
  {
   "cell_type": "markdown",
   "id": "3ab1ce7c-6e8d-4da0-9254-565dd5f54cba",
   "metadata": {},
   "source": [
    "A binomial distribution tracks trials and records a binary success/failure outcome of trials[<sup>22</sup>](#f22)<a id='a22'></a>. An everyday example of this would be flipping a coin with different faces. The coin can land either head up or tails up. We can use the binomial function to quickly simulate a randomm binomial distrution for events such as coin flips. To do this we need to include two arguments. The first is n, which is the number of trials we want simulated. In this instance, there will be 20 trials, simply meaning there will be 20 simulated coin flips, and then we will receive an output as to the number of heads that were observed. The second is p, which is the probability of success. This must be between 0 and 1. A fair coin has a probability of 0.5, as the coin has an equal chance of landing heads up or tails up. Other binomial observations might have one outcome more likely or more rare than the other. An example of this might be observing the number of penalties scored vs penalties missed in soccer, which should be weighted around 0.7549 in favour of penalties scored[<sup>23</sup>](#f23)<a id='a23'></a>. We can finally specify a size, which is how many times the trial is repeated. By setting the size to 100, that means the process of 20 coin flips will be repeated 100 times, giving a total of 2000 coin flips in the simulation. "
   ]
  },
  {
   "cell_type": "code",
   "execution_count": 44,
   "id": "b0fe52f3",
   "metadata": {},
   "outputs": [],
   "source": [
    "# Setting the number of trials\n",
    "n = 20\n",
    "\n",
    "# Setting the probablity of success \n",
    "p = 0.5"
   ]
  },
  {
   "cell_type": "code",
   "execution_count": 45,
   "id": "4c653457",
   "metadata": {},
   "outputs": [],
   "source": [
    "# Generating a random binomial distribution\n",
    "\n",
    "coin_flip = rng.binomial(n, p, size=100)"
   ]
  },
  {
   "cell_type": "markdown",
   "id": "7e943570-7ed8-4a03-9f02-32cb3d939084",
   "metadata": {},
   "source": [
    "We can take the resulting array as giving us the number of heads after every 20 coin flips"
   ]
  },
  {
   "cell_type": "code",
   "execution_count": 46,
   "id": "13222970",
   "metadata": {},
   "outputs": [
    {
     "data": {
      "text/plain": [
       "array([ 9, 10, 13, 11, 11, 10,  6,  9, 12, 12, 11, 12,  9, 11, 10,  6, 10,\n",
       "       10, 11,  6, 10, 13,  6,  9,  9, 11, 10, 12, 10, 10,  8, 11, 14,  9,\n",
       "        7,  8, 10, 11, 15, 11, 11, 11,  8, 11, 10, 12, 11, 11,  8, 10, 12,\n",
       "        9, 10, 12, 11, 10,  8,  7,  7,  8,  8, 13, 12, 11,  9, 11, 10, 11,\n",
       "        8,  9,  8,  6, 15, 10, 11, 11, 10,  7, 13, 11,  8, 14,  9, 11, 11,\n",
       "        7,  8,  7, 10, 10, 10, 11, 10,  9, 10, 13, 11, 10,  9,  7],\n",
       "      dtype=int64)"
      ]
     },
     "execution_count": 46,
     "metadata": {},
     "output_type": "execute_result"
    }
   ],
   "source": [
    "# View the randomly generated array\n",
    "coin_flip"
   ]
  },
  {
   "cell_type": "markdown",
   "id": "3a38f987-57c7-4b50-bc4c-be7603074ae4",
   "metadata": {},
   "source": [
    "We can plot the distribution to visualise the generated data. We should expect that the most common outcomes will be close to 10, and that lower and higer outcomes were incresingly unlikely. The output won't be exactly the same every time the code is run, but we should see a similar pattern which makes sense as we should expect a coin to land heads or tails 10 times each after 20 tosses, but we should also expect there will be rarer occasions when one value appeared much more common than the other."
   ]
  },
  {
   "cell_type": "code",
   "execution_count": 47,
   "id": "003feb59",
   "metadata": {},
   "outputs": [
    {
     "data": {
      "text/plain": [
       "(array([ 5.,  7., 11., 12., 23., 25.,  8.,  5.,  2.,  2.]),\n",
       " array([ 6. ,  6.9,  7.8,  8.7,  9.6, 10.5, 11.4, 12.3, 13.2, 14.1, 15. ]),\n",
       " <BarContainer object of 10 artists>)"
      ]
     },
     "execution_count": 47,
     "metadata": {},
     "output_type": "execute_result"
    },
    {
     "data": {
      "image/png": "[encoded data removed]",
      "text/plain": [
       "<Figure size 432x288 with 1 Axes>"
      ]
     },
     "metadata": {
      "needs_background": "light"
     },
     "output_type": "display_data"
    }
   ],
   "source": [
    "# Plotting the randomly generated data\n",
    "plt.hist(coin_flip, bins=10)"
   ]
  },
  {
   "cell_type": "markdown",
   "id": "d0d5c445",
   "metadata": {},
   "source": [
    "### **normal**<a id='h14'></a>[<sup>24</sup>](#f24)<a id='a24'></a>"
   ]
  },
  {
   "cell_type": "markdown",
   "id": "14fb095f",
   "metadata": {},
   "source": [
    "random.Generator.normal(loc=0.0, scale=1.0, size=None)"
   ]
  },
  {
   "cell_type": "markdown",
   "id": "e5bf8db4-21dd-4d87-b261-7cb5c022eb55",
   "metadata": {},
   "source": [
    "The normal (or Gaussian) distribution is a continous continuous probability distribution that is recognisable due to its \"bell-shaped curve\" appearance[<sup>25</sup>](#f25)<a id='a25'></a>. A lot of real world data, such as height, IQ scores, and heartrate fit a normal distribution and a common assumption is that data collected is normally distributed thus allowing extrapolition to wider populations[<sup>26</sup>](#f26)<a id='a26'></a>. The distribution centers around the mean, which is where the probability is highest. Around 68% of the data falls within one standard deviation of the mean, 95% within 2 standard deviations of the mean, and 98% falling within 3 standard deviations of the mean, with standard deviation telling us how widely spread the data values are. As such, we can generate a random normal distribution if we know the mean and standard deviation of the data we wish to generate. For the example below a mean, which is often represented by the greek letter mu, is set as 100 and the standard deviation, which is often represented by the Greek letter sigma, is set at 15. Entering a size of 100 means that 100 datapoints are generated."
   ]
  },
  {
   "cell_type": "code",
   "execution_count": 48,
   "id": "81b81782",
   "metadata": {},
   "outputs": [],
   "source": [
    "# Mean\n",
    "mu = 100\n",
    "\n",
    "#Standard Deviation\n",
    "sigma = 15"
   ]
  },
  {
   "cell_type": "code",
   "execution_count": 49,
   "id": "d393b434",
   "metadata": {},
   "outputs": [
    {
     "data": {
      "text/plain": [
       "array([ 83.96175942,  83.9693149 ,  80.38508806,  77.27818604,\n",
       "       119.93343882,  87.82436044, 108.53180962, 104.30559277,\n",
       "        78.24209197,  98.69103341, 107.55516979,  65.89807065,\n",
       "        81.78157561, 110.05249439,  86.60992828,  86.5127811 ,\n",
       "        86.45979875, 113.12533493, 108.58510877, 113.87993959,\n",
       "        93.46262548,  99.09514292, 124.33175647,  97.25639658,\n",
       "       119.57818468,  85.18355446,  69.33099431,  84.63774031,\n",
       "        79.35858516, 111.39986395, 106.43283554, 113.6919952 ,\n",
       "        92.88343234, 122.016618  ,  97.08355222, 105.47266797,\n",
       "       104.23969846, 103.41288949,  94.94457017,  99.42695793,\n",
       "       116.75808774,  89.43321618, 117.56892192, 101.32295591,\n",
       "       116.8799261 , 109.18561588,  83.5210898 , 122.02205512,\n",
       "        82.84383466, 107.40329022,  75.32044746,  73.0384096 ,\n",
       "        97.69890491,  85.9558222 , 134.08264067, 104.55221862,\n",
       "       103.377541  ,  93.48514723,  94.94270136, 116.69985605,\n",
       "        98.18261929,  93.82885467,  94.60406002, 107.09359187,\n",
       "       130.1294019 , 102.9112568 ,  81.12459821,  85.94960151,\n",
       "       115.95191124,  84.6950414 , 101.32815858,  87.73278936,\n",
       "        79.73813354, 106.65871215,  89.51236391,  85.2286833 ,\n",
       "        99.77180126, 109.78469528,  80.21841781, 102.77872927,\n",
       "        99.39689708,  84.75000107,  94.27523481, 111.36834368,\n",
       "       103.81881463, 103.65858583, 109.81934137, 105.33413019,\n",
       "       106.85181472,  98.53416257, 138.66174278, 100.03592797,\n",
       "        97.46190768, 102.49755219,  89.79769569, 101.26777033,\n",
       "        65.89194113,  86.15225891, 128.6828373 , 125.26366939])"
      ]
     },
     "execution_count": 49,
     "metadata": {},
     "output_type": "execute_result"
    }
   ],
   "source": [
    "# A random example of 100 samples from a normal distribution\n",
    "normal = rng.normal(mu, sigma, size=100)\n",
    "normal"
   ]
  },
  {
   "cell_type": "markdown",
   "id": "da9e430c-49fc-4444-9cb2-84d65edf8c6c",
   "metadata": {},
   "source": [
    "A smaller sample size generally leads to a plot that vaguely resembles the bell shaped curve the random values were drawn from. We can see this by generating a plot of the data."
   ]
  },
  {
   "cell_type": "code",
   "execution_count": 50,
   "id": "c51edf16",
   "metadata": {},
   "outputs": [
    {
     "data": {
      "text/plain": [
       "(array([2., 0., 1., 0., 1., 0., 1., 1., 1., 4., 2., 1., 6., 5., 3., 2., 3.,\n",
       "        0., 3., 5., 0., 4., 4., 4., 3., 6., 4., 3., 5., 3., 3., 2., 3., 0.,\n",
       "        3., 2., 1., 1., 2., 0., 2., 0., 0., 1., 1., 0., 1., 0., 0., 1.]),\n",
       " array([ 65.89194113,  67.34733716,  68.8027332 ,  70.25812923,\n",
       "         71.71352526,  73.1689213 ,  74.62431733,  76.07971336,\n",
       "         77.53510939,  78.99050543,  80.44590146,  81.90129749,\n",
       "         83.35669353,  84.81208956,  86.26748559,  87.72288162,\n",
       "         89.17827766,  90.63367369,  92.08906972,  93.54446576,\n",
       "         94.99986179,  96.45525782,  97.91065386,  99.36604989,\n",
       "        100.82144592, 102.27684195, 103.73223799, 105.18763402,\n",
       "        106.64303005, 108.09842609, 109.55382212, 111.00921815,\n",
       "        112.46461418, 113.92001022, 115.37540625, 116.83080228,\n",
       "        118.28619832, 119.74159435, 121.19699038, 122.65238642,\n",
       "        124.10778245, 125.56317848, 127.01857451, 128.47397055,\n",
       "        129.92936658, 131.38476261, 132.84015865, 134.29555468,\n",
       "        135.75095071, 137.20634674, 138.66174278]),\n",
       " <BarContainer object of 50 artists>)"
      ]
     },
     "execution_count": 50,
     "metadata": {},
     "output_type": "execute_result"
    },
    {
     "data": {
      "image/png": "[encoded data removed]",
      "text/plain": [
       "<Figure size 432x288 with 1 Axes>"
      ]
     },
     "metadata": {
      "needs_background": "light"
     },
     "output_type": "display_data"
    }
   ],
   "source": [
    "# View the randomly generated normal data\n",
    "plt.hist(normal, bins = 50)"
   ]
  },
  {
   "cell_type": "markdown",
   "id": "aca0a2f6-1967-4749-a83f-9cbf53045acb",
   "metadata": {},
   "source": [
    "Use the same mean and standard deviation, but increase the sample size, we can see when the points are ploted that the plot closely resembles a bell shape. "
   ]
  },
  {
   "cell_type": "code",
   "execution_count": 51,
   "id": "e38b6952",
   "metadata": {},
   "outputs": [
    {
     "data": {
      "text/plain": [
       "(array([  1.,   1.,   1.,   3.,   5.,   4.,  12.,  22.,  26.,  30.,  69.,\n",
       "         75., 113., 135., 174., 213., 244., 330., 394., 464., 532., 555.,\n",
       "        603., 614., 625., 600., 601., 564., 509., 497., 388., 371., 301.,\n",
       "        246., 170., 136., 110.,  84.,  52.,  53.,  29.,  17.,   7.,   5.,\n",
       "         11.,   3.,   0.,   0.,   0.,   1.]),\n",
       " array([ 42.25698947,  44.61236714,  46.96774482,  49.3231225 ,\n",
       "         51.67850017,  54.03387785,  56.38925552,  58.7446332 ,\n",
       "         61.10001087,  63.45538855,  65.81076622,  68.1661439 ,\n",
       "         70.52152157,  72.87689925,  75.23227692,  77.5876546 ,\n",
       "         79.94303227,  82.29840995,  84.65378762,  87.0091653 ,\n",
       "         89.36454297,  91.71992065,  94.07529832,  96.430676  ,\n",
       "         98.78605367, 101.14143135, 103.49680902, 105.8521867 ,\n",
       "        108.20756437, 110.56294205, 112.91831972, 115.2736974 ,\n",
       "        117.62907507, 119.98445275, 122.33983042, 124.6952081 ,\n",
       "        127.05058578, 129.40596345, 131.76134113, 134.1167188 ,\n",
       "        136.47209648, 138.82747415, 141.18285183, 143.5382295 ,\n",
       "        145.89360718, 148.24898485, 150.60436253, 152.9597402 ,\n",
       "        155.31511788, 157.67049555, 160.02587323]),\n",
       " <BarContainer object of 50 artists>)"
      ]
     },
     "execution_count": 51,
     "metadata": {},
     "output_type": "execute_result"
    },
    {
     "data": {
      "image/png": "[encoded data removed]",
      "text/plain": [
       "<Figure size 432x288 with 1 Axes>"
      ]
     },
     "metadata": {
      "needs_background": "light"
     },
     "output_type": "display_data"
    }
   ],
   "source": [
    "# Generating 10000 random normal distribution datapoints\n",
    "normal_higher = rng.normal(mu, sigma, 10000)\n",
    "\n",
    "# Plotting the randomly generated data\n",
    "plt.hist(normal_higher, bins = 50)"
   ]
  },
  {
   "cell_type": "markdown",
   "id": "bfb6b36e-25a9-4f69-a8f9-660e7bb2fa58",
   "metadata": {},
   "source": [
    "Changing the standard deviation will change the size of the curve that the datapoints are drawn from. A larger standard deviation will make the curve wider and shorter while a smaller one will make the curve narrower and taller."
   ]
  },
  {
   "cell_type": "code",
   "execution_count": 52,
   "id": "e3a04cf6",
   "metadata": {},
   "outputs": [],
   "source": [
    "# Creating new standard deviation points\n",
    "sigma_wide = 50\n",
    "sigma_narrow = 7\n",
    "\n",
    "# Using the new standard deviations to generate random data\n",
    "normal_wide = rng.normal(mu, sigma_wide, 10000)\n",
    "normal_narrow = rng.normal(mu, sigma_narrow, 10000)"
   ]
  },
  {
   "cell_type": "code",
   "execution_count": 53,
   "id": "9161b5f0",
   "metadata": {},
   "outputs": [
    {
     "data": {
      "text/plain": [
       "array([ 59.46125528,  51.11456367, 102.83164615, ..., 102.88190189,\n",
       "       135.24892844,  34.31367291])"
      ]
     },
     "execution_count": 53,
     "metadata": {},
     "output_type": "execute_result"
    }
   ],
   "source": [
    "# View the wider data\n",
    "normal_wide"
   ]
  },
  {
   "cell_type": "code",
   "execution_count": 54,
   "id": "9562ca5f-ca7d-403c-8542-e30e8d514e80",
   "metadata": {},
   "outputs": [
    {
     "data": {
      "text/plain": [
       "array([ 95.50419593,  99.15435718, 109.82591995, ..., 101.53081074,\n",
       "       104.90708224,  89.95143686])"
      ]
     },
     "execution_count": 54,
     "metadata": {},
     "output_type": "execute_result"
    }
   ],
   "source": [
    "# View the narrower data\n",
    "normal_narrow"
   ]
  },
  {
   "cell_type": "code",
   "execution_count": 55,
   "id": "caef8ab4-8c8c-468a-8c78-0180464b11b3",
   "metadata": {},
   "outputs": [
    {
     "data": {
      "image/png": "[encoded data removed]",
      "text/plain": [
       "<Figure size 432x288 with 1 Axes>"
      ]
     },
     "metadata": {
      "needs_background": "light"
     },
     "output_type": "display_data"
    }
   ],
   "source": [
    "# Plot the wise and narrow data\n",
    "\n",
    "plt.hist([normal_wide, normal_narrow], bins = 50, label=['normal_wide', 'normal narrow'])\n",
    "plt.legend(loc='upper right')\n",
    "plt.show()"
   ]
  },
  {
   "cell_type": "markdown",
   "id": "17cbb2ab",
   "metadata": {},
   "source": [
    "### **uniform**<a id='h15'></a>[<sup>27</sup>](#f27)<a id='a27'></a>"
   ]
  },
  {
   "cell_type": "markdown",
   "id": "2b6a37fd",
   "metadata": {},
   "source": [
    "random.Generator.uniform(low=0.0, high=1.0, size=None)"
   ]
  },
  {
   "cell_type": "markdown",
   "id": "5c460ff3-f872-4bb0-9066-f5f3e9a1cc29",
   "metadata": {},
   "source": [
    "A uniform distribution is continous distribution in which the probability is consistent throughout[<sup>28</sup>](#f28)<a id='a28'></a>. The data is generating by providing a lower and upper bound for the generated data to be drawn from. In this example the lower bound is 1 and the upper bound is 6."
   ]
  },
  {
   "cell_type": "code",
   "execution_count": 56,
   "id": "ae40029e",
   "metadata": {},
   "outputs": [
    {
     "data": {
      "text/plain": [
       "array([1.44331061, 4.92422212, 1.15472197, 4.29052183, 2.15165188,\n",
       "       1.72064969, 1.72799247, 5.40858242, 5.03218863, 3.52111636,\n",
       "       2.80620314, 2.9884155 , 1.82570464, 1.00861837, 2.30083883,\n",
       "       1.37564426, 4.7057301 , 3.94055056, 5.33242102, 4.30164189,\n",
       "       4.11535871, 1.89026211, 3.99512097, 2.3906934 , 3.27738267,\n",
       "       3.82896978, 3.44080268, 2.27561071, 2.88258145, 3.19068805,\n",
       "       3.45765851, 1.89448846, 5.16454365, 2.6651802 , 5.42577304,\n",
       "       1.37995974, 2.51589425, 3.88073043, 5.04760546, 3.35706068,\n",
       "       4.1609717 , 3.89585692, 2.39871553, 5.81657246, 4.51445491,\n",
       "       3.21734699, 2.23433133, 2.78010251, 1.07788169, 3.13158659,\n",
       "       4.4032529 , 1.59225255, 1.02080716, 1.63685304, 3.13449511,\n",
       "       1.60611998, 2.61453149, 5.16880057, 3.69330816, 1.18857852,\n",
       "       4.00306781, 3.96983641, 1.86171016, 4.55136925, 1.5071955 ,\n",
       "       2.04319259, 5.75512379, 4.35514084, 5.6999785 , 1.38970777,\n",
       "       5.71664616, 5.39497517, 1.38885703, 2.25679626, 5.65343225,\n",
       "       3.4768476 , 4.29656728, 4.58378684, 2.32006971, 4.20164435,\n",
       "       2.56678202, 3.90057604, 3.84050144, 1.25276919, 1.61888967,\n",
       "       5.34265469, 3.92764576, 3.90684778, 4.68479086, 4.57924716,\n",
       "       1.51934008, 2.18961702, 5.31120364, 3.01476542, 2.95380343,\n",
       "       1.29559739, 1.03163247, 3.3062354 , 2.77776921, 1.42468555])"
      ]
     },
     "execution_count": 56,
     "metadata": {},
     "output_type": "execute_result"
    }
   ],
   "source": [
    "# Generating 100 random floats between 1 and 6\n",
    "uniform = rng.uniform(1,6,100)\n",
    "uniform"
   ]
  },
  {
   "cell_type": "markdown",
   "id": "5f527269-167f-47d2-a8f2-04f88413e1c7",
   "metadata": {},
   "source": [
    "As a sample size of 100 is quite small, the resulting plot may not appear completely uniform due to chance, and the values tend to become more uniform as the sample size increases."
   ]
  },
  {
   "cell_type": "code",
   "execution_count": 57,
   "id": "c606aea1",
   "metadata": {},
   "outputs": [
    {
     "data": {
      "text/plain": [
       "(array([22., 16., 16., 19., 12., 15.]),\n",
       " array([1.00861837, 1.80994405, 2.61126973, 3.41259542, 4.2139211 ,\n",
       "        5.01524678, 5.81657246]),\n",
       " <BarContainer object of 6 artists>)"
      ]
     },
     "execution_count": 57,
     "metadata": {},
     "output_type": "execute_result"
    },
    {
     "data": {
      "image/png": "[encoded data removed]",
      "text/plain": [
       "<Figure size 432x288 with 1 Axes>"
      ]
     },
     "metadata": {
      "needs_background": "light"
     },
     "output_type": "display_data"
    }
   ],
   "source": [
    "# Plotting the randomly generated uniform data\n",
    "plt.hist(uniform, bins=6)"
   ]
  },
  {
   "cell_type": "markdown",
   "id": "aeb8d683-d1d7-4021-96a5-f9213dfbb41f",
   "metadata": {},
   "source": [
    "By increasing the sample size to 10000 we should expect the resulting data make more of a rectangular shape. "
   ]
  },
  {
   "cell_type": "code",
   "execution_count": 58,
   "id": "23ae0024-0597-4bbe-9bb6-d874364c47b1",
   "metadata": {},
   "outputs": [
    {
     "data": {
      "text/plain": [
       "(array([1667., 1649., 1655., 1693., 1708., 1628.]),\n",
       " array([1.00113977, 1.83413957, 2.66713936, 3.50013916, 4.33313896,\n",
       "        5.16613876, 5.99913856]),\n",
       " <BarContainer object of 6 artists>)"
      ]
     },
     "execution_count": 58,
     "metadata": {},
     "output_type": "execute_result"
    },
    {
     "data": {
      "image/png": "[encoded data removed]",
      "text/plain": [
       "<Figure size 432x288 with 1 Axes>"
      ]
     },
     "metadata": {
      "needs_background": "light"
     },
     "output_type": "display_data"
    }
   ],
   "source": [
    "# Repeating the random generation with a higher sample size of 10000\n",
    "uniform_higher = rng.uniform(1,6,10000)\n",
    "plt.hist(uniform_higher, bins=6)"
   ]
  },
  {
   "cell_type": "markdown",
   "id": "9623b95e",
   "metadata": {},
   "source": [
    "### **poisson**[<sup>29</sup>](#f29)<a id='a29'></a>"
   ]
  },
  {
   "cell_type": "markdown",
   "id": "8aeaf010",
   "metadata": {},
   "source": [
    "random.Generator.poisson(lam=1.0, size=None)"
   ]
  },
  {
   "cell_type": "markdown",
   "id": "f7fcbbc5-793f-4412-8b49-643f9f647bc1",
   "metadata": {},
   "source": [
    "A poisson distribution expresses the probability of a number of events within a particular timeframe[<sup>30</sup>](#f30)<a id='a30'></a>. A real world example might be if a business typically receives 5 orders an hour, with the typical value often being represented by the Greek letter lamba, we can derive the probabilty of the business receiving only 2 orders an hour, or 10 orders an hour. We can define a size to simulate the amount of times we want to draw a random sample from the distribution. In this instance, 500 datapoints will be generated."
   ]
  },
  {
   "cell_type": "code",
   "execution_count": 59,
   "id": "2b5e7170",
   "metadata": {},
   "outputs": [
    {
     "data": {
      "text/plain": [
       "array([ 1,  2,  4,  8,  4,  6,  2,  2,  3,  2,  2,  6,  5,  4,  5,  9,  5,\n",
       "        9,  8,  6,  3, 10,  9,  6,  6,  4,  2,  4,  6, 10,  4,  9,  6,  4,\n",
       "        6,  6,  3,  4,  5,  5,  4,  4,  6,  5,  4,  6,  3,  6,  9,  7,  9,\n",
       "        8,  5,  5,  9,  3,  5,  7,  4,  7,  7,  9,  4,  6,  8,  2,  5,  4,\n",
       "        3,  6,  7,  8,  6,  6,  4,  8,  6,  4,  2,  6,  3,  8,  2,  5,  7,\n",
       "        5,  5,  6,  6,  5,  5, 10, 10,  2,  4,  4,  9,  4,  5,  7,  6,  5,\n",
       "        4,  4,  7,  3,  2,  3,  5,  1,  4,  7, 10,  5,  6,  5,  4,  5,  3,\n",
       "        8,  7,  6,  6,  9,  3,  3,  3,  6,  2,  9,  8,  8,  3,  3,  9,  5,\n",
       "        3, 10,  2,  5,  5,  6,  1,  6,  4,  2,  5,  9,  6,  7,  6,  5,  4,\n",
       "        7,  8,  3,  5,  4,  2,  4,  8,  5,  4,  7,  6,  4,  3,  3,  4,  5,\n",
       "        7,  9,  2,  7,  6,  4,  4,  5,  8,  6,  1,  4,  7,  2,  3,  7,  3,\n",
       "        9,  6,  3,  4,  6,  6,  6,  9,  3, 10,  7,  7,  3,  2,  5,  5,  7,\n",
       "        4,  7,  7,  1,  3,  5,  5,  4,  9,  5,  3,  4,  2,  4,  5,  6,  2,\n",
       "        6,  4,  4,  1,  5,  4,  6,  4,  8,  4,  2,  5,  5,  8,  1,  4,  1,\n",
       "        3,  2,  3,  4,  5,  2,  6,  4,  5,  6, 10,  2,  2,  7,  3,  4,  4,\n",
       "        2,  6, 10,  6,  2,  4,  6,  2,  5,  3,  7,  7,  6,  6,  6,  8,  4,\n",
       "        7,  5,  5,  5,  5,  3,  4,  3,  5,  5,  7,  8,  6,  5,  4,  5,  7,\n",
       "        3,  3,  7,  3,  4,  5,  3,  4,  5,  4,  6,  4,  2,  6,  8,  3, 10,\n",
       "        5,  5,  7,  6,  4,  6,  9,  6,  1,  5,  4,  4,  4,  5,  5,  1,  4,\n",
       "        8,  4,  3,  5,  7,  0,  3,  3,  9,  5,  6,  2,  5,  4,  9,  7,  5,\n",
       "        6,  5,  9,  3,  8, 12,  9,  4,  5,  5,  6,  3,  6,  3,  4,  1,  3,\n",
       "        3,  4,  2,  8,  4,  5,  1,  5,  4,  5,  5,  8,  7,  5,  2,  8,  3,\n",
       "        5,  6,  6,  1,  5,  5,  9,  7,  8,  7,  6,  6,  6,  3,  9,  7,  3,\n",
       "        4,  7,  3,  3,  5,  5,  3,  4, 11,  5,  1,  5,  4,  5,  1,  5,  0,\n",
       "        6,  7,  8,  6,  2,  4,  1,  2,  2,  3,  6,  3,  3,  4,  3,  5,  6,\n",
       "        3,  5,  6,  4,  7,  5,  6,  7,  7,  2,  4,  3,  5,  4,  3,  6,  1,\n",
       "        5,  4,  8,  3,  2,  8,  3,  4,  4,  7,  8,  4,  5,  8,  3,  5,  8,\n",
       "        2,  4,  6,  3,  4,  5,  4,  2,  9,  3,  1,  7,  2,  5,  6,  5,  2,\n",
       "        6, 10,  8,  1,  6,  2,  3,  5,  1,  8,  9,  4,  6,  3,  1,  3,  4,\n",
       "        3,  4,  5,  4,  4,  5,  8], dtype=int64)"
      ]
     },
     "execution_count": 59,
     "metadata": {},
     "output_type": "execute_result"
    }
   ],
   "source": [
    "# Generating random data from a poisson distribution\n",
    "lamda = 5\n",
    "poisson = rng.poisson(lamda, size=500)\n",
    "poisson"
   ]
  },
  {
   "cell_type": "markdown",
   "id": "116c7c65-9023-4fa7-9aad-00621b563345",
   "metadata": {},
   "source": [
    "We can visualise the probabilities of possible outcomes with a plot."
   ]
  },
  {
   "cell_type": "code",
   "execution_count": 60,
   "id": "03b76741",
   "metadata": {},
   "outputs": [
    {
     "data": {
      "text/plain": [
       "(array([ 23.,  42.,  67.,  88.,  91., 117.,  33.,  26.,  11.,   2.]),\n",
       " array([ 0. ,  1.2,  2.4,  3.6,  4.8,  6. ,  7.2,  8.4,  9.6, 10.8, 12. ]),\n",
       " <BarContainer object of 10 artists>)"
      ]
     },
     "execution_count": 60,
     "metadata": {},
     "output_type": "execute_result"
    },
    {
     "data": {
      "image/png": "[encoded data removed]",
      "text/plain": [
       "<Figure size 432x288 with 1 Axes>"
      ]
     },
     "metadata": {
      "needs_background": "light"
     },
     "output_type": "display_data"
    }
   ],
   "source": [
    "# Generate a plot of the random poisson data\n",
    "plt.hist(poisson)"
   ]
  },
  {
   "cell_type": "markdown",
   "id": "701f0afa",
   "metadata": {},
   "source": [
    "### **exponential**<a id='h17'></a>[<sup>31</sup>](#f31)<a id='a31'></a>"
   ]
  },
  {
   "cell_type": "markdown",
   "id": "4438eb5f",
   "metadata": {},
   "source": [
    "random.Generator.exponential(scale=1.0, size=None)"
   ]
  },
  {
   "cell_type": "markdown",
   "id": "31c55713-1cb4-4b0c-8bcc-3e16c8fb83da",
   "metadata": {},
   "source": [
    "An exponential distribution shows the distribution of the time between poisson events[<sup>32</sup>](#f32)<a id='a32'></a>. The distribution will have a peak at the point in which poisson events are most rare, and will become more steep as the events become more common, before levelling out again as events become more rare at the other end of the scale. "
   ]
  },
  {
   "cell_type": "code",
   "execution_count": 61,
   "id": "4029955a",
   "metadata": {},
   "outputs": [
    {
     "data": {
      "text/plain": [
       "array([6.99328891e-01, 5.54614043e+00, 3.13685858e+00, 2.47040341e+00,\n",
       "       2.04327783e+00, 4.67393553e+00, 1.68189735e+00, 2.50069451e-01,\n",
       "       1.12384070e+01, 2.88906509e+00, 3.09280584e+00, 4.12220444e+00,\n",
       "       6.83730338e+00, 1.06147096e+01, 4.24907275e-01, 1.25184719e+00,\n",
       "       5.06009534e+00, 1.49874656e+01, 7.03977994e-01, 7.77129801e-01,\n",
       "       4.35192843e+00, 1.66675747e+00, 1.64576083e+00, 4.08665882e+00,\n",
       "       2.45761453e-01, 1.06600375e+01, 2.40905172e+00, 2.62455425e+00,\n",
       "       2.69798897e+00, 1.14089858e+00, 2.38509890e+00, 1.51194761e+00,\n",
       "       5.84285758e+00, 1.68356353e+00, 2.78898148e+00, 1.66790251e+00,\n",
       "       7.14235400e-01, 2.01078443e+00, 2.83514743e+00, 4.83942077e-01,\n",
       "       1.31566995e+01, 1.85127809e+00, 9.78624631e-01, 6.62623051e-01,\n",
       "       1.91536232e+00, 3.89915832e+01, 1.47900403e+00, 5.42909742e+00,\n",
       "       5.66459163e-01, 2.28124188e-01, 5.95496182e+00, 2.94171999e-01,\n",
       "       1.21235046e+00, 1.00429590e+00, 4.88747939e-01, 9.87766066e+00,\n",
       "       6.57971904e-01, 1.47184717e+00, 8.66233280e+00, 9.54411661e+00,\n",
       "       4.48666975e+00, 1.34209478e-01, 9.66382926e+00, 2.72714543e+00,\n",
       "       1.92727033e+00, 4.50035098e-01, 2.48691377e+00, 4.34220615e+00,\n",
       "       5.13971954e+00, 1.28331223e+01, 2.07926335e+00, 8.62207013e+00,\n",
       "       4.44592101e+00, 8.62260898e-01, 1.97745120e+00, 1.39612021e+00,\n",
       "       1.12733214e+00, 2.20808748e-01, 1.79752174e+00, 9.90536092e+00,\n",
       "       1.61851361e-02, 1.66279662e+00, 1.05237659e+01, 9.85909404e-01,\n",
       "       7.28120202e+00, 3.77707793e+00, 6.14016828e+00, 1.07038898e+00,\n",
       "       7.95713035e+00, 7.61841595e+00, 8.67611948e+00, 1.07621129e+01,\n",
       "       2.94988822e+00, 3.53744275e+00, 2.81225670e+00, 3.28497156e+00,\n",
       "       8.09119707e+00, 4.80236351e+00, 1.44923899e-01, 9.89458438e+00])"
      ]
     },
     "execution_count": 61,
     "metadata": {},
     "output_type": "execute_result"
    }
   ],
   "source": [
    "# Generate random exponental data\n",
    "scale = 5.0\n",
    "exponential = rng.exponential(scale, size=100)\n",
    "exponential"
   ]
  },
  {
   "cell_type": "code",
   "execution_count": 62,
   "id": "ebbbd1ca",
   "metadata": {},
   "outputs": [
    {
     "data": {
      "text/plain": [
       "(array([19., 13., 14., 13.,  4.,  7.,  4.,  4.,  1.,  2.,  2.,  3.,  5.,\n",
       "         4.,  1.,  0.,  2.,  0.,  0.,  1.,  0.,  0.,  0.,  0.,  0.,  0.,\n",
       "         0.,  0.,  0.,  0.,  0.,  0.,  0.,  0.,  0.,  0.,  0.,  0.,  0.,\n",
       "         0.,  0.,  0.,  0.,  0.,  0.,  0.,  0.,  0.,  0.,  1.]),\n",
       " array([1.61851361e-02, 7.95693097e-01, 1.57520106e+00, 2.35470902e+00,\n",
       "        3.13421698e+00, 3.91372494e+00, 4.69323290e+00, 5.47274086e+00,\n",
       "        6.25224882e+00, 7.03175679e+00, 7.81126475e+00, 8.59077271e+00,\n",
       "        9.37028067e+00, 1.01497886e+01, 1.09292966e+01, 1.17088046e+01,\n",
       "        1.24883125e+01, 1.32678205e+01, 1.40473284e+01, 1.48268364e+01,\n",
       "        1.56063444e+01, 1.63858523e+01, 1.71653603e+01, 1.79448682e+01,\n",
       "        1.87243762e+01, 1.95038842e+01, 2.02833921e+01, 2.10629001e+01,\n",
       "        2.18424080e+01, 2.26219160e+01, 2.34014240e+01, 2.41809319e+01,\n",
       "        2.49604399e+01, 2.57399479e+01, 2.65194558e+01, 2.72989638e+01,\n",
       "        2.80784717e+01, 2.88579797e+01, 2.96374877e+01, 3.04169956e+01,\n",
       "        3.11965036e+01, 3.19760115e+01, 3.27555195e+01, 3.35350275e+01,\n",
       "        3.43145354e+01, 3.50940434e+01, 3.58735513e+01, 3.66530593e+01,\n",
       "        3.74325673e+01, 3.82120752e+01, 3.89915832e+01]),\n",
       " <BarContainer object of 50 artists>)"
      ]
     },
     "execution_count": 62,
     "metadata": {},
     "output_type": "execute_result"
    },
    {
     "data": {
      "image/png": "[encoded data removed]",
      "text/plain": [
       "<Figure size 432x288 with 1 Axes>"
      ]
     },
     "metadata": {
      "needs_background": "light"
     },
     "output_type": "display_data"
    }
   ],
   "source": [
    "# Plot the randomly generated exponential data\n",
    "plt.hist(exponential, bins=50)"
   ]
  },
  {
   "cell_type": "code",
   "execution_count": 63,
   "id": "73d20b2f",
   "metadata": {},
   "outputs": [],
   "source": [
    "# Repeating the random generation with a higher sample size of 10000\n",
    "exponential_higher = rng.exponential(10.0, 10000)"
   ]
  },
  {
   "cell_type": "code",
   "execution_count": 64,
   "id": "89cfbe6e",
   "metadata": {},
   "outputs": [
    {
     "data": {
      "text/plain": [
       "(array([1.846e+03, 1.455e+03, 1.151e+03, 9.990e+02, 8.510e+02, 6.740e+02,\n",
       "        5.120e+02, 4.350e+02, 3.590e+02, 2.880e+02, 2.430e+02, 2.110e+02,\n",
       "        1.750e+02, 1.360e+02, 1.180e+02, 1.010e+02, 7.100e+01, 6.900e+01,\n",
       "        5.100e+01, 4.700e+01, 2.900e+01, 3.300e+01, 3.300e+01, 1.600e+01,\n",
       "        1.800e+01, 1.300e+01, 1.300e+01, 7.000e+00, 1.100e+01, 5.000e+00,\n",
       "        8.000e+00, 4.000e+00, 2.000e+00, 2.000e+00, 2.000e+00, 2.000e+00,\n",
       "        3.000e+00, 2.000e+00, 1.000e+00, 1.000e+00, 0.000e+00, 1.000e+00,\n",
       "        0.000e+00, 0.000e+00, 0.000e+00, 1.000e+00, 0.000e+00, 0.000e+00,\n",
       "        0.000e+00, 1.000e+00]),\n",
       " array([4.80897281e-04, 1.96891803e+00, 3.93735516e+00, 5.90579229e+00,\n",
       "        7.87422942e+00, 9.84266655e+00, 1.18111037e+01, 1.37795408e+01,\n",
       "        1.57479779e+01, 1.77164151e+01, 1.96848522e+01, 2.16532893e+01,\n",
       "        2.36217265e+01, 2.55901636e+01, 2.75586007e+01, 2.95270379e+01,\n",
       "        3.14954750e+01, 3.34639121e+01, 3.54323492e+01, 3.74007864e+01,\n",
       "        3.93692235e+01, 4.13376606e+01, 4.33060978e+01, 4.52745349e+01,\n",
       "        4.72429720e+01, 4.92114092e+01, 5.11798463e+01, 5.31482834e+01,\n",
       "        5.51167206e+01, 5.70851577e+01, 5.90535948e+01, 6.10220319e+01,\n",
       "        6.29904691e+01, 6.49589062e+01, 6.69273433e+01, 6.88957805e+01,\n",
       "        7.08642176e+01, 7.28326547e+01, 7.48010919e+01, 7.67695290e+01,\n",
       "        7.87379661e+01, 8.07064033e+01, 8.26748404e+01, 8.46432775e+01,\n",
       "        8.66117146e+01, 8.85801518e+01, 9.05485889e+01, 9.25170260e+01,\n",
       "        9.44854632e+01, 9.64539003e+01, 9.84223374e+01]),\n",
       " <BarContainer object of 50 artists>)"
      ]
     },
     "execution_count": 64,
     "metadata": {},
     "output_type": "execute_result"
    },
    {
     "data": {
      "image/png": "[encoded data removed]",
      "text/plain": [
       "<Figure size 432x288 with 1 Axes>"
      ]
     },
     "metadata": {
      "needs_background": "light"
     },
     "output_type": "display_data"
    }
   ],
   "source": [
    "# As the sample size increases, the distribition becoms more smooth\n",
    "plt.hist(exponential_higher, bins=50)"
   ]
  },
  {
   "cell_type": "markdown",
   "id": "f1d06052",
   "metadata": {},
   "source": [
    "## **Seeds**<a id='h18'></a>\n",
    "---"
   ]
  },
  {
   "cell_type": "markdown",
   "id": "7841ad77-bb21-4837-92c1-5a1dbe833cc9",
   "metadata": {},
   "source": [
    "There are times when randomness needs to be predictable. For example, we may initially need a randomly generated dataset to test a model, but we would like to have repeated access to this data to be able to reproduce our findings. For this purpose, the pseudo-ness of using a computerised random number generator becomes a positive. Since the process is completely deterministic, we can ask for our result to be random but in a repeatable manner. This is where seeding comes in. By seeding a BitGenerator, we can get a random output that can be reproduced by others who use the same seed, BitGenerator, and code[<sup>33</sup>](#f33)<a id='a33'></a>. If a seed is not entered by the user, the algorithm with use a default seed that constantly changes. An example of a default seed might be the current time and date, which is why the random data generate constantly changes each time it's run. In the case of numpy.random, if no seed is provided, then \"unpredictable entropy will be pulled from the OS\" to set the seed[<sup>34</sup>](#f34)<a id='a34'></a>. With a seed set by the user, the algorithm will generate random data using the seed presented as a starting point, ensuring a repeatable output."
   ]
  },
  {
   "cell_type": "code",
   "execution_count": 65,
   "id": "60777f1b",
   "metadata": {},
   "outputs": [
    {
     "data": {
      "text/plain": [
       "array([4, 3, 1, 2, 1, 3, 2, 0, 0, 2, 0, 1, 2, 2, 2, 2, 0, 0, 4, 3],\n",
       "      dtype=int64)"
      ]
     },
     "execution_count": 65,
     "metadata": {},
     "output_type": "execute_result"
    }
   ],
   "source": [
    "# Calling the default rng but with a seed for reporoducable outcomes\n",
    "rng_seeded1 = np.random.default_rng(seed=1246)\n",
    "rng_seeded1.integers(5, size = 20)"
   ]
  },
  {
   "cell_type": "code",
   "execution_count": 66,
   "id": "61ac8ead",
   "metadata": {},
   "outputs": [
    {
     "data": {
      "text/plain": [
       "array([4, 3, 1, 2, 1, 3, 2, 0, 0, 2, 0, 1, 2, 2, 2, 2, 0, 0, 4, 3],\n",
       "      dtype=int64)"
      ]
     },
     "execution_count": 66,
     "metadata": {},
     "output_type": "execute_result"
    }
   ],
   "source": [
    "# A new rng with the same seeding (1246) will result in the same output\n",
    "rng_seeded2 = np.random.default_rng(seed=1246)\n",
    "rng_seeded2.integers(5, size = 20)"
   ]
  },
  {
   "cell_type": "markdown",
   "id": "a9b51cbf-b7f7-4e1a-a734-307ae6eb9300",
   "metadata": {},
   "source": [
    "### **BitGenerators (PCG64 vs Mersenne Twister)**<a id='h19'></a>"
   ]
  },
  {
   "cell_type": "markdown",
   "id": "8b3ee6cb-4278-4ed7-9f27-22eb90775e40",
   "metadata": {},
   "source": [
    "For many years the default BitGenerator for numpy.random was the Mersenne Twister BitGenerator[<sup>35</sup>](#f35)<a id='a35'></a>. It proved popular due to its widespread adoption and for most purposes proved to be robust and reliable, but in recent years it has begun to show its age[<sup>36</sup>](#f36)<a id='a36'></a>. There are some statistical vulnerabilities that, while unlikely to negatively affect the random outputs for most users, are not ideal. Furthermore, the large state associated with the algorithm means it is relatively slow and inefficient. As of NumPy 1.17, the Mersenne Twister algorithm has been replaced as the default BitGenerator with PCG64, which promises to be faster and more statistically robust[<sup>37</sup>](#f37)<a id='a37'></a>.\n",
    "\n",
    "It's important to at least be aware of the default BitGenerater used by numpy.random because as pointed out by Ben Gorman the following code has different outcomes depending on the version of NumPy used and the default BitGenerator used at the time[<sup>38</sup>](#f38)<a id='a38'></a>. While the code is short and easy to run, it can led to compatibility problems down the line. "
   ]
  },
  {
   "cell_type": "code",
   "execution_count": 67,
   "id": "70d7a384-5316-4879-827c-17f353e9b16a",
   "metadata": {},
   "outputs": [
    {
     "data": {
      "text/plain": [
       "array([2, 1, 2])"
      ]
     },
     "execution_count": 67,
     "metadata": {},
     "output_type": "execute_result"
    }
   ],
   "source": [
    "np.random.seed(123)\n",
    "np.random.randint(3, size=3)"
   ]
  },
  {
   "cell_type": "markdown",
   "id": "a7651111-f113-48a2-974c-8b906ac06344",
   "metadata": {},
   "source": [
    "One benefit instantiating a BitGenerator rather than using numpy.random.RandomState methods is that code may no longer be reproducible in the future should the default generator change. By initially instantiating a BitGenerator, one can easily go back and explicitly change the BitGenerator called. For example, we can call the old Mersenne Twister RNG instead of the default PCG64 if for some reason we would prefer to use it, for example, the code we wish to run was originally written with Mersenne Twister in mind by using the legacy random generation, which the NumPy developers guarantee will be frozen and no longer change, allowing reproducibility into the foreseeable future[<sup>39</sup>](#f39)<a id='a39'></a>. "
   ]
  },
  {
   "cell_type": "code",
   "execution_count": 68,
   "id": "17cf5f39-0ac4-4e7d-8770-08b3ff7d50d9",
   "metadata": {},
   "outputs": [
    {
     "data": {
      "text/plain": [
       "array([2, 5, 1])"
      ]
     },
     "execution_count": 68,
     "metadata": {},
     "output_type": "execute_result"
    }
   ],
   "source": [
    "# Import the legacy Mersenne Twister Bit Generator\n",
    "from numpy.random import RandomState\n",
    "\n",
    "# Seeding the BitGenerator\n",
    "rs = RandomState(12345)\n",
    "\n",
    "# Generate a random, reproducable array of 3 ints between 0-10\n",
    "rs.randint(10, size=3)"
   ]
  },
  {
   "cell_type": "markdown",
   "id": "ae6b810d-3ae8-4c0f-b194-eafc9b57ba5d",
   "metadata": {},
   "source": [
    "Some of the methods are different for the legacy random generator so the separate documentation section for this feature should be referred to if it is going to be used<sup id=\"a39\">[39](#f39)</sup>. \n",
    "\n",
    "We can also explicitly call for PCG64 should we be concerned that the default RNG changes in a future NumPy update. Doing so should hopefully help code to remain reproducible, in the instance where PCG64 is no longer the default BitGenerator, but it is still supported and callable by NumPy. "
   ]
  },
  {
   "cell_type": "code",
   "execution_count": 69,
   "id": "8ccb1b0f-ebfb-4322-ba89-7c2b7336f08b",
   "metadata": {},
   "outputs": [
    {
     "data": {
      "text/plain": [
       "array([8, 1, 8], dtype=int64)"
      ]
     },
     "execution_count": 69,
     "metadata": {},
     "output_type": "execute_result"
    }
   ],
   "source": [
    "# Explicitly call the PCG64 RNG, seeded to 32\n",
    "from numpy.random import Generator, PCG64\n",
    "rng = Generator(PCG64(seed=32))\n",
    "\n",
    "# Generate a random, reproducable array of 3 ints between 0-10\n",
    "rng.integers(10, size=3)"
   ]
  },
  {
   "cell_type": "markdown",
   "id": "fbee86df-01e7-4c72-b4c0-0b5279a85f59",
   "metadata": {},
   "source": [
    "It is worth noting that other BitGenerators are also supported by NumPy should a user wish to use a different RNG, but exploring further alternatives is beyond the scope of this project[<sup>40</sup>](#f40)<a id='a40'></a>.\n",
    "\n",
    "-------"
   ]
  },
  {
   "cell_type": "markdown",
   "id": "8e9207f5",
   "metadata": {},
   "source": [
    "## **References**<a id='h20'></a>"
   ]
  },
  {
   "cell_type": "markdown",
   "id": "d2037b3d-c5be-4ab7-aa8a-2524442022df",
   "metadata": {},
   "source": [
    "**1**.<a id='f1'></a> Singh, S., 2018. Understanding Random Variables. [online] Available at: <https://towardsdatascience.com/understanding-random-variable-a618a2e99b93> [Accessed 21 November 2021].[↩](#a1)    \n",
    "**2**.<a id='f2'></a> Wilson, J., 2019. Randomness for Modeling and Simulation. [online] Available at: <https://realpython.com/lessons/randomness-modeling-and-simulation/> [Accessed 21 November 2021].[↩](#a2)    \n",
    "**3**.<a id='f3'></a> Kobayashi, S., Kane, T.B. and Paton, C., 2018. The privacy and security implications of open data in healthcare. *Yearbook of medical informatics*, 27(01), pp.041-047. [online]. Doi: 10.1055/s-0038-1641201 [Accessed 22 November 2021]. [↩](#a3)     \n",
    "**4**.<a id='f4'></a> Quintana, D.S., 2020. A synthetic dataset primer for the biobehavioural sciences to promote reproducibility and hypothesis generation. *Elife*, 9, p.e53275. [online]. Doi: 10.7554/eLife.53275 [Accessed 22 November 2021]. [↩](#a4)     \n",
    "**5**.<a id='f5'></a> Rubin, J. M., Can a computer generate a truly random number? [online] Available at: <https://engineering.mit.edu/engage/ask-an-engineer/can-a-computer-generate-a-truly-random-number/> [Accessed 22 November 2021].[↩](#a5)      \n",
    "**6**.<a id='f6'></a> Cruis, B., 2012. Pseudorandom number generators. [online] Available at: <https://www.khanacademy.org/computing/computer-science/cryptography/crypt/v/random-vs-pseudorandom-number-generators> [Accessed 22 November 2021]. [↩](#a6)      \n",
    "**7**.<a id='f7'></a> Harris, C.R., Millman, K.J., van der Walt, S.J., Gommers, R., Virtanen, P., Cournapeau, D., Wieser, E., Taylor, J., Berg, S., Smith, N.J. and Kern, R., 2020. Array programming with NumPy. Nature, 585(7825), pp.357-362. Doi: 10.1038/s41586-020-2649-2. [↩](#a7)     \n",
    "**8**.<a id='f8'></a> McKinney, W., 2018. *Python for data analysis: Data wrangling with Pandas, NumPy, and IPython.* \" O'Reilly Media, Inc.\"., p. 118.[↩](#a8)     \n",
    "**9**.<a id='f9'></a> Problem Solving with Python. Magic Commands. [online] Available at: <https://problemsolvingwithpython.com/02-Jupyter-Notebooks/02.06-Magic-Commands/> [Accessed 22 November 2021].[↩](#a9)   \n",
    "**10**.<a id='f10'></a> NumPy, 2021. Random Generator. [online]. Available at: <https://numpy.org/doc/stable/reference/random/generator.html#numpy.random.Generator> [Accessed 22 November 2021].[↩](#a10)     \n",
    "**11**.<a id='f11'></a> NumPy., 2021. numpy.random.Generator.integers. [online]. Available at: https://numpy.org/doc/stable/reference/random/generated/numpy.random.Generator.integers.html#numpy.random.Generator.integers [Accessed 22 November 2021]. [↩](#a11)    \n",
    "**12**.<a id='f12'></a> NumPy, 2021. numpy.random.Generator.random. [online]. Available at: https://numpy.org/doc/stable/reference/random/generated/numpy.random.Generator.integers.html#numpy.random.Generator.integers [Accessed 22 November 2021].[↩](#a12)     \n",
    "**13**.<a id='f13'></a> NumPy, 2021. numpy.random.Generator.choice. [online]. Available at: https://numpy.org/doc/stable/reference/random/generated/numpy.random.Generator.choice.html#numpy.random.Generator.choice [Accessed 22 November 2021].[↩](#a13)      \n",
    "**14**.<a id='f14'></a> NumPy, 2021. numpy.random.Generator.bytes. [online]. Available at: https://numpy.org/doc/stable/reference/random/generated/numpy.random.Generator.bytes.html#numpy.random.Generator.bytes [Accessed 22 November 2021].[↩](#a14)      \n",
    "**15**.<a id='f15'></a> Martello Security, 2021.  Use of Cryptographically Weak Pseudo-Random Number Generator (PRNG). [online]. Available at: https://www.martellosecurity.com/kb/mitre/cwe/338/ [Accessed 22 November 2021].[↩](#a15)      \n",
    "**16**.<a id='f16'></a> NumPy, 2021. numpy.random.Generator.shuffle. [online]. Available at: https://numpy.org/doc/stable/reference/random/generated/numpy.random.Generator.shuffle.html#numpy.random.Generator.shuffle [Accessed 22 November 2021].[↩](#a16)      \n",
    "**17**.<a id='f17'></a> NumPy, 2021. numpy.random.Generator.permutation. [online]. Available at: https://numpy.org/doc/stable/reference/random/generated/numpy.random.Generator.permutation.html#numpy.random.Generator.permutation [Accessed 22 November 2021].[↩](#a17)     \n",
    "**18**.<a id='f18'></a> NumPy, 2021. numpy.random.Generator.permuted. [online]. Available at: https://numpy.org/doc/stable/reference/random/generated/numpy.random.Generator.permuted.html#numpy.random.Generator.permuted [Accessed 22 November 2021].[↩](#a18)     \n",
    "**19**.<a id='f19'></a> NumPy, 2021. NumPy 1.20.0 Release Notes. [online]. Available at: https://numpy.org/doc/stable/release/1.20.0-notes.html?release#new-functions [Accessed 22 November 2021].[↩](#a19)     \n",
    "**20**.<a id='f20'></a> Albright, E. A., 2021. Probability Distributions. [online]. Available at: <https://sites.nicholas.duke.edu/statsreview/normal/> [Accessed April 27 2021].[↩](#a20)       \n",
    "**21**.<a id='f21'></a> NumPy, 2021. numpy.random.Generator.binomial. [online]. Available at: https://numpy.org/doc/stable/reference/random/generated/numpy.random.Generator.binomial.html#numpy.random.Generator.binomial [Accessed 22 November 2021].[↩](#a21)     \n",
    "**22**.<a id='f22'></a> Weisstein, E., 2021. \"Binomial Distribution.\" From MathWorld--A Wolfram Web Resource.[online]. Available at: https://mathworld.wolfram.com/BinomialDistribution.html [Accessed 22 November 2021].[↩](#a22)    \n",
    "**23**.<a id='f23'></a> InStat, 2021. Massive research of penalties by InStat. [online]. Available at: https://instatsport.com/football/article/penalty_research [Accessed 22 November 2021].[↩](#a23)     \n",
    "**24**.<a id='f24'></a> NumPy, 2021. numpy.random.Generator.normal. [online]. Available at: https://numpy.org/doc/stable/reference/random/generated/numpy.random.Generator.normal.html#numpy.random.Generator.normal [Accessed 22 November 2021].[↩](#a24)      \n",
    "**25**.<a id='f25'></a> Weisstein, E., 2021. \"Normal Distribution.\" From MathWorld--A Wolfram Web Resource.[online]. Available at: https://mathworld.wolfram.com/NormalDistribution.html [Accessed 22 November 2021].[↩](#a25)     \n",
    "**26**.<a id='f26'></a> Frost, J., 2018. Normal Distribution in Statistics. [online]. Available at: https://statisticsbyjim.com/basics/normal-distribution/ [Accessed 28 April 2021].[↩](#a26)      \n",
    "**27**.<a id='f27'></a> NumPy, 2021. numpy.random.Generator.uniform. [online]. Available at: https://numpy.org/doc/stable/reference/random/generated/numpy.random.Generator.uniform.html#numpy.random.Generator.uniform [Accessed 22 November 2021].[↩](#a27)     \n",
    "**28**.<a id='f28'></a> Weisstein, E., 2021. \"Uniform Distribution.\" From MathWorld--A Wolfram Web Resource.[online]. Available at: https://mathworld.wolfram.com/UniformDistribution.html [Accessed 22 November 2021].[↩](#a28)    \n",
    "**29**.<a id='f29'></a> NumPy, 2021. numpy.random.Generator.poisson. [online]. Available at: https://numpy.org/doc/stable/reference/random/generated/numpy.random.Generator.poisson.html#numpy.random.Generator.poisson [Accessed 22 November 2021].[↩](#a29)      \n",
    "**30**.<a id='f30'></a> Weisstein, E., 2021. \"Poisson Distribution.\" From MathWorld--A Wolfram Web Resource.[online]. Available at: https://mathworld.wolfram.com/PoissonDistribution.html [Accessed 22 November 2021].[↩](#a30)     \n",
    "**31**.<a id='f31'></a> NumPy, 2021. numpy.random.Generator.exponential. [online]. Available at: https://numpy.org/doc/stable/reference/random/generated/numpy.random.Generator.exponential.html#numpy.random.Generator.exponential [Accessed 22 November 2021].[↩](#a31)      \n",
    "**32**.<a id='f32'></a> Weisstein, E., 2021. \"Exponential Distribution.\" From MathWorld--A Wolfram Web Resource.[online]. Available at: https://mathworld.wolfram.com/ExponentialDistribution.html [Accessed 22 November 2021].[↩](#a32)   \n",
    "**33**.<a id='f33'></a> Ebner, J., 2019. NumPy Random Seed, Explained.[online]. Available at: https://www.sharpsightlabs.com/blog/numpy-random-seed/ [Accessed 22 November 2021].[↩](#a33)     \n",
    "**34**.<a id='f34'></a> NumPy, 2021. numpy.random.BitGenerator. [online]. Available at: https://numpy.org/doc/stable/reference/random/bit_generators/generated/numpy.random.BitGenerator.html#numpy.random.BitGenerator [Accessed 22 November 2021].[↩](#a34)     \n",
    "**35**.<a id='f35'></a> Matsumoto, M. and Nishimura, T., 1998. Mersenne twister: a 623-dimensionally equidistributed uniform pseudo-random number generator. *ACM Transactions on Modeling and Computer Simulation (TOMACS)*, 8(1), pp.3-30. Doi: https://doi.org/10.1145/272991.272995 [↩](#a35)     \n",
    "**36**.<a id='f36'></a> Vigna, S., 2019. It is high time we let go of the Mersenne Twister. *arXiv preprint* arXiv:1910.06437..[↩](#a36)     \n",
    "**37**.<a id='f37'></a> O’Neill, M.E., 2014. PCG: A family of simple fast space-efficient statistically good algorithms for random number generation. ACM Transactions on Mathematical Software. Doi: http://dx.doi.org/10.1145/0000000.000000.[↩](#a37)      \n",
    "**38**.<a id='f38'></a> Gorman, B. 2019. Python NumPy For Your Grandma - 3.7 random. [online]. Available at: <https://www.gormanalysis.com/blog/python-numpy-for-your-grandma-3-7-random/> [Accessed 22 November 2021].[↩](#a38)     \n",
    "**39**.<a id='f39'></a> NumPy, 2021. Legacy Random Generation. [online]. Available at: https://numpy.org/doc/stable/reference/random/legacy.html [Accessed 22 November 2021].[↩](#a39)     \n",
    "**40**.<a id='f40'></a> NumPy, 2021. Bit Generators. [online]. Available at: https://numpy.org/doc/stable/reference/random/bit_generators/index.html [Accessed 22 November 2021].[↩](#a40)  \n",
    "\n",
    "\n",
    "\n",
    "\n"
   ]
  }
 ],
 "metadata": {
  "kernelspec": {
   "display_name": "Python 3",
   "language": "python",
   "name": "python3"
  },
  "language_info": {
   "codemirror_mode": {
    "name": "ipython",
    "version": 3
   },
   "file_extension": ".py",
   "mimetype": "text/x-python",
   "name": "python",
   "nbconvert_exporter": "python",
   "pygments_lexer": "ipython3",
   "version": "3.8.8"
  }
 },
 "nbformat": 4,
 "nbformat_minor": 5
}
