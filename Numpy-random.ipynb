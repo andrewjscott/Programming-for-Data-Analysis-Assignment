{
 "cells": [
  {
   "cell_type": "markdown",
   "id": "0bb781ed",
   "metadata": {},
   "source": [
    "# The numpy.random package"
   ]
  },
  {
   "cell_type": "code",
   "execution_count": null,
   "id": "8c5ae8d2",
   "metadata": {},
   "outputs": [],
   "source": []
  },
  {
   "cell_type": "code",
   "execution_count": 1,
   "id": "57ab90f1",
   "metadata": {},
   "outputs": [],
   "source": [
    "import numpy as np\n",
    "\n",
    "import matplotlib.pyplot as plt"
   ]
  },
  {
   "cell_type": "code",
   "execution_count": 2,
   "id": "c7eecb96",
   "metadata": {},
   "outputs": [],
   "source": [
    "rng = np.random.default_rng()"
   ]
  },
  {
   "cell_type": "code",
   "execution_count": null,
   "id": "32559a15",
   "metadata": {},
   "outputs": [],
   "source": []
  },
  {
   "cell_type": "markdown",
   "id": "263a9965",
   "metadata": {},
   "source": [
    "## What is numpy.random?"
   ]
  },
  {
   "cell_type": "code",
   "execution_count": null,
   "id": "f258bee5",
   "metadata": {},
   "outputs": [],
   "source": []
  },
  {
   "cell_type": "code",
   "execution_count": null,
   "id": "4c5991f7",
   "metadata": {},
   "outputs": [],
   "source": []
  },
  {
   "cell_type": "markdown",
   "id": "aa5f4122",
   "metadata": {},
   "source": [
    "### \"Simple random data\" functions"
   ]
  },
  {
   "cell_type": "markdown",
   "id": "f64d8a0c",
   "metadata": {},
   "source": [
    "#### integers"
   ]
  },
  {
   "cell_type": "code",
   "execution_count": null,
   "id": "b7d23e19",
   "metadata": {},
   "outputs": [],
   "source": []
  },
  {
   "cell_type": "code",
   "execution_count": 3,
   "id": "c29ab806",
   "metadata": {},
   "outputs": [
    {
     "data": {
      "text/plain": [
       "array([4, 4, 0, 3, 1, 1, 4, 4, 2, 4, 2, 3, 3, 2, 2, 4, 4, 1, 1, 3],\n",
       "      dtype=int64)"
      ]
     },
     "execution_count": 3,
     "metadata": {},
     "output_type": "execute_result"
    }
   ],
   "source": [
    "rng.integers(5, size = 20)"
   ]
  },
  {
   "cell_type": "code",
   "execution_count": null,
   "id": "67fe8e08",
   "metadata": {},
   "outputs": [],
   "source": []
  },
  {
   "cell_type": "markdown",
   "id": "9ed298d1",
   "metadata": {},
   "source": [
    "#### random"
   ]
  },
  {
   "cell_type": "code",
   "execution_count": null,
   "id": "999529c1",
   "metadata": {},
   "outputs": [],
   "source": []
  },
  {
   "cell_type": "code",
   "execution_count": 4,
   "id": "badca741",
   "metadata": {},
   "outputs": [
    {
     "data": {
      "text/plain": [
       "array([0.91943284, 0.85286891, 0.66738967, 0.88203117, 0.76894469,\n",
       "       0.00544587, 0.34313315, 0.45301027, 0.01527109, 0.9869636 ,\n",
       "       0.15589133, 0.48112743, 0.78777714, 0.81489473, 0.79065677,\n",
       "       0.01964047, 0.37758109, 0.47729335, 0.76147863, 0.2209561 ])"
      ]
     },
     "execution_count": 4,
     "metadata": {},
     "output_type": "execute_result"
    }
   ],
   "source": [
    "rng.random(size = 20)"
   ]
  },
  {
   "cell_type": "code",
   "execution_count": null,
   "id": "2d4e89b7",
   "metadata": {},
   "outputs": [],
   "source": []
  },
  {
   "cell_type": "markdown",
   "id": "61f94151",
   "metadata": {},
   "source": [
    "#### choice"
   ]
  },
  {
   "cell_type": "code",
   "execution_count": null,
   "id": "424a4e02",
   "metadata": {},
   "outputs": [],
   "source": []
  },
  {
   "cell_type": "code",
   "execution_count": 5,
   "id": "3681bd76",
   "metadata": {},
   "outputs": [
    {
     "data": {
      "text/plain": [
       "array([2, 2, 8], dtype=int64)"
      ]
     },
     "execution_count": 5,
     "metadata": {},
     "output_type": "execute_result"
    }
   ],
   "source": [
    "rng.choice(10, 3)"
   ]
  },
  {
   "cell_type": "code",
   "execution_count": 6,
   "id": "6adfb758",
   "metadata": {},
   "outputs": [],
   "source": [
    "colours = [\"red\", \"blue\", \"green\", \"black\", \"yellow\"]"
   ]
  },
  {
   "cell_type": "code",
   "execution_count": 7,
   "id": "5d9c8983",
   "metadata": {},
   "outputs": [
    {
     "data": {
      "text/plain": [
       "'red'"
      ]
     },
     "execution_count": 7,
     "metadata": {},
     "output_type": "execute_result"
    }
   ],
   "source": [
    "rng.choice(colours)"
   ]
  },
  {
   "cell_type": "code",
   "execution_count": null,
   "id": "01bbb5cd",
   "metadata": {},
   "outputs": [],
   "source": []
  },
  {
   "cell_type": "markdown",
   "id": "27b13d59",
   "metadata": {},
   "source": [
    "#### bytes"
   ]
  },
  {
   "cell_type": "code",
   "execution_count": null,
   "id": "692bac13",
   "metadata": {},
   "outputs": [],
   "source": []
  },
  {
   "cell_type": "code",
   "execution_count": 8,
   "id": "de2cc869",
   "metadata": {},
   "outputs": [
    {
     "data": {
      "text/plain": [
       "b'\\xb95\\x06\\x9ep'"
      ]
     },
     "execution_count": 8,
     "metadata": {},
     "output_type": "execute_result"
    }
   ],
   "source": [
    "rng.bytes(5)"
   ]
  },
  {
   "cell_type": "code",
   "execution_count": null,
   "id": "f6eb7f9e",
   "metadata": {},
   "outputs": [],
   "source": []
  },
  {
   "cell_type": "markdown",
   "id": "3607c364",
   "metadata": {},
   "source": [
    "### \"Permutations\" functions"
   ]
  },
  {
   "cell_type": "code",
   "execution_count": null,
   "id": "6025f07c",
   "metadata": {},
   "outputs": [],
   "source": []
  },
  {
   "cell_type": "code",
   "execution_count": 9,
   "id": "e32d3338",
   "metadata": {},
   "outputs": [],
   "source": [
    "# Explain In-place vs. copy differences between below functions"
   ]
  },
  {
   "cell_type": "code",
   "execution_count": null,
   "id": "1ba9a9cc",
   "metadata": {},
   "outputs": [],
   "source": []
  },
  {
   "cell_type": "markdown",
   "id": "02af79ca",
   "metadata": {},
   "source": [
    "#### shuffle"
   ]
  },
  {
   "cell_type": "code",
   "execution_count": null,
   "id": "ea5c1ed5",
   "metadata": {},
   "outputs": [],
   "source": []
  },
  {
   "cell_type": "code",
   "execution_count": 10,
   "id": "bb7493e9",
   "metadata": {},
   "outputs": [],
   "source": [
    "digits = np.arange(10)"
   ]
  },
  {
   "cell_type": "code",
   "execution_count": 11,
   "id": "90f76551",
   "metadata": {},
   "outputs": [
    {
     "data": {
      "text/plain": [
       "array([0, 1, 2, 3, 4, 5, 6, 7, 8, 9])"
      ]
     },
     "execution_count": 11,
     "metadata": {},
     "output_type": "execute_result"
    }
   ],
   "source": [
    "digits"
   ]
  },
  {
   "cell_type": "code",
   "execution_count": 12,
   "id": "27cd23f5",
   "metadata": {},
   "outputs": [],
   "source": [
    "rng.shuffle(digits)"
   ]
  },
  {
   "cell_type": "code",
   "execution_count": 13,
   "id": "08e9417d",
   "metadata": {},
   "outputs": [
    {
     "data": {
      "text/plain": [
       "array([9, 0, 6, 5, 8, 3, 4, 1, 2, 7])"
      ]
     },
     "execution_count": 13,
     "metadata": {},
     "output_type": "execute_result"
    }
   ],
   "source": [
    "digits"
   ]
  },
  {
   "cell_type": "code",
   "execution_count": null,
   "id": "2687ab4c",
   "metadata": {},
   "outputs": [],
   "source": []
  },
  {
   "cell_type": "code",
   "execution_count": 14,
   "id": "ca3d6b3e",
   "metadata": {},
   "outputs": [],
   "source": [
    "three_by_three = np.arange(9).reshape(3, 3)"
   ]
  },
  {
   "cell_type": "code",
   "execution_count": 15,
   "id": "f44d2d82",
   "metadata": {},
   "outputs": [
    {
     "data": {
      "text/plain": [
       "array([[0, 1, 2],\n",
       "       [3, 4, 5],\n",
       "       [6, 7, 8]])"
      ]
     },
     "execution_count": 15,
     "metadata": {},
     "output_type": "execute_result"
    }
   ],
   "source": [
    "three_by_three"
   ]
  },
  {
   "cell_type": "code",
   "execution_count": 16,
   "id": "4c27da9e",
   "metadata": {},
   "outputs": [],
   "source": [
    "# Using shuffle on an array will rearrange the position of rows\n",
    "# but will leave the items from each row in the original order"
   ]
  },
  {
   "cell_type": "code",
   "execution_count": 17,
   "id": "7d0f3b86",
   "metadata": {},
   "outputs": [],
   "source": [
    "rng.shuffle(three_by_three)"
   ]
  },
  {
   "cell_type": "code",
   "execution_count": 18,
   "id": "07614736",
   "metadata": {},
   "outputs": [
    {
     "data": {
      "text/plain": [
       "array([[6, 7, 8],\n",
       "       [3, 4, 5],\n",
       "       [0, 1, 2]])"
      ]
     },
     "execution_count": 18,
     "metadata": {},
     "output_type": "execute_result"
    }
   ],
   "source": [
    "three_by_three"
   ]
  },
  {
   "cell_type": "code",
   "execution_count": null,
   "id": "e48d6e67",
   "metadata": {},
   "outputs": [],
   "source": []
  },
  {
   "cell_type": "code",
   "execution_count": null,
   "id": "140f3eb8",
   "metadata": {},
   "outputs": [],
   "source": []
  },
  {
   "cell_type": "markdown",
   "id": "fa6c3926",
   "metadata": {},
   "source": [
    "#### permutation"
   ]
  },
  {
   "cell_type": "code",
   "execution_count": null,
   "id": "a14bc07a",
   "metadata": {},
   "outputs": [],
   "source": []
  },
  {
   "cell_type": "code",
   "execution_count": 19,
   "id": "ae578d95",
   "metadata": {},
   "outputs": [
    {
     "data": {
      "text/plain": [
       "array([2, 0, 6, 1, 5, 7, 3, 4, 8, 9])"
      ]
     },
     "execution_count": 19,
     "metadata": {},
     "output_type": "execute_result"
    }
   ],
   "source": [
    "rng.permutation(10)"
   ]
  },
  {
   "cell_type": "code",
   "execution_count": null,
   "id": "68082ad8",
   "metadata": {},
   "outputs": [],
   "source": []
  },
  {
   "cell_type": "markdown",
   "id": "d30b4142",
   "metadata": {},
   "source": [
    "#### permuted"
   ]
  },
  {
   "cell_type": "code",
   "execution_count": null,
   "id": "f65f1147",
   "metadata": {},
   "outputs": [],
   "source": []
  },
  {
   "cell_type": "code",
   "execution_count": 20,
   "id": "7e97aa88",
   "metadata": {},
   "outputs": [],
   "source": [
    "# Unlike Shuffle, Permuted will rearrange the order of items\n",
    "# Within each row. Permuted also requires a new variable.\n",
    "# If we reuse the same array we used Shuffle\n",
    "# on earlier, we can see the difference bewtween Shuffle and \n",
    "# Permuted"
   ]
  },
  {
   "cell_type": "code",
   "execution_count": 21,
   "id": "e56079a0",
   "metadata": {},
   "outputs": [],
   "source": [
    "permuted_three_by_three = rng.permuted(three_by_three, axis=1)"
   ]
  },
  {
   "cell_type": "code",
   "execution_count": 22,
   "id": "86c28e41",
   "metadata": {},
   "outputs": [
    {
     "data": {
      "text/plain": [
       "array([[8, 6, 7],\n",
       "       [4, 5, 3],\n",
       "       [0, 2, 1]])"
      ]
     },
     "execution_count": 22,
     "metadata": {},
     "output_type": "execute_result"
    }
   ],
   "source": [
    "permuted_three_by_three"
   ]
  },
  {
   "cell_type": "code",
   "execution_count": 23,
   "id": "56ce82ed",
   "metadata": {},
   "outputs": [],
   "source": [
    "# The original array can be passed in as an argument if we want it to \n",
    "# match the output of the permuted array"
   ]
  },
  {
   "cell_type": "code",
   "execution_count": 24,
   "id": "1813c670",
   "metadata": {},
   "outputs": [],
   "source": [
    "permuted_three_by_three = rng.permuted(three_by_three, axis=1, out=three_by_three)"
   ]
  },
  {
   "cell_type": "code",
   "execution_count": 25,
   "id": "0178db52",
   "metadata": {},
   "outputs": [
    {
     "data": {
      "text/plain": [
       "array([[6, 8, 7],\n",
       "       [5, 3, 4],\n",
       "       [1, 0, 2]])"
      ]
     },
     "execution_count": 25,
     "metadata": {},
     "output_type": "execute_result"
    }
   ],
   "source": [
    "three_by_three"
   ]
  },
  {
   "cell_type": "code",
   "execution_count": 26,
   "id": "84e743db",
   "metadata": {},
   "outputs": [
    {
     "data": {
      "text/plain": [
       "array([[6, 8, 7],\n",
       "       [5, 3, 4],\n",
       "       [1, 0, 2]])"
      ]
     },
     "execution_count": 26,
     "metadata": {},
     "output_type": "execute_result"
    }
   ],
   "source": [
    "permuted_three_by_three"
   ]
  },
  {
   "cell_type": "code",
   "execution_count": 27,
   "id": "36de1af1",
   "metadata": {},
   "outputs": [
    {
     "data": {
      "text/plain": [
       "True"
      ]
     },
     "execution_count": 27,
     "metadata": {},
     "output_type": "execute_result"
    }
   ],
   "source": [
    "three_by_three is permuted_three_by_three"
   ]
  },
  {
   "cell_type": "code",
   "execution_count": null,
   "id": "2ceaac73",
   "metadata": {},
   "outputs": [],
   "source": []
  },
  {
   "cell_type": "markdown",
   "id": "f666d67b",
   "metadata": {},
   "source": [
    "## Distributions"
   ]
  },
  {
   "cell_type": "code",
   "execution_count": null,
   "id": "d139b136",
   "metadata": {},
   "outputs": [],
   "source": []
  },
  {
   "cell_type": "code",
   "execution_count": null,
   "id": "42cc78e6",
   "metadata": {},
   "outputs": [],
   "source": []
  },
  {
   "cell_type": "code",
   "execution_count": null,
   "id": "aedb090c",
   "metadata": {},
   "outputs": [],
   "source": []
  },
  {
   "cell_type": "markdown",
   "id": "84f4663f",
   "metadata": {},
   "source": [
    "#### binomial"
   ]
  },
  {
   "cell_type": "code",
   "execution_count": null,
   "id": "4f5e00ab",
   "metadata": {},
   "outputs": [],
   "source": []
  },
  {
   "cell_type": "code",
   "execution_count": 28,
   "id": "dfdf8aa9",
   "metadata": {},
   "outputs": [],
   "source": [
    "# A binomial distribution tracks trials and records a binary success/failure \n",
    "# outcome of trials. "
   ]
  },
  {
   "cell_type": "code",
   "execution_count": null,
   "id": "8f74cc43",
   "metadata": {},
   "outputs": [],
   "source": []
  },
  {
   "cell_type": "code",
   "execution_count": 29,
   "id": "b0fe52f3",
   "metadata": {},
   "outputs": [],
   "source": [
    "# n is the number of trials \n",
    "n = 20\n",
    "\n",
    "# p = probability of success, which must be between 0 and 1. \n",
    "# For example, a fair coin has a 50/50 change of being either heads of tails\n",
    "# Therefore to simulate a fair coin, p = 0.5\n",
    "p = 0.5"
   ]
  },
  {
   "cell_type": "code",
   "execution_count": 30,
   "id": "4c653457",
   "metadata": {},
   "outputs": [],
   "source": [
    "# The third argument is the number of tests. \n",
    "# That means in this example, a coin is flipped 20 times\n",
    "# And there is 1000 instances of this\n",
    "coin_flip = rng.binomial(n, p, 100)"
   ]
  },
  {
   "cell_type": "code",
   "execution_count": 31,
   "id": "13222970",
   "metadata": {},
   "outputs": [
    {
     "data": {
      "text/plain": [
       "array([ 9,  8,  8, 13, 11, 12, 10, 12, 12, 14,  9, 14,  8,  9,  8,  9, 11,\n",
       "        9,  9, 10, 14, 10, 12, 10, 13,  9, 12, 10, 11,  7,  8,  8, 11, 10,\n",
       "       12,  9,  7, 10, 10,  9, 11, 10,  9,  8,  8, 11, 10,  6,  8, 10, 10,\n",
       "        5,  9, 15, 13, 11,  7, 10,  9, 11, 11, 14, 11,  8, 15,  9,  8,  9,\n",
       "        9,  6,  9,  9,  9,  7,  5,  7, 10, 11, 11,  9,  8, 11, 11, 14, 11,\n",
       "       11,  9, 14,  9,  8, 13, 13, 11,  5, 11,  9,  9, 10, 14,  9],\n",
       "      dtype=int64)"
      ]
     },
     "execution_count": 31,
     "metadata": {},
     "output_type": "execute_result"
    }
   ],
   "source": [
    "# We can take the resulting array as giving us the number of heads\n",
    "# After every 20 coin flips\n",
    "coin_flip"
   ]
  },
  {
   "cell_type": "code",
   "execution_count": null,
   "id": "ff671708",
   "metadata": {},
   "outputs": [],
   "source": []
  },
  {
   "cell_type": "code",
   "execution_count": 32,
   "id": "003feb59",
   "metadata": {},
   "outputs": [
    {
     "data": {
      "text/plain": [
       "(array([ 3.,  2.,  5., 13., 24., 15., 18.,  6.,  5.,  9.]),\n",
       " array([ 5.,  6.,  7.,  8.,  9., 10., 11., 12., 13., 14., 15.]),\n",
       " <BarContainer object of 10 artists>)"
      ]
     },
     "execution_count": 32,
     "metadata": {},
     "output_type": "execute_result"
    },
    {
     "data": {
      "image/png": "[encoded data removed]",
      "text/plain": [
       "<Figure size 432x288 with 1 Axes>"
      ]
     },
     "metadata": {
      "needs_background": "light"
     },
     "output_type": "display_data"
    }
   ],
   "source": [
    "# Plotting the randomly generated data\n",
    "plt.hist(coin_flip)"
   ]
  },
  {
   "cell_type": "code",
   "execution_count": null,
   "id": "32aa98ee",
   "metadata": {},
   "outputs": [],
   "source": []
  },
  {
   "cell_type": "markdown",
   "id": "d0d5c445",
   "metadata": {},
   "source": [
    "#### normal"
   ]
  },
  {
   "cell_type": "code",
   "execution_count": null,
   "id": "b9c94825",
   "metadata": {},
   "outputs": [],
   "source": []
  },
  {
   "cell_type": "code",
   "execution_count": null,
   "id": "a370521a",
   "metadata": {},
   "outputs": [],
   "source": []
  },
  {
   "cell_type": "code",
   "execution_count": 164,
   "id": "81b81782",
   "metadata": {},
   "outputs": [],
   "source": [
    "# IQ test is designed such that the mean result is 100 \n",
    "# and the standard deviation is 15\n",
    "\n",
    "# Mean\n",
    "mu = 100\n",
    "\n",
    "#Standard Deviation\n",
    "sigma = 15"
   ]
  },
  {
   "cell_type": "code",
   "execution_count": 165,
   "id": "d393b434",
   "metadata": {},
   "outputs": [],
   "source": [
    "iq = np.random.default_rng().normal(mu, sigma, 100000)"
   ]
  },
  {
   "cell_type": "code",
   "execution_count": 166,
   "id": "122ef9e2",
   "metadata": {},
   "outputs": [
    {
     "data": {
      "text/plain": [
       "array([118.75303495,  98.94140792,  86.72156718, ...,  91.45633148,\n",
       "       111.60971122, 128.10672881])"
      ]
     },
     "execution_count": 166,
     "metadata": {},
     "output_type": "execute_result"
    }
   ],
   "source": [
    "iq"
   ]
  },
  {
   "cell_type": "markdown",
   "id": "a7ffedc4",
   "metadata": {},
   "source": [
    "## NB need to redo this as round doesnt work as I'd hoped as the rounding seems to bias the outcome slightly"
   ]
  },
  {
   "cell_type": "code",
   "execution_count": 170,
   "id": "e38b6952",
   "metadata": {},
   "outputs": [],
   "source": [
    "# As resulting array results were up to 8 decimal places, round is used to\n",
    "# convert to whole numbers as IQ results are whole numbers\n",
    "rounded_iq = np.around(iq)"
   ]
  },
  {
   "cell_type": "code",
   "execution_count": 171,
   "id": "8f77dd46",
   "metadata": {},
   "outputs": [
    {
     "data": {
      "text/plain": [
       "array([119.,  99.,  87., ...,  91., 112., 128.])"
      ]
     },
     "execution_count": 171,
     "metadata": {},
     "output_type": "execute_result"
    }
   ],
   "source": [
    "rounded_iq"
   ]
  },
  {
   "cell_type": "code",
   "execution_count": 172,
   "id": "e3a04cf6",
   "metadata": {},
   "outputs": [
    {
     "data": {
      "text/plain": [
       "(array([1.000e+00, 0.000e+00, 2.000e+00, 1.000e+00, 6.000e+00, 9.000e+00,\n",
       "        1.200e+01, 2.000e+01, 5.200e+01, 5.700e+01, 7.000e+01, 1.200e+02,\n",
       "        2.900e+02, 2.670e+02, 3.750e+02, 5.060e+02, 1.123e+03, 1.021e+03,\n",
       "        1.299e+03, 1.641e+03, 2.950e+03, 2.498e+03, 2.999e+03, 3.329e+03,\n",
       "        5.837e+03, 4.330e+03, 4.729e+03, 4.898e+03, 7.781e+03, 5.347e+03,\n",
       "        5.255e+03, 5.184e+03, 7.210e+03, 4.510e+03, 4.137e+03, 3.785e+03,\n",
       "        4.880e+03, 2.661e+03, 2.264e+03, 1.940e+03, 2.173e+03, 1.121e+03,\n",
       "        8.950e+02, 6.590e+02, 6.800e+02, 3.240e+02, 2.490e+02, 1.620e+02,\n",
       "        1.580e+02, 6.200e+01, 3.800e+01, 3.400e+01, 2.500e+01, 1.000e+01,\n",
       "        6.000e+00, 5.000e+00, 1.000e+00, 1.000e+00, 0.000e+00, 1.000e+00]),\n",
       " array([ 33.  ,  35.25,  37.5 ,  39.75,  42.  ,  44.25,  46.5 ,  48.75,\n",
       "         51.  ,  53.25,  55.5 ,  57.75,  60.  ,  62.25,  64.5 ,  66.75,\n",
       "         69.  ,  71.25,  73.5 ,  75.75,  78.  ,  80.25,  82.5 ,  84.75,\n",
       "         87.  ,  89.25,  91.5 ,  93.75,  96.  ,  98.25, 100.5 , 102.75,\n",
       "        105.  , 107.25, 109.5 , 111.75, 114.  , 116.25, 118.5 , 120.75,\n",
       "        123.  , 125.25, 127.5 , 129.75, 132.  , 134.25, 136.5 , 138.75,\n",
       "        141.  , 143.25, 145.5 , 147.75, 150.  , 152.25, 154.5 , 156.75,\n",
       "        159.  , 161.25, 163.5 , 165.75, 168.  ]),\n",
       " <BarContainer object of 60 artists>)"
      ]
     },
     "execution_count": 172,
     "metadata": {},
     "output_type": "execute_result"
    },
    {
     "data": {
      "image/png": "[encoded data removed]",
      "text/plain": [
       "<Figure size 432x288 with 1 Axes>"
      ]
     },
     "metadata": {
      "needs_background": "light"
     },
     "output_type": "display_data"
    }
   ],
   "source": [
    "# Plotting the randomly generated IQ results\n",
    "plt.hist(rounded_iq, bins = 60)"
   ]
  },
  {
   "cell_type": "code",
   "execution_count": null,
   "id": "9161b5f0",
   "metadata": {},
   "outputs": [],
   "source": []
  },
  {
   "cell_type": "markdown",
   "id": "17cbb2ab",
   "metadata": {},
   "source": [
    "#### uniform"
   ]
  },
  {
   "cell_type": "code",
   "execution_count": null,
   "id": "b84d4ec2",
   "metadata": {},
   "outputs": [],
   "source": []
  },
  {
   "cell_type": "code",
   "execution_count": 126,
   "id": "ae40029e",
   "metadata": {},
   "outputs": [],
   "source": [
    "dice = np.random.default_rng().uniform(1,20,1000000)"
   ]
  },
  {
   "cell_type": "code",
   "execution_count": 127,
   "id": "09c09a4d",
   "metadata": {},
   "outputs": [
    {
     "name": "stdout",
     "output_type": "stream",
     "text": [
      "[13.56369855 13.55537947  8.37811345 ... 12.81667135 13.31228147\n",
      " 16.80391382]\n"
     ]
    }
   ],
   "source": [
    "print(dice)"
   ]
  },
  {
   "cell_type": "code",
   "execution_count": 128,
   "id": "c606aea1",
   "metadata": {},
   "outputs": [],
   "source": [
    "rounded_dice = np.round(dice, decimals=0)"
   ]
  },
  {
   "cell_type": "code",
   "execution_count": 129,
   "id": "aed62719",
   "metadata": {},
   "outputs": [
    {
     "data": {
      "text/plain": [
       "array([14., 14.,  8., ..., 13., 13., 17.])"
      ]
     },
     "execution_count": 129,
     "metadata": {},
     "output_type": "execute_result"
    }
   ],
   "source": [
    "rounded_dice"
   ]
  },
  {
   "cell_type": "code",
   "execution_count": 131,
   "id": "65b6e67c",
   "metadata": {},
   "outputs": [
    {
     "data": {
      "text/plain": [
       "(array([26404., 52427., 52805., 52367., 52753., 52491., 52718., 52285.,\n",
       "        52483., 52874., 52440., 52166., 52873., 53044., 52363., 52685.,\n",
       "        53099., 52541., 52809., 26373.]),\n",
       " array([ 1.  ,  1.95,  2.9 ,  3.85,  4.8 ,  5.75,  6.7 ,  7.65,  8.6 ,\n",
       "         9.55, 10.5 , 11.45, 12.4 , 13.35, 14.3 , 15.25, 16.2 , 17.15,\n",
       "        18.1 , 19.05, 20.  ]),\n",
       " <BarContainer object of 20 artists>)"
      ]
     },
     "execution_count": 131,
     "metadata": {},
     "output_type": "execute_result"
    },
    {
     "data": {
      "image/png": "[encoded data removed]",
      "text/plain": [
       "<Figure size 432x288 with 1 Axes>"
      ]
     },
     "metadata": {
      "needs_background": "light"
     },
     "output_type": "display_data"
    }
   ],
   "source": [
    "plt.hist(rounded_dice, bins = 20)"
   ]
  },
  {
   "cell_type": "code",
   "execution_count": null,
   "id": "ed0cacca",
   "metadata": {},
   "outputs": [],
   "source": []
  },
  {
   "cell_type": "markdown",
   "id": "9623b95e",
   "metadata": {},
   "source": [
    "#### poisson"
   ]
  },
  {
   "cell_type": "code",
   "execution_count": null,
   "id": "921c6179",
   "metadata": {},
   "outputs": [],
   "source": []
  },
  {
   "cell_type": "code",
   "execution_count": null,
   "id": "2b5e7170",
   "metadata": {},
   "outputs": [],
   "source": []
  },
  {
   "cell_type": "code",
   "execution_count": null,
   "id": "092be77a",
   "metadata": {},
   "outputs": [],
   "source": []
  },
  {
   "cell_type": "code",
   "execution_count": null,
   "id": "03b76741",
   "metadata": {},
   "outputs": [],
   "source": []
  },
  {
   "cell_type": "code",
   "execution_count": null,
   "id": "f8d4faba",
   "metadata": {},
   "outputs": [],
   "source": []
  },
  {
   "cell_type": "code",
   "execution_count": null,
   "id": "73e67fa4",
   "metadata": {},
   "outputs": [],
   "source": []
  },
  {
   "cell_type": "markdown",
   "id": "701f0afa",
   "metadata": {},
   "source": [
    "#### exponential"
   ]
  },
  {
   "cell_type": "code",
   "execution_count": null,
   "id": "7f6256cc",
   "metadata": {},
   "outputs": [],
   "source": []
  },
  {
   "cell_type": "code",
   "execution_count": null,
   "id": "4029955a",
   "metadata": {},
   "outputs": [],
   "source": []
  },
  {
   "cell_type": "code",
   "execution_count": null,
   "id": "277826e4",
   "metadata": {},
   "outputs": [],
   "source": []
  },
  {
   "cell_type": "code",
   "execution_count": null,
   "id": "ebbbd1ca",
   "metadata": {},
   "outputs": [],
   "source": []
  },
  {
   "cell_type": "code",
   "execution_count": null,
   "id": "73d20b2f",
   "metadata": {},
   "outputs": [],
   "source": []
  },
  {
   "cell_type": "code",
   "execution_count": null,
   "id": "89cfbe6e",
   "metadata": {},
   "outputs": [],
   "source": []
  },
  {
   "cell_type": "code",
   "execution_count": null,
   "id": "fbda5fc8",
   "metadata": {},
   "outputs": [],
   "source": []
  },
  {
   "cell_type": "markdown",
   "id": "f1d06052",
   "metadata": {},
   "source": [
    "## Seeds"
   ]
  },
  {
   "cell_type": "code",
   "execution_count": null,
   "id": "495f9ee6",
   "metadata": {},
   "outputs": [],
   "source": []
  },
  {
   "cell_type": "code",
   "execution_count": null,
   "id": "60777f1b",
   "metadata": {},
   "outputs": [],
   "source": []
  },
  {
   "cell_type": "code",
   "execution_count": null,
   "id": "61ac8ead",
   "metadata": {},
   "outputs": [],
   "source": []
  },
  {
   "cell_type": "code",
   "execution_count": null,
   "id": "fb123059",
   "metadata": {},
   "outputs": [],
   "source": []
  },
  {
   "cell_type": "code",
   "execution_count": null,
   "id": "a8f00e30",
   "metadata": {},
   "outputs": [],
   "source": []
  },
  {
   "cell_type": "code",
   "execution_count": null,
   "id": "00c70b28",
   "metadata": {},
   "outputs": [],
   "source": []
  },
  {
   "cell_type": "markdown",
   "id": "8e9207f5",
   "metadata": {},
   "source": [
    "## References"
   ]
  },
  {
   "cell_type": "code",
   "execution_count": null,
   "id": "fdd50c4a",
   "metadata": {},
   "outputs": [],
   "source": []
  },
  {
   "cell_type": "code",
   "execution_count": null,
   "id": "a463f019",
   "metadata": {},
   "outputs": [],
   "source": []
  },
  {
   "cell_type": "code",
   "execution_count": null,
   "id": "1cef68d2",
   "metadata": {},
   "outputs": [],
   "source": []
  }
 ],
 "metadata": {
  "kernelspec": {
   "display_name": "Python 3",
   "language": "python",
   "name": "python3"
  },
  "language_info": {
   "codemirror_mode": {
    "name": "ipython",
    "version": 3
   },
   "file_extension": ".py",
   "mimetype": "text/x-python",
   "name": "python",
   "nbconvert_exporter": "python",
   "pygments_lexer": "ipython3",
   "version": "3.8.8"
  }
 },
 "nbformat": 4,
 "nbformat_minor": 5
}
