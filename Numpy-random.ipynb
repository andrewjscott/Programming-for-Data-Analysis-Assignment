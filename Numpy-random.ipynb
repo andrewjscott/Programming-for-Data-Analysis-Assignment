{
 "cells": [
  {
   "cell_type": "markdown",
   "id": "0bb781ed",
   "metadata": {},
   "source": [
    "# The numpy.random package\n",
    "---"
   ]
  },
  {
   "cell_type": "markdown",
   "id": "263a9965",
   "metadata": {},
   "source": [
    "## Randomness"
   ]
  },
  {
   "cell_type": "markdown",
   "id": "def6248e-e69e-4743-978d-ae23f6a09565",
   "metadata": {},
   "source": [
    "Randomness is generally thought of as the unpredictability of an event’s outcome ahead of time<sup id=\"a1\">[1](#f1)</sup>. Even if one outcome is more likely than another, we cannot be certain which outcome will happen until we observe it. This randomness is the basis of many common games of chance, such as flipping a coin or rolling dice. "
   ]
  },
  {
   "cell_type": "markdown",
   "id": "17f46df6-5fd5-4ff6-9960-f38cda36621e",
   "metadata": {},
   "source": [
    "## NumPy's Random Module"
   ]
  },
  {
   "cell_type": "markdown",
   "id": "e54048aa-43ce-4e05-ac98-d76ca2982dcc",
   "metadata": {},
   "source": [
    "In data science, we will want sometimes want to generate random data for the purposes of simulation<sup id=\"a2\">[2](#f2)</sup>. This can save time. For example, it is much faster to code and run a simulation of a million coin tosses than to physically toss a coin a million times. We can also use simulated data to test and refine models, or to supplement existing data. Random data simulation has also been proposed as a solution to a problem in medical scientific research, where data is often not open due to concerns about patient confidentiality<sup id=\"a3\">[3](#f3)</sup>. A compromise is to simulate the patient data so that the simulated dataset is statistically identical to the original. These “synthetic” datasets can then be open to the public, with any potential identifying variables hidden by the randomising process<sup id=\"a4\">[4](#f4)</sup>.\n",
    "\n",
    "Since computing is completely deterministic, it would be incredibly difficult for one to generate truly random data<sup id=\"a5\">[5](#f5)</sup>. However, the outcome of an event appearing random to an observer might not be due to the fact multiple outcomes are possible. The outcome might instead appear random due to the observer’s ignorance. If the observer had all the relevant information about an event, they would be able to perfectly state the outcome ahead of time, but if they lack the relevant information, then other outcomes might appear equally plausible. Computers take advantage of this ignorance of the user with pseudo-random number generators (PRNGs)<sup id=\"a6\">[6](#f6)</sup>. The coding is completely deterministic, but if the user lacks necessary information about how the algorithm works, then the outcome is considered random from the user’s perspective.\n",
    "\n",
    "While python has a built-in random module, a more powerful alternative is provided by NumPy’s random module. NumPy is a package that allows for fast calculations with arrays<sup id=\"a7\">[7](#f7)</sup>. This feature extends to the generation of random values, where NumPy random can quickly generate not only single random values, but can also generate random arrays. As noted by Wes McKinney when discussing NumPy’s random module, “Python’s built-in random module, by contrast, only samples one value at a time… (and) numpy.random is well over an order of magnitude faster for generating very large samples”<sup id=\"a8\">[8](#f8)</sup>. This makes NumPy a more powerful choice when it comes to generating larger random datasets for simulations. Many of NumPy random’s methods will now be discussed in turn. \n"
   ]
  },
  {
   "cell_type": "markdown",
   "id": "981690cc-204d-4c29-8bf4-400885a849b6",
   "metadata": {},
   "source": [
    "To use the numpy.random module, we first need to import numpy, which by convention is generally imported as np. To visualise some of the random data that will be generated, matplotlib.pyplot will also be imported to generate plots of the data. A magic command has also been added as it helps to display plot within a notebook<sup id=\"a9\">[9](#f9)</sup>."
   ]
  },
  {
   "cell_type": "code",
   "execution_count": 1,
   "id": "57ab90f1",
   "metadata": {},
   "outputs": [],
   "source": [
    "# Package for numerical calculations and arrays\n",
    "import numpy as np\n",
    "\n",
    "# Generating plots\n",
    "import matplotlib.pyplot as plt\n",
    "\n",
    "# A magic command for helping display matplotlib plots in notebooks\n",
    "%matplotlib inline"
   ]
  },
  {
   "cell_type": "markdown",
   "id": "f20da043-ccd6-460d-b682-e2dc44065243",
   "metadata": {},
   "source": [
    "The numpy.random documentation recommends that before calling on any methods, that a new generator is called using the default PRNG, which can be done with the following code. The varible that points to this code will be used throughout to call on numpy.random's functions<sup id=\"a10\">[10](#f10)</sup>. "
   ]
  },
  {
   "cell_type": "code",
   "execution_count": 2,
   "id": "bf3070b6-6b3a-42d6-948c-9b6c0b5c9e95",
   "metadata": {},
   "outputs": [],
   "source": [
    "# Construct a new Generator with the default BitGenerator (PCG64)\n",
    "rng = np.random.default_rng()"
   ]
  },
  {
   "cell_type": "markdown",
   "id": "32657df0-737d-451d-bba4-c06841489b33",
   "metadata": {},
   "source": [
    "The sections below will begin with the structure of the code needed to run each function, as presented in the numpy.random v1.21 documentation<sup id=\"a10\">[10](#f10)</sup>. For example, the code presented for the integers function is random.Generator.integers(low, high=None, size=None, dtype=np.int64, endpoint=False). This means that to run our code we will use the variable assigned to our random generator followed by a period and the function name, then followed by parantheses which contain the arguments that we wish use. Arguments without equal signs are neccessary and must be passed, otherwise the code will not runreturn an error. Arguments with equal signs are optional. If these are not passed by the user, then numpy.random will just use default values for these arguments. "
   ]
  },
  {
   "cell_type": "markdown",
   "id": "aa5f4122",
   "metadata": {},
   "source": [
    "## \"Simple Random Data\" Functions\n",
    "---------------------------------"
   ]
  },
  {
   "cell_type": "markdown",
   "id": "b8f3f046-8101-4d85-bb49-d9ff3afd65f0",
   "metadata": {},
   "source": [
    "There are four ‘Simple Random Data’ functions for the fast generation of random data. "
   ]
  },
  {
   "cell_type": "markdown",
   "id": "f64d8a0c",
   "metadata": {},
   "source": [
    "### **integers**<sup id=\"a11\">[11](#f11)</sup>"
   ]
  },
  {
   "cell_type": "markdown",
   "id": "664f13fd",
   "metadata": {},
   "source": [
    "random.Generator.integers(low, high=None, size=None, dtype=np.int64, endpoint=False)"
   ]
  },
  {
   "cell_type": "markdown",
   "id": "b72aeeee-05e6-4834-944f-2bc8eec4eb0b",
   "metadata": {},
   "source": [
    "The integers function is used for the generation of integers, from a single integer to entire arrays. If only a single number is passed as an argument, the function will generate an integer between 0 and the number entered, with the higher number exclusive. In the example below, as 3 is entered as the argument, the randomly generated integer will be either 0, 1, or 2. "
   ]
  },
  {
   "cell_type": "code",
   "execution_count": 3,
   "id": "524a83ff-53ce-4e71-921a-92dae47df827",
   "metadata": {},
   "outputs": [
    {
     "data": {
      "text/plain": [
       "2"
      ]
     },
     "execution_count": 3,
     "metadata": {},
     "output_type": "execute_result"
    }
   ],
   "source": [
    "# Generate a single integer.\n",
    "\n",
    "random_int = rng.integers(3)\n",
    "random_int"
   ]
  },
  {
   "cell_type": "markdown",
   "id": "aea3516c-9e15-4847-9b98-6dc5d244168a",
   "metadata": {},
   "source": [
    "If we do not enter a number, the code will not work, and will return an error message that at least one argument needs to be given."
   ]
  },
  {
   "cell_type": "code",
   "execution_count": 4,
   "id": "0059fedc-6672-48d4-83e4-6612830d7255",
   "metadata": {},
   "outputs": [
    {
     "ename": "TypeError",
     "evalue": "integers() takes at least 1 positional argument (0 given)",
     "output_type": "error",
     "traceback": [
      "\u001b[1;31m---------------------------------------------------------------------------\u001b[0m",
      "\u001b[1;31mTypeError\u001b[0m                                 Traceback (most recent call last)",
      "\u001b[1;32m<ipython-input-4-903de47dc9f0>\u001b[0m in \u001b[0;36m<module>\u001b[1;34m\u001b[0m\n\u001b[0;32m      1\u001b[0m \u001b[1;31m# This will return an error as no argumentshave been passed.\u001b[0m\u001b[1;33m\u001b[0m\u001b[1;33m\u001b[0m\u001b[1;33m\u001b[0m\u001b[0m\n\u001b[1;32m----> 2\u001b[1;33m \u001b[0mrng\u001b[0m\u001b[1;33m.\u001b[0m\u001b[0mintegers\u001b[0m\u001b[1;33m(\u001b[0m\u001b[1;33m)\u001b[0m\u001b[1;33m\u001b[0m\u001b[1;33m\u001b[0m\u001b[0m\n\u001b[0m",
      "\u001b[1;32m_generator.pyx\u001b[0m in \u001b[0;36mnumpy.random._generator.Generator.integers\u001b[1;34m()\u001b[0m\n",
      "\u001b[1;31mTypeError\u001b[0m: integers() takes at least 1 positional argument (0 given)"
     ]
    }
   ],
   "source": [
    "# This will return an error as no argumentshave been passed.\n",
    "rng.integers()"
   ]
  },
  {
   "cell_type": "markdown",
   "id": "60769269-a537-46c2-9892-e5864d6f17a0",
   "metadata": {},
   "source": [
    "We can generate more than one number by specifying the size. For the below example, entering the size as 20 will result in 20 random intergers being returned in an array."
   ]
  },
  {
   "cell_type": "code",
   "execution_count": 5,
   "id": "cbd55f05-81a8-4854-a205-63ba31997a86",
   "metadata": {},
   "outputs": [
    {
     "data": {
      "text/plain": [
       "array([4, 3, 0, 3, 0, 0, 3, 4, 3, 1, 3, 0, 2, 1, 1, 0, 3, 1, 3, 1],\n",
       "      dtype=int64)"
      ]
     },
     "execution_count": 5,
     "metadata": {},
     "output_type": "execute_result"
    }
   ],
   "source": [
    "# Generates an array of 20 random integers from 0-4 (5 not inclusive).\n",
    "rng.integers(5, size = 20)"
   ]
  },
  {
   "cell_type": "markdown",
   "id": "dcd89273-c8b6-4758-9782-2e3f302a7da5",
   "metadata": {},
   "source": [
    "It is worth noting that running the same code again will lead to a brand new array of 20 random numbers. "
   ]
  },
  {
   "cell_type": "code",
   "execution_count": 6,
   "id": "67fe8e08",
   "metadata": {},
   "outputs": [
    {
     "data": {
      "text/plain": [
       "array([2, 0, 3, 4, 1, 3, 2, 2, 4, 0, 3, 2, 2, 0, 0, 3, 3, 2, 4, 3],\n",
       "      dtype=int64)"
      ]
     },
     "execution_count": 6,
     "metadata": {},
     "output_type": "execute_result"
    }
   ],
   "source": [
    "# Generates an array of 20 random integers from 0-4 (5 not inclusive).\n",
    "random_integers2 = rng.integers(5, size = 20)\n",
    "random_integers2"
   ]
  },
  {
   "cell_type": "markdown",
   "id": "e3bda5eb-388e-44e1-9c17-256ad31be328",
   "metadata": {},
   "source": [
    "While we do not need to assign variables for the code to work, by doing so we can reuse this array further in our code should we wish to do so. However, once the session is closed and the code is rerun at a later time, a new random array will be created and stored to the variable, with the original instance lost. If we want a random array that is consistantly reproducable, this will be dealt with in the section on seeding."
   ]
  },
  {
   "cell_type": "code",
   "execution_count": 7,
   "id": "51811f8a-b8a8-4d86-86cf-d334cdaaf958",
   "metadata": {},
   "outputs": [
    {
     "data": {
      "text/plain": [
       "array([2, 0, 3, 4, 1, 3, 2, 2, 4, 0, 3, 2, 2, 0, 0, 3, 3, 2, 4, 3],\n",
       "      dtype=int64)"
      ]
     },
     "execution_count": 7,
     "metadata": {},
     "output_type": "execute_result"
    }
   ],
   "source": [
    "# Recalling the variable to see the randomly generated array produced earlier\n",
    "random_integers2"
   ]
  },
  {
   "cell_type": "markdown",
   "id": "373cc3bb-d392-450e-9a53-6e77f43791af",
   "metadata": {},
   "source": [
    "We can specify the lowest and highest random numbers that can be selected. In this instance the lowest number is 10, which is inclusive. High being 25 means 24 is the highest number, as high is exclusive. We can also create a multidimensional array by specifying the size. In this instance size=(2,4) returns a 2x4 array"
   ]
  },
  {
   "cell_type": "code",
   "execution_count": 8,
   "id": "9be7070c",
   "metadata": {},
   "outputs": [
    {
     "data": {
      "text/plain": [
       "array([[19, 16, 23, 16],\n",
       "       [17, 10, 15, 11]], dtype=int64)"
      ]
     },
     "execution_count": 8,
     "metadata": {},
     "output_type": "execute_result"
    }
   ],
   "source": [
    "# Generate a random 2x4 array of numbers between 10 and 24.\n",
    "rng.integers(low=10, high=25, size=(2,4))"
   ]
  },
  {
   "cell_type": "markdown",
   "id": "9ed298d1",
   "metadata": {},
   "source": [
    "### **random** <sup id=\"a12\">[12](#f12)</sup>"
   ]
  },
  {
   "cell_type": "markdown",
   "id": "43aef6de",
   "metadata": {},
   "source": [
    "random.Generator.random(size=None, dtype=np.float64, out=None)"
   ]
  },
  {
   "cell_type": "markdown",
   "id": "4ccf4625-84bb-426d-9992-1f750726fdc1",
   "metadata": {},
   "source": [
    "The random function is used to return floating point numbers between 0.0 and 1.0."
   ]
  },
  {
   "cell_type": "markdown",
   "id": "45195ad6-7e4d-4d0c-8c66-f3292b41d591",
   "metadata": {},
   "source": [
    "Unlike with the integers function, random will work without passing an argument. If we do this, it will return a single floating point value betweeen 0.0 and 1.0."
   ]
  },
  {
   "cell_type": "code",
   "execution_count": 9,
   "id": "a430790b-6ffa-4459-886f-6efb5a388c4e",
   "metadata": {},
   "outputs": [
    {
     "data": {
      "text/plain": [
       "0.07467305008610314"
      ]
     },
     "execution_count": 9,
     "metadata": {},
     "output_type": "execute_result"
    }
   ],
   "source": [
    "# Generate a single random float between 0.0 and 1.0.\n",
    "rng.random()"
   ]
  },
  {
   "cell_type": "markdown",
   "id": "7f3c57ce-1cfa-4e79-b131-9ba5ec0f991d",
   "metadata": {},
   "source": [
    "If we need more than one random float, we can do this by specifying the size to the amount of random numbers we would like returned."
   ]
  },
  {
   "cell_type": "code",
   "execution_count": 10,
   "id": "5137a780-c968-4814-b3a5-aa0cc8f399e7",
   "metadata": {},
   "outputs": [
    {
     "data": {
      "text/plain": [
       "array([0.82866404, 0.39647675, 0.27271969, 0.91198   , 0.65082599,\n",
       "       0.08028585, 0.28983507, 0.21780557, 0.88151883, 0.00458745,\n",
       "       0.48661278, 0.92776287, 0.44441568, 0.58720763, 0.95106281,\n",
       "       0.950567  , 0.19280925, 0.15470241, 0.38282094, 0.79449169])"
      ]
     },
     "execution_count": 10,
     "metadata": {},
     "output_type": "execute_result"
    }
   ],
   "source": [
    "# Returns 20 random floats between 0.0 and 1.0\n",
    "rng.random(size = 20)"
   ]
  },
  {
   "cell_type": "markdown",
   "id": "285b8380-8ae6-4f1d-86e3-354cf39962cc",
   "metadata": {},
   "source": [
    "Multidimensional arrays can be generated by adding more than one value to the size argument in parentheses."
   ]
  },
  {
   "cell_type": "code",
   "execution_count": 11,
   "id": "2d4e89b7",
   "metadata": {},
   "outputs": [
    {
     "data": {
      "text/plain": [
       "array([[0.69239983, 0.14713054, 0.36540731, 0.71974321, 0.87442631],\n",
       "       [0.90027989, 0.45580314, 0.70161577, 0.87660193, 0.33415915],\n",
       "       [0.32399683, 0.47548262, 0.12408705, 0.63434442, 0.9643686 ]])"
      ]
     },
     "execution_count": 11,
     "metadata": {},
     "output_type": "execute_result"
    }
   ],
   "source": [
    "# Create 3 random arrays of 5 floats between 0.0 and 1.0\n",
    "rng.random(size = (3, 5))"
   ]
  },
  {
   "cell_type": "markdown",
   "id": "28b61d21-7d5d-4e97-a847-59e0b48ec2c1",
   "metadata": {},
   "source": [
    "Since the power of NumPy is in fast calculations with arrays, we can take advantage of this to create random arrays of values greater than 1.0. The example below multiplies the randomly generated floats by 10 before returning the array to us."
   ]
  },
  {
   "cell_type": "code",
   "execution_count": 12,
   "id": "0f2379e9",
   "metadata": {},
   "outputs": [
    {
     "data": {
      "text/plain": [
       "array([9.11850519, 0.88892002, 9.27423691, 5.75403986, 9.99751074])"
      ]
     },
     "execution_count": 12,
     "metadata": {},
     "output_type": "execute_result"
    }
   ],
   "source": [
    "# Multiplying a randomly created array of floats by 10.\n",
    "10 * rng.random(size = 5)"
   ]
  },
  {
   "cell_type": "markdown",
   "id": "61f94151",
   "metadata": {},
   "source": [
    "### **choice** <sup id=\"a13\">[13](#f13)</sup>"
   ]
  },
  {
   "cell_type": "markdown",
   "id": "c016e084",
   "metadata": {},
   "source": [
    "random.Generator.choice(a, size=None, replace=True, p=None, axis=0, shuffle=True)"
   ]
  },
  {
   "cell_type": "markdown",
   "id": "c987ff77-5516-4dcc-8e85-4be242bebe42",
   "metadata": {},
   "source": [
    "The choice function takes an array as an argument, and returns random values from that array to the user based on the parameters passed in by the user. Entering a single integer as an arguments means choice will select a random integer in the range of numbers from 0 up to the entered number."
   ]
  },
  {
   "cell_type": "code",
   "execution_count": 13,
   "id": "cca00237-f499-4b03-8504-0367d08c28c0",
   "metadata": {},
   "outputs": [
    {
     "data": {
      "text/plain": [
       "2"
      ]
     },
     "execution_count": 13,
     "metadata": {},
     "output_type": "execute_result"
    }
   ],
   "source": [
    "# Chooses a random number between 0 and 5 to return to the user\n",
    "rng.choice(5)"
   ]
  },
  {
   "cell_type": "markdown",
   "id": "597377af-064c-4be6-9de7-700b7ea73d9b",
   "metadata": {},
   "source": [
    "We can ask choice to return more values by specifying them alongside the initial number. In the below example, (10,3) means the cdode will return 3 numbers between 0 and 10. "
   ]
  },
  {
   "cell_type": "code",
   "execution_count": 14,
   "id": "3681bd76",
   "metadata": {},
   "outputs": [
    {
     "data": {
      "text/plain": [
       "array([6, 5, 0], dtype=int64)"
      ]
     },
     "execution_count": 14,
     "metadata": {},
     "output_type": "execute_result"
    }
   ],
   "source": [
    "# Takes 10 as an input and then selects 3 random ints up to 10\n",
    "rng.choice(10, 3)"
   ]
  },
  {
   "cell_type": "markdown",
   "id": "121e5a76-a584-4b39-8443-c43ff0e64052",
   "metadata": {},
   "source": [
    "In the above examples, the exact same outcome can be achieved by using the integers function. The below examples show where choice differs. For example, we can pass in a list of strings and ask choice to return a random item from that list to us. If we have a list of colours, and then pass that list as an argument using choice, we will get one colour randomly returned. "
   ]
  },
  {
   "cell_type": "code",
   "execution_count": 15,
   "id": "6adfb758",
   "metadata": {},
   "outputs": [
    {
     "data": {
      "text/plain": [
       "'black'"
      ]
     },
     "execution_count": 15,
     "metadata": {},
     "output_type": "execute_result"
    }
   ],
   "source": [
    "# A list of colours\n",
    "colours = [\"red\", \"blue\", \"green\", \"black\", \"yellow\"]\n",
    "\n",
    "# Using choice to randomly pick a colour\n",
    "rng.choice(colours)"
   ]
  },
  {
   "cell_type": "markdown",
   "id": "29dc07ee-37ef-459d-852f-689a827af73b",
   "metadata": {},
   "source": [
    "We can again get more than one value returned by specifying the size. By default, when selecting multiple items from a list, choice will replace the item chosen each time. That is to say, if we have 5 items in a list and choice picks one, the chosen item will be returned to the list where it can potentially be chosen again. If we don't want this to happen, we can set replacement to false. This means that when something is randomly chosen from our 5 item list, the chosen item will not be returned and cannot be selected again, meaning only one of the remaining 4 items from the list can be chosen. "
   ]
  },
  {
   "cell_type": "code",
   "execution_count": 16,
   "id": "f0ea7bc4-8197-4b65-a614-9a12bd64c13b",
   "metadata": {},
   "outputs": [
    {
     "data": {
      "text/plain": [
       "array(['red', 'black', 'yellow'], dtype='<U6')"
      ]
     },
     "execution_count": 16,
     "metadata": {},
     "output_type": "execute_result"
    }
   ],
   "source": [
    "# Selecting 3 random colours without replacement. \n",
    "rng.choice(colours, size= 3, replace=False)"
   ]
  },
  {
   "cell_type": "markdown",
   "id": "008f38c8-ecc3-4ded-9d57-bd0e425a986b",
   "metadata": {},
   "source": [
    "We can add probabilitys to bias the outcome chosen in certain directions. With our list of colors, we can bias the outcome by adding an array of values with the same amount of values as there are items in our list, which in this instance is 5. The values of p should add to 1. With the last value being the highest at 0., this means the last item in our list (yellow), is more likely to be randomly chosen, followed by black with a value of 0.3. The remaining items may still be chosen, but will not be chosen as frquently were the code run multiple times. "
   ]
  },
  {
   "cell_type": "code",
   "execution_count": 17,
   "id": "b0cd33c4",
   "metadata": {},
   "outputs": [
    {
     "data": {
      "text/plain": [
       "array(['yellow', 'yellow'], dtype='<U6')"
      ]
     },
     "execution_count": 17,
     "metadata": {},
     "output_type": "execute_result"
    }
   ],
   "source": [
    "# Select two colours randomly with replacement and a biased outcome\n",
    "rng.choice(colours, size=2, p = np.array([0.1, 0.1, 0.1, 0.3, 0.4]))"
   ]
  },
  {
   "cell_type": "markdown",
   "id": "27b13d59",
   "metadata": {},
   "source": [
    "### **bytes** <sup id=\"a14\">[14](#f14)</sup>"
   ]
  },
  {
   "cell_type": "markdown",
   "id": "414bd523",
   "metadata": {},
   "source": [
    "random.Generator.bytes(length)"
   ]
  },
  {
   "cell_type": "markdown",
   "id": "27200812-348c-4e22-a0a2-b1ef5889c95f",
   "metadata": {},
   "source": [
    "The bytes function only takes a single argument, and returns random bytes of the length passed. Random byte generation can be used in cryptography. However, PRNGs should not be used for security or cryptography purposes as they are not secure enough for this purpose.<sup id=\"a15\">[15](#f15)</sup>."
   ]
  },
  {
   "cell_type": "code",
   "execution_count": 18,
   "id": "de2cc869",
   "metadata": {},
   "outputs": [
    {
     "data": {
      "text/plain": [
       "b'\\xc0\\x90\\xe0A\\x93'"
      ]
     },
     "execution_count": 18,
     "metadata": {},
     "output_type": "execute_result"
    }
   ],
   "source": [
    "# Return 5 random bytes\n",
    "rng.bytes(5)"
   ]
  },
  {
   "cell_type": "markdown",
   "id": "3607c364",
   "metadata": {},
   "source": [
    "## \"Permutations\" functions\n",
    "---"
   ]
  },
  {
   "cell_type": "markdown",
   "id": "78b6fa81-f64e-40a2-bf42-5bbecf803bcd",
   "metadata": {},
   "source": [
    "The three Permutation methods can all be used for the random rearranging of items within an array."
   ]
  },
  {
   "cell_type": "markdown",
   "id": "02af79ca",
   "metadata": {},
   "source": [
    "### **shuffle**<sup id=\"a16\">[16](#f16)</sup>"
   ]
  },
  {
   "cell_type": "markdown",
   "id": "7d40d4c6",
   "metadata": {},
   "source": [
    "random.Generator.shuffle(x, axis=0)"
   ]
  },
  {
   "cell_type": "markdown",
   "id": "ebab81a3-2d14-49ff-975f-4f052c9133c9",
   "metadata": {},
   "source": [
    "The shuffle function takes in an a sequence or an array and returns everything in a new random order. Below we will create a variable containing the integers from 0-9 that we will then shuffle."
   ]
  },
  {
   "cell_type": "code",
   "execution_count": 19,
   "id": "bb7493e9",
   "metadata": {},
   "outputs": [
    {
     "data": {
      "text/plain": [
       "array([0, 1, 2, 3, 4, 5, 6, 7, 8, 9])"
      ]
     },
     "execution_count": 19,
     "metadata": {},
     "output_type": "execute_result"
    }
   ],
   "source": [
    "# Assign the range 0-9 (10 not inclusive) to the variable digits\n",
    "digits = np.arange(10)\n",
    "digits"
   ]
  },
  {
   "cell_type": "code",
   "execution_count": 20,
   "id": "a8dc1311-c236-45c3-a819-6727e2d80a28",
   "metadata": {},
   "outputs": [],
   "source": [
    "# Shuffle the array digits\n",
    "rng.shuffle(digits)"
   ]
  },
  {
   "cell_type": "markdown",
   "id": "c2be99a9-5ced-41c4-8bc0-fb4804f56def",
   "metadata": {},
   "source": [
    "Of note is that the shuffle function will alter the order of an array in place, which changes the contents of a variable. This means in this instance that the variable digits will no longer point to the array ([0, 1, 2, 3, 4, 5, 6, 7, 8, 9]). Rather, it will return the order they were shuffled into."
   ]
  },
  {
   "cell_type": "code",
   "execution_count": 21,
   "id": "08e9417d",
   "metadata": {},
   "outputs": [
    {
     "data": {
      "text/plain": [
       "array([2, 0, 1, 4, 6, 9, 5, 3, 7, 8])"
      ]
     },
     "execution_count": 21,
     "metadata": {},
     "output_type": "execute_result"
    }
   ],
   "source": [
    "# Returnn the shuffled array\n",
    "digits"
   ]
  },
  {
   "cell_type": "markdown",
   "id": "d08c2f7d-1b66-4880-9675-f2024da2f700",
   "metadata": {},
   "source": [
    "Shuffle can also be used to randomly reorder a list containing strings. "
   ]
  },
  {
   "cell_type": "code",
   "execution_count": 22,
   "id": "2687ab4c",
   "metadata": {},
   "outputs": [
    {
     "data": {
      "text/plain": [
       "['one', 'two', 'three', 'four', 'five', 'six', 'seven', 'eight', 'nine']"
      ]
     },
     "execution_count": 22,
     "metadata": {},
     "output_type": "execute_result"
    }
   ],
   "source": [
    "# Create a list of strings for the digits 0-9\n",
    "string_digits = [\"one\", \"two\", \"three\", \"four\", \"five\", \"six\", \"seven\", \"eight\", \"nine\"]\n",
    "string_digits"
   ]
  },
  {
   "cell_type": "code",
   "execution_count": 23,
   "id": "8569804c",
   "metadata": {},
   "outputs": [
    {
     "data": {
      "text/plain": [
       "['one', 'five', 'seven', 'four', 'eight', 'two', 'six', 'three', 'nine']"
      ]
     },
     "execution_count": 23,
     "metadata": {},
     "output_type": "execute_result"
    }
   ],
   "source": [
    "# Shuffle the list of strings and return it\n",
    "rng.shuffle(string_digits)\n",
    "string_digits"
   ]
  },
  {
   "cell_type": "markdown",
   "id": "b6d8cf5e-c0b7-4700-b3ad-f80596f00648",
   "metadata": {},
   "source": [
    "Shuffle can also be used to randomly reorder arrays, but it should be noted that the reordering will only take place along one dimension at a time. This means that shuffle can change the order of a row or a column, but it will not shuffle an item to both a new row and a new column at the same time."
   ]
  },
  {
   "cell_type": "code",
   "execution_count": 24,
   "id": "ca3d6b3e",
   "metadata": {},
   "outputs": [
    {
     "data": {
      "text/plain": [
       "array([[0, 1, 2],\n",
       "       [3, 4, 5],\n",
       "       [6, 7, 8]])"
      ]
     },
     "execution_count": 24,
     "metadata": {},
     "output_type": "execute_result"
    }
   ],
   "source": [
    "# Create a 3x3 array containing 0-8\n",
    "three_by_three = np.arange(9).reshape(3, 3)\n",
    "three_by_three"
   ]
  },
  {
   "cell_type": "markdown",
   "id": "fb4ce414-e306-4618-9812-25980f0f6ed5",
   "metadata": {},
   "source": [
    "By default, using shuffle on an array will rearrange the position of rows but will leave the items from each row in the original order"
   ]
  },
  {
   "cell_type": "code",
   "execution_count": 25,
   "id": "7d0f3b86",
   "metadata": {},
   "outputs": [
    {
     "data": {
      "text/plain": [
       "array([[3, 4, 5],\n",
       "       [0, 1, 2],\n",
       "       [6, 7, 8]])"
      ]
     },
     "execution_count": 25,
     "metadata": {},
     "output_type": "execute_result"
    }
   ],
   "source": [
    "rng.shuffle(three_by_three)\n",
    "three_by_three"
   ]
  },
  {
   "cell_type": "markdown",
   "id": "46c70c71-1348-4f05-95ee-09bb5be95833",
   "metadata": {},
   "source": [
    "However, if we set the axis to 1 as an argument, shuffle will instead change the order of the columns rather than rows."
   ]
  },
  {
   "cell_type": "code",
   "execution_count": 26,
   "id": "e48d6e67",
   "metadata": {},
   "outputs": [
    {
     "data": {
      "text/plain": [
       "array([[4, 3, 4, 3, 1],\n",
       "       [4, 5, 3, 5, 1],\n",
       "       [2, 2, 3, 3, 2],\n",
       "       [5, 2, 6, 6, 3],\n",
       "       [5, 1, 3, 3, 3]], dtype=int64)"
      ]
     },
     "execution_count": 26,
     "metadata": {},
     "output_type": "execute_result"
    }
   ],
   "source": [
    "# Generating a random 5x5 array\n",
    "five_by_five = rng.integers(low=1, high=7, size = (5,5))\n",
    "five_by_five"
   ]
  },
  {
   "cell_type": "code",
   "execution_count": 27,
   "id": "140f3eb8",
   "metadata": {},
   "outputs": [
    {
     "data": {
      "text/plain": [
       "array([[3, 1, 4, 3, 4],\n",
       "       [5, 1, 3, 5, 4],\n",
       "       [2, 2, 3, 3, 2],\n",
       "       [2, 3, 6, 6, 5],\n",
       "       [1, 3, 3, 3, 5]], dtype=int64)"
      ]
     },
     "execution_count": 27,
     "metadata": {},
     "output_type": "execute_result"
    }
   ],
   "source": [
    "# Randomly shuffle the order of the 5x5's columns\n",
    "rng.shuffle(five_by_five, axis=1)\n",
    "five_by_five"
   ]
  },
  {
   "cell_type": "markdown",
   "id": "fa6c3926",
   "metadata": {},
   "source": [
    "### **permutation**<sup id=\"a17\">[17](#f17)</sup>"
   ]
  },
  {
   "cell_type": "markdown",
   "id": "20ab72a1",
   "metadata": {},
   "source": [
    "random.Generator.permutation(x, axis=0)"
   ]
  },
  {
   "cell_type": "markdown",
   "id": "2e6a46e1-eeaa-4a08-bb69-d7a906b88c03",
   "metadata": {},
   "source": [
    "The permutation function will also return the entire contents of an array or list that has been passed to it in a new random order, but unlike shuffle, permutation will leave the original array intact and unchanged."
   ]
  },
  {
   "cell_type": "code",
   "execution_count": 28,
   "id": "4df04e33",
   "metadata": {},
   "outputs": [
    {
     "data": {
      "text/plain": [
       "array([0, 1, 2, 3, 4, 5, 6, 7, 8, 9])"
      ]
     },
     "execution_count": 28,
     "metadata": {},
     "output_type": "execute_result"
    }
   ],
   "source": [
    "# Assign the range 0-9 (10 not inclusive) to the variable digits2\n",
    "digits2 = np.arange(10)\n",
    "digits2"
   ]
  },
  {
   "cell_type": "code",
   "execution_count": 29,
   "id": "ae578d95",
   "metadata": {},
   "outputs": [
    {
     "data": {
      "text/plain": [
       "array([8, 9, 1, 0, 4, 2, 5, 3, 7, 6])"
      ]
     },
     "execution_count": 29,
     "metadata": {},
     "output_type": "execute_result"
    }
   ],
   "source": [
    "# Return the digits list in a new, random order\n",
    "rng.permutation(digits2)"
   ]
  },
  {
   "cell_type": "code",
   "execution_count": 30,
   "id": "68082ad8",
   "metadata": {},
   "outputs": [
    {
     "data": {
      "text/plain": [
       "array([0, 1, 2, 3, 4, 5, 6, 7, 8, 9])"
      ]
     },
     "execution_count": 30,
     "metadata": {},
     "output_type": "execute_result"
    }
   ],
   "source": [
    "# The original order of the variable digits2 is unchanged\n",
    "digits2"
   ]
  },
  {
   "cell_type": "markdown",
   "id": "1dc2886a-c26e-48db-a7f5-9373d9c52681",
   "metadata": {},
   "source": [
    "By default, permutation will rearrange multidimensional arrays in a similar manner to shuffle - it will move entire rows to a new position, but leave the order within each row unchanged."
   ]
  },
  {
   "cell_type": "code",
   "execution_count": 31,
   "id": "1d77197f",
   "metadata": {},
   "outputs": [
    {
     "data": {
      "text/plain": [
       "array([[ 0,  1,  2,  3,  4,  5],\n",
       "       [ 6,  7,  8,  9, 10, 11],\n",
       "       [12, 13, 14, 15, 16, 17],\n",
       "       [18, 19, 20, 21, 22, 23],\n",
       "       [24, 25, 26, 27, 28, 29],\n",
       "       [30, 31, 32, 33, 34, 35]])"
      ]
     },
     "execution_count": 31,
     "metadata": {},
     "output_type": "execute_result"
    }
   ],
   "source": [
    "# A 6x6 array\n",
    "six_by_six = np.arange(36).reshape(6,6)\n",
    "six_by_six"
   ]
  },
  {
   "cell_type": "code",
   "execution_count": 32,
   "id": "59d2e80d-dd99-41ed-af2d-6ffeea3adf82",
   "metadata": {},
   "outputs": [
    {
     "data": {
      "text/plain": [
       "array([[18, 19, 20, 21, 22, 23],\n",
       "       [30, 31, 32, 33, 34, 35],\n",
       "       [24, 25, 26, 27, 28, 29],\n",
       "       [12, 13, 14, 15, 16, 17],\n",
       "       [ 0,  1,  2,  3,  4,  5],\n",
       "       [ 6,  7,  8,  9, 10, 11]])"
      ]
     },
     "execution_count": 32,
     "metadata": {},
     "output_type": "execute_result"
    }
   ],
   "source": [
    "# Randomly reorder the 6x6 array with permutation.\n",
    "rng.permutation(six_by_six)"
   ]
  },
  {
   "cell_type": "markdown",
   "id": "1143d5e2-7711-4e4c-9715-662dd8787876",
   "metadata": {},
   "source": [
    "Permutation performs different to shuffle when axis is set to 1, however. While setiing to axis to 1 when using shuffle would move entre columns, in permutation it will instead shuffle the contents within each row, but leave each row in its original position. "
   ]
  },
  {
   "cell_type": "code",
   "execution_count": 33,
   "id": "c6a4e56c-6e06-49a3-bddb-676db6dd2d40",
   "metadata": {},
   "outputs": [
    {
     "data": {
      "text/plain": [
       "array([[ 3,  4,  1,  2,  5,  0],\n",
       "       [ 9, 10,  7,  8, 11,  6],\n",
       "       [15, 16, 13, 14, 17, 12],\n",
       "       [21, 22, 19, 20, 23, 18],\n",
       "       [27, 28, 25, 26, 29, 24],\n",
       "       [33, 34, 31, 32, 35, 30]])"
      ]
     },
     "execution_count": 33,
     "metadata": {},
     "output_type": "execute_result"
    }
   ],
   "source": [
    "# Shuffle the order of the contents of each row in the 6x6 array\n",
    "rng.permutation(six_by_six, axis=1)"
   ]
  },
  {
   "cell_type": "markdown",
   "id": "d30b4142",
   "metadata": {},
   "source": [
    "### **permuted**<sup id=\"a18\">[18](#f18)</sup>"
   ]
  },
  {
   "cell_type": "markdown",
   "id": "7b58c3be",
   "metadata": {},
   "source": [
    "random.Generator.permuted(x, axis=None, out=None)"
   ]
  },
  {
   "cell_type": "markdown",
   "id": "d4ad41ae-44e3-4a3f-96a4-7d6621161f81",
   "metadata": {},
   "source": [
    "The permuted function is a more recent addition, as of numpy 1.20<sup id=\"a19\">[19](#f19)</sup>. Permuted is more flexible than either shuffle or permutation. It can be used to rearrange content in-place, like with shuffle, or create a new rearranged copy, like with permutation. By only passing in an array, permuted will leave the original array intact, as permutations does."
   ]
  },
  {
   "cell_type": "code",
   "execution_count": 34,
   "id": "2ceaac73",
   "metadata": {},
   "outputs": [
    {
     "data": {
      "text/plain": [
       "array([[-20, -12, -19,  -2],\n",
       "       [ -2, -14, -18,  -9],\n",
       "       [ -8, -12,  -4,  -7],\n",
       "       [ -4,  -2, -15,  -2]], dtype=int64)"
      ]
     },
     "execution_count": 34,
     "metadata": {},
     "output_type": "execute_result"
    }
   ],
   "source": [
    "# Generate a random 4x4 array.\n",
    "# Negative random numbers can also be generated.\n",
    "four_by_four = rng.integers(low=-20, high=-1, size = (4,4))\n",
    "four_by_four"
   ]
  },
  {
   "cell_type": "code",
   "execution_count": 35,
   "id": "fa79a853-8a61-49e5-bf5f-b16e1d8ae83b",
   "metadata": {},
   "outputs": [
    {
     "data": {
      "text/plain": [
       "array([[-12,  -9, -15, -18],\n",
       "       [-19, -14,  -2,  -4],\n",
       "       [ -2, -20,  -2, -12],\n",
       "       [ -8,  -7,  -4,  -2]], dtype=int64)"
      ]
     },
     "execution_count": 35,
     "metadata": {},
     "output_type": "execute_result"
    }
   ],
   "source": [
    "# Reorder the 4x4 array.\n",
    "rng.permuted(four_by_four)"
   ]
  },
  {
   "cell_type": "code",
   "execution_count": 36,
   "id": "be3b9857-825a-4aa5-9d99-affb2d763b37",
   "metadata": {},
   "outputs": [
    {
     "data": {
      "text/plain": [
       "array([[-20, -12, -19,  -2],\n",
       "       [ -2, -14, -18,  -9],\n",
       "       [ -8, -12,  -4,  -7],\n",
       "       [ -4,  -2, -15,  -2]], dtype=int64)"
      ]
     },
     "execution_count": 36,
     "metadata": {},
     "output_type": "execute_result"
    }
   ],
   "source": [
    "# Calling 4x4 to show the original is unchanged.\n",
    "four_by_four"
   ]
  },
  {
   "cell_type": "markdown",
   "id": "fa57ac48-b092-410a-ad68-1dda91007e3b",
   "metadata": {},
   "source": [
    "We can compare and contrast shuffle, permutation, and permuted further by reusing the 3x3 array example from before."
   ]
  },
  {
   "cell_type": "code",
   "execution_count": 37,
   "id": "ca998195-44f7-4996-b55b-710727b02533",
   "metadata": {},
   "outputs": [
    {
     "data": {
      "text/plain": [
       "array([[3, 4, 5],\n",
       "       [0, 1, 2],\n",
       "       [6, 7, 8]])"
      ]
     },
     "execution_count": 37,
     "metadata": {},
     "output_type": "execute_result"
    }
   ],
   "source": [
    "# The 3x3 array of 0-9 that was randomly reordered using shuffle.\n",
    "three_by_three"
   ]
  },
  {
   "cell_type": "markdown",
   "id": "c113a323-e4d3-4d49-b52b-fc1a0cff4daa",
   "metadata": {},
   "source": [
    "Permuted will shuffle the values within each row, but leave the rows in place if we set axis to 1. This is similar to using permutation with axis set to 1"
   ]
  },
  {
   "cell_type": "code",
   "execution_count": 38,
   "id": "86c28e41",
   "metadata": {},
   "outputs": [
    {
     "data": {
      "text/plain": [
       "array([[3, 5, 4],\n",
       "       [1, 2, 0],\n",
       "       [7, 8, 6]])"
      ]
     },
     "execution_count": 38,
     "metadata": {},
     "output_type": "execute_result"
    }
   ],
   "source": [
    "# Use permuted to reorder the 3x3 array.\n",
    "permuted_three_by_three = rng.permuted(three_by_three, axis=1)\n",
    "permuted_three_by_three"
   ]
  },
  {
   "cell_type": "markdown",
   "id": "c3676161-20eb-44a8-8174-430982097913",
   "metadata": {},
   "source": [
    "Permuted returned a copy, leaving the original array reordered by shuffle unchanged"
   ]
  },
  {
   "cell_type": "code",
   "execution_count": 39,
   "id": "7b16a934",
   "metadata": {},
   "outputs": [
    {
     "data": {
      "text/plain": [
       "array([[3, 4, 5],\n",
       "       [0, 1, 2],\n",
       "       [6, 7, 8]])"
      ]
     },
     "execution_count": 39,
     "metadata": {},
     "output_type": "execute_result"
    }
   ],
   "source": [
    "# Recalling the shuffled 3x3 array\n",
    "three_by_three"
   ]
  },
  {
   "cell_type": "markdown",
   "id": "1f0c9a11-6ed0-44b4-ab9a-a45c60b83593",
   "metadata": {},
   "source": [
    "However, we can use permuted to overwrite the original array by passing the variable of the original array as an argument using out. If we don't pass in an axis argument, then the output withh be rearranged across both columns and rows, which neither shuffle nor permutation can do."
   ]
  },
  {
   "cell_type": "code",
   "execution_count": 40,
   "id": "1813c670",
   "metadata": {},
   "outputs": [],
   "source": [
    "# Using permuted to change the content of the original 3x3 array\n",
    "permuted_three_by_three = rng.permuted(three_by_three, out=three_by_three)"
   ]
  },
  {
   "cell_type": "markdown",
   "id": "146a9b3b-bb2c-459b-bf6f-27d36c58fc38",
   "metadata": {},
   "source": [
    "We can show that the new permuted 3x3 array and the original now have the same content."
   ]
  },
  {
   "cell_type": "code",
   "execution_count": 41,
   "id": "0178db52",
   "metadata": {},
   "outputs": [
    {
     "data": {
      "text/plain": [
       "array([[4, 0, 2],\n",
       "       [1, 5, 7],\n",
       "       [3, 6, 8]])"
      ]
     },
     "execution_count": 41,
     "metadata": {},
     "output_type": "execute_result"
    }
   ],
   "source": [
    "# Calling the 3x3 array\n",
    "three_by_three"
   ]
  },
  {
   "cell_type": "code",
   "execution_count": 42,
   "id": "84e743db",
   "metadata": {},
   "outputs": [
    {
     "data": {
      "text/plain": [
       "array([[4, 0, 2],\n",
       "       [1, 5, 7],\n",
       "       [3, 6, 8]])"
      ]
     },
     "execution_count": 42,
     "metadata": {},
     "output_type": "execute_result"
    }
   ],
   "source": [
    "# Calling the permuted 3x3 array\n",
    "permuted_three_by_three"
   ]
  },
  {
   "cell_type": "code",
   "execution_count": 43,
   "id": "36de1af1",
   "metadata": {},
   "outputs": [
    {
     "data": {
      "text/plain": [
       "True"
      ]
     },
     "execution_count": 43,
     "metadata": {},
     "output_type": "execute_result"
    }
   ],
   "source": [
    "# Show that the two 3x3 arrays have the same content\n",
    "three_by_three is permuted_three_by_three"
   ]
  },
  {
   "cell_type": "markdown",
   "id": "f666d67b",
   "metadata": {},
   "source": [
    "## Distributions\n",
    "---"
   ]
  },
  {
   "cell_type": "markdown",
   "id": "bcd75325-eca1-40d6-8a20-84ae1d1d93df",
   "metadata": {},
   "source": [
    "A probability distribution shows us the likelihood of different possible occurrences for an event<sup id=\"a20\">[20](#f20)</sup>. The probability distribution most relevant to our needs depends on the type of data we’re working with and the expected outcomes. There are times when you have a particular type of data in mind that follows a particular probability distribution that you want to simulate, and to that end NumPy allows you to generate data that matches the parameters of different probability distributions. The section below looks at five of these distributions."
   ]
  },
  {
   "cell_type": "markdown",
   "id": "84f4663f",
   "metadata": {},
   "source": [
    "### **binomial**<sup id=\"a21\">[21](#f21)</sup>"
   ]
  },
  {
   "cell_type": "markdown",
   "id": "bb170eff",
   "metadata": {},
   "source": [
    "random.Generator.binomial(n, p, size=None)"
   ]
  },
  {
   "cell_type": "markdown",
   "id": "3ab1ce7c-6e8d-4da0-9254-565dd5f54cba",
   "metadata": {},
   "source": [
    "A binomial distribution tracks trials and records a binary success/failure outcome of trials<sup id=\"a22\">[22](#f22)</sup>. An everyday example of this would be flipping a coin with different faces. The coin can land either head up or tails up. We can use the binomial function to quickly simulate a randomm binomial distrution for events such as coin flips. To do this we need to include two arguments. The first is n, which is the number of trials we want simulated. In this instance, there will be 20 trials, simply meaning there will be 20 simulated coin flips, and then we will receive an output as to the number of heads that were observed. The second is p, which is the probability of success. This must be between 0 and 1. A fair coin has a probability of 0.5, as the coin has an equal chance of landing heads up or tails up. Other binomial observations might have one outcome more likely or more rare than the other. An example of this might be observing the number of penalties scored vs penalties missed in soccer, which should be weighted around 0.7549 in favour of penalties scored<sup id=\"a23\">[23](#f23)</sup>. We can finally specify a size, which is how many times the trial is repeated. By setting the size to 100, that means the process of 20 coin flips will be repeated 100 times, giving a total of 2000 coin flips in the simulation. "
   ]
  },
  {
   "cell_type": "code",
   "execution_count": 44,
   "id": "b0fe52f3",
   "metadata": {},
   "outputs": [],
   "source": [
    "# Setting the number of trials\n",
    "n = 20\n",
    "\n",
    "# Setting the probablity of success \n",
    "p = 0.5"
   ]
  },
  {
   "cell_type": "code",
   "execution_count": 45,
   "id": "4c653457",
   "metadata": {},
   "outputs": [],
   "source": [
    "# Generating a random binomial distribution\n",
    "\n",
    "coin_flip = rng.binomial(n, p, size=100)"
   ]
  },
  {
   "cell_type": "markdown",
   "id": "7e943570-7ed8-4a03-9f02-32cb3d939084",
   "metadata": {},
   "source": [
    "We can take the resulting array as giving us the number of heads after every 20 coin flips"
   ]
  },
  {
   "cell_type": "code",
   "execution_count": 46,
   "id": "13222970",
   "metadata": {},
   "outputs": [
    {
     "data": {
      "text/plain": [
       "array([ 9, 11, 10,  8,  6,  7,  5,  9,  8,  8,  9,  8,  8, 15, 10, 16,  9,\n",
       "       12,  8,  9, 10, 13,  7,  9, 14, 13, 13, 11, 12, 17,  8,  6,  8, 10,\n",
       "        8, 14, 12,  8, 11,  9, 11, 10, 12, 12,  8,  8,  8,  6, 10,  9,  8,\n",
       "        6,  7,  8, 10, 12,  7,  5, 11,  8,  9,  9, 12, 14,  7, 14,  8, 11,\n",
       "       14, 11,  9, 10, 12, 12, 13,  9, 13, 10,  7,  8, 14, 13,  9, 14, 11,\n",
       "       10,  6, 12, 14,  8,  7, 10,  7,  7,  9, 14,  7,  6,  9, 10],\n",
       "      dtype=int64)"
      ]
     },
     "execution_count": 46,
     "metadata": {},
     "output_type": "execute_result"
    }
   ],
   "source": [
    "# View the randomly generated array\n",
    "coin_flip"
   ]
  },
  {
   "cell_type": "markdown",
   "id": "3a38f987-57c7-4b50-bc4c-be7603074ae4",
   "metadata": {},
   "source": [
    "We can plot the distribution to visualise the generated data. We should expect that the most common outcomes will be close to 10, and that lower and higer outcomes were incresingly unlikely. The output won't be exactly the same every time the code is run, but we should see a similar pattern which makes sense as we should expect a coin to land heads or tails 10 times each after 20 tosses, but we should also expect there will be rarer occasions when one value appeared much more common than the other."
   ]
  },
  {
   "cell_type": "code",
   "execution_count": 47,
   "id": "003feb59",
   "metadata": {},
   "outputs": [
    {
     "data": {
      "text/plain": [
       "(array([ 8., 10., 19., 15., 12., 18.,  6.,  9.,  1.,  2.]),\n",
       " array([ 5. ,  6.2,  7.4,  8.6,  9.8, 11. , 12.2, 13.4, 14.6, 15.8, 17. ]),\n",
       " <BarContainer object of 10 artists>)"
      ]
     },
     "execution_count": 47,
     "metadata": {},
     "output_type": "execute_result"
    },
    {
     "data": {
      "image/png": "[encoded data removed]",
      "text/plain": [
       "<Figure size 432x288 with 1 Axes>"
      ]
     },
     "metadata": {
      "needs_background": "light"
     },
     "output_type": "display_data"
    }
   ],
   "source": [
    "# Plotting the randomly generated data\n",
    "plt.hist(coin_flip, bins=10)"
   ]
  },
  {
   "cell_type": "markdown",
   "id": "d0d5c445",
   "metadata": {},
   "source": [
    "### **normal**<sup id=\"a24\">[24](#f24)</sup>"
   ]
  },
  {
   "cell_type": "markdown",
   "id": "14fb095f",
   "metadata": {},
   "source": [
    "random.Generator.normal(loc=0.0, scale=1.0, size=None)"
   ]
  },
  {
   "cell_type": "markdown",
   "id": "e5bf8db4-21dd-4d87-b261-7cb5c022eb55",
   "metadata": {},
   "source": [
    "The normal (or Gaussian) distribution is a continous continuous probability distribution that is recognisable due to its \"bell-shaped curve\" appearance<sup id=\"a25\">[25](#f25)</sup>. A lot of real world data, such as height, IQ scores, and heartrate fit a normal distribution and a common assumption is that data collected is normally distributed thus allowing extrapolition to wider populations<sup id=\"a26\">[26](#f26)</sup>. The distribution centers around the mean, which is where the probability is highest. Around 68% of the data falls within one standard deviation of the mean, 95% within 2 standard deviations of the mean, and 98% falling within 3 standard deviations of the mean, with standard deviation telling us how widely spread the data values are. As such, we can generate a random normal distribution if we know the mean and standard deviation of the data we wish to generate. For the example below a mean, which is often represented by the greek letter mu, is set as 100 and the standard deviation, which is often represented by the Greek letter sigma, is set at 15. Entering a size of 100 means that 100 datapoints are generated."
   ]
  },
  {
   "cell_type": "code",
   "execution_count": 48,
   "id": "81b81782",
   "metadata": {},
   "outputs": [],
   "source": [
    "# Mean\n",
    "mu = 100\n",
    "\n",
    "#Standard Deviation\n",
    "sigma = 15"
   ]
  },
  {
   "cell_type": "code",
   "execution_count": 49,
   "id": "d393b434",
   "metadata": {},
   "outputs": [
    {
     "data": {
      "text/plain": [
       "array([ 70.48520744,  83.41959912, 124.70765618, 100.98280448,\n",
       "        93.18200399, 109.37714156,  97.83953657,  89.28917427,\n",
       "        92.09238771,  81.22084184,  91.20362905, 102.49315103,\n",
       "       112.60587699, 113.27485184,  83.33602798,  83.86573843,\n",
       "       126.84990173, 103.98600364,  80.31504209,  82.39685399,\n",
       "       117.30990435, 116.4896805 ,  87.06617421,  97.12226924,\n",
       "       101.32529527, 116.31224376,  90.16767037,  86.20749896,\n",
       "        79.33867941, 109.83154069, 112.72918323,  83.57879466,\n",
       "       126.28766743,  84.98620494, 105.42606493,  97.26515497,\n",
       "       126.76693339, 105.49462688,  94.61619957,  99.62259024,\n",
       "        76.50095348, 121.09168101,  74.36980003,  99.33238298,\n",
       "       108.36482627,  84.68927557,  87.60259063,  80.36379138,\n",
       "        78.40046062,  91.69233699,  80.60689838,  75.95925696,\n",
       "       107.94882191, 120.97273532, 103.62012343, 116.94433622,\n",
       "       114.36258072,  93.3813788 , 109.31904697, 113.50761758,\n",
       "       129.17148241, 109.34161536, 105.83219439, 114.17987509,\n",
       "       102.54499648, 107.3070355 , 111.77428593, 105.63745099,\n",
       "        75.70720624,  85.98607294,  80.15909454,  97.56037887,\n",
       "       101.08305795,  77.80510753,  99.38310479, 100.98852145,\n",
       "       114.58545356, 103.59666656, 104.56760591,  87.9244376 ,\n",
       "       121.76964955,  84.83518874,  87.26743466, 105.54995273,\n",
       "        91.21044391,  98.34368295,  93.89808438,  93.82540236,\n",
       "       119.45800657,  78.05034395, 113.19327138, 111.10555913,\n",
       "        95.36374815, 107.77729925, 103.62390832,  98.01448577,\n",
       "        96.99187292, 108.36218169,  92.90239364,  92.35852714])"
      ]
     },
     "execution_count": 49,
     "metadata": {},
     "output_type": "execute_result"
    }
   ],
   "source": [
    "# A random example of 100 samples from a normal distribution\n",
    "normal = rng.normal(mu, sigma, size=100)\n",
    "normal"
   ]
  },
  {
   "cell_type": "markdown",
   "id": "da9e430c-49fc-4444-9cb2-84d65edf8c6c",
   "metadata": {},
   "source": [
    "A smaller sample size generally leads to a plot that vaguely resembles the bell shaped curve the random values were drawn from. We can see this by generating a plot of the data."
   ]
  },
  {
   "cell_type": "code",
   "execution_count": 50,
   "id": "c51edf16",
   "metadata": {},
   "outputs": [
    {
     "data": {
      "text/plain": [
       "(array([1., 0., 0., 1., 2., 1., 3., 1., 4., 1., 2., 3., 3., 2., 4., 0., 2.,\n",
       "        2., 3., 5., 1., 1., 3., 4., 3., 2., 2., 2., 4., 5., 1., 3., 2., 4.,\n",
       "        1., 3., 3., 3., 0., 4., 0., 1., 0., 3., 0., 0., 1., 2., 1., 1.]),\n",
       " array([ 70.48520744,  71.65893294,  72.83265844,  74.00638394,\n",
       "         75.18010944,  76.35383494,  77.52756044,  78.70128594,\n",
       "         79.87501144,  81.04873694,  82.22246244,  83.39618794,\n",
       "         84.56991343,  85.74363893,  86.91736443,  88.09108993,\n",
       "         89.26481543,  90.43854093,  91.61226643,  92.78599193,\n",
       "         93.95971743,  95.13344293,  96.30716843,  97.48089393,\n",
       "         98.65461943,  99.82834493, 101.00207043, 102.17579593,\n",
       "        103.34952143, 104.52324693, 105.69697243, 106.87069792,\n",
       "        108.04442342, 109.21814892, 110.39187442, 111.56559992,\n",
       "        112.73932542, 113.91305092, 115.08677642, 116.26050192,\n",
       "        117.43422742, 118.60795292, 119.78167842, 120.95540392,\n",
       "        122.12912942, 123.30285492, 124.47658042, 125.65030592,\n",
       "        126.82403142, 127.99775692, 129.17148241]),\n",
       " <BarContainer object of 50 artists>)"
      ]
     },
     "execution_count": 50,
     "metadata": {},
     "output_type": "execute_result"
    },
    {
     "data": {
      "image/png": "[encoded data removed]",
      "text/plain": [
       "<Figure size 432x288 with 1 Axes>"
      ]
     },
     "metadata": {
      "needs_background": "light"
     },
     "output_type": "display_data"
    }
   ],
   "source": [
    "# View the randomly generated normal data\n",
    "plt.hist(normal, bins = 50)"
   ]
  },
  {
   "cell_type": "markdown",
   "id": "aca0a2f6-1967-4749-a83f-9cbf53045acb",
   "metadata": {},
   "source": [
    "Use the same mean and standard deviation, but increase the sample size, we can see when the points are ploted that the plot closely resembles a bell shape. "
   ]
  },
  {
   "cell_type": "code",
   "execution_count": 51,
   "id": "e38b6952",
   "metadata": {},
   "outputs": [
    {
     "data": {
      "text/plain": [
       "(array([  4.,   2.,   2.,   2.,   7.,  12.,  12.,  30.,  33.,  54.,  60.,\n",
       "         86., 122., 146., 201., 223., 268., 333., 409., 391., 477., 511.,\n",
       "        524., 590., 612., 580., 550., 535., 477., 493., 432., 360., 296.,\n",
       "        258., 245., 177., 156.,  92.,  67.,  59.,  30.,  26.,  21.,   9.,\n",
       "          8.,   3.,   7.,   4.,   3.,   1.]),\n",
       " array([ 44.54356596,  46.77625743,  49.0089489 ,  51.24164038,\n",
       "         53.47433185,  55.70702332,  57.9397148 ,  60.17240627,\n",
       "         62.40509774,  64.63778922,  66.87048069,  69.10317216,\n",
       "         71.33586364,  73.56855511,  75.80124658,  78.03393806,\n",
       "         80.26662953,  82.499321  ,  84.73201248,  86.96470395,\n",
       "         89.19739542,  91.4300869 ,  93.66277837,  95.89546984,\n",
       "         98.12816132, 100.36085279, 102.59354426, 104.82623574,\n",
       "        107.05892721, 109.29161868, 111.52431015, 113.75700163,\n",
       "        115.9896931 , 118.22238457, 120.45507605, 122.68776752,\n",
       "        124.92045899, 127.15315047, 129.38584194, 131.61853341,\n",
       "        133.85122489, 136.08391636, 138.31660783, 140.54929931,\n",
       "        142.78199078, 145.01468225, 147.24737373, 149.4800652 ,\n",
       "        151.71275667, 153.94544815, 156.17813962]),\n",
       " <BarContainer object of 50 artists>)"
      ]
     },
     "execution_count": 51,
     "metadata": {},
     "output_type": "execute_result"
    },
    {
     "data": {
      "image/png": "[encoded data removed]",
      "text/plain": [
       "<Figure size 432x288 with 1 Axes>"
      ]
     },
     "metadata": {
      "needs_background": "light"
     },
     "output_type": "display_data"
    }
   ],
   "source": [
    "# Generating 10000 random normal distribution datapoints\n",
    "normal_higher = rng.normal(mu, sigma, 10000)\n",
    "\n",
    "# Plotting the randomly generated data\n",
    "plt.hist(normal_higher, bins = 50)"
   ]
  },
  {
   "cell_type": "markdown",
   "id": "bfb6b36e-25a9-4f69-a8f9-660e7bb2fa58",
   "metadata": {},
   "source": [
    "Changing the standard deviation will change the size of the curve that the datapoints are drawn from. A larger standard deviation will make the curve wider and shorter while a smaller one will make the curve narrower and taller."
   ]
  },
  {
   "cell_type": "code",
   "execution_count": 52,
   "id": "e3a04cf6",
   "metadata": {},
   "outputs": [],
   "source": [
    "# Creating new standard deviation points\n",
    "sigma_wide = 50\n",
    "sigma_narrow = 7\n",
    "\n",
    "# Using the new standard deviations to generate random data\n",
    "normal_wide = rng.normal(mu, sigma_wide, 10000)\n",
    "normal_narrow = rng.normal(mu, sigma_narrow, 10000)"
   ]
  },
  {
   "cell_type": "code",
   "execution_count": 53,
   "id": "9161b5f0",
   "metadata": {},
   "outputs": [
    {
     "data": {
      "text/plain": [
       "array([189.85286333, 218.77039184,  87.09443997, ..., 119.88005825,\n",
       "        -3.08886109,  25.21147083])"
      ]
     },
     "execution_count": 53,
     "metadata": {},
     "output_type": "execute_result"
    }
   ],
   "source": [
    "# View the wider data\n",
    "normal_wide"
   ]
  },
  {
   "cell_type": "code",
   "execution_count": 54,
   "id": "9562ca5f-ca7d-403c-8542-e30e8d514e80",
   "metadata": {},
   "outputs": [
    {
     "data": {
      "text/plain": [
       "array([ 99.54769106, 102.70930738, 102.74069746, ...,  95.0271267 ,\n",
       "       109.91397747,  86.92577965])"
      ]
     },
     "execution_count": 54,
     "metadata": {},
     "output_type": "execute_result"
    }
   ],
   "source": [
    "# View the narrower data\n",
    "normal_narrow"
   ]
  },
  {
   "cell_type": "code",
   "execution_count": 55,
   "id": "caef8ab4-8c8c-468a-8c78-0180464b11b3",
   "metadata": {},
   "outputs": [
    {
     "data": {
      "image/png": "[encoded data removed]",
      "text/plain": [
       "<Figure size 432x288 with 1 Axes>"
      ]
     },
     "metadata": {
      "needs_background": "light"
     },
     "output_type": "display_data"
    }
   ],
   "source": [
    "# Plot the wise and narrow data\n",
    "\n",
    "plt.hist([normal_wide, normal_narrow], bins = 50, label=['normal_wide', 'normal narrow'])\n",
    "plt.legend(loc='upper right')\n",
    "plt.show()"
   ]
  },
  {
   "cell_type": "markdown",
   "id": "17cbb2ab",
   "metadata": {},
   "source": [
    "### **uniform**<sup id=\"a27\">[27](#f27)</sup>"
   ]
  },
  {
   "cell_type": "markdown",
   "id": "2b6a37fd",
   "metadata": {},
   "source": [
    "random.Generator.uniform(low=0.0, high=1.0, size=None)"
   ]
  },
  {
   "cell_type": "markdown",
   "id": "5c460ff3-f872-4bb0-9066-f5f3e9a1cc29",
   "metadata": {},
   "source": [
    "A uniform distribution is continous distribution in which the probability is consistent throughout<sup id=\"a28\">[28](#f28)</sup>. The data is generating by providing a lower and upper bound for the generated data to be drawn from. In this example the lower bound is 1 and the upper bound is 6."
   ]
  },
  {
   "cell_type": "code",
   "execution_count": 56,
   "id": "ae40029e",
   "metadata": {},
   "outputs": [
    {
     "data": {
      "text/plain": [
       "array([4.56094204, 4.55040428, 1.5051438 , 3.66693791, 1.71834896,\n",
       "       3.95378552, 3.58230009, 3.4418737 , 2.10140913, 4.56300644,\n",
       "       2.6049768 , 4.6150331 , 5.39646762, 3.96905071, 5.64460538,\n",
       "       3.5610569 , 1.49014622, 3.25915304, 3.22665547, 3.30846021,\n",
       "       5.73654328, 2.53054422, 1.32247534, 1.90157036, 2.13378344,\n",
       "       1.37818618, 4.97993459, 1.22734469, 1.4406598 , 5.18562557,\n",
       "       5.66613286, 2.47272126, 1.7790557 , 5.94713985, 2.74866585,\n",
       "       5.06178895, 3.5761819 , 3.27810554, 4.53449426, 5.60563603,\n",
       "       1.31451651, 5.72123208, 4.2655945 , 4.06045368, 2.20886466,\n",
       "       3.93252395, 4.07334651, 4.75794479, 1.61101266, 5.95071666,\n",
       "       2.89835855, 2.60421441, 3.64426927, 1.03693639, 4.64286069,\n",
       "       3.63668954, 5.28981826, 4.30789841, 3.05079274, 1.87949073,\n",
       "       3.92312468, 2.9854695 , 1.65038602, 5.93833123, 2.94522844,\n",
       "       1.77021963, 1.4800392 , 3.1696083 , 5.07606713, 5.28737337,\n",
       "       5.87318984, 4.32227624, 4.24909135, 4.38034181, 3.5434501 ,\n",
       "       1.57095192, 2.93492485, 4.40946042, 1.91081741, 5.24149062,\n",
       "       5.00101624, 5.70845097, 2.77243562, 3.49920015, 2.01551123,\n",
       "       4.27613192, 5.25363201, 4.46874832, 2.96575478, 4.17841106,\n",
       "       3.46791941, 3.25897051, 2.82169981, 2.57606726, 5.8664728 ,\n",
       "       4.44125422, 1.15516192, 1.09250685, 3.85372101, 3.47132648])"
      ]
     },
     "execution_count": 56,
     "metadata": {},
     "output_type": "execute_result"
    }
   ],
   "source": [
    "# Generating 100 random floats between 1 and 6\n",
    "uniform = rng.uniform(1,6,100)\n",
    "uniform"
   ]
  },
  {
   "cell_type": "markdown",
   "id": "5f527269-167f-47d2-a8f2-04f88413e1c7",
   "metadata": {},
   "source": [
    "As a sample size of 100 is quite small, the resulting plot may not appear completely uniform due to chance, and the values tend to become more uniform as the sample size increases."
   ]
  },
  {
   "cell_type": "code",
   "execution_count": 57,
   "id": "c606aea1",
   "metadata": {},
   "outputs": [
    {
     "data": {
      "text/plain": [
       "(array([17., 12., 18., 20., 16., 17.]),\n",
       " array([1.03693639, 1.85589977, 2.67486314, 3.49382652, 4.3127899 ,\n",
       "        5.13175328, 5.95071666]),\n",
       " <BarContainer object of 6 artists>)"
      ]
     },
     "execution_count": 57,
     "metadata": {},
     "output_type": "execute_result"
    },
    {
     "data": {
      "image/png": "[encoded data removed]",
      "text/plain": [
       "<Figure size 432x288 with 1 Axes>"
      ]
     },
     "metadata": {
      "needs_background": "light"
     },
     "output_type": "display_data"
    }
   ],
   "source": [
    "# Plotting the randomly generated uniform data\n",
    "plt.hist(uniform, bins=6)"
   ]
  },
  {
   "cell_type": "markdown",
   "id": "aeb8d683-d1d7-4021-96a5-f9213dfbb41f",
   "metadata": {},
   "source": [
    "By increasing the sample size to 10000 we should expect the resulting data make more of a rectangular shape. "
   ]
  },
  {
   "cell_type": "code",
   "execution_count": 58,
   "id": "23ae0024-0597-4bbe-9bb6-d874364c47b1",
   "metadata": {},
   "outputs": [
    {
     "data": {
      "text/plain": [
       "(array([1677., 1689., 1578., 1676., 1694., 1686.]),\n",
       " array([1.00097669, 1.83404457, 2.66711246, 3.50018035, 4.33324823,\n",
       "        5.16631612, 5.999384  ]),\n",
       " <BarContainer object of 6 artists>)"
      ]
     },
     "execution_count": 58,
     "metadata": {},
     "output_type": "execute_result"
    },
    {
     "data": {
      "image/png": "[encoded data removed]",
      "text/plain": [
       "<Figure size 432x288 with 1 Axes>"
      ]
     },
     "metadata": {
      "needs_background": "light"
     },
     "output_type": "display_data"
    }
   ],
   "source": [
    "# Repeating the random generation with a higher sample size of 10000\n",
    "uniform_higher = rng.uniform(1,6,10000)\n",
    "plt.hist(uniform_higher, bins=6)"
   ]
  },
  {
   "cell_type": "markdown",
   "id": "9623b95e",
   "metadata": {},
   "source": [
    "### **poisson**<sup id=\"a29\">[29](#f29)</sup>"
   ]
  },
  {
   "cell_type": "markdown",
   "id": "8aeaf010",
   "metadata": {},
   "source": [
    "random.Generator.poisson(lam=1.0, size=None)"
   ]
  },
  {
   "cell_type": "markdown",
   "id": "f7fcbbc5-793f-4412-8b49-643f9f647bc1",
   "metadata": {},
   "source": [
    "A poisson distribution expresses the probability of a number of events within a particular timeframe<sup id=\"a30\">[30](#f30)</sup>. A real world example might be if a business typically receives 5 orders an hour, with the typical value often being represented by the Greek letter lamba, we can derive the probabilty of the business receiving only 2 orders an hour, or 10 orders an hour. We can define a size to simulate the amount of times we want to draw a random sample from the distribution. In this instance, 500 datapoints will be generated."
   ]
  },
  {
   "cell_type": "code",
   "execution_count": 59,
   "id": "2b5e7170",
   "metadata": {},
   "outputs": [
    {
     "data": {
      "text/plain": [
       "array([ 3,  5,  6,  4,  2,  4,  6,  7,  1,  1,  3, 10,  5,  9,  6,  2,  1,\n",
       "       10,  1,  3,  6,  8,  7,  8,  3,  6,  5,  7,  6,  7,  4,  3,  4,  9,\n",
       "        8,  8,  2,  3,  8,  6,  2,  5,  7,  2,  9,  8,  6,  4,  5,  5,  6,\n",
       "        5,  5,  6,  1,  7,  2,  4,  7,  1,  5,  5,  9,  6,  4,  6,  7,  4,\n",
       "        5,  7,  6,  5,  1,  2,  6,  7,  7,  3,  7,  3,  6,  1,  4,  6,  2,\n",
       "        1,  4,  7,  4,  5,  6,  6,  1,  1,  2,  3,  2,  4,  7,  3,  5,  7,\n",
       "        6,  4,  3,  3,  4,  6,  4,  5,  4,  4,  5,  5,  6,  7,  6,  6,  6,\n",
       "        6,  3,  6,  7,  4,  2,  4,  7,  3, 11,  6,  6,  3,  6,  4,  4,  8,\n",
       "        5,  7,  4,  5,  7,  4,  6,  2,  8,  5,  2,  5,  2,  7,  1,  2,  3,\n",
       "        3,  0,  5,  6,  5,  4,  0,  0,  4,  8,  5,  6, 10,  4,  2,  2,  3,\n",
       "        5,  9,  3,  2,  4,  7,  5,  5,  5,  4,  6,  3,  8,  8,  0,  5,  5,\n",
       "        8,  5,  4,  5,  5,  5,  3,  3,  6,  4,  3,  8, 11,  6,  3,  1,  5,\n",
       "        6,  4,  3,  4, 12,  4,  7,  7,  5,  5,  4,  6,  8,  4,  5, 10,  4,\n",
       "        2,  4,  2,  5,  9,  4,  7,  3,  8,  7,  9,  7,  6,  4,  6,  6,  5,\n",
       "        3,  8,  4,  8,  2,  6,  6,  6,  5,  8,  3,  7,  6,  6,  5,  3,  6,\n",
       "        6,  5,  5,  6,  4,  7,  2,  4,  5,  7,  2,  5,  3,  8,  5,  6,  2,\n",
       "        1,  4,  4,  4,  5,  6,  4,  5,  8,  6, 13,  3,  2,  2,  3,  6,  7,\n",
       "        7,  9,  7,  2,  5,  3,  7,  4,  5,  7,  5,  5,  3,  5,  4,  7,  5,\n",
       "        5,  5,  8,  5,  0,  2,  5,  2,  8,  7, 10,  7,  1, 11,  2,  3, 10,\n",
       "        4,  6,  6,  4,  2,  5,  6,  5,  3,  4,  3,  4,  4,  4,  5,  3,  5,\n",
       "        8,  3,  4,  4,  5,  6,  5,  5,  4,  4,  7,  9,  4,  6,  8,  5,  3,\n",
       "        4,  7,  5,  6,  2,  6,  5,  2,  8,  4,  3,  3,  2,  2,  4,  4,  3,\n",
       "        8,  4,  5, 10,  6,  1,  5,  7,  4,  9,  8,  8,  8,  3,  4,  3,  3,\n",
       "        5,  2,  3,  6, 11,  7,  1,  6,  7,  6,  8,  8,  1,  3,  4,  6,  2,\n",
       "        3,  4,  3,  4,  5,  6,  6,  4,  3,  7,  9, 10,  2,  3,  1,  2,  3,\n",
       "        2,  7,  5,  3,  5,  6,  7,  6,  4,  5,  4,  4,  8,  4,  5,  5,  3,\n",
       "        3,  8,  7,  3,  4,  3,  6,  3,  6,  5,  2,  4,  6,  6,  6,  5,  5,\n",
       "        8,  3,  5,  7,  6,  6,  5,  4,  4,  6,  4,  6,  2,  3,  3,  7,  2,\n",
       "        4,  2,  1,  6,  3,  5,  3,  7,  7,  1,  8,  4,  4,  8,  2,  4, 10,\n",
       "        7,  4,  5,  5,  4,  3,  2], dtype=int64)"
      ]
     },
     "execution_count": 59,
     "metadata": {},
     "output_type": "execute_result"
    }
   ],
   "source": [
    "# Generating random data from a poisson distribution\n",
    "lamda = 5\n",
    "poisson = rng.poisson(lamda, size=500)\n",
    "poisson"
   ]
  },
  {
   "cell_type": "markdown",
   "id": "116c7c65-9023-4fa7-9aad-00621b563345",
   "metadata": {},
   "source": [
    "We can visualise the probabilities of possible outcomes with a plot."
   ]
  },
  {
   "cell_type": "code",
   "execution_count": 60,
   "id": "03b76741",
   "metadata": {},
   "outputs": [
    {
     "data": {
      "text/plain": [
       "(array([ 26.,  46.,  65., 171.,  78.,  52.,  47.,   9.,   4.,   2.]),\n",
       " array([ 0. ,  1.3,  2.6,  3.9,  5.2,  6.5,  7.8,  9.1, 10.4, 11.7, 13. ]),\n",
       " <BarContainer object of 10 artists>)"
      ]
     },
     "execution_count": 60,
     "metadata": {},
     "output_type": "execute_result"
    },
    {
     "data": {
      "image/png": "[encoded data removed]",
      "text/plain": [
       "<Figure size 432x288 with 1 Axes>"
      ]
     },
     "metadata": {
      "needs_background": "light"
     },
     "output_type": "display_data"
    }
   ],
   "source": [
    "# Generate a plot of the random poisson data\n",
    "plt.hist(poisson)"
   ]
  },
  {
   "cell_type": "markdown",
   "id": "701f0afa",
   "metadata": {},
   "source": [
    "### **exponential**<sup id=\"a31\">[31](#f31)</sup>"
   ]
  },
  {
   "cell_type": "markdown",
   "id": "4438eb5f",
   "metadata": {},
   "source": [
    "random.Generator.exponential(scale=1.0, size=None)"
   ]
  },
  {
   "cell_type": "markdown",
   "id": "31c55713-1cb4-4b0c-8bcc-3e16c8fb83da",
   "metadata": {},
   "source": [
    "An exponential distribution shows the distribution of the time between poisson events<sup id=\"a32\">[32](#f32)</sup>. The distribution will have a peak at the point in which poisson events are most rare, and will become more steep as the events become more common, before levelling out again as events become more rare at the other end of the scale. "
   ]
  },
  {
   "cell_type": "code",
   "execution_count": 61,
   "id": "4029955a",
   "metadata": {},
   "outputs": [
    {
     "data": {
      "text/plain": [
       "array([ 5.611964  , 10.38705692,  6.03742892,  1.01643012,  1.46153077,\n",
       "        8.19017341,  0.80982591, 10.09590112, 15.49737405,  2.66646809,\n",
       "        1.503116  ,  2.90290678,  7.28298871,  6.41759155,  8.25712271,\n",
       "       12.94738241,  0.76789537, 11.66272917,  1.18993966,  0.7134433 ,\n",
       "        6.76289358,  5.98707374,  1.55294734, 19.52966938,  5.09729792,\n",
       "        6.91126007,  9.72170167,  0.28858202,  0.49223183,  9.06460664,\n",
       "        2.21137245,  1.47867348,  1.35718093,  2.00584841,  5.84648026,\n",
       "        0.48780745,  0.92327046,  6.76915269,  1.86298799,  0.20826579,\n",
       "        7.24804249,  9.44887362,  1.70207687,  3.93245428,  0.51914146,\n",
       "       10.54266056, 10.03474769,  1.52202429,  5.76500044,  1.0138242 ,\n",
       "        1.56704377,  2.54281601,  4.11444247,  7.22413399,  5.6212278 ,\n",
       "        3.0999196 ,  0.30531366,  1.31313287,  0.61569999,  5.72134851,\n",
       "        6.83389586,  0.46795974, 15.41375225,  3.32838159,  4.0916718 ,\n",
       "        0.15579168, 14.74799776, 12.50490555, 13.56975223,  7.54259927,\n",
       "        0.1741616 ,  3.77853275,  6.95337194,  3.08632925,  0.86313237,\n",
       "        2.10444477,  4.95597694,  0.48561613, 12.82944374,  1.61834855,\n",
       "        1.37813272,  9.823251  ,  4.38785777,  4.94920914,  3.34254903,\n",
       "        1.43798199,  3.99043821,  0.49629187,  1.37708401,  1.49763707,\n",
       "        0.72979605,  0.78009082,  2.57214997,  6.84541228,  2.03959122,\n",
       "        2.0280538 ,  7.09619076,  0.69913248,  1.561845  ,  3.42655371])"
      ]
     },
     "execution_count": 61,
     "metadata": {},
     "output_type": "execute_result"
    }
   ],
   "source": [
    "# Generate random exponental data\n",
    "scale = 5.0\n",
    "exponential = rng.exponential(scale, size=100)\n",
    "exponential"
   ]
  },
  {
   "cell_type": "code",
   "execution_count": 62,
   "id": "ebbbd1ca",
   "metadata": {},
   "outputs": [
    {
     "data": {
      "text/plain": [
       "(array([11.,  9.,  4., 14.,  4.,  2.,  3.,  3.,  3.,  3.,  3.,  0.,  3.,\n",
       "         0.,  5.,  2.,  1.,  7.,  3.,  1.,  2.,  0.,  1.,  1.,  2.,  2.,\n",
       "         2.,  0.,  0.,  1.,  0.,  1.,  1.,  1.,  1.,  0.,  0.,  1.,  0.,\n",
       "         2.,  0.,  0.,  0.,  0.,  0.,  0.,  0.,  0.,  0.,  1.]),\n",
       " array([ 0.15579168,  0.54326923,  0.93074679,  1.31822434,  1.70570189,\n",
       "         2.09317945,  2.480657  ,  2.86813456,  3.25561211,  3.64308966,\n",
       "         4.03056722,  4.41804477,  4.80552233,  5.19299988,  5.58047744,\n",
       "         5.96795499,  6.35543254,  6.7429101 ,  7.13038765,  7.51786521,\n",
       "         7.90534276,  8.29282031,  8.68029787,  9.06777542,  9.45525298,\n",
       "         9.84273053, 10.23020808, 10.61768564, 11.00516319, 11.39264075,\n",
       "        11.7801183 , 12.16759586, 12.55507341, 12.94255096, 13.33002852,\n",
       "        13.71750607, 14.10498363, 14.49246118, 14.87993873, 15.26741629,\n",
       "        15.65489384, 16.0423714 , 16.42984895, 16.81732651, 17.20480406,\n",
       "        17.59228161, 17.97975917, 18.36723672, 18.75471428, 19.14219183,\n",
       "        19.52966938]),\n",
       " <BarContainer object of 50 artists>)"
      ]
     },
     "execution_count": 62,
     "metadata": {},
     "output_type": "execute_result"
    },
    {
     "data": {
      "image/png": "[encoded data removed]",
      "text/plain": [
       "<Figure size 432x288 with 1 Axes>"
      ]
     },
     "metadata": {
      "needs_background": "light"
     },
     "output_type": "display_data"
    }
   ],
   "source": [
    "# Plot the randomly generated exponential data\n",
    "plt.hist(exponential, bins=50)"
   ]
  },
  {
   "cell_type": "code",
   "execution_count": 63,
   "id": "73d20b2f",
   "metadata": {},
   "outputs": [],
   "source": [
    "# Repeating the random generation with a higher sample size of 10000\n",
    "exponential_higher = rng.exponential(10.0, 10000)"
   ]
  },
  {
   "cell_type": "code",
   "execution_count": 64,
   "id": "89cfbe6e",
   "metadata": {},
   "outputs": [
    {
     "data": {
      "text/plain": [
       "(array([1.566e+03, 1.353e+03, 1.165e+03, 8.790e+02, 7.510e+02, 6.300e+02,\n",
       "        5.310e+02, 4.870e+02, 3.870e+02, 3.480e+02, 2.920e+02, 2.330e+02,\n",
       "        2.110e+02, 1.520e+02, 1.570e+02, 1.480e+02, 1.140e+02, 1.010e+02,\n",
       "        8.600e+01, 6.200e+01, 5.400e+01, 3.800e+01, 4.200e+01, 3.000e+01,\n",
       "        2.200e+01, 1.700e+01, 1.600e+01, 1.700e+01, 2.700e+01, 1.500e+01,\n",
       "        7.000e+00, 1.000e+01, 8.000e+00, 1.000e+01, 2.000e+00, 8.000e+00,\n",
       "        4.000e+00, 5.000e+00, 6.000e+00, 1.000e+00, 1.000e+00, 3.000e+00,\n",
       "        2.000e+00, 0.000e+00, 1.000e+00, 0.000e+00, 0.000e+00, 0.000e+00,\n",
       "        0.000e+00, 1.000e+00]),\n",
       " array([3.09693553e-04, 1.69031702e+00, 3.38032435e+00, 5.07033168e+00,\n",
       "        6.76033901e+00, 8.45034634e+00, 1.01403537e+01, 1.18303610e+01,\n",
       "        1.35203683e+01, 1.52103757e+01, 1.69003830e+01, 1.85903903e+01,\n",
       "        2.02803977e+01, 2.19704050e+01, 2.36604123e+01, 2.53504196e+01,\n",
       "        2.70404270e+01, 2.87304343e+01, 3.04204416e+01, 3.21104490e+01,\n",
       "        3.38004563e+01, 3.54904636e+01, 3.71804710e+01, 3.88704783e+01,\n",
       "        4.05604856e+01, 4.22504930e+01, 4.39405003e+01, 4.56305076e+01,\n",
       "        4.73205149e+01, 4.90105223e+01, 5.07005296e+01, 5.23905369e+01,\n",
       "        5.40805443e+01, 5.57705516e+01, 5.74605589e+01, 5.91505663e+01,\n",
       "        6.08405736e+01, 6.25305809e+01, 6.42205882e+01, 6.59105956e+01,\n",
       "        6.76006029e+01, 6.92906102e+01, 7.09806176e+01, 7.26706249e+01,\n",
       "        7.43606322e+01, 7.60506396e+01, 7.77406469e+01, 7.94306542e+01,\n",
       "        8.11206615e+01, 8.28106689e+01, 8.45006762e+01]),\n",
       " <BarContainer object of 50 artists>)"
      ]
     },
     "execution_count": 64,
     "metadata": {},
     "output_type": "execute_result"
    },
    {
     "data": {
      "image/png": "[encoded data removed]",
      "text/plain": [
       "<Figure size 432x288 with 1 Axes>"
      ]
     },
     "metadata": {
      "needs_background": "light"
     },
     "output_type": "display_data"
    }
   ],
   "source": [
    "# As the sample size increases, the distribition becoms more smooth\n",
    "plt.hist(exponential_higher, bins=50)"
   ]
  },
  {
   "cell_type": "markdown",
   "id": "f1d06052",
   "metadata": {},
   "source": [
    "## Seeds\n",
    "---"
   ]
  },
  {
   "cell_type": "markdown",
   "id": "7841ad77-bb21-4837-92c1-5a1dbe833cc9",
   "metadata": {},
   "source": [
    "There are times when randomness needs to be predictable. For example, we may initially need a randomly generated dataset to test a model, but we would like to have repeated access to this data to be able to reproduce our findings. For this purpose, the pseudo-ness of using a computerised random number generator becomes a positive. Since the process is completely deterministic, we can ask for our result to be random but in a repeatable manner. This is where seeding comes in. By seeding a BitGenerator, we can get a random output that can be reproduced by others who use the same seed, BitGenerator, and code<sup id=\"a33\">[33](#f33)</sup>. If a seed is not entered by the user, the algorithm with use a default seed that constantly changes. An example of a default seed might be the current time and date, which is why the random data generate constantly changes each time it's run. In the case of numpy.random, if no seed is provided, then \"unpredictable entropy will be pulled from the OS\" to set the seed<sup id=\"a34\">[34](#f34)</sup>. With a seed set by the user, the algorithm will generate random data using the seed presented as a starting point, ensuring a repeatable output."
   ]
  },
  {
   "cell_type": "code",
   "execution_count": 65,
   "id": "60777f1b",
   "metadata": {},
   "outputs": [
    {
     "data": {
      "text/plain": [
       "array([4, 3, 1, 2, 1, 3, 2, 0, 0, 2, 0, 1, 2, 2, 2, 2, 0, 0, 4, 3],\n",
       "      dtype=int64)"
      ]
     },
     "execution_count": 65,
     "metadata": {},
     "output_type": "execute_result"
    }
   ],
   "source": [
    "# Calling the default rng but with a seed for reporoducable outcomes\n",
    "rng_seeded1 = np.random.default_rng(seed=1246)\n",
    "rng_seeded1.integers(5, size = 20)"
   ]
  },
  {
   "cell_type": "code",
   "execution_count": 66,
   "id": "61ac8ead",
   "metadata": {},
   "outputs": [
    {
     "data": {
      "text/plain": [
       "array([4, 3, 1, 2, 1, 3, 2, 0, 0, 2, 0, 1, 2, 2, 2, 2, 0, 0, 4, 3],\n",
       "      dtype=int64)"
      ]
     },
     "execution_count": 66,
     "metadata": {},
     "output_type": "execute_result"
    }
   ],
   "source": [
    "# A new rng with the same seeding (1246) will result in the same output\n",
    "rng_seeded2 = np.random.default_rng(seed=1246)\n",
    "rng_seeded2.integers(5, size = 20)"
   ]
  },
  {
   "cell_type": "markdown",
   "id": "a9b51cbf-b7f7-4e1a-a734-307ae6eb9300",
   "metadata": {},
   "source": [
    "### BitGenerators (PCG64 vs Mersenne Twister)"
   ]
  },
  {
   "cell_type": "markdown",
   "id": "8b3ee6cb-4278-4ed7-9f27-22eb90775e40",
   "metadata": {},
   "source": [
    "For many years the default BitGenerator for numpy.random was the Mersenne Twister BitGenerator<sup id=\"a35\">[35](#f35)</sup>. It proved popular due to its widespread adoption and for most purposes proved to be robust and reliable, but in recent years it has begun to show its age<sup id=\"a36\">[36](#f36)</sup>. There are some statistical vulnerabilities that, while unlikely to negatively affect the random outputs for most users, are not ideal. Furthermore, the large state associated with the algorithm means it is relatively slow and inefficient. As of NumPy 1.XX, the Mersenne Twister algorithm has been replaced as the default BitGenerator with PCG64, which promises to be faster and more statistically robust<sup id=\"a37\">[37](#f37)</sup>.\n",
    "\n",
    "It's important to at least be aware of the default BitGenerater used by numpy.random because as pointed out by Ben Gorman the following code has different outcomes depending on the version of NumPy used and the default BitGenerator used at the time<sup id=\"a38\">[38](#f38)</sup>. While the code is short and easy to run, it can led to compatibility problems down the line. "
   ]
  },
  {
   "cell_type": "code",
   "execution_count": 67,
   "id": "70d7a384-5316-4879-827c-17f353e9b16a",
   "metadata": {},
   "outputs": [
    {
     "data": {
      "text/plain": [
       "array([2, 1, 2])"
      ]
     },
     "execution_count": 67,
     "metadata": {},
     "output_type": "execute_result"
    }
   ],
   "source": [
    "np.random.seed(123)\n",
    "np.random.randint(3, size=3)"
   ]
  },
  {
   "cell_type": "markdown",
   "id": "a7651111-f113-48a2-974c-8b906ac06344",
   "metadata": {},
   "source": [
    "One benefit instantiating a BitGenerator rather than using numpy.random.RandomState methods is that code may no longer be reproducible in the future should the default generator change. By initially instantiating a BitGenerator, one can easily go back and explicitly change the BitGenerator called. For example, we can call the old Mersenne Twister RNG instead of the default PCG64 if for some reason we would prefer to use it, for example, the code we wish to run was originally written with Mersenne Twister in mind by using the legacy random generation, which the NumPy developers guarantee will be frozen and no longer change, allowing reproducibility into the foreseeable future<sup id=\"a39\">[39](#f39)</sup>. "
   ]
  },
  {
   "cell_type": "code",
   "execution_count": 68,
   "id": "17cf5f39-0ac4-4e7d-8770-08b3ff7d50d9",
   "metadata": {},
   "outputs": [
    {
     "data": {
      "text/plain": [
       "array([2, 5, 1])"
      ]
     },
     "execution_count": 68,
     "metadata": {},
     "output_type": "execute_result"
    }
   ],
   "source": [
    "# Import the legacy Mersenne Twister Bit Generator\n",
    "from numpy.random import RandomState\n",
    "\n",
    "# Seeding the BitGenerator\n",
    "rs = RandomState(12345)\n",
    "\n",
    "# Generate a random, reproducable array of 3 ints between 0-10\n",
    "rs.randint(10, size=3)"
   ]
  },
  {
   "cell_type": "markdown",
   "id": "ae6b810d-3ae8-4c0f-b194-eafc9b57ba5d",
   "metadata": {},
   "source": [
    "Some of the methods are different for the legacy random generator so the separate documentation section for this feature should be referred to if it is going to be used<sup id=\"a39\">[39](#f39)</sup>. \n",
    "\n",
    "We can also explicitly call for PCG64 should we be concerned that the default RNG changes in a future NumPy update. Doing so should hopefully help code to remain reproducible, in the instance where PCG64 is no longer the default BitGenerator, but it is still supported and callable by NumPy. "
   ]
  },
  {
   "cell_type": "code",
   "execution_count": 69,
   "id": "8ccb1b0f-ebfb-4322-ba89-7c2b7336f08b",
   "metadata": {},
   "outputs": [
    {
     "data": {
      "text/plain": [
       "array([8, 1, 8], dtype=int64)"
      ]
     },
     "execution_count": 69,
     "metadata": {},
     "output_type": "execute_result"
    }
   ],
   "source": [
    "# Explicitly call the PCG64 RNG, seeded to 32\n",
    "from numpy.random import Generator, PCG64\n",
    "rng = Generator(PCG64(seed=32))\n",
    "\n",
    "# Generate a random, reproducable array of 3 ints between 0-10\n",
    "rng.integers(10, size=3)"
   ]
  },
  {
   "cell_type": "markdown",
   "id": "fbee86df-01e7-4c72-b4c0-0b5279a85f59",
   "metadata": {},
   "source": [
    "It is worth noting that other BitGenerators are also supported by NumPy should a user wish to use a different RNG, but exploring further alternatives is beyond the scope of this project<sup id=\"a40\">[40](#f40)</sup>."
   ]
  },
  {
   "cell_type": "markdown",
   "id": "8e9207f5",
   "metadata": {},
   "source": [
    "## References"
   ]
  },
  {
   "cell_type": "markdown",
   "id": "d2037b3d-c5be-4ab7-aa8a-2524442022df",
   "metadata": {},
   "source": [
    "<b id=\"f1\">1.</b> Singh, S., 2018. Understanding Random Variables. [online] Available at: <https://towardsdatascience.com/understanding-random-variable-a618a2e99b93> [Accessed 21 November 2021].[↩](#a1)    \n",
    "<b id=\"f2\">2.</b> Wilson, J., 2019. Randomness for Modeling and Simulation. [online] Available at: <https://realpython.com/lessons/randomness-modeling-and-simulation/> [Accessed 21 November 2021].[↩](#a2)    \n",
    "<b id=\"f3\">3.</b> Kobayashi, S., Kane, T.B. and Paton, C., 2018. The privacy and security implications of open data in healthcare. *Yearbook of medical informatics*, 27(01), pp.041-047. [online]. Doi: 10.1055/s-0038-1641201 [Accessed 22 November 2021]. [↩](#a3)     \n",
    "<b id=\"f4\">4.</b> Quintana, D.S., 2020. A synthetic dataset primer for the biobehavioural sciences to promote reproducibility and hypothesis generation. *Elife*, 9, p.e53275. [online]. Doi: 10.7554/eLife.53275 [Accessed 22 November 2021]. [↩](#a4)     \n",
    "<b id=\"f5\">5.</b> Rubin, J. M., Can a computer generate a truly random number? [online] Available at: <https://engineering.mit.edu/engage/ask-an-engineer/can-a-computer-generate-a-truly-random-number/> [Accessed 22 November 2021].[↩](#a5)      \n",
    "<b id=\"f6\">6.</b> Cruis, B., 2012. Pseudorandom number generators. [online] Available at: <https://www.khanacademy.org/computing/computer-science/cryptography/crypt/v/random-vs-pseudorandom-number-generators> [Accessed 22 November 2021]. [↩](#a6)      \n",
    "<b id=\"f7\">7.</b> Harris, C.R., Millman, K.J., van der Walt, S.J., Gommers, R., Virtanen, P., Cournapeau, D., Wieser, E., Taylor, J., Berg, S., Smith, N.J. and Kern, R., 2020. Array programming with NumPy. Nature, 585(7825), pp.357-362. Doi: 10.1038/s41586-020-2649-2. [↩](#a7)     \n",
    "<b id=\"f8\">8.</b> McKinney, W., 2018. *Python for data analysis: Data wrangling with Pandas, NumPy, and IPython.* \" O'Reilly Media, Inc.\"., p. 118.[↩](#a8)     \n",
    "<b id=\"f9\">9.</b> Problem Solving with Python. Magic Commands. [online] Available at: <https://problemsolvingwithpython.com/02-Jupyter-Notebooks/02.06-Magic-Commands/> [Accessed 22 November 2021].[↩](#a9)   \n",
    "<b id=\"f10\">10.</b> NumPy, 2021. Random Generator. [online]. Available at: <https://numpy.org/doc/stable/reference/random/generator.html#numpy.random.Generator> [Accessed 22 November 2021].[↩](#a10)     \n",
    "<b id=\"f11\">11.</b> NumPy., 2021. numpy.random.Generator.integers. [online]. Available at: https://numpy.org/doc/stable/reference/random/generated/numpy.random.Generator.integers.html#numpy.random.Generator.integers [Accessed 22 November 2021]. [↩](#a11)    \n",
    "<b id=\"f12\">12.</b> NumPy, 2021. numpy.random.Generator.random. [online]. Available at: https://numpy.org/doc/stable/reference/random/generated/numpy.random.Generator.integers.html#numpy.random.Generator.integers [Accessed 22 November 2021].[↩](#a12)     \n",
    "<b id=\"f13\">13.</b> NumPy, 2021. numpy.random.Generator.choice. [online]. Available at: https://numpy.org/doc/stable/reference/random/generated/numpy.random.Generator.choice.html#numpy.random.Generator.choice [Accessed 22 November 2021].[↩](#a13)      \n",
    "<b id=\"f14\">14.</b> NumPy, 2021. numpy.random.Generator.bytes. [online]. Available at: https://numpy.org/doc/stable/reference/random/generated/numpy.random.Generator.bytes.html#numpy.random.Generator.bytes [Accessed 22 November 2021].[↩](#a14)      \n",
    "<b id=\"f15\">15.</b> Martello Security, 2021.  Use of Cryptographically Weak Pseudo-Random Number Generator (PRNG). [online]. Available at: https://www.martellosecurity.com/kb/mitre/cwe/338/ [Accessed 22 November 2021].[↩](#a15)      \n",
    "<b id=\"f16\">16.</b> NumPy, 2021. numpy.random.Generator.shuffle. [online]. Available at: https://numpy.org/doc/stable/reference/random/generated/numpy.random.Generator.shuffle.html#numpy.random.Generator.shuffle [Accessed 22 November 2021].[↩](#a16)      \n",
    "<b id=\"f17\">17.</b> NumPy, 2021. numpy.random.Generator.permutation. [online]. Available at: https://numpy.org/doc/stable/reference/random/generated/numpy.random.Generator.permutation.html#numpy.random.Generator.permutation [Accessed 22 November 2021].[↩](#a17)     \n",
    "<b id=\"f18\">18.</b> NumPy, 2021. numpy.random.Generator.permuted. [online]. Available at: https://numpy.org/doc/stable/reference/random/generated/numpy.random.Generator.permuted.html#numpy.random.Generator.permuted [Accessed 22 November 2021].[↩](#a18)     \n",
    "<b id=\"f19\">19.</b> NumPy, 2021. NumPy 1.20.0 Release Notes. [online]. Available at: https://numpy.org/doc/stable/release/1.20.0-notes.html?release#new-functions [Accessed 22 November 2021].[↩](#a19)     \n",
    "<b id=\"f20\">20.</b> Albright, E. A., 2021. Probability Distributions. [online]. Available at: <https://sites.nicholas.duke.edu/statsreview/normal/> [Accessed April 27 2021].[↩](#a20)       \n",
    "<b id=\"f21\">21.</b> NumPy, 2021. numpy.random.Generator.binomial. [online]. Available at: https://numpy.org/doc/stable/reference/random/generated/numpy.random.Generator.binomial.html#numpy.random.Generator.binomial [Accessed 22 November 2021].[↩](#a21)     \n",
    "<b id=\"f22\">22.</b> Weisstein, E., 2021. \"Binomial Distribution.\" From MathWorld--A Wolfram Web Resource.[online]. Available at: https://mathworld.wolfram.com/BinomialDistribution.html [Accessed 22 November 2021].[↩](#a22)    \n",
    "<b id=\"f23\">23.</b> InStat, 2021. Massive research of penalties by InStat. [online]. Available at: https://instatsport.com/football/article/penalty_research [Accessed 22 November 2021].[↩](#a23)     \n",
    "<b id=\"f24\">24.</b> NumPy, 2021. numpy.random.Generator.normal. [online]. Available at: https://numpy.org/doc/stable/reference/random/generated/numpy.random.Generator.normal.html#numpy.random.Generator.normal [Accessed 22 November 2021].[↩](#a24)      \n",
    "<b id=\"f25\">25.</b> Weisstein, E., 2021. \"Normal Distribution.\" From MathWorld--A Wolfram Web Resource.[online]. Available at: https://mathworld.wolfram.com/NormalDistribution.html [Accessed 22 November 2021].[↩](#a25)     \n",
    "<b id=\"f26\">26.</b> Frost, J., 2018. Normal Distribution in Statistics. [online]. Available at: https://statisticsbyjim.com/basics/normal-distribution/ [Accessed 28 April 2021].[↩](#a26)      \n",
    "<b id=\"f27\">27.</b> NumPy, 2021. numpy.random.Generator.uniform. [online]. Available at: https://numpy.org/doc/stable/reference/random/generated/numpy.random.Generator.uniform.html#numpy.random.Generator.uniform [Accessed 22 November 2021].[↩](#a27)     \n",
    "<b id=\"f28\">28.</b> Weisstein, E., 2021. \"Uniform Distribution.\" From MathWorld--A Wolfram Web Resource.[online]. Available at: https://mathworld.wolfram.com/UniformDistribution.html [Accessed 22 November 2021].[↩](#a28)    \n",
    "<b id=\"f29\">29.</b> NumPy, 2021. numpy.random.Generator.poisson. [online]. Available at: https://numpy.org/doc/stable/reference/random/generated/numpy.random.Generator.poisson.html#numpy.random.Generator.poisson [Accessed 22 November 2021].[↩](#a29)      \n",
    "<b id=\"f30\">30.</b> Weisstein, E., 2021. \"Poisson Distribution.\" From MathWorld--A Wolfram Web Resource.[online]. Available at: https://mathworld.wolfram.com/PoissonDistribution.html [Accessed 22 November 2021].[↩](#a30)     \n",
    "<b id=\"f31\">31.</b> NumPy, 2021. numpy.random.Generator.exponential. [online]. Available at: https://numpy.org/doc/stable/reference/random/generated/numpy.random.Generator.exponential.html#numpy.random.Generator.exponential [Accessed 22 November 2021].[↩](#a31)      \n",
    "<b id=\"f32\">32.</b> Weisstein, E., 2021. \"Exponential Distribution.\" From MathWorld--A Wolfram Web Resource.[online]. Available at: https://mathworld.wolfram.com/ExponentialDistribution.html [Accessed 22 November 2021].[↩](#a32)   \n",
    "<b id=\"f33\">33.</b> Ebner, J., 2019. NumPy Random Seed, Explained.[online]. Available at: https://www.sharpsightlabs.com/blog/numpy-random-seed/ [Accessed 22 November 2021].[↩](#a33)     \n",
    "<b id=\"f34\">34.</b> NumPy, 2021. numpy.random.BitGenerator. [online]. Available at: https://numpy.org/doc/stable/reference/random/bit_generators/generated/numpy.random.BitGenerator.html#numpy.random.BitGenerator [Accessed 22 November 2021].[↩](#a34)     \n",
    "<b id=\"f35\">35.</b> Matsumoto, M. and Nishimura, T., 1998. Mersenne twister: a 623-dimensionally equidistributed uniform pseudo-random number generator. *ACM Transactions on Modeling and Computer Simulation (TOMACS)*, 8(1), pp.3-30. Doi: https://doi.org/10.1145/272991.272995 [↩](#a35)     \n",
    "<b id=\"f36\">36.</b> Vigna, S., 2019. It is high time we let go of the Mersenne Twister. *arXiv preprint* arXiv:1910.06437..[↩](#a36)     \n",
    "<b id=\"f37\">37.</b> O’Neill, M.E., 2014. PCG: A family of simple fast space-efficient statistically good algorithms for random number generation. ACM Transactions on Mathematical Software. Doi: http://dx.doi.org/10.1145/0000000.000000.[↩](#a37)      \n",
    "<b id=\"f38\">38.</b> Gorman, B. 2019. Python NumPy For Your Grandma - 3.7 random. [online]. Available at: <https://www.gormanalysis.com/blog/python-numpy-for-your-grandma-3-7-random/> [Accessed 22 November 2021].[↩](#a38)     \n",
    "<b id=\"f39\">39.</b> NumPy, 2021. Legacy Random Generation. [online]. Available at: https://numpy.org/doc/stable/reference/random/legacy.html [Accessed 22 November 2021].[↩](#a39)     \n",
    "<b id=\"f40\">40.</b> NumPy, 2021. Bit Generators. [online]. Available at: https://numpy.org/doc/stable/reference/random/bit_generators/index.html [Accessed 22 November 2021].[↩](#a40)  \n",
    "\n",
    "\n",
    "\n",
    "\n"
   ]
  }
 ],
 "metadata": {
  "kernelspec": {
   "display_name": "Python 3",
   "language": "python",
   "name": "python3"
  },
  "language_info": {
   "codemirror_mode": {
    "name": "ipython",
    "version": 3
   },
   "file_extension": ".py",
   "mimetype": "text/x-python",
   "name": "python",
   "nbconvert_exporter": "python",
   "pygments_lexer": "ipython3",
   "version": "3.8.8"
  }
 },
 "nbformat": 4,
 "nbformat_minor": 5
}
